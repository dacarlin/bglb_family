{
 "cells": [
  {
   "cell_type": "code",
   "execution_count": 86,
   "metadata": {
    "collapsed": true
   },
   "outputs": [],
   "source": [
    "# strip, clean, and join raw data \n",
    "\n",
    "import pandas "
   ]
  },
  {
   "cell_type": "code",
   "execution_count": 87,
   "metadata": {
    "collapsed": false
   },
   "outputs": [],
   "source": [
    "f16 = pandas.read_csv( 'f16.csv', header=1 )\n",
    "f16 = f16[[ 'mutant_name', 'kcat', 'kcat_std_err', 'km', 'km_std_err' ]].dropna().sort_values( 'mutant_name' ) "
   ]
  },
  {
   "cell_type": "code",
   "execution_count": 88,
   "metadata": {
    "collapsed": false
   },
   "outputs": [],
   "source": [
    "s16 = pandas.read_csv( 's16.csv', header=1 )\n",
    "s16 = s16[[ 'Mutant name', 'kcat', 'Km' ]].dropna()\n",
    "s16.columns = ['mutant_name', 'kcat', 'km']\n",
    "s16[ 'mutant_name' ] = [ i.replace('*', '') for i in s16['mutant_name'] ]"
   ]
  },
  {
   "cell_type": "code",
   "execution_count": 89,
   "metadata": {
    "collapsed": false
   },
   "outputs": [],
   "source": [
    "clean = f16.append( s16 ).reset_index()\n",
    "clean[ 'kcatkm' ] = clean[ 'kcat' ] / ( 0.001 * clean[ 'km' ] ) \n",
    "clean.to_csv( 'clean_appendix.csv' ) "
   ]
  },
  {
   "cell_type": "code",
   "execution_count": 90,
   "metadata": {
    "collapsed": false
   },
   "outputs": [],
   "source": [
    "df = pandas.read_csv( 'thermal_s1_table.csv', usecols=['mutant', 'kcat', 'km', 'kcatkm'] ) \n",
    "df.columns = ['mutant_name', 'kcat', 'km', 'kcatkm' ] "
   ]
  },
  {
   "cell_type": "code",
   "execution_count": 93,
   "metadata": {
    "collapsed": false
   },
   "outputs": [],
   "source": [
    "J = df.append(clean)[['mutant_name','kcat', 'km', 'kcatkm']].dropna()"
   ]
  },
  {
   "cell_type": "code",
   "execution_count": 96,
   "metadata": {
    "collapsed": false
   },
   "outputs": [],
   "source": [
    "J.to_csv( 'joined.csv' ) "
   ]
  }
 ],
 "metadata": {
  "kernelspec": {
   "display_name": "Python [conda root]",
   "language": "python",
   "name": "conda-root-py"
  },
  "language_info": {
   "codemirror_mode": {
    "name": "ipython",
    "version": 3
   },
   "file_extension": ".py",
   "mimetype": "text/x-python",
   "name": "python",
   "nbconvert_exporter": "python",
   "pygments_lexer": "ipython3",
   "version": "3.5.2"
  }
 },
 "nbformat": 4,
 "nbformat_minor": 2
}
