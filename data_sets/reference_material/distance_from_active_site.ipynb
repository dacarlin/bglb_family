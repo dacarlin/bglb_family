{
 "cells": [
  {
   "cell_type": "markdown",
   "metadata": {},
   "source": [
    "# Reference material for BglB\n",
    "\n",
    "## Notebook description \n",
    "\n",
    "This is a notebook that is used to collect features that are available for every possible point mutation to the BglB sequence. \n",
    "\n",
    "### Native residue features\n",
    "\n",
    "+ the distance of the native amino acid from the active site \n",
    "+ the conservation score for the residue in the Pfam \n",
    "+ the conservation score for the residue in rp75\n",
    "    \n",
    "### Features for each possible mutant:\n",
    "\n",
    "+ all of the above, plus \n",
    "+ BLOSUM62 score for the mutation \n",
    "    \n",
    "Any feature, such as distance from active site, that can be calculated for all amino acids in the protein (n=445), can also be calculated for every mutation (445*20=890). \n",
    "\n",
    "## Collect and import reference material "
   ]
  },
  {
   "cell_type": "code",
   "execution_count": 30,
   "metadata": {
    "collapsed": true
   },
   "outputs": [],
   "source": [
    "import pandas "
   ]
  },
  {
   "cell_type": "code",
   "execution_count": 31,
   "metadata": {
    "collapsed": false
   },
   "outputs": [],
   "source": [
    "# I already calculated these, so why not use this as a starting point?\n",
    "\n",
    "df = pandas.read_csv( '/Users/alex/Documents/bagel-benchmark/data_sets/reference/distance_from_active_site.csv' )\n",
    "ref = df[ [ 'name', 'distance' ] ] \n",
    "ref.set_index( 'name', inplace=True )  "
   ]
  },
  {
   "cell_type": "code",
   "execution_count": 32,
   "metadata": {
    "collapsed": true
   },
   "outputs": [],
   "source": [
    "ref.to_csv( 'reference.csv' ) "
   ]
  },
  {
   "cell_type": "code",
   "execution_count": 33,
   "metadata": {
    "collapsed": false
   },
   "outputs": [
    {
     "name": "stdout",
     "output_type": "stream",
     "text": [
      "name,distance\r\n",
      "N1A,31.2875843048\r\n",
      "N1C,31.2875843048\r\n",
      "N1D,31.2875843048\r\n",
      "N1E,31.2875843048\r\n",
      "N1F,31.2875843048\r\n",
      "N1G,31.2875843048\r\n",
      "N1H,31.2875843048\r\n",
      "N1I,31.2875843048\r\n",
      "N1K,31.2875843048\r\n"
     ]
    }
   ],
   "source": [
    "! head reference.csv"
   ]
  }
 ],
 "metadata": {
  "kernelspec": {
   "display_name": "Python 2",
   "language": "python",
   "name": "python2"
  },
  "language_info": {
   "codemirror_mode": {
    "name": "ipython",
    "version": 2
   },
   "file_extension": ".py",
   "mimetype": "text/x-python",
   "name": "python",
   "nbconvert_exporter": "python",
   "pygments_lexer": "ipython2",
   "version": "2.7.12"
  }
 },
 "nbformat": 4,
 "nbformat_minor": 0
}
