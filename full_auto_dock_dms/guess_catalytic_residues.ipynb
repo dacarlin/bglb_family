{
 "cells": [
  {
   "cell_type": "markdown",
   "metadata": {},
   "source": [
    "The goal of this code is to guess the catalytic residues of a family 1 glycoside hydrolase and generate a `params.json` file for docking and deep mutational scanning. \n",
    "\n",
    "This is the format of the `params.json` (all the info that is required to go from a comparative model to a docked and scanned array of models): \n",
    "\n",
    "```json\n",
    "params = {\n",
    "    'handle': '2jie',\n",
    "    'nucleophile': 353,\n",
    "    'acid_base': 164,\n",
    "    'backup': 295,\n",
    "    'ligand': 446,\n",
    "}\n",
    "```"
   ]
  },
  {
   "cell_type": "markdown",
   "metadata": {},
   "source": [
    "### Ideas for how to do this \n",
    "\n",
    "I think one way would be to take a Bayseian approach. For example, we can put Gaussian priors over the sequence, one for each of the catalytic residues we are trying to guess. \n",
    "\n",
    "![](priors.png)"
   ]
  },
  {
   "cell_type": "markdown",
   "metadata": {},
   "source": [
    "Then, we can use the information from a multiple sequence alignment to improve our guesses until we can make a sensible one. \n",
    "\n",
    "One easy way to do this would be to use a sequence whose catalytic residues you know. If a residue aligns to one of those, it is a pretty good guess. "
   ]
  },
  {
   "cell_type": "code",
   "execution_count": 1,
   "metadata": {
    "collapsed": true
   },
   "outputs": [],
   "source": [
    "known_sequence = '''\n",
    ">BglB\n",
    "NTFIFPATFMWGTSTSSYQIEGGTDEGGRTPSIWDTFCQIPGKVIGGDCGDVACDHFHHF\n",
    "KEDVQLMKQLGFLHYRFSVAWPRIMPAAGIINEEGLLFYEHLLDEIELAGLIPMLTLYHW\n",
    "DLPQWIEDEGGWTQRETIQHFKTYASVIMDRFGERINWWNTINEPYCASILGYGTGEHAP\n",
    "GHENWREAFTAAHHILMCHGIASNLHKEKGLTGKIGITLNMEHVDAASERPEDVAAAIRR\n",
    "DGFINRWFAEPLFNGKYPEDMVEWYGTYLNGLDFVQPGDMELIQQPGDFLGINYYTRSII\n",
    "RSTNDASLLQVEQVHMEEPVTDMGWEIHPESFYKLLTRIEKDFSKGLPILITENGAAMRD\n",
    "ELVNGQIEDTGRHGYIEEHLKACHRFIEEGGQLKGYFVWSFLDNFEWAWGYSKRFGIVHI\n",
    "NYETQERTPKQSALWFKQMMAKNGFGSLE\n",
    "'''\n",
    "\n",
    "params = {\n",
    "    'handle': '2jie',\n",
    "    'nucleophile': 353,\n",
    "    'acid_base': 164,\n",
    "    'backup': 295,\n",
    "    'ligand': 446,\n",
    "}\n",
    "\n",
    "with open('known.fa', 'w') as fn:\n",
    "    fn.write(known_sequence)"
   ]
  },
  {
   "cell_type": "code",
   "execution_count": 2,
   "metadata": {},
   "outputs": [],
   "source": [
    "!blastp -subject known.fa -query example_input_files/target.fasta -outfmt \"6 sseq qseq sstart qstart\" > blast.out "
   ]
  },
  {
   "cell_type": "code",
   "execution_count": 3,
   "metadata": {},
   "outputs": [
    {
     "name": "stdout",
     "output_type": "stream",
     "text": [
      "FMWGTSTSSYQIEGGTDEGGR---TPSIWDTFCQIP----GKVIGGDCGDVACDHFHHFKEDVQLMKQLGFLHYRFSVAWPRIMPAAG------------------------------IINEEGLLFYEHLLDEIELAGLIPMLTLYHWDLPQWIED------------EGGWTQRETIQHFKTYASVIMDRFGERINWWNTINEPYCASILGYGTGEHA--PGHENWREAFTAAHHILMCHGIASNLHKEKGLTGK-IGITLNM-EHVDAASERPEDVAAAIRRDGFINRWFAEPLFNGKYPEDMVEWYGTYLNGLDFVQPGDMELIQQPGDFLGINYYTRSIIRSTNDASLLQVEQVHMEE----------------PVTDMGWEIHPESFYKLLTRIEKDFSKGLPILITENGAAMRDELVNGQIEDTGRHGYIEEHLKACHRFIEEGGQLKGYFVWSFLDNFEWAWGYSKRFGIVHINYETQERTPKQSALWFKQMMAKNGF\tFAWGVVQSAFQFEMG-DPLRRFIDTRTDWWHWVRDPLNIKNDLVSGHLPEDGINNYGLYEIDHQLAKDMGLNAYQITVEWSRIFPCPTYGVEVDFERDSYGLIKRVKITKETLHELEEIANAKEVEHYREVLKNLKELGFSTFVTLNHQTQPIWLHDPIHVRENFEKARAKGWVDERAILEFAKFAAFVAWKRWDLVDYWATFDEPMVTVELGYLAPYVGWPPGILNPKAAKAVIINQLVGHARA--YEAVKTFSDKPVGIILNIIPAYPRDPNDPKDVKATENYDLFHNRIFLDGVNEGKVDLDFD---GNYVK-IDHLKRND---------WIGNNYYTREVISTRNPNTRSSDNKLRGDEGYGYSSEPNSVSKDNNPTSDFGWECFPQGMYDSIM-IGNEYRK--PIYITENGIADSRDLL--------RPRYIKEHVEKMFEAIQAGADVRGYFHWALTDNYEWAMGFKIKFGLYEVDPISKQRIPRPRSVETYKKIVREGL\t9\t4\r\n"
     ]
    }
   ],
   "source": [
    "! cat blast.out"
   ]
  },
  {
   "cell_type": "code",
   "execution_count": 14,
   "metadata": {},
   "outputs": [],
   "source": [
    "with open('blast.out') as fn:\n",
    "    sseq, qseq, sstart, qstart = fn.readline().split()\n",
    "sstart = int(sstart) "
   ]
  },
  {
   "cell_type": "code",
   "execution_count": 15,
   "metadata": {},
   "outputs": [
    {
     "data": {
      "text/plain": [
       "'FMWGTSTSSYQIEGGTDEGGR---TPSIWDTFCQIP----GKVIGGDCGDVACDHFHHFKEDVQLMKQLGFLHYRFSVAWPRIMPAAG------------------------------IINEEGLLFYEHLLDEIELAGLIPMLTLYHWDLPQWIED------------EGGWTQRETIQHFKTYASVIMDRFGERINWWNTINEPYCASILGYGTGEHA--PGHENWREAFTAAHHILMCHGIASNLHKEKGLTGK-IGITLNM-EHVDAASERPEDVAAAIRRDGFINRWFAEPLFNGKYPEDMVEWYGTYLNGLDFVQPGDMELIQQPGDFLGINYYTRSIIRSTNDASLLQVEQVHMEE----------------PVTDMGWEIHPESFYKLLTRIEKDFSKGLPILITENGAAMRDELVNGQIEDTGRHGYIEEHLKACHRFIEEGGQLKGYFVWSFLDNFEWAWGYSKRFGIVHINYETQERTPKQSALWFKQMMAKNGF'"
      ]
     },
     "execution_count": 15,
     "metadata": {},
     "output_type": "execute_result"
    }
   ],
   "source": [
    "sseq"
   ]
  },
  {
   "cell_type": "code",
   "execution_count": 16,
   "metadata": {},
   "outputs": [
    {
     "name": "stdout",
     "output_type": "stream",
     "text": [
      "Our catalytic residue positions will be shifted by 9\n"
     ]
    }
   ],
   "source": [
    "print('Our catalytic residue positions will be shifted by {}'.format(sstart))"
   ]
  },
  {
   "cell_type": "code",
   "execution_count": 27,
   "metadata": {
    "scrolled": false
   },
   "outputs": [
    {
     "name": "stdout",
     "output_type": "stream",
     "text": [
      "Mapping: E E 164 208\n",
      "Mapping: Y Y 295 343\n",
      "Mapping: E E 353 417\n"
     ]
    },
    {
     "data": {
      "text/plain": [
       "{164: 208, 295: 343, 353: 417}"
      ]
     },
     "execution_count": 27,
     "metadata": {},
     "output_type": "execute_result"
    }
   ],
   "source": [
    "mmap = {}\n",
    "scount = qcount = 0 \n",
    "for i, j in zip(sseq, qseq):\n",
    "    \n",
    "    if i != '-':\n",
    "        scount += 1 \n",
    "        \n",
    "    if j != '_':\n",
    "        qcount += 1\n",
    "        \n",
    "    sstart = int(sstart)\n",
    "    qstart = int(qstart) \n",
    "    \n",
    "    subject_index = scount + sstart - 1\n",
    "    query_index = qcount + qstart - 1\n",
    "    \n",
    "    if subject_index in params.values():\n",
    "        if i == j: \n",
    "            print('Mapping:', i, j, subject_index, query_index) \n",
    "            mmap.update({subject_index: query_index})\n",
    "        else:\n",
    "            print(\"Aligned residues aren't the same residue\")\n",
    "        \n",
    "# scount, qcount \n",
    "mmap "
   ]
  },
  {
   "cell_type": "code",
   "execution_count": null,
   "metadata": {
    "collapsed": true
   },
   "outputs": [],
   "source": []
  }
 ],
 "metadata": {
  "kernelspec": {
   "display_name": "Python [default]",
   "language": "python",
   "name": "python3"
  },
  "language_info": {
   "codemirror_mode": {
    "name": "ipython",
    "version": 3
   },
   "file_extension": ".py",
   "mimetype": "text/x-python",
   "name": "python",
   "nbconvert_exporter": "python",
   "pygments_lexer": "ipython3",
   "version": "3.6.0"
  }
 },
 "nbformat": 4,
 "nbformat_minor": 2
}
