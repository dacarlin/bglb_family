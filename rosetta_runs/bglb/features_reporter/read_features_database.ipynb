{
 "cells": [
  {
   "cell_type": "code",
   "execution_count": 20,
   "metadata": {
    "collapsed": false,
    "scrolled": false
   },
   "outputs": [],
   "source": [
    "import sqlite3\n",
    "\n",
    "my_feature_tables = {}\n",
    "db = sqlite3.connect( 'features.db3' )\n",
    "cursor = db.cursor()\n",
    "cursor.execute(\"SELECT name FROM sqlite_master WHERE type='table';\")\n",
    "tables = cursor.fetchall()"
   ]
  },
  {
   "cell_type": "code",
   "execution_count": 29,
   "metadata": {
    "collapsed": false
   },
   "outputs": [
    {
     "data": {
      "text/plain": [
       "[('protocols',),\n",
       " ('sqlite_sequence',),\n",
       " ('batches',),\n",
       " ('structures',),\n",
       " ('sampled_structures',),\n",
       " ('residues',),\n",
       " ('interfaces',),\n",
       " ('interface_residues',),\n",
       " ('interface_sides',),\n",
       " ('features_reporters',),\n",
       " ('batch_reports',)]"
      ]
     },
     "execution_count": 29,
     "metadata": {},
     "output_type": "execute_result"
    }
   ],
   "source": [
    "tables"
   ]
  },
  {
   "cell_type": "code",
   "execution_count": null,
   "metadata": {
    "collapsed": true
   },
   "outputs": [],
   "source": [
    "for table_name in tables:\n",
    "    table_name = table_name[0]\n",
    "    table = pandas.read_sql_query(\"SELECT * from %s\" % table_name, db)\n",
    "    my_feature_tables.update( { table_name: table } ) "
   ]
  },
  {
   "cell_type": "code",
   "execution_count": 28,
   "metadata": {
    "collapsed": false
   },
   "outputs": [
    {
     "name": "stdout",
     "output_type": "stream",
     "text": [
      "structures\n",
      "Index(['struct_id', 'batch_id', 'tag', 'input_tag'], dtype='object')\n",
      "(58, 4)\n",
      "batches\n",
      "Index(['batch_id', 'protocol_id', 'name', 'description'], dtype='object')\n",
      "(1, 4)\n",
      "protocols\n",
      "Index(['protocol_id', 'specified_options', 'command_line', 'svn_url',\n",
      "       'svn_version', 'script'],\n",
      "      dtype='object')\n",
      "(1, 6)\n",
      "residues\n",
      "Index(['struct_id', 'resNum', 'name3', 'res_type'], dtype='object')\n",
      "(25868, 4)\n",
      "interface_residues\n",
      "Index(['struct_id', 'interface', 'resNum', 'chains_side1', 'chains_side2',\n",
      "       'side', 'dSASA', 'dSASA_sc', 'dhSASA', 'dhSASA_sc',\n",
      "       'dhSASA_rel_by_charge', 'SASA_int', 'SASA_sep',\n",
      "       'relative_dSASA_fraction', 'dG', 'energy_int', 'energy_sep'],\n",
      "      dtype='object')\n",
      "(1195, 17)\n",
      "sampled_structures\n",
      "Index(['batch_id', 'tag', 'input_tag'], dtype='object')\n",
      "(0, 3)\n",
      "interface_sides\n",
      "Index(['struct_id', 'interface', 'side', 'chains_side1', 'chains_side2',\n",
      "       'interface_nres', 'dSASA', 'dSASA_sc', 'dhSASA', 'dhSASA_sc',\n",
      "       'dhSASA_rel_by_charge', 'dG', 'energy_int', 'energy_sep',\n",
      "       'avg_per_residue_energy_dG', 'avg_per_residue_energy_int',\n",
      "       'avg_per_residue_energy_sep', 'avg_per_residue_dSASA',\n",
      "       'avg_per_residue_SASA_int', 'avg_per_residue_SASA_sep',\n",
      "       'aromatic_fraction', 'aromatic_dSASA_fraction', 'aromatic_dG_fraction',\n",
      "       'interface_to_surface_fraction', 'ss_sheet_fraction',\n",
      "       'ss_helix_fraction', 'ss_loop_fraction'],\n",
      "      dtype='object')\n",
      "(171, 27)\n",
      "sqlite_sequence\n",
      "Index(['name', 'seq'], dtype='object')\n",
      "(3, 2)\n",
      "features_reporters\n",
      "Index(['report_name'], dtype='object')\n",
      "(2, 1)\n",
      "batch_reports\n",
      "Index(['batch_id', 'report_name'], dtype='object')\n",
      "(2, 2)\n",
      "interfaces\n",
      "Index(['struct_id', 'interface', 'chains_side1', 'chains_side2',\n",
      "       'nchains_side1', 'nchains_side2', 'dSASA', 'dSASA_hphobic',\n",
      "       'dSASA_polar', 'dG', 'dG_cross', 'dG_dev_dSASAx100',\n",
      "       'dG_cross_dev_dSASAx100', 'delta_unsatHbonds', 'hbond_E_fraction',\n",
      "       'sc_value', 'packstat', 'nres_int', 'nres_all', 'complex_normalized'],\n",
      "      dtype='object')\n",
      "(57, 20)\n"
     ]
    }
   ],
   "source": [
    "for table_name, table in my_feature_tables.items():\n",
    "    print( table_name )\n",
    "    print( table.columns ) \n",
    "    print( table.shape ) "
   ]
  }
 ],
 "metadata": {
  "anaconda-cloud": {},
  "kernelspec": {
   "display_name": "Python [conda root]",
   "language": "python",
   "name": "conda-root-py"
  },
  "language_info": {
   "codemirror_mode": {
    "name": "ipython",
    "version": 3
   },
   "file_extension": ".py",
   "mimetype": "text/x-python",
   "name": "python",
   "nbconvert_exporter": "python",
   "pygments_lexer": "ipython3",
   "version": "3.5.2"
  }
 },
 "nbformat": 4,
 "nbformat_minor": 1
}
