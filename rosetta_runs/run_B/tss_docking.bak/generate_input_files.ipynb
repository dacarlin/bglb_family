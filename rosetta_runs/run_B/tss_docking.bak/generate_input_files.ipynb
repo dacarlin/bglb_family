{
 "cells": [
  {
   "cell_type": "code",
   "execution_count": 4,
   "metadata": {},
   "outputs": [
    {
     "name": "stdout",
     "output_type": "stream",
     "text": [
      ">Q97AX4\r\n"
     ]
    }
   ],
   "source": [
    "! head -1 ../partial_thread/target.fasta"
   ]
  },
  {
   "cell_type": "code",
   "execution_count": 5,
   "metadata": {},
   "outputs": [
    {
     "name": "stdout",
     "output_type": "stream",
     "text": [
      "nucleophile is 380 \r\n",
      "acid/base is 205 \r\n",
      "tyr is 315 \r\n",
      "ligand is 482 \r\n"
     ]
    }
   ],
   "source": [
    "! cat notes.txt"
   ]
  },
  {
   "cell_type": "code",
   "execution_count": 10,
   "metadata": {
    "collapsed": true
   },
   "outputs": [],
   "source": [
    "# params for this protein \n",
    "\n",
    "params = { \n",
    "    'handle': 'Q97AX4',\n",
    "    'nucleophile': 380,\n",
    "    'acid_base': 205, \n",
    "    'backup': 315, \n",
    "    'ligand': 482, \n",
    "}"
   ]
  },
  {
   "cell_type": "code",
   "execution_count": 11,
   "metadata": {
    "collapsed": true
   },
   "outputs": [],
   "source": [
    "# set up the input files "
   ]
  },
  {
   "cell_type": "code",
   "execution_count": 12,
   "metadata": {},
   "outputs": [],
   "source": [
    "# puzzle setup \n",
    "\n",
    "puz_setup = 'version: 1\\n{{\\n\"backbone_locked\": \"{}||\"\\n}}'\n",
    "puz_fn = params['handle'] + '.puzzle_setup'\n",
    "with open( puz_fn, 'w' ) as fn:\n",
    "    fn.write( puz_setup.format( params[ 'ligand' ] ) ) "
   ]
  },
  {
   "cell_type": "code",
   "execution_count": 13,
   "metadata": {},
   "outputs": [
    {
     "name": "stdout",
     "output_type": "stream",
     "text": [
      "version: 1\r\n",
      "{\r\n",
      "\"backbone_locked\": \"482||\"\r\n",
      "}"
     ]
    }
   ],
   "source": [
    "! cat *puzzle_setup"
   ]
  },
  {
   "cell_type": "code",
   "execution_count": 14,
   "metadata": {},
   "outputs": [],
   "source": [
    "# constraint file \n",
    "\n",
    "cst_template = '''# chemical restraints for pNPG hydrolysis by {handle}\n",
    "\n",
    "# pNPG (residue {ligand}) and acid/base E{acid_base}\n",
    "AtomPair O2 {ligand} OE2 {acid_base} HARMONIC 1.8 0.18\n",
    "Angle O2 {ligand} OE2 {acid_base} CD {acid_base} HARMONIC 0 10\n",
    "Dihedral O2 {ligand} OE2 {acid_base} CD {acid_base} CG {acid_base} HARMONIC 0 10\n",
    "\n",
    "# pNPG and nucleophile E{nucleophile}\n",
    "AtomPair C5 {ligand} OE2 {nucleophile} HARMONIC 2.0 0.20\n",
    "Angle O2 {ligand} C5 {ligand} OE2 {nucleophile} HARMONIC 0 10\n",
    "Angle C5 {ligand} OE2 {nucleophile} CD {nucleophile} HARMONIC 0 10\n",
    "Dihedral C5 {ligand} OE2 {nucleophile} CD {nucleophile} CG {nucleophile} HARMONIC 0 10\n",
    "\n",
    "# nucleophile E{nucleophile} and Y{backup}\n",
    "AtomPair OE2 {nucleophile} OH {backup} HARMONIC 3.0 0.30\n",
    "'''\n",
    "\n",
    "with open( '{}_pNPG.cnstr'.format( params[ 'handle' ] ), 'w' ) as fn:\n",
    "    fn.write( cst_template.format( **params ) )"
   ]
  },
  {
   "cell_type": "code",
   "execution_count": 15,
   "metadata": {},
   "outputs": [
    {
     "name": "stdout",
     "output_type": "stream",
     "text": [
      "# chemical restraints for pNPG hydrolysis by Q97AX4\r\n",
      "\r\n",
      "# pNPG (residue 482) and acid/base E205\r\n",
      "AtomPair O2 482 OE2 205 HARMONIC 1.8 0.18\r\n",
      "Angle O2 482 OE2 205 CD 205 HARMONIC 0 10\r\n",
      "Dihedral O2 482 OE2 205 CD 205 CG 205 HARMONIC 0 10\r\n",
      "\r\n",
      "# pNPG and nucleophile E380\r\n",
      "AtomPair C5 482 OE2 380 HARMONIC 2.0 0.20\r\n",
      "Angle O2 482 C5 482 OE2 380 HARMONIC 0 10\r\n",
      "Angle C5 482 OE2 380 CD 380 HARMONIC 0 10\r\n",
      "Dihedral C5 482 OE2 380 CD 380 CG 380 HARMONIC 0 10\r\n",
      "\r\n",
      "# nucleophile E380 and Y315\r\n",
      "AtomPair OE2 380 OH 315 HARMONIC 3.0 0.30\r\n"
     ]
    }
   ],
   "source": [
    "! cat *.cnstr"
   ]
  },
  {
   "cell_type": "code",
   "execution_count": 16,
   "metadata": {
    "collapsed": true
   },
   "outputs": [],
   "source": [
    "# enzyme design header for input PDB \n",
    "\n",
    "enzdes_header='''REMARK   0 NE TEMPLATE X LG1 1 MATCH MOTIF A GLU {nucleophile} 1\n",
    "REMARK   0 NE TEMPLATE X LG1 1 MATCH MOTIF A GLU {acid_base} 2\n",
    "REMARK   0 NE TEMPLATE A GLU {nucleophile} MATCH MOTIF A TYR {backup} 3\n",
    "'''\n",
    "\n",
    "with open( 'enzdes_header.txt', 'w' ) as fn:\n",
    "    fn.write( enzdes_header.format( **params ) ) "
   ]
  },
  {
   "cell_type": "code",
   "execution_count": 17,
   "metadata": {},
   "outputs": [
    {
     "name": "stdout",
     "output_type": "stream",
     "text": [
      "REMARK   0 NE TEMPLATE X LG1 1 MATCH MOTIF A GLU 380 1\r\n",
      "REMARK   0 NE TEMPLATE X LG1 1 MATCH MOTIF A GLU 205 2\r\n",
      "REMARK   0 NE TEMPLATE A GLU 380 MATCH MOTIF A TYR 315 3\r\n"
     ]
    }
   ],
   "source": [
    "! cat enzdes_header.txt"
   ]
  },
  {
   "cell_type": "code",
   "execution_count": 19,
   "metadata": {},
   "outputs": [],
   "source": [
    "! cat enzdes_header.txt > input_pose.pdb \n",
    "! grep '^ATOM' ../hybridize/S_0065.pdb >> input_pose.pdb \n",
    "! grep '^HETATM' pnpg.pdb >> input_pose.pdb"
   ]
  },
  {
   "cell_type": "code",
   "execution_count": null,
   "metadata": {
    "collapsed": true
   },
   "outputs": [],
   "source": []
  }
 ],
 "metadata": {
  "kernelspec": {
   "display_name": "Python 3",
   "language": "python",
   "name": "python3"
  },
  "language_info": {
   "codemirror_mode": {
    "name": "ipython",
    "version": 3
   },
   "file_extension": ".py",
   "mimetype": "text/x-python",
   "name": "python",
   "nbconvert_exporter": "python",
   "pygments_lexer": "ipython3",
   "version": "3.6.0"
  }
 },
 "nbformat": 4,
 "nbformat_minor": 2
}
