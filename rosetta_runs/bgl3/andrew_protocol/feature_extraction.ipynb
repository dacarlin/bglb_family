{
 "cells": [
  {
   "cell_type": "code",
   "execution_count": 41,
   "metadata": {
    "collapsed": false
   },
   "outputs": [],
   "source": [
    "import pandas \n",
    "import screed \n",
    "from itertools import product \n",
    "\n",
    "for record in screed.open( '../partial_thread/target.fa' ):\n",
    "    native_sequence = record.sequence "
   ]
  },
  {
   "cell_type": "code",
   "execution_count": 42,
   "metadata": {
    "collapsed": true
   },
   "outputs": [],
   "source": [
    "possible_residues = [\n",
    "    \"ALA\", \"ARG\", \"ASN\", \"ASP\", \"CYS\", \"GLU\", \"GLN\",\n",
    "    \"GLY\", \"HIS\", \"ILE\", \"LEU\", \"LYS\", \"MET\", \"PHE\",\n",
    "    \"PRO\", \"SER\", \"THR\", \"TRP\", \"TYR\", \"VAL\"\n",
    "]\n",
    "\n",
    "d = {'CYS': 'C', 'ASP': 'D', 'SER': 'S', 'GLN': 'Q', 'LYS': 'K',\n",
    "     'ILE': 'I', 'PRO': 'P', 'THR': 'T', 'PHE': 'F', 'ASN': 'N', \n",
    "     'GLY': 'G', 'HIS': 'H', 'LEU': 'L', 'ARG': 'R', 'TRP': 'W', \n",
    "     'ALA': 'A', 'VAL':'V', 'GLU': 'E', 'TYR': 'Y', 'MET': 'M'}"
   ]
  },
  {
   "cell_type": "code",
   "execution_count": 47,
   "metadata": {
    "collapsed": false
   },
   "outputs": [
    {
     "data": {
      "text/plain": [
       "'M1A'"
      ]
     },
     "execution_count": 47,
     "metadata": {},
     "output_type": "execute_result"
    }
   ],
   "source": [
    "# list of possible mutants? \n",
    "\n",
    "m = [ ( native_sequence[ i-1 ], i, d[ n ] ) for i, n in product( range(1, 480), possible_residues ) ] \n",
    "all_possible_mutants = [ '{}{}{}'.format( *n ) for n in m ]\n",
    "\n",
    "def map_mutant_index( mutant_index_string ):\n",
    "    index = int( mutant_index_string.split( '/' )[ 1 ] )\n",
    "    return all_possible_mutants[ index - 1 ] \n",
    "    \n",
    "map_mutant_index( 'ouput_files/1/score.sc' ) "
   ]
  },
  {
   "cell_type": "code",
   "execution_count": 48,
   "metadata": {
    "collapsed": true
   },
   "outputs": [],
   "source": [
    "cols = '''\n",
    "mutant_index total_score dslf_fa13    fa_atr fa_dun_dev fa_dun_rot fa_dun_semi     fa_elec fa_intra_atr_xover4 fa_intra_elec fa_intra_rep_xover4 fa_intra_sol_xover4              fa_rep              fa_sol hbond_bb_sc hbond_lr_bb    hbond_sc hbond_sr_bb    hxl_tors     lk_ball lk_ball_bridge lk_ball_bridge_uncpl lk_ball_iso       omega     p_aa_pp pro_close rama_prepro         ref description \n",
    "'''.split()"
   ]
  },
  {
   "cell_type": "code",
   "execution_count": 49,
   "metadata": {
    "collapsed": false,
    "scrolled": false
   },
   "outputs": [],
   "source": [
    "#! grep -v total raw_merge_scores.txt > raw_scores.txt "
   ]
  },
  {
   "cell_type": "code",
   "execution_count": 50,
   "metadata": {
    "collapsed": false
   },
   "outputs": [],
   "source": [
    "# to get raw merge scores, do \n",
    "#!grep SCORE output_files/{1..9850}/score.sc > raw_scores.txt \n",
    "\n",
    "df = pandas.read_csv( 'raw_scores.txt', sep='\\s+', header=None, names=cols ) \n",
    "df[ 'mutant_index' ] = df[ 'mutant_index' ].map( map_mutant_index ) "
   ]
  },
  {
   "cell_type": "code",
   "execution_count": 53,
   "metadata": {
    "collapsed": false,
    "scrolled": false
   },
   "outputs": [],
   "source": [
    "df.groupby( 'mutant_index' ).mean().to_csv( '../../feature_sets/rosetta__andrew_protocol.csv' )"
   ]
  },
  {
   "cell_type": "code",
   "execution_count": null,
   "metadata": {
    "collapsed": true
   },
   "outputs": [],
   "source": []
  }
 ],
 "metadata": {
  "kernelspec": {
   "display_name": "Python [default]",
   "language": "python",
   "name": "python3"
  },
  "language_info": {
   "codemirror_mode": {
    "name": "ipython",
    "version": 3
   },
   "file_extension": ".py",
   "mimetype": "text/x-python",
   "name": "python",
   "nbconvert_exporter": "python",
   "pygments_lexer": "ipython3",
   "version": "3.5.2"
  }
 },
 "nbformat": 4,
 "nbformat_minor": 2
}
