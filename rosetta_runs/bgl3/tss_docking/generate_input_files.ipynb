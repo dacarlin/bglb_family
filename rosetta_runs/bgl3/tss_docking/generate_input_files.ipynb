{
 "cells": [
  {
   "cell_type": "code",
   "execution_count": 2,
   "metadata": {
    "collapsed": true
   },
   "outputs": [],
   "source": [
    "# params for this protein \n",
    "\n",
    "params = { \n",
    "    'handle': 'bgl3',\n",
    "    'nucleophile': 383,\n",
    "    'acid_base': 178, \n",
    "    'backup': 309, \n",
    "    'ligand': 480, \n",
    "}"
   ]
  },
  {
   "cell_type": "code",
   "execution_count": 3,
   "metadata": {
    "collapsed": true
   },
   "outputs": [],
   "source": [
    "# set up the input files "
   ]
  },
  {
   "cell_type": "code",
   "execution_count": 4,
   "metadata": {},
   "outputs": [],
   "source": [
    "# puzzle setup \n",
    "\n",
    "puz_setup = 'version: 1\\n{{\\n\"backbone_locked\": \"{}||\"\\n}}'\n",
    "puz_fn = params['handle'] + '.puzzle_setup'\n",
    "with open( puz_fn, 'w' ) as fn:\n",
    "    fn.write( puz_setup.format( params[ 'ligand' ] ) ) "
   ]
  },
  {
   "cell_type": "code",
   "execution_count": 5,
   "metadata": {},
   "outputs": [
    {
     "name": "stdout",
     "output_type": "stream",
     "text": [
      "version: 1\r\n",
      "{\r\n",
      "\"backbone_locked\": \"480||\"\r\n",
      "}"
     ]
    }
   ],
   "source": [
    "! cat bgl3.puzzle_setup"
   ]
  },
  {
   "cell_type": "code",
   "execution_count": 6,
   "metadata": {},
   "outputs": [],
   "source": [
    "# constraint file \n",
    "\n",
    "cst_template = '''\n",
    "# chemical restraints for pNPG hydrolysis by {handle}\n",
    "\n",
    "# pNPG (residue {ligand}) and acid/base E{acid_base}\n",
    "AtomPair O2 {ligand} OE2 {acid_base} HARMONIC 1.8 0.18\n",
    "Angle O2 {ligand} OE2 {acid_base} CD {acid_base} HARMONIC 0 10\n",
    "Dihedral O2 {ligand} OE2 {acid_base} CD {acid_base} CG {acid_base} HARMONIC 0 10\n",
    "\n",
    "# pNPG and nucleophile E{nucleophile}\n",
    "AtomPair C5 {ligand} OE2 {nucleophile} HARMONIC 2.0 0.20\n",
    "Angle O2 {ligand} C5 {ligand} OE2 {nucleophile} HARMONIC 0 10\n",
    "Angle C5 {ligand} OE2 {nucleophile} CD {nucleophile} HARMONIC 0 10\n",
    "Dihedral C5 {ligand} OE2 {nucleophile} CD {nucleophile} CG {nucleophile} HARMONIC 0 10\n",
    "\n",
    "# nucleophile E{nucleophile} and Y{backup}\n",
    "AtomPair OE2 {nucleophile} OH {backup} HARMONIC 3.0 0.30\n",
    "'''\n",
    "\n",
    "with open( '{}_pNPG.cnstr'.format( params[ 'handle' ] ), 'w' ) as fn:\n",
    "    fn.write( cst_template.format( **params ) )"
   ]
  },
  {
   "cell_type": "code",
   "execution_count": 7,
   "metadata": {},
   "outputs": [
    {
     "name": "stdout",
     "output_type": "stream",
     "text": [
      "\r\n",
      "# chemical restraints for pNPG hydrolysis by bgl3\r\n",
      "\r\n",
      "# pNPG (residue 480) and acid/base E178\r\n",
      "AtomPair O2 480 OE2 178 HARMONIC 1.8 0.18\r\n",
      "Angle O2 480 OE2 178 CD 178 HARMONIC 0 10\r\n",
      "Dihedral O2 480 OE2 178 CD 178 CG 178 HARMONIC 0 10\r\n",
      "\r\n",
      "# pNPG and nucleophile E383\r\n",
      "AtomPair C5 480 OE2 383 HARMONIC 2.0 0.20\r\n",
      "Angle O2 480 C5 480 OE2 383 HARMONIC 0 10\r\n",
      "Angle C5 480 OE2 383 CD 383 HARMONIC 0 10\r\n",
      "Dihedral C5 480 OE2 383 CD 383 CG 383 HARMONIC 0 10\r\n",
      "\r\n",
      "# nucleophile E383 and Y309\r\n",
      "AtomPair OE2 383 OH 309 HARMONIC 3.0 0.30\r\n"
     ]
    }
   ],
   "source": [
    "! cat bgl3_pNPG.cnstr"
   ]
  },
  {
   "cell_type": "code",
   "execution_count": 8,
   "metadata": {
    "collapsed": true
   },
   "outputs": [],
   "source": [
    "# enzyme design header for input PDB \n",
    "\n",
    "enzdes_header='''\n",
    "REMARK   0 NE TEMPLATE X LG1 1 MATCH MOTIF A GLU {nucleophile} 1\n",
    "REMARK   0 NE TEMPLATE X LG1 1 MATCH MOTIF A GLU {acid_base} 2\n",
    "REMARK   0 NE TEMPLATE A GLU {nucleophile} MATCH MOTIF A TYR {backup} 3\n",
    "'''\n",
    "\n",
    "with open( 'enzdes_header.txt', 'w' ) as fn:\n",
    "    fn.write( enzdes_header.format( **params ) ) "
   ]
  },
  {
   "cell_type": "code",
   "execution_count": 9,
   "metadata": {},
   "outputs": [
    {
     "name": "stdout",
     "output_type": "stream",
     "text": [
      "\r\n",
      "REMARK   0 NE TEMPLATE X LG1 1 MATCH MOTIF A GLU 383 1\r\n",
      "REMARK   0 NE TEMPLATE X LG1 1 MATCH MOTIF A GLU 178 2\r\n",
      "REMARK   0 NE TEMPLATE A GLU 383 MATCH MOTIF A TYR 309 3\r\n"
     ]
    }
   ],
   "source": [
    "! cat enzdes_header.txt"
   ]
  },
  {
   "cell_type": "code",
   "execution_count": 24,
   "metadata": {},
   "outputs": [],
   "source": [
    "# make a PDB file suitable for loading into enzyme design \n",
    "\n",
    "! ( cat enzdes_header.txt && grep '^ATOM' ../hybridize/S_0007.pdb && cat LG_0001.pdb ) > tss_input.pdb"
   ]
  },
  {
   "cell_type": "code",
   "execution_count": 25,
   "metadata": {},
   "outputs": [
    {
     "name": "stdout",
     "output_type": "stream",
     "text": [
      "\n",
      "REMARK   0 NE TEMPLATE X LG1 1 MATCH MOTIF A GLU 383 1\n",
      "REMARK   0 NE TEMPLATE X LG1 1 MATCH MOTIF A GLU 178 2\n",
      "REMARK   0 NE TEMPLATE A GLU 383 MATCH MOTIF A TYR 309 3\n",
      "ATOM      1  N   MET A   1      25.444   8.852  25.251  1.00  0.00           N  \n",
      "ATOM      2  CA  MET A   1      24.729   9.226  24.035  1.00  0.00           C  \n",
      "ATOM      3  C   MET A   1      25.702   9.479  22.906  1.00  0.00           C  \n",
      "ATOM      4  O   MET A   1      26.626  10.281  23.050  1.00  0.00           O  \n",
      "ATOM      5  CB  MET A   1      23.880  10.477  24.274  1.00  0.00           C  \n",
      "ATOM      6  CG  MET A   1      22.819  10.336  25.361  1.00  0.00           C  \n",
      "... (snip) ...\n",
      "HETATM   33  O7  LG1 X   1      15.895  16.449  -3.151  1.00 20.00           O  \n",
      "HETATM   34  H14 LG1 X   1      19.166  13.549  -1.684  1.00 20.00           H  \n",
      "HETATM   35  C14 LG1 X   1      18.487  16.260  -2.000  1.00 20.00           C  \n",
      "HETATM   36  H15 LG1 X   1      20.242  17.175  -1.198  1.00 20.00           H  \n",
      "HETATM   37  H16 LG1 X   1      20.208  15.351  -1.111  1.00 20.00           H  \n",
      "HETATM   38  C15 LG1 X   1      17.951  17.449  -2.315  1.00 20.00           C  \n",
      "HETATM   39  C16 LG1 X   1      16.627  17.601  -2.934  1.00 20.00           C  \n",
      "HETATM   40  H17 LG1 X   1      18.456  18.391  -2.128  1.00 20.00           H  \n",
      "HETATM   41  O8  LG1 X   1      16.203  18.713  -3.230  1.00 20.00           O  \n",
      "TER                                                                             \n"
     ]
    }
   ],
   "source": [
    "! head tss_input.pdb\n",
    "! echo '... (snip) ...'\n",
    "! tail tss_input.pdb"
   ]
  },
  {
   "cell_type": "code",
   "execution_count": 26,
   "metadata": {
    "collapsed": true
   },
   "outputs": [],
   "source": [
    "! open tss_input.pdb"
   ]
  },
  {
   "cell_type": "code",
   "execution_count": null,
   "metadata": {
    "collapsed": true
   },
   "outputs": [],
   "source": []
  }
 ],
 "metadata": {
  "kernelspec": {
   "display_name": "Python [conda root]",
   "language": "python",
   "name": "conda-root-py"
  },
  "language_info": {
   "codemirror_mode": {
    "name": "ipython",
    "version": 3
   },
   "file_extension": ".py",
   "mimetype": "text/x-python",
   "name": "python",
   "nbconvert_exporter": "python",
   "pygments_lexer": "ipython3",
   "version": "3.6.0"
  }
 },
 "nbformat": 4,
 "nbformat_minor": 2
}
