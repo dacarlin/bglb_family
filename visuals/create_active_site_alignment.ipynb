{
 "cells": [
  {
   "cell_type": "code",
   "execution_count": 51,
   "metadata": {},
   "outputs": [
    {
     "name": "stdout",
     "output_type": "stream",
     "text": [
      ">80\r\n",
      "GGAVAAHQLAFRTSIAVVTLSHFEYWMTFNEINNQTAHPLLQNSGCMVAMCPRYFGYVGFSYYMSWWQIGLAMQFIVENGFGFHGYTPWGCIDLVSASTGKRYG\r\n",
      ">2888\r\n",
      "GSATASYQIWGYRFSLAVATLYHWDLTTLNEPWCSAFLGVHAVTLNIHHANFLGVNYYSPTTAMGWAVLVITENGAAFVYFLWSLLDNFEWAHGYSKRFGA\r\n"
     ]
    }
   ],
   "source": [
    "# active site alignments \n",
    "\n",
    "from Bio.Data import IUPACData\n",
    "from Bio import SeqIO \n",
    "from itertools import chain \n",
    "import os \n",
    "import numpy as np \n",
    "\n",
    "BASE_DIR = '/Users/alex/Documents/bglb_family/pipeline/output_files/'\n",
    "\n",
    "result = []\n",
    "\n",
    "for n in range(1, 3000):\n",
    "    path = os.path.join(BASE_DIR, str(n), 'native.pdb')\n",
    "    \n",
    "    if not os.path.isfile(path):\n",
    "        continue \n",
    "\n",
    "    with open(path) as fn:\n",
    "        lines = fn.readlines()\n",
    "        ca = [n for n in lines if n.startswith('ATOM') and 'CA' in n]\n",
    "        ligand = [n for n in lines if n.startswith('HETATM')]\n",
    "\n",
    "    def distance(xyz_1, xyz_2):\n",
    "        x1, y1, z1, x2, y2, z2 = [float(n) for n in chain(xyz_1, xyz_2)]\n",
    "        return np.sqrt((x1-x2)**2+(y1-y2)**2+(z1-z2)**2)\n",
    "\n",
    "    #print(distance(ligand_center, [\"1.2\", \"4.3\", \"2.2\"]))\n",
    "\n",
    "    for ligand_atom in ligand:\n",
    "        _, _, atom_name, tlc, _, pos, x, y, z, _, _, _ = ligand_atom.split()\n",
    "        if atom_name == 'C5':\n",
    "            ligand_center = x, y, z\n",
    "            #print(ligand_center)\n",
    "\n",
    "\n",
    "    active_site_seq = []\n",
    "    for c in ca:\n",
    "        _, _, _, tlc, _, pos, x, y, z, _, _, _ = c.split()\n",
    "\n",
    "        #print(x, y, z)\n",
    "        name = tlc.capitalize() + pos \n",
    "        dist = distance(ligand_center, (x, y, z))\n",
    "        #print('CA {} distance to ligand center {} Å'.format(name, dist))\n",
    "\n",
    "        if dist < 16:\n",
    "            pkg = IUPACData.protein_letters_3to1[tlc.capitalize()]\n",
    "            active_site_seq.append(pkg)\n",
    "\n",
    "    final = ''.join(active_site_seq)\n",
    "    #print(len(final))\n",
    "    pkg = '>{}\\n{}\\n'.format(n, final)\n",
    "    result.append(pkg)\n",
    "    \n",
    "with open('active_site.fa', 'w') as fn:\n",
    "    fn.write(''.join(result))\n",
    "    \n",
    "! cat active_site.fa "
   ]
  },
  {
   "cell_type": "code",
   "execution_count": 39,
   "metadata": {},
   "outputs": [
    {
     "name": "stdout",
     "output_type": "stream",
     "text": [
      "/Users/alex/Documents/bglb_family/visuals\r\n"
     ]
    }
   ],
   "source": [
    "! ls ../"
   ]
  },
  {
   "cell_type": "code",
   "execution_count": 42,
   "metadata": {},
   "outputs": [
    {
     "name": "stdout",
     "output_type": "stream",
     "text": [
      "/home/carlin/.bashrc: line 3: bind: warning: line editing not enabled\n",
      "receiving file list ... done\n",
      "active_site.fa\n",
      "\n",
      "sent 38 bytes  received 93174 bytes  62141.33 bytes/sec\n",
      "total size is 231625  speedup is 2.48\n"
     ]
    }
   ],
   "source": [
    "# in actual fact, I did this on the cluster \n",
    "! rsync -avz ca:/share/work/alex/bglb_family/pipeline/active_site.fa ../alignments/active_site.fa "
   ]
  },
  {
   "cell_type": "code",
   "execution_count": 47,
   "metadata": {},
   "outputs": [
    {
     "name": "stdout",
     "output_type": "stream",
     "text": [
      "\n",
      "MUSCLE v3.8.1551 by Robert C. Edgar\n",
      "\n",
      "http://www.drive5.com/muscle\n",
      "This software is donated to the public domain.\n",
      "Please cite: Edgar, R.C. Nucleic Acids Res 32(5), 1792-97.\n",
      "\n",
      "active_site 2231 seqs, lengths min 48, max 116, avg 97\n",
      "00:00:09     43 MB(1%)  Iter   1  100.00%  K-mer dist pass 1\n",
      "00:00:09     43 MB(1%)  Iter   1  100.00%  K-mer dist pass 228.80%  K-mer dist pass 255.45%  K-mer dist pass 298.84%  K-mer dist pass 2\n",
      "00:00:11    198 MB(5%)  Iter   1  100.00%  Align node       \n",
      "00:00:11    200 MB(5%)  Iter   1  100.00%  Root alignment(5%)  Iter   1   24.65%  Root alignment31%  Root alignment\n",
      "00:00:26    204 MB(5%)  Iter   2  100.00%  Refine tree   \n",
      "00:00:26    207 MB(5%)  Iter   2  100.00%  Root alignment42%  Root alignment(5%)  Iter   2   73.20%  Root alignment\n",
      "00:00:26    207 MB(5%)  Iter   2  100.00%  Root alignment\n"
     ]
    }
   ],
   "source": [
    "! muscle -maxiters 2 -in ../alignments/active_site.fa -out ../alignments/active_site_aln.fa "
   ]
  },
  {
   "cell_type": "code",
   "execution_count": 72,
   "metadata": {},
   "outputs": [
    {
     "data": {
      "text/plain": [
       "[('190', 'BGLC_BACSU'),\n",
       " ('2742', 'SDJGI_108'),\n",
       " ('762', 'D6Y646_THEBD'),\n",
       " ('301', 'G3RCM8_GORGO'),\n",
       " ('2398', 'F4LWH1_TEPAE')]"
      ]
     },
     "execution_count": 72,
     "metadata": {},
     "output_type": "execute_result"
    }
   ],
   "source": [
    "# we need to list all the names to match with our numbered FASTA file \n",
    "\n",
    "mmap = {}\n",
    "seen = []\n",
    "for n, record in enumerate(SeqIO.parse('../pipeline/comparative_modeling/targets.fa', 'fasta'), 1):\n",
    "    if record.id not in seen and n not in seen:\n",
    "        seen.append(record.id)\n",
    "        seen.append(n) \n",
    "        mmap.update({str(n): record.id})\n",
    "    \n",
    "list(mmap.items())[0:5]"
   ]
  },
  {
   "cell_type": "code",
   "execution_count": 73,
   "metadata": {},
   "outputs": [
    {
     "name": "stdout",
     "output_type": "stream",
     "text": [
      ">2439\r\n",
      "-----------------------LVTEYGSWR--NRKM----------------------\r\n",
      "-----------------------VINIMLHSP----F---G----AG-------------\r\n",
      "---L-VFE--------------------EGE--N------E-------------------\r\n",
      "------------------------DQ-------------------VKY------------\r\n",
      "------------------------------------------------------------\r\n",
      "--------------------------Q--------------------------------A\r\n",
      "AHHE--------------------------------------------------------\r\n",
      "-----L---------VA----S--V-----------------------------------\r\n",
      "-----FR----K-----G-------------------V---------T------------\r\n"
     ]
    }
   ],
   "source": [
    "! head ../alignments/active_site_aln.fa"
   ]
  },
  {
   "cell_type": "code",
   "execution_count": 75,
   "metadata": {},
   "outputs": [
    {
     "name": "stdout",
     "output_type": "stream",
     "text": [
      ">A4WDS3_ENT38 2439\r\n",
      "-----------------------LVTEYGSWR--NRKM----------------------\r\n",
      "-----------------------VINIMLHSP----F---G----AG-------------\r\n",
      "---L-VFE--------------------EGE--N------E-------------------\r\n",
      "------------------------DQ-------------------VKY------------\r\n",
      "------------------------------------------------------------\r\n",
      "--------------------------Q--------------------------------A\r\n",
      "AHHE--------------------------------------------------------\r\n",
      "-----L---------VA----S--V-----------------------------------\r\n",
      "-----FR----K-----G-------------------V---------T------------\r\n"
     ]
    }
   ],
   "source": [
    "wanted = []\n",
    "for record in SeqIO.parse('../alignments/active_site_aln.fa', 'fasta'):\n",
    "    if record.id in mmap.keys():\n",
    "        new_name = mmap[record.id]\n",
    "        record.id = new_name \n",
    "        wanted.append(record)\n",
    "    \n",
    "SeqIO.write(wanted, '../alignments/active_site_aln_mapped.fa', 'fasta')\n",
    "! head ../alignments/active_site_aln_mapped.fa"
   ]
  },
  {
   "cell_type": "code",
   "execution_count": 76,
   "metadata": {},
   "outputs": [
    {
     "name": "stdout",
     "output_type": "stream",
     "text": [
      ">A7HNB8_FERNB 1556\r\n"
     ]
    }
   ],
   "source": [
    "! grep A7HNB8_FERNB ../alignments/active_site_aln_mapped.fa"
   ]
  },
  {
   "cell_type": "code",
   "execution_count": 77,
   "metadata": {},
   "outputs": [
    {
     "name": "stdout",
     "output_type": "stream",
     "text": [
      "FastTree Version 2.1.8 SSE3, OpenMP (4 threads)\n",
      "Alignment: ../alignments/active_site_aln_mapped.fa\n",
      "Amino acid distances: BLOSUM45 Joins: balanced Support: SH-like 1000\n",
      "Search: Normal +NNI +SPR (2 rounds range 10) +ML-NNI opt-each=1\n",
      "TopHits: 1.00*sqrtN close=default refresh=0.80\n",
      "ML Model: Jones-Taylor-Thorton, CAT approximation with 20 rate categories\n",
      "Initial topology in 3.37 seconds0 of   2088    1 of   2091 seqs    800)   \n",
      "Refining topology: 44 rounds ME-NNIs, 2 rounds ME-SPRs, 22 rounds ML-NNIs\n",
      "Total branch-length 346.897 after 16.97 sec101 of 2089 splits, 0 changes   ax delta 0.001)     \n",
      "ML-NNI round 1: LogLk = -209479.092 NNIs 570 max delta 28.41 Time 30.15ges (max delta 16.354)   \n",
      "Switched to using 20 rate categories (CAT approximation)20 of 20   \n",
      "Rate categories were divided by 1.268 so that average rate = 1.0\n",
      "CAT-based log-likelihoods may not be comparable across runs\n",
      "Use -gamma for approximate but comparable Gamma(20) log-likelihoods\n",
      "ML-NNI round 2: LogLk = -197060.085 NNIs 352 max delta 18.06 Time 43.89ges (max delta 18.063)   \n",
      "ML-NNI round 3: LogLk = -196715.032 NNIs 201 max delta 13.78 Time 53.32ges (max delta 13.783)   \n",
      "ML-NNI round 4: LogLk = -196600.103 NNIs 102 max delta 5.11 Time 60.90ges (max delta 5.107)   \n",
      "ML-NNI round 5: LogLk = -196509.090 NNIs 72 max delta 6.37 Time 65.72ges (max delta 6.375)   \n",
      "ML-NNI round 6: LogLk = -196466.983 NNIs 50 max delta 3.90 Time 68.86ges (max delta 3.903)   \n",
      "ML-NNI round 7: LogLk = -196418.453 NNIs 30 max delta 7.47 Time 71.45ges (max delta 7.473)   \n",
      "ML-NNI round 8: LogLk = -196389.419 NNIs 17 max delta 5.07 Time 73.35ges (max delta 3.340)   9 splits, 3 changes (max delta 2.994)   \n",
      "ML-NNI round 9: LogLk = -196379.745 NNIs 6 max delta 5.75 Time 74.62ges (max delta 5.754)   \n",
      "ML-NNI round 10: LogLk = -196372.997 NNIs 5 max delta 5.73 Time 75.39ges (max delta 5.732)   \n",
      "ML-NNI round 11: LogLk = -196371.375 NNIs 4 max delta 0.93 Time 75.85\n",
      "ML-NNI round 12: LogLk = -196370.156 NNIs 1 max delta 1.10 Time 76.23\n",
      "ML-NNI round 13: LogLk = -196370.132 NNIs 0 max delta 0.00 Time 76.72\n",
      "Turning off heuristics for final round of ML NNIs (converged)\n",
      "ML-NNI round 14: LogLk = -196344.752 NNIs 22 max delta 4.19 Time 87.39 (final)x delta 4.192)   \n",
      "Optimize all lengths: LogLk = -196342.434 Time 92.59 \n",
      "Total time: 103.29 seconds Unique: 2091/2092 Bad splits: 4/2088 Worst delta-LogLk 3.570\n"
     ]
    }
   ],
   "source": [
    "! FastTree ../alignments/active_site_aln_mapped.fa > ../alignments/active_site_tree.nwk "
   ]
  },
  {
   "cell_type": "code",
   "execution_count": null,
   "metadata": {
    "collapsed": true
   },
   "outputs": [],
   "source": []
  }
 ],
 "metadata": {
  "kernelspec": {
   "display_name": "Python [conda env:rose]",
   "language": "python",
   "name": "conda-env-rose-py"
  },
  "language_info": {
   "codemirror_mode": {
    "name": "ipython",
    "version": 3
   },
   "file_extension": ".py",
   "mimetype": "text/x-python",
   "name": "python",
   "nbconvert_exporter": "python",
   "pygments_lexer": "ipython3",
   "version": "3.5.2"
  }
 },
 "nbformat": 4,
 "nbformat_minor": 2
}
