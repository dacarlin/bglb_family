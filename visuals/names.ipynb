{
 "cells": [
  {
   "cell_type": "code",
   "execution_count": 21,
   "metadata": {
    "collapsed": true
   },
   "outputs": [],
   "source": [
    "import pandas \n",
    "import io \n",
    "\n",
    "names = '''\n",
    "P22505_16\tR240A\t\t\tE222A\t\t\tY295W\t\t\tQ19A\t\t\tW325A\t\t\tW120F\t\t\tY118F\t\t\tN293Q\t\t\tT352V\t\t\tN220Y\t\t\t\tWT\t\t\tR240A\t\t\tE222A\t\t\tY295W\t\t\tQ19A\t\t\tW325A\t\t\tW120F\t\t\tY118F\t\t\tN293Q\t\t\tT352V\t\t\tN220Y\t\t\t\t\t\n",
    "Q7MG41_142\tS246R\t\t\tT230E\t\t\tY298W\t\t\tQ27A\t\t\tW326A\t\t\tW128F\t\t\tY126F\t\t\tN296Q\t\t\tT353V\t\t\tN223Y\t\t\t\tWT\t\t\tS246R\t\t\tT230E\t\t\tY298W\t\t\tQ27A\t\t\tW326A\t\t\tW128F\t\t\tY126F\t\t\tN296Q\t\t\tT353V\t\t\tN223Y\t\t\t\t\t\n",
    "Q97AX4_139\tA281R\t\t\tT264E\t\t\tY315W\t\t\tQ20A\t\t\tW354A\t\t\tW150F\t\t\tY148F\t\t\tN313Q\t\t\tT379V\t\t\tA262Y\t\t\t\tWT\t\t\tA281R\t\t\tT264E\t\t\tY315W\t\t\tQ20A\t\t\tW354A\t\t\tW150F\t\t\tY148F\t\t\tN313Q\t\t\tT379V\t\t\tA262Y\t\t\t\t\t\n",
    "Q59976_4\tI241R\t\t\tH223E\t\t\tY295W\t\t\tQ18A\t\t\tW342A\t\t\tW120F\t\t\tY118F\t\t\tN293Q\t\t\tT368V\t\t\tN221Y\t\t\t\tWT\t\t\tI241R\t\t\tH223E\t\t\tY295W\t\t\tQ18A\t\t\tW342A\t\t\tW120F\t\t\tY118F\t\t\tN293Q\t\t\tT368V\t\t\tN221Y\t\t\t\t\t\n",
    "'''"
   ]
  },
  {
   "cell_type": "code",
   "execution_count": 22,
   "metadata": {},
   "outputs": [
    {
     "data": {
      "text/html": [
       "<div>\n",
       "<table border=\"1\" class=\"dataframe\">\n",
       "  <thead>\n",
       "    <tr style=\"text-align: right;\">\n",
       "      <th></th>\n",
       "      <th>1</th>\n",
       "      <th>2</th>\n",
       "      <th>3</th>\n",
       "      <th>4</th>\n",
       "      <th>5</th>\n",
       "      <th>6</th>\n",
       "      <th>7</th>\n",
       "      <th>8</th>\n",
       "      <th>9</th>\n",
       "      <th>10</th>\n",
       "      <th>0</th>\n",
       "    </tr>\n",
       "    <tr>\n",
       "      <th>0</th>\n",
       "      <th></th>\n",
       "      <th></th>\n",
       "      <th></th>\n",
       "      <th></th>\n",
       "      <th></th>\n",
       "      <th></th>\n",
       "      <th></th>\n",
       "      <th></th>\n",
       "      <th></th>\n",
       "      <th></th>\n",
       "      <th></th>\n",
       "    </tr>\n",
       "  </thead>\n",
       "  <tbody>\n",
       "    <tr>\n",
       "      <th>P22505_16</th>\n",
       "      <td>R240A</td>\n",
       "      <td>E222A</td>\n",
       "      <td>Y295W</td>\n",
       "      <td>Q19A</td>\n",
       "      <td>W325A</td>\n",
       "      <td>W120F</td>\n",
       "      <td>Y118F</td>\n",
       "      <td>N293Q</td>\n",
       "      <td>T352V</td>\n",
       "      <td>N220Y</td>\n",
       "      <td>WT</td>\n",
       "    </tr>\n",
       "    <tr>\n",
       "      <th>Q7MG41_142</th>\n",
       "      <td>S246R</td>\n",
       "      <td>T230E</td>\n",
       "      <td>Y298W</td>\n",
       "      <td>Q27A</td>\n",
       "      <td>W326A</td>\n",
       "      <td>W128F</td>\n",
       "      <td>Y126F</td>\n",
       "      <td>N296Q</td>\n",
       "      <td>T353V</td>\n",
       "      <td>N223Y</td>\n",
       "      <td>WT</td>\n",
       "    </tr>\n",
       "    <tr>\n",
       "      <th>Q97AX4_139</th>\n",
       "      <td>A281R</td>\n",
       "      <td>T264E</td>\n",
       "      <td>Y315W</td>\n",
       "      <td>Q20A</td>\n",
       "      <td>W354A</td>\n",
       "      <td>W150F</td>\n",
       "      <td>Y148F</td>\n",
       "      <td>N313Q</td>\n",
       "      <td>T379V</td>\n",
       "      <td>A262Y</td>\n",
       "      <td>WT</td>\n",
       "    </tr>\n",
       "    <tr>\n",
       "      <th>Q59976_4</th>\n",
       "      <td>I241R</td>\n",
       "      <td>H223E</td>\n",
       "      <td>Y295W</td>\n",
       "      <td>Q18A</td>\n",
       "      <td>W342A</td>\n",
       "      <td>W120F</td>\n",
       "      <td>Y118F</td>\n",
       "      <td>N293Q</td>\n",
       "      <td>T368V</td>\n",
       "      <td>N221Y</td>\n",
       "      <td>WT</td>\n",
       "    </tr>\n",
       "  </tbody>\n",
       "</table>\n",
       "</div>"
      ],
      "text/plain": [
       "               1      2      3     4      5      6      7      8      9   \\\n",
       "0                                                                          \n",
       "P22505_16   R240A  E222A  Y295W  Q19A  W325A  W120F  Y118F  N293Q  T352V   \n",
       "Q7MG41_142  S246R  T230E  Y298W  Q27A  W326A  W128F  Y126F  N296Q  T353V   \n",
       "Q97AX4_139  A281R  T264E  Y315W  Q20A  W354A  W150F  Y148F  N313Q  T379V   \n",
       "Q59976_4    I241R  H223E  Y295W  Q18A  W342A  W120F  Y118F  N293Q  T368V   \n",
       "\n",
       "               10  0   \n",
       "0                      \n",
       "P22505_16   N220Y  WT  \n",
       "Q7MG41_142  N223Y  WT  \n",
       "Q97AX4_139  A262Y  WT  \n",
       "Q59976_4    N221Y  WT  "
      ]
     },
     "execution_count": 22,
     "metadata": {},
     "output_type": "execute_result"
    }
   ],
   "source": [
    "df = pandas.read_csv(io.StringIO(names),sep='\\s+', index_col=0, header=None).ix[:,0:11]\n",
    "df.columns = list(range(1,11)) + [0]\n",
    "df"
   ]
  },
  {
   "cell_type": "code",
   "execution_count": 23,
   "metadata": {
    "collapsed": true
   },
   "outputs": [],
   "source": [
    "df.to_csv('../data_sets/names.csv')"
   ]
  }
 ],
 "metadata": {
  "kernelspec": {
   "display_name": "Python [default]",
   "language": "python",
   "name": "python3"
  },
  "language_info": {
   "codemirror_mode": {
    "name": "ipython",
    "version": 3
   },
   "file_extension": ".py",
   "mimetype": "text/x-python",
   "name": "python",
   "nbconvert_exporter": "python",
   "pygments_lexer": "ipython3",
   "version": "3.6.0"
  }
 },
 "nbformat": 4,
 "nbformat_minor": 2
}
