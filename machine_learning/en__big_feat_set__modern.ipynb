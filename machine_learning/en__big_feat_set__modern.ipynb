{
 "cells": [
  {
   "cell_type": "markdown",
   "metadata": {},
   "source": [
    "## Machine learning analysis of 12,991 potentially-informative features derived from molecular modeling* for thier use in prediciting experimental $k_{cat}$, $K_M$, and $k_{cat}/K_M$\n",
    "\n",
    "### *modern Rosetta protocol\n",
    "\n",
    "We are interested in using machine learning tools to predict enzyme function from protein structure. In order to put this in machine learning tools, we need to identify informative features from the molecular modeling feature set $F$. "
   ]
  },
  {
   "cell_type": "code",
   "execution_count": 2,
   "metadata": {
    "collapsed": true
   },
   "outputs": [],
   "source": [
    "%matplotlib inline\n",
    "import matplotlib.pyplot as plt \n",
    "import pandas \n",
    "plt.style.use('ggplot')\n",
    "from sklearn import preprocessing, linear_model, ensemble, feature_selection, model_selection, pipeline "
   ]
  },
  {
   "cell_type": "code",
   "execution_count": 3,
   "metadata": {},
   "outputs": [
    {
     "data": {
      "text/html": [
       "\n",
       "    <div class=\"bk-root\">\n",
       "        <a href=\"http://bokeh.pydata.org\" target=\"_blank\" class=\"bk-logo bk-logo-small bk-logo-notebook\"></a>\n",
       "        <span id=\"c8349622-3daa-4a3b-98f8-8a0f8698e287\">Loading BokehJS ...</span>\n",
       "    </div>"
      ]
     },
     "metadata": {},
     "output_type": "display_data"
    },
    {
     "data": {
      "application/javascript": [
       "\n",
       "(function(global) {\n",
       "  function now() {\n",
       "    return new Date();\n",
       "  }\n",
       "\n",
       "  var force = true;\n",
       "\n",
       "  if (typeof (window._bokeh_onload_callbacks) === \"undefined\" || force === true) {\n",
       "    window._bokeh_onload_callbacks = [];\n",
       "    window._bokeh_is_loading = undefined;\n",
       "  }\n",
       "\n",
       "\n",
       "  \n",
       "  if (typeof (window._bokeh_timeout) === \"undefined\" || force === true) {\n",
       "    window._bokeh_timeout = Date.now() + 5000;\n",
       "    window._bokeh_failed_load = false;\n",
       "  }\n",
       "\n",
       "  var NB_LOAD_WARNING = {'data': {'text/html':\n",
       "     \"<div style='background-color: #fdd'>\\n\"+\n",
       "     \"<p>\\n\"+\n",
       "     \"BokehJS does not appear to have successfully loaded. If loading BokehJS from CDN, this \\n\"+\n",
       "     \"may be due to a slow or bad network connection. Possible fixes:\\n\"+\n",
       "     \"</p>\\n\"+\n",
       "     \"<ul>\\n\"+\n",
       "     \"<li>re-rerun `output_notebook()` to attempt to load from CDN again, or</li>\\n\"+\n",
       "     \"<li>use INLINE resources instead, as so:</li>\\n\"+\n",
       "     \"</ul>\\n\"+\n",
       "     \"<code>\\n\"+\n",
       "     \"from bokeh.resources import INLINE\\n\"+\n",
       "     \"output_notebook(resources=INLINE)\\n\"+\n",
       "     \"</code>\\n\"+\n",
       "     \"</div>\"}};\n",
       "\n",
       "  function display_loaded() {\n",
       "    if (window.Bokeh !== undefined) {\n",
       "      document.getElementById(\"c8349622-3daa-4a3b-98f8-8a0f8698e287\").textContent = \"BokehJS successfully loaded.\";\n",
       "    } else if (Date.now() < window._bokeh_timeout) {\n",
       "      setTimeout(display_loaded, 100)\n",
       "    }\n",
       "  }\n",
       "\n",
       "  function run_callbacks() {\n",
       "    window._bokeh_onload_callbacks.forEach(function(callback) { callback() });\n",
       "    delete window._bokeh_onload_callbacks\n",
       "    console.info(\"Bokeh: all callbacks have finished\");\n",
       "  }\n",
       "\n",
       "  function load_libs(js_urls, callback) {\n",
       "    window._bokeh_onload_callbacks.push(callback);\n",
       "    if (window._bokeh_is_loading > 0) {\n",
       "      console.log(\"Bokeh: BokehJS is being loaded, scheduling callback at\", now());\n",
       "      return null;\n",
       "    }\n",
       "    if (js_urls == null || js_urls.length === 0) {\n",
       "      run_callbacks();\n",
       "      return null;\n",
       "    }\n",
       "    console.log(\"Bokeh: BokehJS not loaded, scheduling load and callback at\", now());\n",
       "    window._bokeh_is_loading = js_urls.length;\n",
       "    for (var i = 0; i < js_urls.length; i++) {\n",
       "      var url = js_urls[i];\n",
       "      var s = document.createElement('script');\n",
       "      s.src = url;\n",
       "      s.async = false;\n",
       "      s.onreadystatechange = s.onload = function() {\n",
       "        window._bokeh_is_loading--;\n",
       "        if (window._bokeh_is_loading === 0) {\n",
       "          console.log(\"Bokeh: all BokehJS libraries loaded\");\n",
       "          run_callbacks()\n",
       "        }\n",
       "      };\n",
       "      s.onerror = function() {\n",
       "        console.warn(\"failed to load library \" + url);\n",
       "      };\n",
       "      console.log(\"Bokeh: injecting script tag for BokehJS library: \", url);\n",
       "      document.getElementsByTagName(\"head\")[0].appendChild(s);\n",
       "    }\n",
       "  };var element = document.getElementById(\"c8349622-3daa-4a3b-98f8-8a0f8698e287\");\n",
       "  if (element == null) {\n",
       "    console.log(\"Bokeh: ERROR: autoload.js configured with elementid 'c8349622-3daa-4a3b-98f8-8a0f8698e287' but no matching script tag was found. \")\n",
       "    return false;\n",
       "  }\n",
       "\n",
       "  var js_urls = [\"https://cdn.pydata.org/bokeh/release/bokeh-0.12.4.min.js\", \"https://cdn.pydata.org/bokeh/release/bokeh-widgets-0.12.4.min.js\"];\n",
       "\n",
       "  var inline_js = [\n",
       "    function(Bokeh) {\n",
       "      Bokeh.set_log_level(\"info\");\n",
       "    },\n",
       "    \n",
       "    function(Bokeh) {\n",
       "      \n",
       "      document.getElementById(\"c8349622-3daa-4a3b-98f8-8a0f8698e287\").textContent = \"BokehJS is loading...\";\n",
       "    },\n",
       "    function(Bokeh) {\n",
       "      console.log(\"Bokeh: injecting CSS: https://cdn.pydata.org/bokeh/release/bokeh-0.12.4.min.css\");\n",
       "      Bokeh.embed.inject_css(\"https://cdn.pydata.org/bokeh/release/bokeh-0.12.4.min.css\");\n",
       "      console.log(\"Bokeh: injecting CSS: https://cdn.pydata.org/bokeh/release/bokeh-widgets-0.12.4.min.css\");\n",
       "      Bokeh.embed.inject_css(\"https://cdn.pydata.org/bokeh/release/bokeh-widgets-0.12.4.min.css\");\n",
       "    }\n",
       "  ];\n",
       "\n",
       "  function run_inline_js() {\n",
       "    \n",
       "    if ((window.Bokeh !== undefined) || (force === true)) {\n",
       "      for (var i = 0; i < inline_js.length; i++) {\n",
       "        inline_js[i](window.Bokeh);\n",
       "      }if (force === true) {\n",
       "        display_loaded();\n",
       "      }} else if (Date.now() < window._bokeh_timeout) {\n",
       "      setTimeout(run_inline_js, 100);\n",
       "    } else if (!window._bokeh_failed_load) {\n",
       "      console.log(\"Bokeh: BokehJS failed to load within specified timeout.\");\n",
       "      window._bokeh_failed_load = true;\n",
       "    } else if (force !== true) {\n",
       "      var cell = $(document.getElementById(\"c8349622-3daa-4a3b-98f8-8a0f8698e287\")).parents('.cell').data().cell;\n",
       "      cell.output_area.append_execute_result(NB_LOAD_WARNING)\n",
       "    }\n",
       "\n",
       "  }\n",
       "\n",
       "  if (window._bokeh_is_loading === 0) {\n",
       "    console.log(\"Bokeh: BokehJS loaded, going straight to plotting\");\n",
       "    run_inline_js();\n",
       "  } else {\n",
       "    load_libs(js_urls, function() {\n",
       "      console.log(\"Bokeh: BokehJS plotting callback run at\", now());\n",
       "      run_inline_js();\n",
       "    });\n",
       "  }\n",
       "}(this));"
      ]
     },
     "metadata": {},
     "output_type": "display_data"
    }
   ],
   "source": [
    "import pandas \n",
    "from bokeh.io import push_notebook, show, output_notebook\n",
    "from bokeh.layouts import row, column\n",
    "from bokeh.plotting import figure\n",
    "output_notebook()"
   ]
  },
  {
   "cell_type": "code",
   "execution_count": 4,
   "metadata": {},
   "outputs": [
    {
     "name": "stdout",
     "output_type": "stream",
     "text": [
      "/Users/alex/Documents/bglb_family/machine_learning\r\n"
     ]
    }
   ],
   "source": [
    "! pwd"
   ]
  },
  {
   "cell_type": "markdown",
   "metadata": {},
   "source": [
    "## Features! "
   ]
  },
  {
   "cell_type": "code",
   "execution_count": 5,
   "metadata": {},
   "outputs": [
    {
     "name": "stdout",
     "output_type": "stream",
     "text": [
      "/home/carlin/.bashrc: line 3: bind: warning: line editing not enabled\n",
      "receiving file list ... done\n",
      "\n",
      "sent 16 bytes  received 88 bytes  69.33 bytes/sec\n",
      "total size is 23122290  speedup is 222329.71\n"
     ]
    }
   ],
   "source": [
    "! rsync -avz ca:/share/work/alex/bigger_constraint_exploration_run/data.h5 . "
   ]
  },
  {
   "cell_type": "code",
   "execution_count": 6,
   "metadata": {},
   "outputs": [
    {
     "data": {
      "text/html": [
       "<div>\n",
       "<table border=\"1\" class=\"dataframe\">\n",
       "  <thead>\n",
       "    <tr>\n",
       "      <th></th>\n",
       "      <th colspan=\"10\" halign=\"left\">0</th>\n",
       "      <th>...</th>\n",
       "      <th colspan=\"10\" halign=\"left\">447</th>\n",
       "    </tr>\n",
       "    <tr>\n",
       "      <th></th>\n",
       "      <th>label</th>\n",
       "      <th>fa_atr</th>\n",
       "      <th>fa_rep</th>\n",
       "      <th>fa_sol</th>\n",
       "      <th>fa_intra_atr_xover4</th>\n",
       "      <th>fa_intra_rep_xover4</th>\n",
       "      <th>fa_intra_sol_xover4</th>\n",
       "      <th>lk_ball</th>\n",
       "      <th>lk_ball_iso</th>\n",
       "      <th>lk_ball_bridge</th>\n",
       "      <th>...</th>\n",
       "      <th>omega</th>\n",
       "      <th>fa_dun_dev</th>\n",
       "      <th>fa_dun_rot</th>\n",
       "      <th>fa_dun_semi</th>\n",
       "      <th>p_aa_pp</th>\n",
       "      <th>hxl_tors</th>\n",
       "      <th>ref</th>\n",
       "      <th>rama_prepro</th>\n",
       "      <th>total</th>\n",
       "      <th>sequence_position</th>\n",
       "    </tr>\n",
       "  </thead>\n",
       "  <tbody>\n",
       "    <tr>\n",
       "      <th>A192S</th>\n",
       "      <td>weights</td>\n",
       "      <td>1.0</td>\n",
       "      <td>0.55</td>\n",
       "      <td>1.0</td>\n",
       "      <td>1.0</td>\n",
       "      <td>0.55</td>\n",
       "      <td>1.0</td>\n",
       "      <td>0.92</td>\n",
       "      <td>-0.38</td>\n",
       "      <td>-0.33</td>\n",
       "      <td>...</td>\n",
       "      <td>0.0</td>\n",
       "      <td>0.0</td>\n",
       "      <td>0.0</td>\n",
       "      <td>0.0</td>\n",
       "      <td>0.0</td>\n",
       "      <td>0.0</td>\n",
       "      <td>0.0</td>\n",
       "      <td>0.0</td>\n",
       "      <td>7.99935</td>\n",
       "      <td>446</td>\n",
       "    </tr>\n",
       "    <tr>\n",
       "      <th>A227W</th>\n",
       "      <td>weights</td>\n",
       "      <td>1.0</td>\n",
       "      <td>0.55</td>\n",
       "      <td>1.0</td>\n",
       "      <td>1.0</td>\n",
       "      <td>0.55</td>\n",
       "      <td>1.0</td>\n",
       "      <td>0.92</td>\n",
       "      <td>-0.38</td>\n",
       "      <td>-0.33</td>\n",
       "      <td>...</td>\n",
       "      <td>0.0</td>\n",
       "      <td>0.0</td>\n",
       "      <td>0.0</td>\n",
       "      <td>0.0</td>\n",
       "      <td>0.0</td>\n",
       "      <td>0.0</td>\n",
       "      <td>0.0</td>\n",
       "      <td>0.0</td>\n",
       "      <td>6.23068</td>\n",
       "      <td>446</td>\n",
       "    </tr>\n",
       "    <tr>\n",
       "      <th>A236E</th>\n",
       "      <td>weights</td>\n",
       "      <td>1.0</td>\n",
       "      <td>0.55</td>\n",
       "      <td>1.0</td>\n",
       "      <td>1.0</td>\n",
       "      <td>0.55</td>\n",
       "      <td>1.0</td>\n",
       "      <td>0.92</td>\n",
       "      <td>-0.38</td>\n",
       "      <td>-0.33</td>\n",
       "      <td>...</td>\n",
       "      <td>0.0</td>\n",
       "      <td>0.0</td>\n",
       "      <td>0.0</td>\n",
       "      <td>0.0</td>\n",
       "      <td>0.0</td>\n",
       "      <td>0.0</td>\n",
       "      <td>0.0</td>\n",
       "      <td>0.0</td>\n",
       "      <td>4.63702</td>\n",
       "      <td>446</td>\n",
       "    </tr>\n",
       "    <tr>\n",
       "      <th>A249E</th>\n",
       "      <td>weights</td>\n",
       "      <td>1.0</td>\n",
       "      <td>0.55</td>\n",
       "      <td>1.0</td>\n",
       "      <td>1.0</td>\n",
       "      <td>0.55</td>\n",
       "      <td>1.0</td>\n",
       "      <td>0.92</td>\n",
       "      <td>-0.38</td>\n",
       "      <td>-0.33</td>\n",
       "      <td>...</td>\n",
       "      <td>0.0</td>\n",
       "      <td>0.0</td>\n",
       "      <td>0.0</td>\n",
       "      <td>0.0</td>\n",
       "      <td>0.0</td>\n",
       "      <td>0.0</td>\n",
       "      <td>0.0</td>\n",
       "      <td>0.0</td>\n",
       "      <td>7.04588</td>\n",
       "      <td>446</td>\n",
       "    </tr>\n",
       "    <tr>\n",
       "      <th>A306N</th>\n",
       "      <td>weights</td>\n",
       "      <td>1.0</td>\n",
       "      <td>0.55</td>\n",
       "      <td>1.0</td>\n",
       "      <td>1.0</td>\n",
       "      <td>0.55</td>\n",
       "      <td>1.0</td>\n",
       "      <td>0.92</td>\n",
       "      <td>-0.38</td>\n",
       "      <td>-0.33</td>\n",
       "      <td>...</td>\n",
       "      <td>0.0</td>\n",
       "      <td>0.0</td>\n",
       "      <td>0.0</td>\n",
       "      <td>0.0</td>\n",
       "      <td>0.0</td>\n",
       "      <td>0.0</td>\n",
       "      <td>0.0</td>\n",
       "      <td>0.0</td>\n",
       "      <td>4.99261</td>\n",
       "      <td>446</td>\n",
       "    </tr>\n",
       "  </tbody>\n",
       "</table>\n",
       "<p>5 rows × 12991 columns</p>\n",
       "</div>"
      ],
      "text/plain": [
       "           0                                                                 \\\n",
       "         label fa_atr fa_rep fa_sol fa_intra_atr_xover4 fa_intra_rep_xover4   \n",
       "A192S  weights    1.0   0.55    1.0                 1.0                0.55   \n",
       "A227W  weights    1.0   0.55    1.0                 1.0                0.55   \n",
       "A236E  weights    1.0   0.55    1.0                 1.0                0.55   \n",
       "A249E  weights    1.0   0.55    1.0                 1.0                0.55   \n",
       "A306N  weights    1.0   0.55    1.0                 1.0                0.55   \n",
       "\n",
       "                                                              \\\n",
       "      fa_intra_sol_xover4 lk_ball lk_ball_iso lk_ball_bridge   \n",
       "A192S                 1.0    0.92       -0.38          -0.33   \n",
       "A227W                 1.0    0.92       -0.38          -0.33   \n",
       "A236E                 1.0    0.92       -0.38          -0.33   \n",
       "A249E                 1.0    0.92       -0.38          -0.33   \n",
       "A306N                 1.0    0.92       -0.38          -0.33   \n",
       "\n",
       "             ...          447                                            \\\n",
       "             ...        omega fa_dun_dev fa_dun_rot fa_dun_semi p_aa_pp   \n",
       "A192S        ...          0.0        0.0        0.0         0.0     0.0   \n",
       "A227W        ...          0.0        0.0        0.0         0.0     0.0   \n",
       "A236E        ...          0.0        0.0        0.0         0.0     0.0   \n",
       "A249E        ...          0.0        0.0        0.0         0.0     0.0   \n",
       "A306N        ...          0.0        0.0        0.0         0.0     0.0   \n",
       "\n",
       "                                                            \n",
       "      hxl_tors  ref rama_prepro    total sequence_position  \n",
       "A192S      0.0  0.0         0.0  7.99935               446  \n",
       "A227W      0.0  0.0         0.0  6.23068               446  \n",
       "A236E      0.0  0.0         0.0  4.63702               446  \n",
       "A249E      0.0  0.0         0.0  7.04588               446  \n",
       "A306N      0.0  0.0         0.0  4.99261               446  \n",
       "\n",
       "[5 rows x 12991 columns]"
      ]
     },
     "execution_count": 6,
     "metadata": {},
     "output_type": "execute_result"
    }
   ],
   "source": [
    "feat = pandas.read_hdf('data.h5')\n",
    "feat.head()"
   ]
  },
  {
   "cell_type": "code",
   "execution_count": 7,
   "metadata": {},
   "outputs": [
    {
     "data": {
      "text/plain": [
       "(201, 12991)"
      ]
     },
     "execution_count": 7,
     "metadata": {},
     "output_type": "execute_result"
    }
   ],
   "source": [
    "feat.shape"
   ]
  },
  {
   "cell_type": "markdown",
   "metadata": {},
   "source": [
    "Before we get in to the targets, let's get rid of as many of these features as we can. Having 12,991 features for only 200 samples is not great!\n",
    "\n",
    "First, let's get rid of string features, since they are likely labels. Easiest way to do this is to get all the features that are float64. "
   ]
  },
  {
   "cell_type": "code",
   "execution_count": 8,
   "metadata": {},
   "outputs": [
    {
     "data": {
      "text/plain": [
       "(201, 12095)"
      ]
     },
     "execution_count": 8,
     "metadata": {},
     "output_type": "execute_result"
    }
   ],
   "source": [
    "feat = feat.select_dtypes(['float64'])\n",
    "feat.shape"
   ]
  },
  {
   "cell_type": "markdown",
   "metadata": {},
   "source": [
    "And, let's get rid of features with 0 variance. "
   ]
  },
  {
   "cell_type": "code",
   "execution_count": 9,
   "metadata": {},
   "outputs": [
    {
     "data": {
      "text/plain": [
       "(201, 8401)"
      ]
     },
     "execution_count": 9,
     "metadata": {},
     "output_type": "execute_result"
    }
   ],
   "source": [
    "zero_variance_features = []\n",
    "for col in feat.columns:\n",
    "    if feat[col].std() == 0.0:\n",
    "        zero_variance_features.append(col)\n",
    "feat = feat.drop(zero_variance_features, axis=1)\n",
    "feat.shape"
   ]
  },
  {
   "cell_type": "code",
   "execution_count": null,
   "metadata": {
    "collapsed": true
   },
   "outputs": [],
   "source": []
  },
  {
   "cell_type": "markdown",
   "metadata": {},
   "source": [
    "Ooooh, that is good, we get rid of another 3,694 useless features this way! \n",
    "\n",
    "Now that we have a \"reasonable\" set of features. Let's try looking at the targets. "
   ]
  },
  {
   "cell_type": "markdown",
   "metadata": {},
   "source": [
    "## Machine learning targets! "
   ]
  },
  {
   "cell_type": "code",
   "execution_count": 10,
   "metadata": {},
   "outputs": [
    {
     "data": {
      "text/html": [
       "<div>\n",
       "<table border=\"1\" class=\"dataframe\">\n",
       "  <thead>\n",
       "    <tr style=\"text-align: right;\">\n",
       "      <th></th>\n",
       "      <th>kcat</th>\n",
       "      <th>km</th>\n",
       "      <th>kcatkm</th>\n",
       "      <th>expression</th>\n",
       "    </tr>\n",
       "    <tr>\n",
       "      <th>mutant_name</th>\n",
       "      <th></th>\n",
       "      <th></th>\n",
       "      <th></th>\n",
       "      <th></th>\n",
       "    </tr>\n",
       "  </thead>\n",
       "  <tbody>\n",
       "    <tr>\n",
       "      <th>S14A</th>\n",
       "      <td>-0.439333</td>\n",
       "      <td>0.217484</td>\n",
       "      <td>-0.651460</td>\n",
       "      <td>1</td>\n",
       "    </tr>\n",
       "    <tr>\n",
       "      <th>T15A</th>\n",
       "      <td>-0.156314</td>\n",
       "      <td>0.025306</td>\n",
       "      <td>-0.176657</td>\n",
       "      <td>1</td>\n",
       "    </tr>\n",
       "    <tr>\n",
       "      <th>S16A</th>\n",
       "      <td>-0.756962</td>\n",
       "      <td>0.447468</td>\n",
       "      <td>-1.199275</td>\n",
       "      <td>1</td>\n",
       "    </tr>\n",
       "    <tr>\n",
       "      <th>S17A</th>\n",
       "      <td>-0.016087</td>\n",
       "      <td>0.567026</td>\n",
       "      <td>-0.577999</td>\n",
       "      <td>1</td>\n",
       "    </tr>\n",
       "    <tr>\n",
       "      <th>S17E</th>\n",
       "      <td>-0.137625</td>\n",
       "      <td>0.165541</td>\n",
       "      <td>-0.298065</td>\n",
       "      <td>1</td>\n",
       "    </tr>\n",
       "  </tbody>\n",
       "</table>\n",
       "</div>"
      ],
      "text/plain": [
       "                 kcat        km    kcatkm  expression\n",
       "mutant_name                                          \n",
       "S14A        -0.439333  0.217484 -0.651460           1\n",
       "T15A        -0.156314  0.025306 -0.176657           1\n",
       "S16A        -0.756962  0.447468 -1.199275           1\n",
       "S17A        -0.016087  0.567026 -0.577999           1\n",
       "S17E        -0.137625  0.165541 -0.298065           1"
      ]
     },
     "execution_count": 10,
     "metadata": {},
     "output_type": "execute_result"
    }
   ],
   "source": [
    "targets = pandas.read_csv('../data_sets/speculative_targets.csv', index_col=0)\n",
    "targets.head()"
   ]
  },
  {
   "cell_type": "markdown",
   "metadata": {},
   "source": [
    "Now, let's see if we can join these and get something out "
   ]
  },
  {
   "cell_type": "code",
   "execution_count": 11,
   "metadata": {},
   "outputs": [
    {
     "name": "stderr",
     "output_type": "stream",
     "text": [
      "/Users/alex/anaconda3/lib/python3.6/site-packages/pandas/tools/merge.py:536: UserWarning: merging between different levels can give an unintended result (2 levels on the left, 1 on the right)\n",
      "  warnings.warn(msg, UserWarning)\n"
     ]
    },
    {
     "data": {
      "text/html": [
       "<div>\n",
       "<table border=\"1\" class=\"dataframe\">\n",
       "  <thead>\n",
       "    <tr style=\"text-align: right;\">\n",
       "      <th></th>\n",
       "      <th>(0, fa_rep)</th>\n",
       "      <th>(0, fa_intra_rep_xover4)</th>\n",
       "      <th>(0, lk_ball)</th>\n",
       "      <th>(0, lk_ball_iso)</th>\n",
       "      <th>(0, lk_ball_bridge)</th>\n",
       "      <th>(0, lk_ball_bridge_uncpl)</th>\n",
       "      <th>(0, omega)</th>\n",
       "      <th>(0, fa_dun_dev)</th>\n",
       "      <th>(0, fa_dun_rot)</th>\n",
       "      <th>(0, fa_dun_semi)</th>\n",
       "      <th>...</th>\n",
       "      <th>(447, lk_ball_bridge)</th>\n",
       "      <th>(447, lk_ball_bridge_uncpl)</th>\n",
       "      <th>(447, fa_elec)</th>\n",
       "      <th>(447, fa_intra_elec)</th>\n",
       "      <th>(447, hbond_sc)</th>\n",
       "      <th>(447, total)</th>\n",
       "      <th>kcat</th>\n",
       "      <th>km</th>\n",
       "      <th>kcatkm</th>\n",
       "      <th>expression</th>\n",
       "    </tr>\n",
       "  </thead>\n",
       "  <tbody>\n",
       "    <tr>\n",
       "      <th>A192S</th>\n",
       "      <td>0.55</td>\n",
       "      <td>0.55</td>\n",
       "      <td>0.92</td>\n",
       "      <td>-0.38</td>\n",
       "      <td>-0.33</td>\n",
       "      <td>-0.33</td>\n",
       "      <td>0.48</td>\n",
       "      <td>0.69</td>\n",
       "      <td>0.76</td>\n",
       "      <td>0.78</td>\n",
       "      <td>...</td>\n",
       "      <td>-0.05648</td>\n",
       "      <td>-0.39996</td>\n",
       "      <td>-3.92200</td>\n",
       "      <td>0.83169</td>\n",
       "      <td>-1.52653</td>\n",
       "      <td>7.99935</td>\n",
       "      <td>0.031408</td>\n",
       "      <td>0.007748</td>\n",
       "      <td>0.028609</td>\n",
       "      <td>1.0</td>\n",
       "    </tr>\n",
       "    <tr>\n",
       "      <th>A227W</th>\n",
       "      <td>0.55</td>\n",
       "      <td>0.55</td>\n",
       "      <td>0.92</td>\n",
       "      <td>-0.38</td>\n",
       "      <td>-0.33</td>\n",
       "      <td>-0.33</td>\n",
       "      <td>0.48</td>\n",
       "      <td>0.69</td>\n",
       "      <td>0.76</td>\n",
       "      <td>0.78</td>\n",
       "      <td>...</td>\n",
       "      <td>-0.06749</td>\n",
       "      <td>-0.46456</td>\n",
       "      <td>-3.80166</td>\n",
       "      <td>0.95059</td>\n",
       "      <td>-1.45225</td>\n",
       "      <td>6.23068</td>\n",
       "      <td>-0.362874</td>\n",
       "      <td>0.531479</td>\n",
       "      <td>-0.889390</td>\n",
       "      <td>1.0</td>\n",
       "    </tr>\n",
       "    <tr>\n",
       "      <th>A236E</th>\n",
       "      <td>0.55</td>\n",
       "      <td>0.55</td>\n",
       "      <td>0.92</td>\n",
       "      <td>-0.38</td>\n",
       "      <td>-0.33</td>\n",
       "      <td>-0.33</td>\n",
       "      <td>0.48</td>\n",
       "      <td>0.69</td>\n",
       "      <td>0.76</td>\n",
       "      <td>0.78</td>\n",
       "      <td>...</td>\n",
       "      <td>-0.07601</td>\n",
       "      <td>-0.40267</td>\n",
       "      <td>-4.09516</td>\n",
       "      <td>0.90852</td>\n",
       "      <td>-1.65660</td>\n",
       "      <td>4.63702</td>\n",
       "      <td>NaN</td>\n",
       "      <td>NaN</td>\n",
       "      <td>NaN</td>\n",
       "      <td>0.0</td>\n",
       "    </tr>\n",
       "    <tr>\n",
       "      <th>A249E</th>\n",
       "      <td>0.55</td>\n",
       "      <td>0.55</td>\n",
       "      <td>0.92</td>\n",
       "      <td>-0.38</td>\n",
       "      <td>-0.33</td>\n",
       "      <td>-0.33</td>\n",
       "      <td>0.48</td>\n",
       "      <td>0.69</td>\n",
       "      <td>0.76</td>\n",
       "      <td>0.78</td>\n",
       "      <td>...</td>\n",
       "      <td>-0.05857</td>\n",
       "      <td>-0.41367</td>\n",
       "      <td>-4.02934</td>\n",
       "      <td>0.82877</td>\n",
       "      <td>-1.41720</td>\n",
       "      <td>7.04588</td>\n",
       "      <td>NaN</td>\n",
       "      <td>NaN</td>\n",
       "      <td>NaN</td>\n",
       "      <td>0.0</td>\n",
       "    </tr>\n",
       "    <tr>\n",
       "      <th>A306N</th>\n",
       "      <td>0.55</td>\n",
       "      <td>0.55</td>\n",
       "      <td>0.92</td>\n",
       "      <td>-0.38</td>\n",
       "      <td>-0.33</td>\n",
       "      <td>-0.33</td>\n",
       "      <td>0.48</td>\n",
       "      <td>0.69</td>\n",
       "      <td>0.76</td>\n",
       "      <td>0.78</td>\n",
       "      <td>...</td>\n",
       "      <td>-0.08060</td>\n",
       "      <td>-0.41687</td>\n",
       "      <td>-4.15582</td>\n",
       "      <td>0.97967</td>\n",
       "      <td>-1.53085</td>\n",
       "      <td>4.99261</td>\n",
       "      <td>NaN</td>\n",
       "      <td>NaN</td>\n",
       "      <td>NaN</td>\n",
       "      <td>NaN</td>\n",
       "    </tr>\n",
       "  </tbody>\n",
       "</table>\n",
       "<p>5 rows × 8405 columns</p>\n",
       "</div>"
      ],
      "text/plain": [
       "       (0, fa_rep)  (0, fa_intra_rep_xover4)  (0, lk_ball)  (0, lk_ball_iso)  \\\n",
       "A192S         0.55                      0.55          0.92             -0.38   \n",
       "A227W         0.55                      0.55          0.92             -0.38   \n",
       "A236E         0.55                      0.55          0.92             -0.38   \n",
       "A249E         0.55                      0.55          0.92             -0.38   \n",
       "A306N         0.55                      0.55          0.92             -0.38   \n",
       "\n",
       "       (0, lk_ball_bridge)  (0, lk_ball_bridge_uncpl)  (0, omega)  \\\n",
       "A192S                -0.33                      -0.33        0.48   \n",
       "A227W                -0.33                      -0.33        0.48   \n",
       "A236E                -0.33                      -0.33        0.48   \n",
       "A249E                -0.33                      -0.33        0.48   \n",
       "A306N                -0.33                      -0.33        0.48   \n",
       "\n",
       "       (0, fa_dun_dev)  (0, fa_dun_rot)  (0, fa_dun_semi)     ...      \\\n",
       "A192S             0.69             0.76              0.78     ...       \n",
       "A227W             0.69             0.76              0.78     ...       \n",
       "A236E             0.69             0.76              0.78     ...       \n",
       "A249E             0.69             0.76              0.78     ...       \n",
       "A306N             0.69             0.76              0.78     ...       \n",
       "\n",
       "       (447, lk_ball_bridge)  (447, lk_ball_bridge_uncpl)  (447, fa_elec)  \\\n",
       "A192S               -0.05648                     -0.39996        -3.92200   \n",
       "A227W               -0.06749                     -0.46456        -3.80166   \n",
       "A236E               -0.07601                     -0.40267        -4.09516   \n",
       "A249E               -0.05857                     -0.41367        -4.02934   \n",
       "A306N               -0.08060                     -0.41687        -4.15582   \n",
       "\n",
       "       (447, fa_intra_elec)  (447, hbond_sc)  (447, total)      kcat  \\\n",
       "A192S               0.83169         -1.52653       7.99935  0.031408   \n",
       "A227W               0.95059         -1.45225       6.23068 -0.362874   \n",
       "A236E               0.90852         -1.65660       4.63702       NaN   \n",
       "A249E               0.82877         -1.41720       7.04588       NaN   \n",
       "A306N               0.97967         -1.53085       4.99261       NaN   \n",
       "\n",
       "             km    kcatkm  expression  \n",
       "A192S  0.007748  0.028609         1.0  \n",
       "A227W  0.531479 -0.889390         1.0  \n",
       "A236E       NaN       NaN         0.0  \n",
       "A249E       NaN       NaN         0.0  \n",
       "A306N       NaN       NaN         NaN  \n",
       "\n",
       "[5 rows x 8405 columns]"
      ]
     },
     "execution_count": 11,
     "metadata": {},
     "output_type": "execute_result"
    }
   ],
   "source": [
    "J = feat.join(targets)\n",
    "J.head()"
   ]
  },
  {
   "cell_type": "markdown",
   "metadata": {},
   "source": [
    "OK, that'll work! Now, let's make a nice dict where we can do each of kcat, km, and kcat/KM at the same time! "
   ]
  },
  {
   "cell_type": "code",
   "execution_count": 14,
   "metadata": {
    "collapsed": true
   },
   "outputs": [],
   "source": [
    "# opts = dict(plot_width=600, plot_height=400, min_border=0)\n",
    "# p1 = figure(**opts)\n",
    "# r1 = p1.circle([1,2,3], [4,5,6], size=20)\n",
    "\n",
    "# p2 = figure(**opts)\n",
    "# r2 = p2.circle([1,2,3], [4,5,6], size=20)\n",
    "\n",
    "# # get a handle to update the shown cell with\n",
    "# t = show(row(p1, p2), notebook_handle=True)"
   ]
  },
  {
   "cell_type": "code",
   "execution_count": 15,
   "metadata": {
    "collapsed": true
   },
   "outputs": [],
   "source": [
    "tgts = 'kcat km kcatkm'.split()"
   ]
  },
  {
   "cell_type": "code",
   "execution_count": 24,
   "metadata": {
    "scrolled": false
   },
   "outputs": [
    {
     "name": "stderr",
     "output_type": "stream",
     "text": [
      "/Users/alex/anaconda3/lib/python3.6/site-packages/pandas/tools/merge.py:536: UserWarning: merging between different levels can give an unintended result (2 levels on the left, 1 on the right)\n",
      "  warnings.warn(msg, UserWarning)\n"
     ]
    },
    {
     "name": "stdout",
     "output_type": "stream",
     "text": [
      "(103, 8402)\n",
      "                                 kcat       abs\n",
      "(400, fa_dun_semi)           0.473890  0.473890\n",
      "(14, fa_intra_sol_xover4)    0.470411  0.470411\n",
      "(14, fa_intra_rep_xover4)   -0.462296  0.462296\n",
      "(436, fa_dun_dev)           -0.446616  0.446616\n",
      "(381, fa_atr)               -0.442565  0.442565\n",
      "(440, fa_elec)              -0.438466  0.438466\n",
      "(400, lk_ball_bridge_uncpl)  0.436561  0.436561\n",
      "(14, lk_ball_bridge_uncpl)   0.430360  0.430360\n",
      "(399, fa_rep)               -0.426970  0.426970\n",
      "(399, lk_ball_bridge)        0.426061  0.426061\n",
      "(103, 8402)\n",
      "                                   km       abs\n",
      "(119, lk_ball_bridge)        0.406687  0.406687\n",
      "(123, lk_ball_bridge)        0.406633  0.406633\n",
      "(169, lk_ball)               0.400649  0.400649\n",
      "(133, lk_ball_iso)          -0.399765  0.399765\n",
      "(133, fa_atr)               -0.395215  0.395215\n",
      "(401, hxl_tors)              0.391078  0.391078\n",
      "(119, fa_atr)                0.384923  0.384923\n",
      "(119, lk_ball_bridge_uncpl)  0.378727  0.378727\n",
      "(123, lk_ball_bridge_uncpl)  0.378712  0.378712\n",
      "(168, hxl_tors)              0.378628  0.378628\n",
      "(103, 8402)\n",
      "                              kcatkm       abs\n",
      "(400, fa_dun_semi)          0.463209  0.463209\n",
      "(14, fa_intra_sol_xover4)   0.462033  0.462033\n",
      "(14, fa_intra_rep_xover4)  -0.453127  0.453127\n",
      "(381, fa_atr)              -0.422763  0.422763\n",
      "(436, fa_dun_dev)          -0.420429  0.420429\n",
      "(14, lk_ball_bridge_uncpl)  0.411547  0.411547\n",
      "(440, fa_elec)             -0.410854  0.410854\n",
      "(356, total)               -0.410215  0.410215\n",
      "(399, lk_ball_bridge)       0.408545  0.408545\n",
      "(14, lk_ball_bridge)        0.405079  0.405079\n"
     ]
    }
   ],
   "source": [
    "runs = []\n",
    "for tgt in tgts:    \n",
    "    J = feat.join(targets[tgt]).dropna()\n",
    "    print(J.shape)\n",
    "    \n",
    "    d = J.corr()[[tgt]]\n",
    "    d['abs'] = d[tgt].map(abs)\n",
    "    d = d.sort_values('abs', ascending=False).head(11).iloc[1:,]\n",
    "    print(d)\n",
    "    \n",
    "    X = J.ix[:,0:-1]\n",
    "    y = J.ix[:,-1].ravel()\n",
    "    pkg = tgt, X, y, d.index \n",
    "    runs.append(pkg)"
   ]
  },
  {
   "cell_type": "code",
   "execution_count": 37,
   "metadata": {
    "scrolled": false
   },
   "outputs": [
    {
     "name": "stderr",
     "output_type": "stream",
     "text": [
      "/Users/alex/anaconda3/lib/python3.6/site-packages/sklearn/linear_model/coordinate_descent.py:484: ConvergenceWarning: Objective did not converge. You might want to increase the number of iterations. Fitting data with very small alpha may cause precision problems.\n",
      "  ConvergenceWarning)\n"
     ]
    },
    {
     "data": {
      "image/png": "[encoded data removed]",
      "text/plain": [
       "<matplotlib.figure.Figure at 0x11c857cf8>"
      ]
     },
     "metadata": {},
     "output_type": "display_data"
    },
    {
     "data": {
      "image/png": "[encoded data removed]",
      "text/plain": [
       "<matplotlib.figure.Figure at 0x127326fd0>"
      ]
     },
     "metadata": {},
     "output_type": "display_data"
    },
    {
     "data": {
      "image/png": "[encoded data removed]",
      "text/plain": [
       "<matplotlib.figure.Figure at 0x11c89f128>"
      ]
     },
     "metadata": {},
     "output_type": "display_data"
    }
   ],
   "source": [
    "# reduced features \n",
    "\n",
    "pts = []\n",
    "for tgt, X, y, d_index in runs:\n",
    "#     print(tgt, X.shape, y.shape, d_index) \n",
    "    reduced_features = X[d_index]\n",
    "    params = {}\n",
    "    \n",
    "    pln = pipeline.Pipeline([\n",
    "        ('scaler', preprocessing.StandardScaler()),\n",
    "        ('clf', linear_model.ElasticNetCV(cv=2, max_iter=1e4)),\n",
    "    ])\n",
    "    \n",
    "    clf = model_selection.GridSearchCV(pln, params, cv=5)\n",
    "    preds = model_selection.cross_val_predict(clf, reduced_features, y, cv=10)\n",
    "    fig, ax = plt.subplots()\n",
    "    ax.scatter(y, preds)\n",
    "    ax.set(xlabel='Measured', ylabel='Predicted')\n",
    "    \n",
    "#     opts = dict(plot_width=300, plot_height=300)\n",
    "#     plot = figure(**opts)\n",
    "#     plot.circle(y, preds)\n",
    "#     pts.append(plot)\n",
    "    \n",
    "# show(row(pts), notebook_handle=True)    "
   ]
  },
  {
   "cell_type": "code",
   "execution_count": 36,
   "metadata": {},
   "outputs": [
    {
     "data": {
      "image/png": "[encoded data removed]",
      "text/plain": [
       "<matplotlib.figure.Figure at 0x11c897630>"
      ]
     },
     "metadata": {},
     "output_type": "display_data"
    },
    {
     "data": {
      "image/png": "[encoded data removed]",
      "text/plain": [
       "<matplotlib.figure.Figure at 0x11ca7f780>"
      ]
     },
     "metadata": {},
     "output_type": "display_data"
    },
    {
     "data": {
      "image/png": "[encoded data removed]",
      "text/plain": [
       "<matplotlib.figure.Figure at 0x127369828>"
      ]
     },
     "metadata": {},
     "output_type": "display_data"
    }
   ],
   "source": [
    "# reduced features \n",
    "\n",
    "pts = []\n",
    "for tgt, X, y, d_index in runs:\n",
    "#     print(tgt, X.shape, y.shape, d_index) \n",
    "    reduced_features = X[d_index]\n",
    "    params = {}\n",
    "    \n",
    "    pln = pipeline.Pipeline([\n",
    "        ('scaler', preprocessing.StandardScaler()),\n",
    "        ('clf', linear_model.ElasticNetCV(cv=2, max_iter=1e4)),\n",
    "    ])\n",
    "    \n",
    "    clf = model_selection.GridSearchCV(pln, params, cv=5)\n",
    "    preds = model_selection.cross_val_predict(clf, X, y, cv=10)\n",
    "    fig, ax = plt.subplots()\n",
    "    ax.scatter(y, preds)\n",
    "    ax.set(xlabel='Measured', ylabel='Predicted')\n",
    "    \n",
    "#     opts = dict(plot_width=300, plot_height=300)\n",
    "#     plot = figure(**opts)\n",
    "#     plot.circle(y, preds)\n",
    "#     pts.append(plot)\n",
    "    \n",
    "# show(row(pts), notebook_handle=True)    "
   ]
  },
  {
   "cell_type": "code",
   "execution_count": 38,
   "metadata": {
    "scrolled": false
   },
   "outputs": [],
   "source": [
    "# pts = []\n",
    "# for tgt, X, y, d_index in runs:\n",
    "#     print(tgt, X.shape, y.shape) \n",
    "#     params = {}\n",
    "    \n",
    "#     pln = pipeline.Pipeline([\n",
    "#         ('scaler', preprocessing.StandardScaler()),\n",
    "#         ('clf', linear_model.ElasticNetCV(cv=5, max_iter=1e9)),\n",
    "#     ])\n",
    "    \n",
    "#     clf = model_selection.GridSearchCV(pln, params)\n",
    "#     preds = model_selection.cross_val_predict(clf, X, y, cv=4)\n",
    "    \n",
    "#     opts = dict(plot_width=300, plot_height=300)\n",
    "#     plot = figure(**opts)\n",
    "#     plot.circle(y, preds)\n",
    "#     pts.append(plot)\n",
    "    \n",
    "# show(row(pts), notebook_handle=True)    "
   ]
  },
  {
   "cell_type": "code",
   "execution_count": null,
   "metadata": {
    "collapsed": true
   },
   "outputs": [],
   "source": []
  }
 ],
 "metadata": {
  "kernelspec": {
   "display_name": "Python [default]",
   "language": "python",
   "name": "python3"
  },
  "language_info": {
   "codemirror_mode": {
    "name": "ipython",
    "version": 3
   },
   "file_extension": ".py",
   "mimetype": "text/x-python",
   "name": "python",
   "nbconvert_exporter": "python",
   "pygments_lexer": "ipython3",
   "version": "3.6.0"
  }
 },
 "nbformat": 4,
 "nbformat_minor": 2
}
