{
 "cells": [
  {
   "cell_type": "code",
   "execution_count": 3,
   "metadata": {
    "collapsed": true
   },
   "outputs": [],
   "source": [
    "import pandas "
   ]
  },
  {
   "cell_type": "markdown",
   "metadata": {},
   "source": [
    "Here we will try Markus's idea to learn a substitution matrix for each position, but we will substitute in functional information instead of the stability he was interested in. For each kinetic parameter that we care about, we can have the data be the subsitution matrix. \n",
    "\n",
    "So we will learn substitution matrixes \n",
    "\n",
    "```\n",
    "|   | A   | C   | D   |\n",
    "| A | 0 | -0.32 | 1.22 |\n",
    "| C | 0.22 | 0 | -0.62 | \n",
    "| D | 0 | -0.32 | 1.22 |\n",
    "```\n",
    "\n",
    "where the entry in the substitution matrix is the log$_{10}$ change in the fitness parameter upon mutation. \n",
    "\n",
    "For our training data, our substitution matrixes for each postion are pretty sparse, since we don't have a lot of data. So in this case, we can try a few substitution matrixes, starting with BLOSUM. "
   ]
  },
  {
   "cell_type": "markdown",
   "metadata": {},
   "source": []
  },
  {
   "cell_type": "code",
   "execution_count": 1,
   "metadata": {
    "collapsed": true
   },
   "outputs": [],
   "source": [
    "from Bio import SubsMat"
   ]
  },
  {
   "cell_type": "code",
   "execution_count": null,
   "metadata": {
    "collapsed": true
   },
   "outputs": [],
   "source": [
    "from Bio.HMM"
   ]
  },
  {
   "cell_type": "code",
   "execution_count": null,
   "metadata": {
    "collapsed": true
   },
   "outputs": [],
   "source": [
    "SubsMat.two_mat_correlation("
   ]
  },
  {
   "cell_type": "code",
   "execution_count": 2,
   "metadata": {},
   "outputs": [
    {
     "data": {
      "text/plain": [
       "{}"
      ]
     },
     "execution_count": 2,
     "metadata": {},
     "output_type": "execute_result"
    }
   ],
   "source": [
    "null = SubsMat.SubstitutionMatrix(\n",
    "null."
   ]
  }
 ],
 "metadata": {
  "kernelspec": {
   "display_name": "Python [conda root]",
   "language": "python",
   "name": "conda-root-py"
  },
  "language_info": {
   "codemirror_mode": {
    "name": "ipython",
    "version": 3
   },
   "file_extension": ".py",
   "mimetype": "text/x-python",
   "name": "python",
   "nbconvert_exporter": "python",
   "pygments_lexer": "ipython3",
   "version": "3.6.0"
  }
 },
 "nbformat": 4,
 "nbformat_minor": 2
}
