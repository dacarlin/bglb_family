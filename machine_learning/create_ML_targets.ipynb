{
 "cells": [
  {
   "cell_type": "code",
   "execution_count": 1,
   "metadata": {
    "collapsed": true
   },
   "outputs": [],
   "source": [
    "import pandas \n",
    "import numpy as np \n",
    "%matplotlib inline"
   ]
  },
  {
   "cell_type": "code",
   "execution_count": 9,
   "metadata": {},
   "outputs": [
    {
     "name": "stdout",
     "output_type": "stream",
     "text": [
      "(111, 3)\n"
     ]
    },
    {
     "data": {
      "text/html": [
       "<div>\n",
       "<table border=\"1\" class=\"dataframe\">\n",
       "  <thead>\n",
       "    <tr style=\"text-align: right;\">\n",
       "      <th></th>\n",
       "      <th>kcat</th>\n",
       "      <th>km</th>\n",
       "      <th>kcatkm</th>\n",
       "    </tr>\n",
       "    <tr>\n",
       "      <th>mutant_name</th>\n",
       "      <th></th>\n",
       "      <th></th>\n",
       "      <th></th>\n",
       "    </tr>\n",
       "  </thead>\n",
       "  <tbody>\n",
       "    <tr>\n",
       "      <th>S14A</th>\n",
       "      <td>-0.439333</td>\n",
       "      <td>0.217484</td>\n",
       "      <td>-0.651460</td>\n",
       "    </tr>\n",
       "    <tr>\n",
       "      <th>T15A</th>\n",
       "      <td>-0.156314</td>\n",
       "      <td>0.025306</td>\n",
       "      <td>-0.176657</td>\n",
       "    </tr>\n",
       "    <tr>\n",
       "      <th>S16A</th>\n",
       "      <td>-0.756962</td>\n",
       "      <td>0.447468</td>\n",
       "      <td>-1.199275</td>\n",
       "    </tr>\n",
       "    <tr>\n",
       "      <th>S17A</th>\n",
       "      <td>-0.016087</td>\n",
       "      <td>0.567026</td>\n",
       "      <td>-0.577999</td>\n",
       "    </tr>\n",
       "    <tr>\n",
       "      <th>S17E</th>\n",
       "      <td>-0.137625</td>\n",
       "      <td>0.165541</td>\n",
       "      <td>-0.298065</td>\n",
       "    </tr>\n",
       "  </tbody>\n",
       "</table>\n",
       "</div>"
      ],
      "text/plain": [
       "                 kcat        km    kcatkm\n",
       "mutant_name                              \n",
       "S14A        -0.439333  0.217484 -0.651460\n",
       "T15A        -0.156314  0.025306 -0.176657\n",
       "S16A        -0.756962  0.447468 -1.199275\n",
       "S17A        -0.016087  0.567026 -0.577999\n",
       "S17E        -0.137625  0.165541 -0.298065"
      ]
     },
     "execution_count": 9,
     "metadata": {},
     "output_type": "execute_result"
    }
   ],
   "source": [
    "# bglb \n",
    "\n",
    "t = pandas.read_csv('../data_sets/bglb_data_set.csv', index_col='mutant_name')\n",
    "t.kcat = t.kcat.map(lambda x: np.log10(x/880) or 0)\n",
    "t.km = t.km.map(lambda x: np.log10(x/5) or 0)\n",
    "t.kcatkm = t.kcatkm.map(lambda x: np.log10(x/174000) or 0)\n",
    "t.drop([col for col in t if 'Un' in col], axis=1, inplace=True)\n",
    "t = t.replace([np.inf, -np.inf], 0)\n",
    "print(t.shape)\n",
    "t.head()"
   ]
  },
  {
   "cell_type": "code",
   "execution_count": 5,
   "metadata": {},
   "outputs": [
    {
     "data": {
      "text/html": [
       "<div>\n",
       "<table border=\"1\" class=\"dataframe\">\n",
       "  <thead>\n",
       "    <tr style=\"text-align: right;\">\n",
       "      <th></th>\n",
       "      <th>kcat</th>\n",
       "      <th>km</th>\n",
       "      <th>kcatkm</th>\n",
       "    </tr>\n",
       "  </thead>\n",
       "  <tbody>\n",
       "    <tr>\n",
       "      <th>count</th>\n",
       "      <td>111.000000</td>\n",
       "      <td>111.000000</td>\n",
       "      <td>111.000000</td>\n",
       "    </tr>\n",
       "    <tr>\n",
       "      <th>mean</th>\n",
       "      <td>-0.751832</td>\n",
       "      <td>0.176183</td>\n",
       "      <td>-0.938564</td>\n",
       "    </tr>\n",
       "    <tr>\n",
       "      <th>std</th>\n",
       "      <td>0.868185</td>\n",
       "      <td>0.428985</td>\n",
       "      <td>1.097366</td>\n",
       "    </tr>\n",
       "    <tr>\n",
       "      <th>min</th>\n",
       "      <td>-3.643453</td>\n",
       "      <td>-1.096910</td>\n",
       "      <td>-4.185032</td>\n",
       "    </tr>\n",
       "    <tr>\n",
       "      <th>25%</th>\n",
       "      <td>-1.339211</td>\n",
       "      <td>-0.055517</td>\n",
       "      <td>-1.457254</td>\n",
       "    </tr>\n",
       "    <tr>\n",
       "      <th>50%</th>\n",
       "      <td>-0.362874</td>\n",
       "      <td>0.101059</td>\n",
       "      <td>-0.577999</td>\n",
       "    </tr>\n",
       "    <tr>\n",
       "      <th>75%</th>\n",
       "      <td>-0.113798</td>\n",
       "      <td>0.391952</td>\n",
       "      <td>-0.145729</td>\n",
       "    </tr>\n",
       "    <tr>\n",
       "      <th>max</th>\n",
       "      <td>1.097344</td>\n",
       "      <td>1.814514</td>\n",
       "      <td>0.955350</td>\n",
       "    </tr>\n",
       "  </tbody>\n",
       "</table>\n",
       "</div>"
      ],
      "text/plain": [
       "             kcat          km      kcatkm\n",
       "count  111.000000  111.000000  111.000000\n",
       "mean    -0.751832    0.176183   -0.938564\n",
       "std      0.868185    0.428985    1.097366\n",
       "min     -3.643453   -1.096910   -4.185032\n",
       "25%     -1.339211   -0.055517   -1.457254\n",
       "50%     -0.362874    0.101059   -0.577999\n",
       "75%     -0.113798    0.391952   -0.145729\n",
       "max      1.097344    1.814514    0.955350"
      ]
     },
     "execution_count": 5,
     "metadata": {},
     "output_type": "execute_result"
    }
   ],
   "source": [
    "t.describe()"
   ]
  },
  {
   "cell_type": "code",
   "execution_count": 7,
   "metadata": {},
   "outputs": [
    {
     "data": {
      "text/plain": [
       "array([[<matplotlib.axes._subplots.AxesSubplot object at 0x11c90ad68>,\n",
       "        <matplotlib.axes._subplots.AxesSubplot object at 0x11c9ab710>],\n",
       "       [<matplotlib.axes._subplots.AxesSubplot object at 0x11cb2b940>,\n",
       "        <matplotlib.axes._subplots.AxesSubplot object at 0x11cb77a90>]], dtype=object)"
      ]
     },
     "execution_count": 7,
     "metadata": {},
     "output_type": "execute_result"
    },
    {
     "data": {
      "image/png": "[encoded data removed]",
      "text/plain": [
       "<matplotlib.figure.Figure at 0x11ca055f8>"
      ]
     },
     "metadata": {},
     "output_type": "display_data"
    }
   ],
   "source": [
    "t.hist()"
   ]
  },
  {
   "cell_type": "code",
   "execution_count": 8,
   "metadata": {
    "collapsed": true
   },
   "outputs": [],
   "source": [
    "t.to_csv('../data_sets/bglb_ML_targets.csv')"
   ]
  },
  {
   "cell_type": "code",
   "execution_count": 16,
   "metadata": {},
   "outputs": [
    {
     "name": "stdout",
     "output_type": "stream",
     "text": [
      "(132, 5)\n"
     ]
    },
    {
     "data": {
      "text/html": [
       "<div>\n",
       "<table border=\"1\" class=\"dataframe\">\n",
       "  <thead>\n",
       "    <tr style=\"text-align: right;\">\n",
       "      <th></th>\n",
       "      <th>value</th>\n",
       "      <th>mutant_name_index</th>\n",
       "      <th>kinetic_constant</th>\n",
       "      <th>rel_or_abs</th>\n",
       "      <th>scaffold</th>\n",
       "    </tr>\n",
       "  </thead>\n",
       "  <tbody>\n",
       "    <tr>\n",
       "      <th>0</th>\n",
       "      <td>0.000000</td>\n",
       "      <td>0</td>\n",
       "      <td>kcat</td>\n",
       "      <td>rel</td>\n",
       "      <td>Q59976_4</td>\n",
       "    </tr>\n",
       "    <tr>\n",
       "      <th>1</th>\n",
       "      <td>0.000000</td>\n",
       "      <td>0</td>\n",
       "      <td>km</td>\n",
       "      <td>rel</td>\n",
       "      <td>Q59976_4</td>\n",
       "    </tr>\n",
       "    <tr>\n",
       "      <th>2</th>\n",
       "      <td>0.000000</td>\n",
       "      <td>0</td>\n",
       "      <td>kcatkm</td>\n",
       "      <td>rel</td>\n",
       "      <td>Q59976_4</td>\n",
       "    </tr>\n",
       "    <tr>\n",
       "      <th>3</th>\n",
       "      <td>0.286449</td>\n",
       "      <td>1</td>\n",
       "      <td>kcat</td>\n",
       "      <td>rel</td>\n",
       "      <td>Q59976_4</td>\n",
       "    </tr>\n",
       "    <tr>\n",
       "      <th>4</th>\n",
       "      <td>-2.528274</td>\n",
       "      <td>1</td>\n",
       "      <td>km</td>\n",
       "      <td>rel</td>\n",
       "      <td>Q59976_4</td>\n",
       "    </tr>\n",
       "  </tbody>\n",
       "</table>\n",
       "</div>"
      ],
      "text/plain": [
       "      value  mutant_name_index kinetic_constant rel_or_abs  scaffold\n",
       "0  0.000000                  0             kcat        rel  Q59976_4\n",
       "1  0.000000                  0               km        rel  Q59976_4\n",
       "2  0.000000                  0           kcatkm        rel  Q59976_4\n",
       "3  0.286449                  1             kcat        rel  Q59976_4\n",
       "4 -2.528274                  1               km        rel  Q59976_4"
      ]
     },
     "execution_count": 16,
     "metadata": {},
     "output_type": "execute_result"
    }
   ],
   "source": [
    "# bglb family \n",
    "\n",
    "# bglb \n",
    "\n",
    "t = pandas.read_csv('../data_sets/family_data_set.csv')\n",
    "t = t[(t.rel_or_abs == 'rel')]\n",
    "print(t.shape)\n",
    "t.head()\n",
    "\n",
    "# hmm, not much to do here "
   ]
  }
 ],
 "metadata": {
  "kernelspec": {
   "display_name": "Python [conda root]",
   "language": "python",
   "name": "conda-root-py"
  },
  "language_info": {
   "codemirror_mode": {
    "name": "ipython",
    "version": 3
   },
   "file_extension": ".py",
   "mimetype": "text/x-python",
   "name": "python",
   "nbconvert_exporter": "python",
   "pygments_lexer": "ipython3",
   "version": "3.6.0"
  }
 },
 "nbformat": 4,
 "nbformat_minor": 2
}
