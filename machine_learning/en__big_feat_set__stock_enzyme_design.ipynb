{
 "cells": [
  {
   "cell_type": "markdown",
   "metadata": {},
   "source": [
    "## Machine learning analysis 8,959 potentially-informative features derived from molecular modeling* for thier use in prediciting experimental $k_{cat}$, $K_M$, and $k_{cat}/K_M$\n",
    "\n",
    "### *stock enzyme design protocol\n",
    "\n",
    "We are interested in using machine learning tools to predict enzyme function from protein structure. In order to put this in machine learning tools, we need to identify informative features from the molecular modeling feature set $F$. "
   ]
  },
  {
   "cell_type": "code",
   "execution_count": 1,
   "metadata": {
    "collapsed": true
   },
   "outputs": [],
   "source": [
    "%matplotlib inline\n",
    "import matplotlib.pyplot as plt \n",
    "import seaborn as sns "
   ]
  },
  {
   "cell_type": "code",
   "execution_count": 2,
   "metadata": {
    "collapsed": true
   },
   "outputs": [],
   "source": [
    "from sklearn import preprocessing, linear_model, ensemble, feature_selection, model_selection, pipeline "
   ]
  },
  {
   "cell_type": "code",
   "execution_count": 3,
   "metadata": {},
   "outputs": [
    {
     "data": {
      "text/html": [
       "\n",
       "    <div class=\"bk-root\">\n",
       "        <a href=\"http://bokeh.pydata.org\" target=\"_blank\" class=\"bk-logo bk-logo-small bk-logo-notebook\"></a>\n",
       "        <span id=\"2bd27b1c-3f24-4f08-9b0c-e6c16ea2c866\">Loading BokehJS ...</span>\n",
       "    </div>"
      ]
     },
     "metadata": {},
     "output_type": "display_data"
    },
    {
     "data": {
      "application/javascript": [
       "\n",
       "(function(global) {\n",
       "  function now() {\n",
       "    return new Date();\n",
       "  }\n",
       "\n",
       "  var force = true;\n",
       "\n",
       "  if (typeof (window._bokeh_onload_callbacks) === \"undefined\" || force === true) {\n",
       "    window._bokeh_onload_callbacks = [];\n",
       "    window._bokeh_is_loading = undefined;\n",
       "  }\n",
       "\n",
       "\n",
       "  \n",
       "  if (typeof (window._bokeh_timeout) === \"undefined\" || force === true) {\n",
       "    window._bokeh_timeout = Date.now() + 5000;\n",
       "    window._bokeh_failed_load = false;\n",
       "  }\n",
       "\n",
       "  var NB_LOAD_WARNING = {'data': {'text/html':\n",
       "     \"<div style='background-color: #fdd'>\\n\"+\n",
       "     \"<p>\\n\"+\n",
       "     \"BokehJS does not appear to have successfully loaded. If loading BokehJS from CDN, this \\n\"+\n",
       "     \"may be due to a slow or bad network connection. Possible fixes:\\n\"+\n",
       "     \"</p>\\n\"+\n",
       "     \"<ul>\\n\"+\n",
       "     \"<li>re-rerun `output_notebook()` to attempt to load from CDN again, or</li>\\n\"+\n",
       "     \"<li>use INLINE resources instead, as so:</li>\\n\"+\n",
       "     \"</ul>\\n\"+\n",
       "     \"<code>\\n\"+\n",
       "     \"from bokeh.resources import INLINE\\n\"+\n",
       "     \"output_notebook(resources=INLINE)\\n\"+\n",
       "     \"</code>\\n\"+\n",
       "     \"</div>\"}};\n",
       "\n",
       "  function display_loaded() {\n",
       "    if (window.Bokeh !== undefined) {\n",
       "      document.getElementById(\"2bd27b1c-3f24-4f08-9b0c-e6c16ea2c866\").textContent = \"BokehJS successfully loaded.\";\n",
       "    } else if (Date.now() < window._bokeh_timeout) {\n",
       "      setTimeout(display_loaded, 100)\n",
       "    }\n",
       "  }\n",
       "\n",
       "  function run_callbacks() {\n",
       "    window._bokeh_onload_callbacks.forEach(function(callback) { callback() });\n",
       "    delete window._bokeh_onload_callbacks\n",
       "    console.info(\"Bokeh: all callbacks have finished\");\n",
       "  }\n",
       "\n",
       "  function load_libs(js_urls, callback) {\n",
       "    window._bokeh_onload_callbacks.push(callback);\n",
       "    if (window._bokeh_is_loading > 0) {\n",
       "      console.log(\"Bokeh: BokehJS is being loaded, scheduling callback at\", now());\n",
       "      return null;\n",
       "    }\n",
       "    if (js_urls == null || js_urls.length === 0) {\n",
       "      run_callbacks();\n",
       "      return null;\n",
       "    }\n",
       "    console.log(\"Bokeh: BokehJS not loaded, scheduling load and callback at\", now());\n",
       "    window._bokeh_is_loading = js_urls.length;\n",
       "    for (var i = 0; i < js_urls.length; i++) {\n",
       "      var url = js_urls[i];\n",
       "      var s = document.createElement('script');\n",
       "      s.src = url;\n",
       "      s.async = false;\n",
       "      s.onreadystatechange = s.onload = function() {\n",
       "        window._bokeh_is_loading--;\n",
       "        if (window._bokeh_is_loading === 0) {\n",
       "          console.log(\"Bokeh: all BokehJS libraries loaded\");\n",
       "          run_callbacks()\n",
       "        }\n",
       "      };\n",
       "      s.onerror = function() {\n",
       "        console.warn(\"failed to load library \" + url);\n",
       "      };\n",
       "      console.log(\"Bokeh: injecting script tag for BokehJS library: \", url);\n",
       "      document.getElementsByTagName(\"head\")[0].appendChild(s);\n",
       "    }\n",
       "  };var element = document.getElementById(\"2bd27b1c-3f24-4f08-9b0c-e6c16ea2c866\");\n",
       "  if (element == null) {\n",
       "    console.log(\"Bokeh: ERROR: autoload.js configured with elementid '2bd27b1c-3f24-4f08-9b0c-e6c16ea2c866' but no matching script tag was found. \")\n",
       "    return false;\n",
       "  }\n",
       "\n",
       "  var js_urls = [\"https://cdn.pydata.org/bokeh/release/bokeh-0.12.4.min.js\", \"https://cdn.pydata.org/bokeh/release/bokeh-widgets-0.12.4.min.js\"];\n",
       "\n",
       "  var inline_js = [\n",
       "    function(Bokeh) {\n",
       "      Bokeh.set_log_level(\"info\");\n",
       "    },\n",
       "    \n",
       "    function(Bokeh) {\n",
       "      \n",
       "      document.getElementById(\"2bd27b1c-3f24-4f08-9b0c-e6c16ea2c866\").textContent = \"BokehJS is loading...\";\n",
       "    },\n",
       "    function(Bokeh) {\n",
       "      console.log(\"Bokeh: injecting CSS: https://cdn.pydata.org/bokeh/release/bokeh-0.12.4.min.css\");\n",
       "      Bokeh.embed.inject_css(\"https://cdn.pydata.org/bokeh/release/bokeh-0.12.4.min.css\");\n",
       "      console.log(\"Bokeh: injecting CSS: https://cdn.pydata.org/bokeh/release/bokeh-widgets-0.12.4.min.css\");\n",
       "      Bokeh.embed.inject_css(\"https://cdn.pydata.org/bokeh/release/bokeh-widgets-0.12.4.min.css\");\n",
       "    }\n",
       "  ];\n",
       "\n",
       "  function run_inline_js() {\n",
       "    \n",
       "    if ((window.Bokeh !== undefined) || (force === true)) {\n",
       "      for (var i = 0; i < inline_js.length; i++) {\n",
       "        inline_js[i](window.Bokeh);\n",
       "      }if (force === true) {\n",
       "        display_loaded();\n",
       "      }} else if (Date.now() < window._bokeh_timeout) {\n",
       "      setTimeout(run_inline_js, 100);\n",
       "    } else if (!window._bokeh_failed_load) {\n",
       "      console.log(\"Bokeh: BokehJS failed to load within specified timeout.\");\n",
       "      window._bokeh_failed_load = true;\n",
       "    } else if (force !== true) {\n",
       "      var cell = $(document.getElementById(\"2bd27b1c-3f24-4f08-9b0c-e6c16ea2c866\")).parents('.cell').data().cell;\n",
       "      cell.output_area.append_execute_result(NB_LOAD_WARNING)\n",
       "    }\n",
       "\n",
       "  }\n",
       "\n",
       "  if (window._bokeh_is_loading === 0) {\n",
       "    console.log(\"Bokeh: BokehJS loaded, going straight to plotting\");\n",
       "    run_inline_js();\n",
       "  } else {\n",
       "    load_libs(js_urls, function() {\n",
       "      console.log(\"Bokeh: BokehJS plotting callback run at\", now());\n",
       "      run_inline_js();\n",
       "    });\n",
       "  }\n",
       "}(this));"
      ]
     },
     "metadata": {},
     "output_type": "display_data"
    }
   ],
   "source": [
    "import pandas \n",
    "from bokeh.io import push_notebook, show, output_notebook\n",
    "from bokeh.layouts import row, column\n",
    "from bokeh.plotting import figure\n",
    "output_notebook()"
   ]
  },
  {
   "cell_type": "code",
   "execution_count": 4,
   "metadata": {},
   "outputs": [
    {
     "name": "stdout",
     "output_type": "stream",
     "text": [
      "/Users/alex/Documents/bglb_family/machine_learning\r\n"
     ]
    }
   ],
   "source": [
    "! pwd"
   ]
  },
  {
   "cell_type": "markdown",
   "metadata": {},
   "source": [
    "## Features! "
   ]
  },
  {
   "cell_type": "code",
   "execution_count": 5,
   "metadata": {},
   "outputs": [
    {
     "name": "stdout",
     "output_type": "stream",
     "text": [
      "/home/carlin/.bashrc: line 3: bind: warning: line editing not enabled\n",
      "receiving file list ... done\n",
      "\n",
      "sent 16 bytes  received 88 bytes  29.71 bytes/sec\n",
      "total size is 14344384  speedup is 137926.77\n"
     ]
    }
   ],
   "source": [
    "! rsync -avz ca:/share/work/alex/stock_enzyme_design_protocol/data.h5 data2.h5 "
   ]
  },
  {
   "cell_type": "code",
   "execution_count": 5,
   "metadata": {},
   "outputs": [
    {
     "data": {
      "text/html": [
       "<div>\n",
       "<table border=\"1\" class=\"dataframe\">\n",
       "  <thead>\n",
       "    <tr>\n",
       "      <th></th>\n",
       "      <th colspan=\"10\" halign=\"left\">0</th>\n",
       "      <th>...</th>\n",
       "      <th colspan=\"10\" halign=\"left\">447</th>\n",
       "    </tr>\n",
       "    <tr>\n",
       "      <th></th>\n",
       "      <th>label</th>\n",
       "      <th>fa_atr</th>\n",
       "      <th>fa_rep</th>\n",
       "      <th>fa_sol</th>\n",
       "      <th>fa_intra_rep</th>\n",
       "      <th>fa_elec</th>\n",
       "      <th>pro_close</th>\n",
       "      <th>hbond_sr_bb</th>\n",
       "      <th>hbond_lr_bb</th>\n",
       "      <th>hbond_bb_sc</th>\n",
       "      <th>...</th>\n",
       "      <th>hbond_sc</th>\n",
       "      <th>dslf_fa13</th>\n",
       "      <th>rama</th>\n",
       "      <th>omega</th>\n",
       "      <th>fa_dun</th>\n",
       "      <th>p_aa_pp</th>\n",
       "      <th>yhh_planarity</th>\n",
       "      <th>ref</th>\n",
       "      <th>total</th>\n",
       "      <th>sequence_position</th>\n",
       "    </tr>\n",
       "  </thead>\n",
       "  <tbody>\n",
       "    <tr>\n",
       "      <th>A192S</th>\n",
       "      <td>weights</td>\n",
       "      <td>1.0</td>\n",
       "      <td>0.55</td>\n",
       "      <td>0.9375</td>\n",
       "      <td>0.005</td>\n",
       "      <td>0.875</td>\n",
       "      <td>1.25</td>\n",
       "      <td>1.17</td>\n",
       "      <td>1.17</td>\n",
       "      <td>1.17</td>\n",
       "      <td>...</td>\n",
       "      <td>-3.03171</td>\n",
       "      <td>0.0</td>\n",
       "      <td>0.0</td>\n",
       "      <td>0.0</td>\n",
       "      <td>0.0</td>\n",
       "      <td>0.0</td>\n",
       "      <td>0.0</td>\n",
       "      <td>0.0</td>\n",
       "      <td>-3.89029</td>\n",
       "      <td>446</td>\n",
       "    </tr>\n",
       "    <tr>\n",
       "      <th>A306N</th>\n",
       "      <td>weights</td>\n",
       "      <td>1.0</td>\n",
       "      <td>0.55</td>\n",
       "      <td>0.9375</td>\n",
       "      <td>0.005</td>\n",
       "      <td>0.875</td>\n",
       "      <td>1.25</td>\n",
       "      <td>1.17</td>\n",
       "      <td>1.17</td>\n",
       "      <td>1.17</td>\n",
       "      <td>...</td>\n",
       "      <td>-3.18737</td>\n",
       "      <td>0.0</td>\n",
       "      <td>0.0</td>\n",
       "      <td>0.0</td>\n",
       "      <td>0.0</td>\n",
       "      <td>0.0</td>\n",
       "      <td>0.0</td>\n",
       "      <td>0.0</td>\n",
       "      <td>-4.42077</td>\n",
       "      <td>446</td>\n",
       "    </tr>\n",
       "    <tr>\n",
       "      <th>A356A</th>\n",
       "      <td>weights</td>\n",
       "      <td>1.0</td>\n",
       "      <td>0.55</td>\n",
       "      <td>0.9375</td>\n",
       "      <td>0.005</td>\n",
       "      <td>0.875</td>\n",
       "      <td>1.25</td>\n",
       "      <td>1.17</td>\n",
       "      <td>1.17</td>\n",
       "      <td>1.17</td>\n",
       "      <td>...</td>\n",
       "      <td>-3.35449</td>\n",
       "      <td>0.0</td>\n",
       "      <td>0.0</td>\n",
       "      <td>0.0</td>\n",
       "      <td>0.0</td>\n",
       "      <td>0.0</td>\n",
       "      <td>0.0</td>\n",
       "      <td>0.0</td>\n",
       "      <td>-4.26879</td>\n",
       "      <td>446</td>\n",
       "    </tr>\n",
       "    <tr>\n",
       "      <th>A357A</th>\n",
       "      <td>weights</td>\n",
       "      <td>1.0</td>\n",
       "      <td>0.55</td>\n",
       "      <td>0.9375</td>\n",
       "      <td>0.005</td>\n",
       "      <td>0.875</td>\n",
       "      <td>1.25</td>\n",
       "      <td>1.17</td>\n",
       "      <td>1.17</td>\n",
       "      <td>1.17</td>\n",
       "      <td>...</td>\n",
       "      <td>-3.33426</td>\n",
       "      <td>0.0</td>\n",
       "      <td>0.0</td>\n",
       "      <td>0.0</td>\n",
       "      <td>0.0</td>\n",
       "      <td>0.0</td>\n",
       "      <td>0.0</td>\n",
       "      <td>0.0</td>\n",
       "      <td>-4.19985</td>\n",
       "      <td>446</td>\n",
       "    </tr>\n",
       "    <tr>\n",
       "      <th>E177K</th>\n",
       "      <td>weights</td>\n",
       "      <td>1.0</td>\n",
       "      <td>0.55</td>\n",
       "      <td>0.9375</td>\n",
       "      <td>0.005</td>\n",
       "      <td>0.875</td>\n",
       "      <td>1.25</td>\n",
       "      <td>1.17</td>\n",
       "      <td>1.17</td>\n",
       "      <td>1.17</td>\n",
       "      <td>...</td>\n",
       "      <td>-3.36620</td>\n",
       "      <td>0.0</td>\n",
       "      <td>0.0</td>\n",
       "      <td>0.0</td>\n",
       "      <td>0.0</td>\n",
       "      <td>0.0</td>\n",
       "      <td>0.0</td>\n",
       "      <td>0.0</td>\n",
       "      <td>-4.37823</td>\n",
       "      <td>446</td>\n",
       "    </tr>\n",
       "  </tbody>\n",
       "</table>\n",
       "<p>5 rows × 8959 columns</p>\n",
       "</div>"
      ],
      "text/plain": [
       "           0                                                         \\\n",
       "         label fa_atr fa_rep  fa_sol fa_intra_rep fa_elec pro_close   \n",
       "A192S  weights    1.0   0.55  0.9375        0.005   0.875      1.25   \n",
       "A306N  weights    1.0   0.55  0.9375        0.005   0.875      1.25   \n",
       "A356A  weights    1.0   0.55  0.9375        0.005   0.875      1.25   \n",
       "A357A  weights    1.0   0.55  0.9375        0.005   0.875      1.25   \n",
       "E177K  weights    1.0   0.55  0.9375        0.005   0.875      1.25   \n",
       "\n",
       "                                                 ...             447  \\\n",
       "      hbond_sr_bb hbond_lr_bb hbond_bb_sc        ...        hbond_sc   \n",
       "A192S        1.17        1.17        1.17        ...        -3.03171   \n",
       "A306N        1.17        1.17        1.17        ...        -3.18737   \n",
       "A356A        1.17        1.17        1.17        ...        -3.35449   \n",
       "A357A        1.17        1.17        1.17        ...        -3.33426   \n",
       "E177K        1.17        1.17        1.17        ...        -3.36620   \n",
       "\n",
       "                                                                       \\\n",
       "      dslf_fa13 rama omega fa_dun p_aa_pp yhh_planarity  ref    total   \n",
       "A192S       0.0  0.0   0.0    0.0     0.0           0.0  0.0 -3.89029   \n",
       "A306N       0.0  0.0   0.0    0.0     0.0           0.0  0.0 -4.42077   \n",
       "A356A       0.0  0.0   0.0    0.0     0.0           0.0  0.0 -4.26879   \n",
       "A357A       0.0  0.0   0.0    0.0     0.0           0.0  0.0 -4.19985   \n",
       "E177K       0.0  0.0   0.0    0.0     0.0           0.0  0.0 -4.37823   \n",
       "\n",
       "                         \n",
       "      sequence_position  \n",
       "A192S               446  \n",
       "A306N               446  \n",
       "A356A               446  \n",
       "A357A               446  \n",
       "E177K               446  \n",
       "\n",
       "[5 rows x 8959 columns]"
      ]
     },
     "execution_count": 5,
     "metadata": {},
     "output_type": "execute_result"
    }
   ],
   "source": [
    "feat = pandas.read_hdf('data2.h5')\n",
    "feat.head()"
   ]
  },
  {
   "cell_type": "code",
   "execution_count": 7,
   "metadata": {},
   "outputs": [
    {
     "data": {
      "text/plain": [
       "(182, 8959)"
      ]
     },
     "execution_count": 7,
     "metadata": {},
     "output_type": "execute_result"
    }
   ],
   "source": [
    "feat.shape"
   ]
  },
  {
   "cell_type": "markdown",
   "metadata": {},
   "source": [
    "Before we get in to the targets, let's get rid of as many of these features as we can. Having 12,991 features for only 200 samples is not great!\n",
    "\n",
    "First, let's get rid of string features, since they are likely labels. Easiest way to do this is to get all the features that are float64. "
   ]
  },
  {
   "cell_type": "code",
   "execution_count": 6,
   "metadata": {},
   "outputs": [
    {
     "data": {
      "text/plain": [
       "(182, 8063)"
      ]
     },
     "execution_count": 6,
     "metadata": {},
     "output_type": "execute_result"
    }
   ],
   "source": [
    "feat = feat.select_dtypes(['float64'])\n",
    "feat.shape"
   ]
  },
  {
   "cell_type": "markdown",
   "metadata": {},
   "source": [
    "And, let's get rid of features with 0 variance. "
   ]
  },
  {
   "cell_type": "code",
   "execution_count": 7,
   "metadata": {},
   "outputs": [
    {
     "data": {
      "text/plain": [
       "(182, 5023)"
      ]
     },
     "execution_count": 7,
     "metadata": {},
     "output_type": "execute_result"
    }
   ],
   "source": [
    "zero_variance_features = []\n",
    "for col in feat.columns:\n",
    "    if feat[col].std() == 0.0:\n",
    "        zero_variance_features.append(col)\n",
    "feat = feat.drop(zero_variance_features, axis=1)\n",
    "feat.shape"
   ]
  },
  {
   "cell_type": "markdown",
   "metadata": {},
   "source": [
    "Ooooh, that is good, we get rid of another 3,694 useless features this way! \n",
    "\n",
    "Now that we have a \"reasonable\" set of features. Let's try looking at the targets. "
   ]
  },
  {
   "cell_type": "code",
   "execution_count": 8,
   "metadata": {},
   "outputs": [
    {
     "data": {
      "text/plain": [
       "(182, 7)"
      ]
     },
     "execution_count": 8,
     "metadata": {},
     "output_type": "execute_result"
    }
   ],
   "source": [
    "# ligand only features! \n",
    "feat = feat[447]\n",
    "feat.shape"
   ]
  },
  {
   "cell_type": "markdown",
   "metadata": {},
   "source": [
    "## Machine learning targets! "
   ]
  },
  {
   "cell_type": "code",
   "execution_count": 9,
   "metadata": {},
   "outputs": [
    {
     "data": {
      "text/html": [
       "<div>\n",
       "<table border=\"1\" class=\"dataframe\">\n",
       "  <thead>\n",
       "    <tr style=\"text-align: right;\">\n",
       "      <th></th>\n",
       "      <th>kcat</th>\n",
       "      <th>km</th>\n",
       "      <th>kcatkm</th>\n",
       "    </tr>\n",
       "    <tr>\n",
       "      <th>mutant_name</th>\n",
       "      <th></th>\n",
       "      <th></th>\n",
       "      <th></th>\n",
       "    </tr>\n",
       "  </thead>\n",
       "  <tbody>\n",
       "    <tr>\n",
       "      <th>S14A</th>\n",
       "      <td>2.505150</td>\n",
       "      <td>0.916454</td>\n",
       "      <td>4.589089</td>\n",
       "    </tr>\n",
       "    <tr>\n",
       "      <th>T15A</th>\n",
       "      <td>2.788168</td>\n",
       "      <td>0.724276</td>\n",
       "      <td>5.063892</td>\n",
       "    </tr>\n",
       "    <tr>\n",
       "      <th>S16A</th>\n",
       "      <td>2.187521</td>\n",
       "      <td>1.146438</td>\n",
       "      <td>4.041274</td>\n",
       "    </tr>\n",
       "    <tr>\n",
       "      <th>S17A</th>\n",
       "      <td>2.928396</td>\n",
       "      <td>1.265996</td>\n",
       "      <td>4.662550</td>\n",
       "    </tr>\n",
       "    <tr>\n",
       "      <th>S17E</th>\n",
       "      <td>2.806858</td>\n",
       "      <td>0.864511</td>\n",
       "      <td>4.942484</td>\n",
       "    </tr>\n",
       "  </tbody>\n",
       "</table>\n",
       "</div>"
      ],
      "text/plain": [
       "                 kcat        km    kcatkm\n",
       "mutant_name                              \n",
       "S14A         2.505150  0.916454  4.589089\n",
       "T15A         2.788168  0.724276  5.063892\n",
       "S16A         2.187521  1.146438  4.041274\n",
       "S17A         2.928396  1.265996  4.662550\n",
       "S17E         2.806858  0.864511  4.942484"
      ]
     },
     "execution_count": 9,
     "metadata": {},
     "output_type": "execute_result"
    }
   ],
   "source": [
    "targets = pandas.read_csv('/Users/alex/Documents/bglb_data_set/bglb_targets.csv', index_col=0)\n",
    "\n",
    "# remove a funky data point \n",
    "targets = targets.drop('F415A', axis=0)\n",
    "\n",
    "targets.head()"
   ]
  },
  {
   "cell_type": "code",
   "execution_count": 10,
   "metadata": {},
   "outputs": [
    {
     "data": {
      "text/plain": [
       "(110, 3)"
      ]
     },
     "execution_count": 10,
     "metadata": {},
     "output_type": "execute_result"
    }
   ],
   "source": [
    "targets.shape"
   ]
  },
  {
   "cell_type": "markdown",
   "metadata": {},
   "source": [
    "Now, let's see if we can join these and get something out "
   ]
  },
  {
   "cell_type": "code",
   "execution_count": 11,
   "metadata": {},
   "outputs": [
    {
     "data": {
      "text/html": [
       "<div>\n",
       "<table border=\"1\" class=\"dataframe\">\n",
       "  <thead>\n",
       "    <tr style=\"text-align: right;\">\n",
       "      <th></th>\n",
       "      <th>fa_atr</th>\n",
       "      <th>fa_rep</th>\n",
       "      <th>fa_sol</th>\n",
       "      <th>fa_intra_rep</th>\n",
       "      <th>fa_elec</th>\n",
       "      <th>hbond_sc</th>\n",
       "      <th>total</th>\n",
       "      <th>kcat</th>\n",
       "      <th>km</th>\n",
       "      <th>kcatkm</th>\n",
       "    </tr>\n",
       "  </thead>\n",
       "  <tbody>\n",
       "    <tr>\n",
       "      <th>A192S</th>\n",
       "      <td>-11.8267</td>\n",
       "      <td>1.33128</td>\n",
       "      <td>13.3406</td>\n",
       "      <td>0.03927</td>\n",
       "      <td>-3.74311</td>\n",
       "      <td>-3.03171</td>\n",
       "      <td>-3.89029</td>\n",
       "      <td>2.975891</td>\n",
       "      <td>0.706718</td>\n",
       "      <td>5.269158</td>\n",
       "    </tr>\n",
       "    <tr>\n",
       "      <th>A306N</th>\n",
       "      <td>-11.8133</td>\n",
       "      <td>1.23626</td>\n",
       "      <td>13.2531</td>\n",
       "      <td>0.03910</td>\n",
       "      <td>-3.94859</td>\n",
       "      <td>-3.18737</td>\n",
       "      <td>-4.42077</td>\n",
       "      <td>NaN</td>\n",
       "      <td>NaN</td>\n",
       "      <td>NaN</td>\n",
       "    </tr>\n",
       "    <tr>\n",
       "      <th>A356A</th>\n",
       "      <td>-11.8475</td>\n",
       "      <td>1.33786</td>\n",
       "      <td>13.2661</td>\n",
       "      <td>0.03930</td>\n",
       "      <td>-3.71004</td>\n",
       "      <td>-3.35449</td>\n",
       "      <td>-4.26879</td>\n",
       "      <td>NaN</td>\n",
       "      <td>NaN</td>\n",
       "      <td>NaN</td>\n",
       "    </tr>\n",
       "    <tr>\n",
       "      <th>A357A</th>\n",
       "      <td>-11.8786</td>\n",
       "      <td>1.39338</td>\n",
       "      <td>13.2893</td>\n",
       "      <td>0.03931</td>\n",
       "      <td>-3.70902</td>\n",
       "      <td>-3.33426</td>\n",
       "      <td>-4.19985</td>\n",
       "      <td>NaN</td>\n",
       "      <td>NaN</td>\n",
       "      <td>NaN</td>\n",
       "    </tr>\n",
       "    <tr>\n",
       "      <th>E177K</th>\n",
       "      <td>-11.8111</td>\n",
       "      <td>1.34083</td>\n",
       "      <td>13.2388</td>\n",
       "      <td>0.03913</td>\n",
       "      <td>-3.81969</td>\n",
       "      <td>-3.36620</td>\n",
       "      <td>-4.37823</td>\n",
       "      <td>2.744293</td>\n",
       "      <td>0.791691</td>\n",
       "      <td>4.952352</td>\n",
       "    </tr>\n",
       "  </tbody>\n",
       "</table>\n",
       "</div>"
      ],
      "text/plain": [
       "        fa_atr   fa_rep   fa_sol  fa_intra_rep  fa_elec  hbond_sc    total  \\\n",
       "A192S -11.8267  1.33128  13.3406       0.03927 -3.74311  -3.03171 -3.89029   \n",
       "A306N -11.8133  1.23626  13.2531       0.03910 -3.94859  -3.18737 -4.42077   \n",
       "A356A -11.8475  1.33786  13.2661       0.03930 -3.71004  -3.35449 -4.26879   \n",
       "A357A -11.8786  1.39338  13.2893       0.03931 -3.70902  -3.33426 -4.19985   \n",
       "E177K -11.8111  1.34083  13.2388       0.03913 -3.81969  -3.36620 -4.37823   \n",
       "\n",
       "           kcat        km    kcatkm  \n",
       "A192S  2.975891  0.706718  5.269158  \n",
       "A306N       NaN       NaN       NaN  \n",
       "A356A       NaN       NaN       NaN  \n",
       "A357A       NaN       NaN       NaN  \n",
       "E177K  2.744293  0.791691  4.952352  "
      ]
     },
     "execution_count": 11,
     "metadata": {},
     "output_type": "execute_result"
    }
   ],
   "source": [
    "J = feat.join(targets)\n",
    "J.head()"
   ]
  },
  {
   "cell_type": "markdown",
   "metadata": {},
   "source": [
    "OK, that'll work! Now, let's make a nice dict where we can do each of kcat, km, and kcat/KM at the same time! "
   ]
  },
  {
   "cell_type": "code",
   "execution_count": 12,
   "metadata": {},
   "outputs": [
    {
     "data": {
      "text/html": [
       "<div>\n",
       "<table border=\"1\" class=\"dataframe\">\n",
       "  <thead>\n",
       "    <tr style=\"text-align: right;\">\n",
       "      <th></th>\n",
       "      <th>fa_atr</th>\n",
       "      <th>fa_rep</th>\n",
       "      <th>fa_sol</th>\n",
       "      <th>fa_intra_rep</th>\n",
       "      <th>fa_elec</th>\n",
       "      <th>hbond_sc</th>\n",
       "      <th>total</th>\n",
       "      <th>kcat</th>\n",
       "      <th>km</th>\n",
       "      <th>kcatkm</th>\n",
       "    </tr>\n",
       "  </thead>\n",
       "  <tbody>\n",
       "    <tr>\n",
       "      <th>F415A</th>\n",
       "      <td>-11.0202</td>\n",
       "      <td>1.20163</td>\n",
       "      <td>12.0939</td>\n",
       "      <td>0.05087</td>\n",
       "      <td>-3.40713</td>\n",
       "      <td>-3.12900</td>\n",
       "      <td>-4.20988</td>\n",
       "      <td>NaN</td>\n",
       "      <td>NaN</td>\n",
       "      <td>NaN</td>\n",
       "    </tr>\n",
       "    <tr>\n",
       "      <th>H119E</th>\n",
       "      <td>-11.1390</td>\n",
       "      <td>1.30614</td>\n",
       "      <td>12.2895</td>\n",
       "      <td>0.05183</td>\n",
       "      <td>-3.50564</td>\n",
       "      <td>-3.21921</td>\n",
       "      <td>-4.21645</td>\n",
       "      <td>NaN</td>\n",
       "      <td>NaN</td>\n",
       "      <td>NaN</td>\n",
       "    </tr>\n",
       "  </tbody>\n",
       "</table>\n",
       "</div>"
      ],
      "text/plain": [
       "        fa_atr   fa_rep   fa_sol  fa_intra_rep  fa_elec  hbond_sc    total  \\\n",
       "F415A -11.0202  1.20163  12.0939       0.05087 -3.40713  -3.12900 -4.20988   \n",
       "H119E -11.1390  1.30614  12.2895       0.05183 -3.50564  -3.21921 -4.21645   \n",
       "\n",
       "       kcat  km  kcatkm  \n",
       "F415A   NaN NaN     NaN  \n",
       "H119E   NaN NaN     NaN  "
      ]
     },
     "execution_count": 12,
     "metadata": {},
     "output_type": "execute_result"
    }
   ],
   "source": [
    "J.query('fa_sol<12.6')"
   ]
  },
  {
   "cell_type": "code",
   "execution_count": 13,
   "metadata": {
    "scrolled": false
   },
   "outputs": [
    {
     "data": {
      "image/png": "[encoded data removed]",
      "text/plain": [
       "<matplotlib.figure.Figure at 0x10fd426a0>"
      ]
     },
     "metadata": {},
     "output_type": "display_data"
    },
    {
     "data": {
      "image/png": "[encoded data removed]",
      "text/plain": [
       "<matplotlib.figure.Figure at 0x111286828>"
      ]
     },
     "metadata": {},
     "output_type": "display_data"
    },
    {
     "data": {
      "image/png": "[encoded data removed]",
      "text/plain": [
       "<matplotlib.figure.Figure at 0x110aa2908>"
      ]
     },
     "metadata": {},
     "output_type": "display_data"
    },
    {
     "data": {
      "image/png": "[encoded data removed]",
      "text/plain": [
       "<matplotlib.figure.Figure at 0x10fddfc18>"
      ]
     },
     "metadata": {},
     "output_type": "display_data"
    },
    {
     "data": {
      "image/png": "[encoded data removed]",
      "text/plain": [
       "<matplotlib.figure.Figure at 0x10fe055c0>"
      ]
     },
     "metadata": {},
     "output_type": "display_data"
    },
    {
     "data": {
      "image/png": "[encoded data removed]",
      "text/plain": [
       "<matplotlib.figure.Figure at 0x10fdea630>"
      ]
     },
     "metadata": {},
     "output_type": "display_data"
    },
    {
     "data": {
      "image/png": "[encoded data removed]",
      "text/plain": [
       "<matplotlib.figure.Figure at 0x1110e3cc0>"
      ]
     },
     "metadata": {},
     "output_type": "display_data"
    },
    {
     "data": {
      "image/png": "[encoded data removed]",
      "text/plain": [
       "<matplotlib.figure.Figure at 0x110f91898>"
      ]
     },
     "metadata": {},
     "output_type": "display_data"
    },
    {
     "data": {
      "image/png": "[encoded data removed]",
      "text/plain": [
       "<matplotlib.figure.Figure at 0x114ae0eb8>"
      ]
     },
     "metadata": {},
     "output_type": "display_data"
    }
   ],
   "source": [
    "for col in J:\n",
    "    if col != 'km':\n",
    "        plt.scatter(J.km, J[col])\n",
    "        plt.subplot()\n",
    "        plt.title(col)\n",
    "        plt.show()"
   ]
  },
  {
   "cell_type": "code",
   "execution_count": 14,
   "metadata": {},
   "outputs": [
    {
     "data": {
      "text/plain": [
       "(91, 8)"
      ]
     },
     "execution_count": 14,
     "metadata": {},
     "output_type": "execute_result"
    }
   ],
   "source": [
    "d = J.drop(['kcat', 'kcatkm'], axis=1).dropna()\n",
    "d.shape"
   ]
  },
  {
   "cell_type": "code",
   "execution_count": 15,
   "metadata": {},
   "outputs": [
    {
     "data": {
      "text/plain": [
       "((91, 7), (91,))"
      ]
     },
     "execution_count": 15,
     "metadata": {},
     "output_type": "execute_result"
    }
   ],
   "source": [
    "%matplotlib inline\n",
    "import matplotlib.pyplot as plt \n",
    "import seaborn as sns \n",
    "from sklearn import decomposition, manifold\n",
    "\n",
    "X = d.drop('km', axis=1)\n",
    "y = d.km.ravel()\n",
    "\n",
    "X.shape, y.shape "
   ]
  },
  {
   "cell_type": "code",
   "execution_count": 16,
   "metadata": {},
   "outputs": [
    {
     "data": {
      "text/plain": [
       "<matplotlib.colorbar.Colorbar at 0x1110eec18>"
      ]
     },
     "execution_count": 16,
     "metadata": {},
     "output_type": "execute_result"
    },
    {
     "data": {
      "image/png": "[encoded data removed]",
      "text/plain": [
       "<matplotlib.figure.Figure at 0x114b074e0>"
      ]
     },
     "metadata": {},
     "output_type": "display_data"
    }
   ],
   "source": [
    "tsne = manifold.TSNE()\n",
    "X_ = tsne.fit_transform(X)\n",
    "plt.scatter(*X_.T, c=y, cmap='viridis')\n",
    "plt.colorbar()"
   ]
  },
  {
   "cell_type": "code",
   "execution_count": 17,
   "metadata": {},
   "outputs": [
    {
     "data": {
      "text/plain": [
       "<matplotlib.colorbar.Colorbar at 0x111105c18>"
      ]
     },
     "execution_count": 17,
     "metadata": {},
     "output_type": "execute_result"
    },
    {
     "data": {
      "image/png": "[encoded data removed]",
      "text/plain": [
       "<matplotlib.figure.Figure at 0x1110dc6a0>"
      ]
     },
     "metadata": {},
     "output_type": "display_data"
    }
   ],
   "source": [
    "pca = decomposition.PCA(n_components=2)\n",
    "X_ = pca.fit_transform(X)\n",
    "plt.scatter(X_[:,0], X_[:,1], c=y, cmap='viridis')\n",
    "plt.colorbar()"
   ]
  },
  {
   "cell_type": "code",
   "execution_count": 18,
   "metadata": {
    "collapsed": true
   },
   "outputs": [],
   "source": [
    "# opts = dict(plot_width=600, plot_height=400, min_border=0)\n",
    "# p1 = figure(**opts)\n",
    "# r1 = p1.circle([1,2,3], [4,5,6], size=20)\n",
    "\n",
    "# p2 = figure(**opts)\n",
    "# r2 = p2.circle([1,2,3], [4,5,6], size=20)\n",
    "\n",
    "# # get a handle to update the shown cell with\n",
    "# t = show(row(p1, p2), notebook_handle=True)"
   ]
  },
  {
   "cell_type": "code",
   "execution_count": null,
   "metadata": {
    "collapsed": true
   },
   "outputs": [],
   "source": []
  },
  {
   "cell_type": "code",
   "execution_count": 19,
   "metadata": {
    "collapsed": true
   },
   "outputs": [],
   "source": [
    "tgts = 'kcat km kcatkm'.split()"
   ]
  },
  {
   "cell_type": "code",
   "execution_count": 20,
   "metadata": {},
   "outputs": [
    {
     "name": "stdout",
     "output_type": "stream",
     "text": [
      "                  kcat       abs\n",
      "fa_intra_rep -0.138975  0.138975\n",
      "fa_sol       -0.095546  0.095546\n",
      "fa_atr        0.094162  0.094162\n",
      "fa_rep       -0.061218  0.061218\n",
      "total        -0.055970  0.055970\n",
      "hbond_sc     -0.042222  0.042222\n",
      "fa_elec       0.016878  0.016878\n",
      "select a, resi f+f+f+f+t+h+f+446\n",
      "kcat (101, 7) (101,)\n",
      "                    km       abs\n",
      "fa_elec      -0.130914  0.130914\n",
      "hbond_sc      0.122086  0.122086\n",
      "fa_sol       -0.035619  0.035619\n",
      "fa_rep       -0.033002  0.033002\n",
      "total         0.026143  0.026143\n",
      "fa_atr        0.018558  0.018558\n",
      "fa_intra_rep  0.003952  0.003952\n",
      "select a, resi f+h+f+f+t+f+f+446\n",
      "km (101, 7) (101,)\n",
      "                kcatkm       abs\n",
      "fa_intra_rep -0.113015  0.113015\n",
      "hbond_sc     -0.082923  0.082923\n",
      "fa_atr        0.067013  0.067013\n",
      "fa_elec       0.066743  0.066743\n",
      "fa_sol       -0.061225  0.061225\n",
      "total        -0.054659  0.054659\n",
      "fa_rep       -0.034680  0.034680\n",
      "select a, resi f+h+f+f+f+t+f+446\n",
      "kcatkm (101, 7) (101,)\n"
     ]
    }
   ],
   "source": [
    "runs = []\n",
    "for tgt in tgts:\n",
    "    X = J.ix[:,0:-3]\n",
    "    y = J[tgt]\n",
    "    G = X.join(y).dropna()\n",
    "    \n",
    "    d = G.corr()[[tgt]]\n",
    "    d['abs'] = d[tgt].map(abs)\n",
    "    d = d.sort_values('abs', ascending=False).head(11).drop(tgt)\n",
    "    print(d)\n",
    "    \n",
    "    print('select a, resi ', end='')\n",
    "\n",
    "    for idx, ddf in d.iterrows():\n",
    "        print(idx[0],end='')\n",
    "        print('+',end='')\n",
    "    \n",
    "    print('446')\n",
    "    \n",
    "    X = G.ix[:,0:-1]\n",
    "    y = G.ix[:,-1].ravel()\n",
    "    pkg = tgt, X, y \n",
    "    runs.append(pkg)\n",
    "    print(tgt, X.shape, y.shape)"
   ]
  },
  {
   "cell_type": "code",
   "execution_count": 23,
   "metadata": {
    "scrolled": false
   },
   "outputs": [
    {
     "name": "stdout",
     "output_type": "stream",
     "text": [
      "kcat (101, 7) (101,)\n",
      "km (101, 7) (101,)\n",
      "kcatkm (101, 7) (101,)\n"
     ]
    },
    {
     "data": {
      "image/png": "[encoded data removed]",
      "text/plain": [
       "<matplotlib.figure.Figure at 0x1110d7780>"
      ]
     },
     "metadata": {},
     "output_type": "display_data"
    }
   ],
   "source": [
    "pts = []\n",
    "results = []\n",
    "for tgt, X, y in runs:\n",
    "    print(tgt, X.shape, y.shape) \n",
    "    \n",
    "    pln = pipeline.Pipeline([\n",
    "        ('scaler', preprocessing.StandardScaler()),\n",
    "        ('clf', linear_model.ElasticNetCV(cv=10, n_alphas=1000, eps=0.01, l1_ratio=[.5,.9,.99], max_iter=1e4, n_jobs=-1, normalize=True)),\n",
    "    ])\n",
    "    \n",
    "    preds = model_selection.cross_val_predict(pln, X, y, cv=10)\n",
    "    plt.scatter(y, preds)    "
   ]
  },
  {
   "cell_type": "code",
   "execution_count": 24,
   "metadata": {
    "scrolled": false
   },
   "outputs": [
    {
     "name": "stdout",
     "output_type": "stream",
     "text": [
      "kcat (101, 7) (101,)\n",
      "km (101, 7) (101,)\n",
      "kcatkm (101, 7) (101,)\n"
     ]
    },
    {
     "data": {
      "image/png": "[encoded data removed]",
      "text/plain": [
       "<matplotlib.figure.Figure at 0x10f7ea470>"
      ]
     },
     "metadata": {},
     "output_type": "display_data"
    }
   ],
   "source": [
    "pts = []\n",
    "results = []\n",
    "for tgt, X, y in runs:\n",
    "    \n",
    "    print(tgt, X.shape, y.shape) \n",
    "    \n",
    "    pln = pipeline.Pipeline([\n",
    "        ('scaler', preprocessing.StandardScaler()),\n",
    "        ('clf', linear_model.ElasticNetCV(cv=5, l1_ratio=0.9, max_iter=1e9)),\n",
    "    ])\n",
    "    \n",
    "    pln.fit(X, y)\n",
    "    preds = pln.predict(X)\n",
    "    plt.scatter(y, preds) "
   ]
  },
  {
   "cell_type": "code",
   "execution_count": 25,
   "metadata": {},
   "outputs": [
    {
     "data": {
      "text/plain": [
       "(7,)"
      ]
     },
     "execution_count": 25,
     "metadata": {},
     "output_type": "execute_result"
    }
   ],
   "source": [
    "_, en = pln.steps[1]\n",
    "en.coef_.shape"
   ]
  },
  {
   "cell_type": "code",
   "execution_count": 26,
   "metadata": {},
   "outputs": [
    {
     "data": {
      "text/plain": [
       "(0, 9)"
      ]
     },
     "execution_count": 26,
     "metadata": {},
     "output_type": "execute_result"
    },
    {
     "data": {
      "image/png": "[encoded data removed]",
      "text/plain": [
       "<matplotlib.figure.Figure at 0x1111cfef0>"
      ]
     },
     "metadata": {},
     "output_type": "display_data"
    }
   ],
   "source": [
    "plt.hist(en.coef_)\n",
    "plt.ylim(0,9)"
   ]
  },
  {
   "cell_type": "code",
   "execution_count": 27,
   "metadata": {},
   "outputs": [
    {
     "data": {
      "text/plain": [
       "[('fa_atr', 0.0),\n",
       " ('fa_rep', 0.0),\n",
       " ('fa_sol', -0.061783387604673272),\n",
       " ('fa_intra_rep', -0.19401018150117397),\n",
       " ('fa_elec', 0.16747135902344767),\n",
       " ('hbond_sc', -0.0),\n",
       " ('total', -0.0)]"
      ]
     },
     "execution_count": 27,
     "metadata": {},
     "output_type": "execute_result"
    }
   ],
   "source": [
    "list(zip(X.columns, en.coef_))"
   ]
  },
  {
   "cell_type": "code",
   "execution_count": null,
   "metadata": {
    "collapsed": true
   },
   "outputs": [],
   "source": []
  },
  {
   "cell_type": "code",
   "execution_count": null,
   "metadata": {
    "collapsed": true
   },
   "outputs": [],
   "source": []
  }
 ],
 "metadata": {
  "kernelspec": {
   "display_name": "Python [default]",
   "language": "python",
   "name": "python3"
  },
  "language_info": {
   "codemirror_mode": {
    "name": "ipython",
    "version": 3
   },
   "file_extension": ".py",
   "mimetype": "text/x-python",
   "name": "python",
   "nbconvert_exporter": "python",
   "pygments_lexer": "ipython3",
   "version": "3.6.0"
  }
 },
 "nbformat": 4,
 "nbformat_minor": 2
}
