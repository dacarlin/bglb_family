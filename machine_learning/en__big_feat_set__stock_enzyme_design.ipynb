{
 "cells": [
  {
   "cell_type": "markdown",
   "metadata": {},
   "source": [
    "## Machine learning analysis 8,959 potentially-informative features derived from molecular modeling* for thier use in prediciting experimental $k_{cat}$, $K_M$, and $k_{cat}/K_M$\n",
    "\n",
    "### *stock enzyme design protocol\n",
    "\n",
    "We are interested in using machine learning tools to predict enzyme function from protein structure. In order to put this in machine learning tools, we need to identify informative features from the molecular modeling feature set $F$. "
   ]
  },
  {
   "cell_type": "code",
   "execution_count": 1,
   "metadata": {
    "collapsed": true
   },
   "outputs": [],
   "source": [
    "%matplotlib inline\n",
    "import matplotlib.pyplot as plt \n",
    "import seaborn as sns "
   ]
  },
  {
   "cell_type": "code",
   "execution_count": 2,
   "metadata": {
    "collapsed": true
   },
   "outputs": [],
   "source": [
    "from sklearn import preprocessing, linear_model, ensemble, feature_selection, model_selection, pipeline "
   ]
  },
  {
   "cell_type": "code",
   "execution_count": 3,
   "metadata": {},
   "outputs": [
    {
     "data": {
      "text/html": [
       "\n",
       "    <div class=\"bk-root\">\n",
       "        <a href=\"http://bokeh.pydata.org\" target=\"_blank\" class=\"bk-logo bk-logo-small bk-logo-notebook\"></a>\n",
       "        <span id=\"75153155-237a-4022-9ee9-46f4ffb4aa9f\">Loading BokehJS ...</span>\n",
       "    </div>"
      ]
     },
     "metadata": {},
     "output_type": "display_data"
    },
    {
     "data": {
      "application/javascript": [
       "\n",
       "(function(global) {\n",
       "  function now() {\n",
       "    return new Date();\n",
       "  }\n",
       "\n",
       "  var force = true;\n",
       "\n",
       "  if (typeof (window._bokeh_onload_callbacks) === \"undefined\" || force === true) {\n",
       "    window._bokeh_onload_callbacks = [];\n",
       "    window._bokeh_is_loading = undefined;\n",
       "  }\n",
       "\n",
       "\n",
       "  \n",
       "  if (typeof (window._bokeh_timeout) === \"undefined\" || force === true) {\n",
       "    window._bokeh_timeout = Date.now() + 5000;\n",
       "    window._bokeh_failed_load = false;\n",
       "  }\n",
       "\n",
       "  var NB_LOAD_WARNING = {'data': {'text/html':\n",
       "     \"<div style='background-color: #fdd'>\\n\"+\n",
       "     \"<p>\\n\"+\n",
       "     \"BokehJS does not appear to have successfully loaded. If loading BokehJS from CDN, this \\n\"+\n",
       "     \"may be due to a slow or bad network connection. Possible fixes:\\n\"+\n",
       "     \"</p>\\n\"+\n",
       "     \"<ul>\\n\"+\n",
       "     \"<li>re-rerun `output_notebook()` to attempt to load from CDN again, or</li>\\n\"+\n",
       "     \"<li>use INLINE resources instead, as so:</li>\\n\"+\n",
       "     \"</ul>\\n\"+\n",
       "     \"<code>\\n\"+\n",
       "     \"from bokeh.resources import INLINE\\n\"+\n",
       "     \"output_notebook(resources=INLINE)\\n\"+\n",
       "     \"</code>\\n\"+\n",
       "     \"</div>\"}};\n",
       "\n",
       "  function display_loaded() {\n",
       "    if (window.Bokeh !== undefined) {\n",
       "      document.getElementById(\"75153155-237a-4022-9ee9-46f4ffb4aa9f\").textContent = \"BokehJS successfully loaded.\";\n",
       "    } else if (Date.now() < window._bokeh_timeout) {\n",
       "      setTimeout(display_loaded, 100)\n",
       "    }\n",
       "  }\n",
       "\n",
       "  function run_callbacks() {\n",
       "    window._bokeh_onload_callbacks.forEach(function(callback) { callback() });\n",
       "    delete window._bokeh_onload_callbacks\n",
       "    console.info(\"Bokeh: all callbacks have finished\");\n",
       "  }\n",
       "\n",
       "  function load_libs(js_urls, callback) {\n",
       "    window._bokeh_onload_callbacks.push(callback);\n",
       "    if (window._bokeh_is_loading > 0) {\n",
       "      console.log(\"Bokeh: BokehJS is being loaded, scheduling callback at\", now());\n",
       "      return null;\n",
       "    }\n",
       "    if (js_urls == null || js_urls.length === 0) {\n",
       "      run_callbacks();\n",
       "      return null;\n",
       "    }\n",
       "    console.log(\"Bokeh: BokehJS not loaded, scheduling load and callback at\", now());\n",
       "    window._bokeh_is_loading = js_urls.length;\n",
       "    for (var i = 0; i < js_urls.length; i++) {\n",
       "      var url = js_urls[i];\n",
       "      var s = document.createElement('script');\n",
       "      s.src = url;\n",
       "      s.async = false;\n",
       "      s.onreadystatechange = s.onload = function() {\n",
       "        window._bokeh_is_loading--;\n",
       "        if (window._bokeh_is_loading === 0) {\n",
       "          console.log(\"Bokeh: all BokehJS libraries loaded\");\n",
       "          run_callbacks()\n",
       "        }\n",
       "      };\n",
       "      s.onerror = function() {\n",
       "        console.warn(\"failed to load library \" + url);\n",
       "      };\n",
       "      console.log(\"Bokeh: injecting script tag for BokehJS library: \", url);\n",
       "      document.getElementsByTagName(\"head\")[0].appendChild(s);\n",
       "    }\n",
       "  };var element = document.getElementById(\"75153155-237a-4022-9ee9-46f4ffb4aa9f\");\n",
       "  if (element == null) {\n",
       "    console.log(\"Bokeh: ERROR: autoload.js configured with elementid '75153155-237a-4022-9ee9-46f4ffb4aa9f' but no matching script tag was found. \")\n",
       "    return false;\n",
       "  }\n",
       "\n",
       "  var js_urls = [\"https://cdn.pydata.org/bokeh/release/bokeh-0.12.4.min.js\", \"https://cdn.pydata.org/bokeh/release/bokeh-widgets-0.12.4.min.js\"];\n",
       "\n",
       "  var inline_js = [\n",
       "    function(Bokeh) {\n",
       "      Bokeh.set_log_level(\"info\");\n",
       "    },\n",
       "    \n",
       "    function(Bokeh) {\n",
       "      \n",
       "      document.getElementById(\"75153155-237a-4022-9ee9-46f4ffb4aa9f\").textContent = \"BokehJS is loading...\";\n",
       "    },\n",
       "    function(Bokeh) {\n",
       "      console.log(\"Bokeh: injecting CSS: https://cdn.pydata.org/bokeh/release/bokeh-0.12.4.min.css\");\n",
       "      Bokeh.embed.inject_css(\"https://cdn.pydata.org/bokeh/release/bokeh-0.12.4.min.css\");\n",
       "      console.log(\"Bokeh: injecting CSS: https://cdn.pydata.org/bokeh/release/bokeh-widgets-0.12.4.min.css\");\n",
       "      Bokeh.embed.inject_css(\"https://cdn.pydata.org/bokeh/release/bokeh-widgets-0.12.4.min.css\");\n",
       "    }\n",
       "  ];\n",
       "\n",
       "  function run_inline_js() {\n",
       "    \n",
       "    if ((window.Bokeh !== undefined) || (force === true)) {\n",
       "      for (var i = 0; i < inline_js.length; i++) {\n",
       "        inline_js[i](window.Bokeh);\n",
       "      }if (force === true) {\n",
       "        display_loaded();\n",
       "      }} else if (Date.now() < window._bokeh_timeout) {\n",
       "      setTimeout(run_inline_js, 100);\n",
       "    } else if (!window._bokeh_failed_load) {\n",
       "      console.log(\"Bokeh: BokehJS failed to load within specified timeout.\");\n",
       "      window._bokeh_failed_load = true;\n",
       "    } else if (force !== true) {\n",
       "      var cell = $(document.getElementById(\"75153155-237a-4022-9ee9-46f4ffb4aa9f\")).parents('.cell').data().cell;\n",
       "      cell.output_area.append_execute_result(NB_LOAD_WARNING)\n",
       "    }\n",
       "\n",
       "  }\n",
       "\n",
       "  if (window._bokeh_is_loading === 0) {\n",
       "    console.log(\"Bokeh: BokehJS loaded, going straight to plotting\");\n",
       "    run_inline_js();\n",
       "  } else {\n",
       "    load_libs(js_urls, function() {\n",
       "      console.log(\"Bokeh: BokehJS plotting callback run at\", now());\n",
       "      run_inline_js();\n",
       "    });\n",
       "  }\n",
       "}(this));"
      ]
     },
     "metadata": {},
     "output_type": "display_data"
    }
   ],
   "source": [
    "import pandas \n",
    "from bokeh.io import push_notebook, show, output_notebook\n",
    "from bokeh.layouts import row, column\n",
    "from bokeh.plotting import figure\n",
    "output_notebook()"
   ]
  },
  {
   "cell_type": "code",
   "execution_count": 4,
   "metadata": {},
   "outputs": [
    {
     "name": "stdout",
     "output_type": "stream",
     "text": [
      "/Users/alex/Documents/bglb_family/machine_learning\r\n"
     ]
    }
   ],
   "source": [
    "! pwd"
   ]
  },
  {
   "cell_type": "markdown",
   "metadata": {},
   "source": [
    "## Features! "
   ]
  },
  {
   "cell_type": "code",
   "execution_count": 5,
   "metadata": {},
   "outputs": [
    {
     "name": "stdout",
     "output_type": "stream",
     "text": [
      "/home/carlin/.bashrc: line 3: bind: warning: line editing not enabled\n",
      "receiving file list ... done\n",
      "\n",
      "sent 16 bytes  received 88 bytes  29.71 bytes/sec\n",
      "total size is 14344384  speedup is 137926.77\n"
     ]
    }
   ],
   "source": [
    "! rsync -avz ca:/share/work/alex/stock_enzyme_design_protocol/data.h5 data2.h5 "
   ]
  },
  {
   "cell_type": "code",
   "execution_count": 6,
   "metadata": {},
   "outputs": [
    {
     "data": {
      "text/html": [
       "<div>\n",
       "<table border=\"1\" class=\"dataframe\">\n",
       "  <thead>\n",
       "    <tr>\n",
       "      <th></th>\n",
       "      <th colspan=\"10\" halign=\"left\">0</th>\n",
       "      <th>...</th>\n",
       "      <th colspan=\"10\" halign=\"left\">447</th>\n",
       "    </tr>\n",
       "    <tr>\n",
       "      <th></th>\n",
       "      <th>label</th>\n",
       "      <th>fa_atr</th>\n",
       "      <th>fa_rep</th>\n",
       "      <th>fa_sol</th>\n",
       "      <th>fa_intra_rep</th>\n",
       "      <th>fa_elec</th>\n",
       "      <th>pro_close</th>\n",
       "      <th>hbond_sr_bb</th>\n",
       "      <th>hbond_lr_bb</th>\n",
       "      <th>hbond_bb_sc</th>\n",
       "      <th>...</th>\n",
       "      <th>hbond_sc</th>\n",
       "      <th>dslf_fa13</th>\n",
       "      <th>rama</th>\n",
       "      <th>omega</th>\n",
       "      <th>fa_dun</th>\n",
       "      <th>p_aa_pp</th>\n",
       "      <th>yhh_planarity</th>\n",
       "      <th>ref</th>\n",
       "      <th>total</th>\n",
       "      <th>sequence_position</th>\n",
       "    </tr>\n",
       "  </thead>\n",
       "  <tbody>\n",
       "    <tr>\n",
       "      <th>A192S</th>\n",
       "      <td>weights</td>\n",
       "      <td>1.0</td>\n",
       "      <td>0.55</td>\n",
       "      <td>0.9375</td>\n",
       "      <td>0.005</td>\n",
       "      <td>0.875</td>\n",
       "      <td>1.25</td>\n",
       "      <td>1.17</td>\n",
       "      <td>1.17</td>\n",
       "      <td>1.17</td>\n",
       "      <td>...</td>\n",
       "      <td>-3.03171</td>\n",
       "      <td>0.0</td>\n",
       "      <td>0.0</td>\n",
       "      <td>0.0</td>\n",
       "      <td>0.0</td>\n",
       "      <td>0.0</td>\n",
       "      <td>0.0</td>\n",
       "      <td>0.0</td>\n",
       "      <td>-3.89029</td>\n",
       "      <td>446</td>\n",
       "    </tr>\n",
       "    <tr>\n",
       "      <th>A306N</th>\n",
       "      <td>weights</td>\n",
       "      <td>1.0</td>\n",
       "      <td>0.55</td>\n",
       "      <td>0.9375</td>\n",
       "      <td>0.005</td>\n",
       "      <td>0.875</td>\n",
       "      <td>1.25</td>\n",
       "      <td>1.17</td>\n",
       "      <td>1.17</td>\n",
       "      <td>1.17</td>\n",
       "      <td>...</td>\n",
       "      <td>-3.18737</td>\n",
       "      <td>0.0</td>\n",
       "      <td>0.0</td>\n",
       "      <td>0.0</td>\n",
       "      <td>0.0</td>\n",
       "      <td>0.0</td>\n",
       "      <td>0.0</td>\n",
       "      <td>0.0</td>\n",
       "      <td>-4.42077</td>\n",
       "      <td>446</td>\n",
       "    </tr>\n",
       "    <tr>\n",
       "      <th>A356A</th>\n",
       "      <td>weights</td>\n",
       "      <td>1.0</td>\n",
       "      <td>0.55</td>\n",
       "      <td>0.9375</td>\n",
       "      <td>0.005</td>\n",
       "      <td>0.875</td>\n",
       "      <td>1.25</td>\n",
       "      <td>1.17</td>\n",
       "      <td>1.17</td>\n",
       "      <td>1.17</td>\n",
       "      <td>...</td>\n",
       "      <td>-3.35449</td>\n",
       "      <td>0.0</td>\n",
       "      <td>0.0</td>\n",
       "      <td>0.0</td>\n",
       "      <td>0.0</td>\n",
       "      <td>0.0</td>\n",
       "      <td>0.0</td>\n",
       "      <td>0.0</td>\n",
       "      <td>-4.26879</td>\n",
       "      <td>446</td>\n",
       "    </tr>\n",
       "    <tr>\n",
       "      <th>A357A</th>\n",
       "      <td>weights</td>\n",
       "      <td>1.0</td>\n",
       "      <td>0.55</td>\n",
       "      <td>0.9375</td>\n",
       "      <td>0.005</td>\n",
       "      <td>0.875</td>\n",
       "      <td>1.25</td>\n",
       "      <td>1.17</td>\n",
       "      <td>1.17</td>\n",
       "      <td>1.17</td>\n",
       "      <td>...</td>\n",
       "      <td>-3.33426</td>\n",
       "      <td>0.0</td>\n",
       "      <td>0.0</td>\n",
       "      <td>0.0</td>\n",
       "      <td>0.0</td>\n",
       "      <td>0.0</td>\n",
       "      <td>0.0</td>\n",
       "      <td>0.0</td>\n",
       "      <td>-4.19985</td>\n",
       "      <td>446</td>\n",
       "    </tr>\n",
       "    <tr>\n",
       "      <th>E177K</th>\n",
       "      <td>weights</td>\n",
       "      <td>1.0</td>\n",
       "      <td>0.55</td>\n",
       "      <td>0.9375</td>\n",
       "      <td>0.005</td>\n",
       "      <td>0.875</td>\n",
       "      <td>1.25</td>\n",
       "      <td>1.17</td>\n",
       "      <td>1.17</td>\n",
       "      <td>1.17</td>\n",
       "      <td>...</td>\n",
       "      <td>-3.36620</td>\n",
       "      <td>0.0</td>\n",
       "      <td>0.0</td>\n",
       "      <td>0.0</td>\n",
       "      <td>0.0</td>\n",
       "      <td>0.0</td>\n",
       "      <td>0.0</td>\n",
       "      <td>0.0</td>\n",
       "      <td>-4.37823</td>\n",
       "      <td>446</td>\n",
       "    </tr>\n",
       "  </tbody>\n",
       "</table>\n",
       "<p>5 rows × 8959 columns</p>\n",
       "</div>"
      ],
      "text/plain": [
       "           0                                                         \\\n",
       "         label fa_atr fa_rep  fa_sol fa_intra_rep fa_elec pro_close   \n",
       "A192S  weights    1.0   0.55  0.9375        0.005   0.875      1.25   \n",
       "A306N  weights    1.0   0.55  0.9375        0.005   0.875      1.25   \n",
       "A356A  weights    1.0   0.55  0.9375        0.005   0.875      1.25   \n",
       "A357A  weights    1.0   0.55  0.9375        0.005   0.875      1.25   \n",
       "E177K  weights    1.0   0.55  0.9375        0.005   0.875      1.25   \n",
       "\n",
       "                                                 ...             447  \\\n",
       "      hbond_sr_bb hbond_lr_bb hbond_bb_sc        ...        hbond_sc   \n",
       "A192S        1.17        1.17        1.17        ...        -3.03171   \n",
       "A306N        1.17        1.17        1.17        ...        -3.18737   \n",
       "A356A        1.17        1.17        1.17        ...        -3.35449   \n",
       "A357A        1.17        1.17        1.17        ...        -3.33426   \n",
       "E177K        1.17        1.17        1.17        ...        -3.36620   \n",
       "\n",
       "                                                                       \\\n",
       "      dslf_fa13 rama omega fa_dun p_aa_pp yhh_planarity  ref    total   \n",
       "A192S       0.0  0.0   0.0    0.0     0.0           0.0  0.0 -3.89029   \n",
       "A306N       0.0  0.0   0.0    0.0     0.0           0.0  0.0 -4.42077   \n",
       "A356A       0.0  0.0   0.0    0.0     0.0           0.0  0.0 -4.26879   \n",
       "A357A       0.0  0.0   0.0    0.0     0.0           0.0  0.0 -4.19985   \n",
       "E177K       0.0  0.0   0.0    0.0     0.0           0.0  0.0 -4.37823   \n",
       "\n",
       "                         \n",
       "      sequence_position  \n",
       "A192S               446  \n",
       "A306N               446  \n",
       "A356A               446  \n",
       "A357A               446  \n",
       "E177K               446  \n",
       "\n",
       "[5 rows x 8959 columns]"
      ]
     },
     "execution_count": 6,
     "metadata": {},
     "output_type": "execute_result"
    }
   ],
   "source": [
    "feat = pandas.read_hdf('data2.h5')\n",
    "feat.head()"
   ]
  },
  {
   "cell_type": "code",
   "execution_count": 7,
   "metadata": {},
   "outputs": [
    {
     "data": {
      "text/plain": [
       "(182, 8959)"
      ]
     },
     "execution_count": 7,
     "metadata": {},
     "output_type": "execute_result"
    }
   ],
   "source": [
    "feat.shape"
   ]
  },
  {
   "cell_type": "markdown",
   "metadata": {},
   "source": [
    "Before we get in to the targets, let's get rid of as many of these features as we can. Having 12,991 features for only 200 samples is not great!\n",
    "\n",
    "First, let's get rid of string features, since they are likely labels. Easiest way to do this is to get all the features that are float64. "
   ]
  },
  {
   "cell_type": "code",
   "execution_count": 8,
   "metadata": {},
   "outputs": [
    {
     "data": {
      "text/plain": [
       "(182, 8063)"
      ]
     },
     "execution_count": 8,
     "metadata": {},
     "output_type": "execute_result"
    }
   ],
   "source": [
    "feat = feat.select_dtypes(['float64'])\n",
    "feat.shape"
   ]
  },
  {
   "cell_type": "markdown",
   "metadata": {},
   "source": [
    "And, let's get rid of features with 0 variance. "
   ]
  },
  {
   "cell_type": "code",
   "execution_count": 9,
   "metadata": {},
   "outputs": [
    {
     "data": {
      "text/plain": [
       "(182, 5023)"
      ]
     },
     "execution_count": 9,
     "metadata": {},
     "output_type": "execute_result"
    }
   ],
   "source": [
    "zero_variance_features = []\n",
    "for col in feat.columns:\n",
    "    if feat[col].std() == 0.0:\n",
    "        zero_variance_features.append(col)\n",
    "feat = feat.drop(zero_variance_features, axis=1)\n",
    "feat.shape"
   ]
  },
  {
   "cell_type": "markdown",
   "metadata": {},
   "source": [
    "Ooooh, that is good, we get rid of another 3,694 useless features this way! \n",
    "\n",
    "Now that we have a \"reasonable\" set of features. Let's try looking at the targets. "
   ]
  },
  {
   "cell_type": "code",
   "execution_count": 10,
   "metadata": {},
   "outputs": [
    {
     "data": {
      "text/plain": [
       "(182, 7)"
      ]
     },
     "execution_count": 10,
     "metadata": {},
     "output_type": "execute_result"
    }
   ],
   "source": [
    "# ligand only features! \n",
    "feat = feat[447]\n",
    "feat.shape"
   ]
  },
  {
   "cell_type": "markdown",
   "metadata": {},
   "source": [
    "## Machine learning targets! "
   ]
  },
  {
   "cell_type": "code",
   "execution_count": 11,
   "metadata": {},
   "outputs": [
    {
     "data": {
      "text/html": [
       "<div>\n",
       "<table border=\"1\" class=\"dataframe\">\n",
       "  <thead>\n",
       "    <tr style=\"text-align: right;\">\n",
       "      <th></th>\n",
       "      <th>kcat</th>\n",
       "      <th>km</th>\n",
       "      <th>kcatkm</th>\n",
       "    </tr>\n",
       "    <tr>\n",
       "      <th>mutant_name</th>\n",
       "      <th></th>\n",
       "      <th></th>\n",
       "      <th></th>\n",
       "    </tr>\n",
       "  </thead>\n",
       "  <tbody>\n",
       "    <tr>\n",
       "      <th>S14A</th>\n",
       "      <td>2.505150</td>\n",
       "      <td>0.916454</td>\n",
       "      <td>4.589089</td>\n",
       "    </tr>\n",
       "    <tr>\n",
       "      <th>T15A</th>\n",
       "      <td>2.788168</td>\n",
       "      <td>0.724276</td>\n",
       "      <td>5.063892</td>\n",
       "    </tr>\n",
       "    <tr>\n",
       "      <th>S16A</th>\n",
       "      <td>2.187521</td>\n",
       "      <td>1.146438</td>\n",
       "      <td>4.041274</td>\n",
       "    </tr>\n",
       "    <tr>\n",
       "      <th>S17A</th>\n",
       "      <td>2.928396</td>\n",
       "      <td>1.265996</td>\n",
       "      <td>4.662550</td>\n",
       "    </tr>\n",
       "    <tr>\n",
       "      <th>S17E</th>\n",
       "      <td>2.806858</td>\n",
       "      <td>0.864511</td>\n",
       "      <td>4.942484</td>\n",
       "    </tr>\n",
       "  </tbody>\n",
       "</table>\n",
       "</div>"
      ],
      "text/plain": [
       "                 kcat        km    kcatkm\n",
       "mutant_name                              \n",
       "S14A         2.505150  0.916454  4.589089\n",
       "T15A         2.788168  0.724276  5.063892\n",
       "S16A         2.187521  1.146438  4.041274\n",
       "S17A         2.928396  1.265996  4.662550\n",
       "S17E         2.806858  0.864511  4.942484"
      ]
     },
     "execution_count": 11,
     "metadata": {},
     "output_type": "execute_result"
    }
   ],
   "source": [
    "targets = pandas.read_csv('/Users/alex/Documents/bglb_data_set/bglb_targets.csv', index_col=0)\n",
    "\n",
    "# remove a funky data point \n",
    "targets = targets.drop('F415A', axis=0)\n",
    "\n",
    "targets.head()"
   ]
  },
  {
   "cell_type": "code",
   "execution_count": 12,
   "metadata": {},
   "outputs": [
    {
     "data": {
      "text/plain": [
       "(110, 3)"
      ]
     },
     "execution_count": 12,
     "metadata": {},
     "output_type": "execute_result"
    }
   ],
   "source": [
    "targets.shape"
   ]
  },
  {
   "cell_type": "markdown",
   "metadata": {},
   "source": [
    "Now, let's see if we can join these and get something out "
   ]
  },
  {
   "cell_type": "code",
   "execution_count": 13,
   "metadata": {},
   "outputs": [
    {
     "data": {
      "text/html": [
       "<div>\n",
       "<table border=\"1\" class=\"dataframe\">\n",
       "  <thead>\n",
       "    <tr style=\"text-align: right;\">\n",
       "      <th></th>\n",
       "      <th>fa_atr</th>\n",
       "      <th>fa_rep</th>\n",
       "      <th>fa_sol</th>\n",
       "      <th>fa_intra_rep</th>\n",
       "      <th>fa_elec</th>\n",
       "      <th>hbond_sc</th>\n",
       "      <th>total</th>\n",
       "      <th>kcat</th>\n",
       "      <th>km</th>\n",
       "      <th>kcatkm</th>\n",
       "    </tr>\n",
       "  </thead>\n",
       "  <tbody>\n",
       "    <tr>\n",
       "      <th>A192S</th>\n",
       "      <td>-11.8267</td>\n",
       "      <td>1.33128</td>\n",
       "      <td>13.3406</td>\n",
       "      <td>0.03927</td>\n",
       "      <td>-3.74311</td>\n",
       "      <td>-3.03171</td>\n",
       "      <td>-3.89029</td>\n",
       "      <td>2.975891</td>\n",
       "      <td>0.706718</td>\n",
       "      <td>5.269158</td>\n",
       "    </tr>\n",
       "    <tr>\n",
       "      <th>A306N</th>\n",
       "      <td>-11.8133</td>\n",
       "      <td>1.23626</td>\n",
       "      <td>13.2531</td>\n",
       "      <td>0.03910</td>\n",
       "      <td>-3.94859</td>\n",
       "      <td>-3.18737</td>\n",
       "      <td>-4.42077</td>\n",
       "      <td>NaN</td>\n",
       "      <td>NaN</td>\n",
       "      <td>NaN</td>\n",
       "    </tr>\n",
       "    <tr>\n",
       "      <th>A356A</th>\n",
       "      <td>-11.8475</td>\n",
       "      <td>1.33786</td>\n",
       "      <td>13.2661</td>\n",
       "      <td>0.03930</td>\n",
       "      <td>-3.71004</td>\n",
       "      <td>-3.35449</td>\n",
       "      <td>-4.26879</td>\n",
       "      <td>NaN</td>\n",
       "      <td>NaN</td>\n",
       "      <td>NaN</td>\n",
       "    </tr>\n",
       "    <tr>\n",
       "      <th>A357A</th>\n",
       "      <td>-11.8786</td>\n",
       "      <td>1.39338</td>\n",
       "      <td>13.2893</td>\n",
       "      <td>0.03931</td>\n",
       "      <td>-3.70902</td>\n",
       "      <td>-3.33426</td>\n",
       "      <td>-4.19985</td>\n",
       "      <td>NaN</td>\n",
       "      <td>NaN</td>\n",
       "      <td>NaN</td>\n",
       "    </tr>\n",
       "    <tr>\n",
       "      <th>E177K</th>\n",
       "      <td>-11.8111</td>\n",
       "      <td>1.34083</td>\n",
       "      <td>13.2388</td>\n",
       "      <td>0.03913</td>\n",
       "      <td>-3.81969</td>\n",
       "      <td>-3.36620</td>\n",
       "      <td>-4.37823</td>\n",
       "      <td>2.744293</td>\n",
       "      <td>0.791691</td>\n",
       "      <td>4.952352</td>\n",
       "    </tr>\n",
       "  </tbody>\n",
       "</table>\n",
       "</div>"
      ],
      "text/plain": [
       "        fa_atr   fa_rep   fa_sol  fa_intra_rep  fa_elec  hbond_sc    total  \\\n",
       "A192S -11.8267  1.33128  13.3406       0.03927 -3.74311  -3.03171 -3.89029   \n",
       "A306N -11.8133  1.23626  13.2531       0.03910 -3.94859  -3.18737 -4.42077   \n",
       "A356A -11.8475  1.33786  13.2661       0.03930 -3.71004  -3.35449 -4.26879   \n",
       "A357A -11.8786  1.39338  13.2893       0.03931 -3.70902  -3.33426 -4.19985   \n",
       "E177K -11.8111  1.34083  13.2388       0.03913 -3.81969  -3.36620 -4.37823   \n",
       "\n",
       "           kcat        km    kcatkm  \n",
       "A192S  2.975891  0.706718  5.269158  \n",
       "A306N       NaN       NaN       NaN  \n",
       "A356A       NaN       NaN       NaN  \n",
       "A357A       NaN       NaN       NaN  \n",
       "E177K  2.744293  0.791691  4.952352  "
      ]
     },
     "execution_count": 13,
     "metadata": {},
     "output_type": "execute_result"
    }
   ],
   "source": [
    "J = feat.join(targets)\n",
    "J.head()"
   ]
  },
  {
   "cell_type": "markdown",
   "metadata": {},
   "source": [
    "OK, that'll work! Now, let's make a nice dict where we can do each of kcat, km, and kcat/KM at the same time! "
   ]
  },
  {
   "cell_type": "code",
   "execution_count": 14,
   "metadata": {},
   "outputs": [
    {
     "data": {
      "text/html": [
       "<div>\n",
       "<table border=\"1\" class=\"dataframe\">\n",
       "  <thead>\n",
       "    <tr style=\"text-align: right;\">\n",
       "      <th></th>\n",
       "      <th>fa_atr</th>\n",
       "      <th>fa_rep</th>\n",
       "      <th>fa_sol</th>\n",
       "      <th>fa_intra_rep</th>\n",
       "      <th>fa_elec</th>\n",
       "      <th>hbond_sc</th>\n",
       "      <th>total</th>\n",
       "      <th>kcat</th>\n",
       "      <th>km</th>\n",
       "      <th>kcatkm</th>\n",
       "    </tr>\n",
       "  </thead>\n",
       "  <tbody>\n",
       "    <tr>\n",
       "      <th>F415A</th>\n",
       "      <td>-11.0202</td>\n",
       "      <td>1.20163</td>\n",
       "      <td>12.0939</td>\n",
       "      <td>0.05087</td>\n",
       "      <td>-3.40713</td>\n",
       "      <td>-3.12900</td>\n",
       "      <td>-4.20988</td>\n",
       "      <td>NaN</td>\n",
       "      <td>NaN</td>\n",
       "      <td>NaN</td>\n",
       "    </tr>\n",
       "    <tr>\n",
       "      <th>H119E</th>\n",
       "      <td>-11.1390</td>\n",
       "      <td>1.30614</td>\n",
       "      <td>12.2895</td>\n",
       "      <td>0.05183</td>\n",
       "      <td>-3.50564</td>\n",
       "      <td>-3.21921</td>\n",
       "      <td>-4.21645</td>\n",
       "      <td>NaN</td>\n",
       "      <td>NaN</td>\n",
       "      <td>NaN</td>\n",
       "    </tr>\n",
       "  </tbody>\n",
       "</table>\n",
       "</div>"
      ],
      "text/plain": [
       "        fa_atr   fa_rep   fa_sol  fa_intra_rep  fa_elec  hbond_sc    total  \\\n",
       "F415A -11.0202  1.20163  12.0939       0.05087 -3.40713  -3.12900 -4.20988   \n",
       "H119E -11.1390  1.30614  12.2895       0.05183 -3.50564  -3.21921 -4.21645   \n",
       "\n",
       "       kcat  km  kcatkm  \n",
       "F415A   NaN NaN     NaN  \n",
       "H119E   NaN NaN     NaN  "
      ]
     },
     "execution_count": 14,
     "metadata": {},
     "output_type": "execute_result"
    }
   ],
   "source": [
    "J.query('fa_sol<12.6')"
   ]
  },
  {
   "cell_type": "code",
   "execution_count": 15,
   "metadata": {
    "scrolled": false
   },
   "outputs": [
    {
     "data": {
      "image/png": "[encoded data removed]",
      "text/plain": [
       "<matplotlib.figure.Figure at 0x10297c780>"
      ]
     },
     "metadata": {},
     "output_type": "display_data"
    },
    {
     "data": {
      "image/png": "[encoded data removed]",
      "text/plain": [
       "<matplotlib.figure.Figure at 0x10fb53cf8>"
      ]
     },
     "metadata": {},
     "output_type": "display_data"
    },
    {
     "data": {
      "image/png": "[encoded data removed]",
      "text/plain": [
       "<matplotlib.figure.Figure at 0x10fbcbef0>"
      ]
     },
     "metadata": {},
     "output_type": "display_data"
    },
    {
     "data": {
      "image/png": "[encoded data removed]",
      "text/plain": [
       "<matplotlib.figure.Figure at 0x10fc1b780>"
      ]
     },
     "metadata": {},
     "output_type": "display_data"
    },
    {
     "data": {
      "image/png": "[encoded data removed]",
      "text/plain": [
       "<matplotlib.figure.Figure at 0x10fbd1860>"
      ]
     },
     "metadata": {},
     "output_type": "display_data"
    },
    {
     "data": {
      "image/png": "[encoded data removed]",
      "text/plain": [
       "<matplotlib.figure.Figure at 0x111034cc0>"
      ]
     },
     "metadata": {},
     "output_type": "display_data"
    },
    {
     "data": {
      "image/png": "[encoded data removed]",
      "text/plain": [
       "<matplotlib.figure.Figure at 0x110f3eba8>"
      ]
     },
     "metadata": {},
     "output_type": "display_data"
    },
    {
     "data": {
      "image/png": "[encoded data removed]",
      "text/plain": [
       "<matplotlib.figure.Figure at 0x110daeb38>"
      ]
     },
     "metadata": {},
     "output_type": "display_data"
    },
    {
     "data": {
      "image/png": "[encoded data removed]",
      "text/plain": [
       "<matplotlib.figure.Figure at 0x11489e518>"
      ]
     },
     "metadata": {},
     "output_type": "display_data"
    }
   ],
   "source": [
    "for col in J:\n",
    "    if col != 'km':\n",
    "        plt.scatter(J.km, J[col])\n",
    "        plt.subplot()\n",
    "        plt.title(col)\n",
    "        plt.show()"
   ]
  },
  {
   "cell_type": "code",
   "execution_count": 16,
   "metadata": {},
   "outputs": [
    {
     "data": {
      "text/plain": [
       "(91, 8)"
      ]
     },
     "execution_count": 16,
     "metadata": {},
     "output_type": "execute_result"
    }
   ],
   "source": [
    "d = J.drop(['kcat', 'kcatkm'], axis=1).dropna()\n",
    "d.shape"
   ]
  },
  {
   "cell_type": "code",
   "execution_count": 17,
   "metadata": {},
   "outputs": [
    {
     "data": {
      "text/plain": [
       "((91, 7), (91,))"
      ]
     },
     "execution_count": 17,
     "metadata": {},
     "output_type": "execute_result"
    }
   ],
   "source": [
    "%matplotlib inline\n",
    "import matplotlib.pyplot as plt \n",
    "import seaborn as sns \n",
    "from sklearn import decomposition, manifold\n",
    "\n",
    "X = d.drop('km', axis=1)\n",
    "y = d.km.ravel()\n",
    "\n",
    "X.shape, y.shape "
   ]
  },
  {
   "cell_type": "code",
   "execution_count": 18,
   "metadata": {},
   "outputs": [
    {
     "data": {
      "text/plain": [
       "<matplotlib.colorbar.Colorbar at 0x10fb75828>"
      ]
     },
     "execution_count": 18,
     "metadata": {},
     "output_type": "execute_result"
    },
    {
     "data": {
      "image/png": "[encoded data removed]",
      "text/plain": [
       "<matplotlib.figure.Figure at 0x10dad24a8>"
      ]
     },
     "metadata": {},
     "output_type": "display_data"
    }
   ],
   "source": [
    "tsne = manifold.TSNE()\n",
    "X_ = tsne.fit_transform(X)\n",
    "plt.scatter(*X_.T, c=y, cmap='viridis')\n",
    "plt.colorbar()"
   ]
  },
  {
   "cell_type": "code",
   "execution_count": 19,
   "metadata": {},
   "outputs": [
    {
     "data": {
      "text/plain": [
       "<matplotlib.colorbar.Colorbar at 0x114989e10>"
      ]
     },
     "execution_count": 19,
     "metadata": {},
     "output_type": "execute_result"
    },
    {
     "data": {
      "image/png": "[encoded data removed]",
      "text/plain": [
       "<matplotlib.figure.Figure at 0x110f55978>"
      ]
     },
     "metadata": {},
     "output_type": "display_data"
    }
   ],
   "source": [
    "pca = decomposition.PCA(n_components=2)\n",
    "X_ = pca.fit_transform(X)\n",
    "plt.scatter(X_[:,0], X_[:,1], c=y, cmap='viridis')\n",
    "plt.colorbar()"
   ]
  },
  {
   "cell_type": "code",
   "execution_count": 20,
   "metadata": {
    "collapsed": true
   },
   "outputs": [],
   "source": [
    "# opts = dict(plot_width=600, plot_height=400, min_border=0)\n",
    "# p1 = figure(**opts)\n",
    "# r1 = p1.circle([1,2,3], [4,5,6], size=20)\n",
    "\n",
    "# p2 = figure(**opts)\n",
    "# r2 = p2.circle([1,2,3], [4,5,6], size=20)\n",
    "\n",
    "# # get a handle to update the shown cell with\n",
    "# t = show(row(p1, p2), notebook_handle=True)"
   ]
  },
  {
   "cell_type": "code",
   "execution_count": null,
   "metadata": {
    "collapsed": true
   },
   "outputs": [],
   "source": []
  },
  {
   "cell_type": "code",
   "execution_count": 21,
   "metadata": {
    "collapsed": true
   },
   "outputs": [],
   "source": [
    "tgts = 'kcat km kcatkm'.split()"
   ]
  },
  {
   "cell_type": "code",
   "execution_count": 22,
   "metadata": {},
   "outputs": [
    {
     "name": "stdout",
     "output_type": "stream",
     "text": [
      "                  kcat       abs\n",
      "fa_intra_rep -0.138975  0.138975\n",
      "fa_sol       -0.095546  0.095546\n",
      "fa_atr        0.094162  0.094162\n",
      "fa_rep       -0.061218  0.061218\n",
      "total        -0.055970  0.055970\n",
      "hbond_sc     -0.042222  0.042222\n",
      "fa_elec       0.016878  0.016878\n",
      "select a, resi f+f+f+f+t+h+f+446\n",
      "kcat (101, 7) (101,)\n",
      "                    km       abs\n",
      "fa_elec      -0.130914  0.130914\n",
      "hbond_sc      0.122086  0.122086\n",
      "fa_sol       -0.035619  0.035619\n",
      "fa_rep       -0.033002  0.033002\n",
      "total         0.026143  0.026143\n",
      "fa_atr        0.018558  0.018558\n",
      "fa_intra_rep  0.003952  0.003952\n",
      "select a, resi f+h+f+f+t+f+f+446\n",
      "km (101, 7) (101,)\n",
      "                kcatkm       abs\n",
      "fa_intra_rep -0.113015  0.113015\n",
      "hbond_sc     -0.082923  0.082923\n",
      "fa_atr        0.067013  0.067013\n",
      "fa_elec       0.066743  0.066743\n",
      "fa_sol       -0.061225  0.061225\n",
      "total        -0.054659  0.054659\n",
      "fa_rep       -0.034680  0.034680\n",
      "select a, resi f+h+f+f+f+t+f+446\n",
      "kcatkm (101, 7) (101,)\n"
     ]
    }
   ],
   "source": [
    "runs = []\n",
    "for tgt in tgts:\n",
    "    X = J.ix[:,0:-3]\n",
    "    y = J[tgt]\n",
    "    G = X.join(y).dropna()\n",
    "    \n",
    "    d = G.corr()[[tgt]]\n",
    "    d['abs'] = d[tgt].map(abs)\n",
    "    d = d.sort_values('abs', ascending=False).head(11).drop(tgt)\n",
    "    print(d)\n",
    "    \n",
    "    print('select a, resi ', end='')\n",
    "\n",
    "    for idx, ddf in d.iterrows():\n",
    "        print(idx[0],end='')\n",
    "        print('+',end='')\n",
    "    \n",
    "    print('446')\n",
    "    \n",
    "    X = G.ix[:,0:-1]\n",
    "    y = G.ix[:,-1].ravel()\n",
    "    pkg = tgt, X, y \n",
    "    runs.append(pkg)\n",
    "    print(tgt, X.shape, y.shape)"
   ]
  },
  {
   "cell_type": "code",
   "execution_count": 23,
   "metadata": {
    "scrolled": false
   },
   "outputs": [
    {
     "name": "stdout",
     "output_type": "stream",
     "text": [
      "kcat (101, 7) (101,)\n",
      "km (101, 7) (101,)\n",
      "kcatkm (101, 7) (101,)\n"
     ]
    },
    {
     "data": {
      "text/html": [
       "\n",
       "\n",
       "    <div class=\"bk-root\">\n",
       "        <div class=\"bk-plotdiv\" id=\"cca10450-38bf-4507-a4f5-366a37ec0b90\"></div>\n",
       "    </div>\n",
       "<script type=\"text/javascript\">\n",
       "  \n",
       "  (function(global) {\n",
       "    function now() {\n",
       "      return new Date();\n",
       "    }\n",
       "  \n",
       "    var force = false;\n",
       "  \n",
       "    if (typeof (window._bokeh_onload_callbacks) === \"undefined\" || force === true) {\n",
       "      window._bokeh_onload_callbacks = [];\n",
       "      window._bokeh_is_loading = undefined;\n",
       "    }\n",
       "  \n",
       "  \n",
       "    \n",
       "    if (typeof (window._bokeh_timeout) === \"undefined\" || force === true) {\n",
       "      window._bokeh_timeout = Date.now() + 0;\n",
       "      window._bokeh_failed_load = false;\n",
       "    }\n",
       "  \n",
       "    var NB_LOAD_WARNING = {'data': {'text/html':\n",
       "       \"<div style='background-color: #fdd'>\\n\"+\n",
       "       \"<p>\\n\"+\n",
       "       \"BokehJS does not appear to have successfully loaded. If loading BokehJS from CDN, this \\n\"+\n",
       "       \"may be due to a slow or bad network connection. Possible fixes:\\n\"+\n",
       "       \"</p>\\n\"+\n",
       "       \"<ul>\\n\"+\n",
       "       \"<li>re-rerun `output_notebook()` to attempt to load from CDN again, or</li>\\n\"+\n",
       "       \"<li>use INLINE resources instead, as so:</li>\\n\"+\n",
       "       \"</ul>\\n\"+\n",
       "       \"<code>\\n\"+\n",
       "       \"from bokeh.resources import INLINE\\n\"+\n",
       "       \"output_notebook(resources=INLINE)\\n\"+\n",
       "       \"</code>\\n\"+\n",
       "       \"</div>\"}};\n",
       "  \n",
       "    function display_loaded() {\n",
       "      if (window.Bokeh !== undefined) {\n",
       "        document.getElementById(\"cca10450-38bf-4507-a4f5-366a37ec0b90\").textContent = \"BokehJS successfully loaded.\";\n",
       "      } else if (Date.now() < window._bokeh_timeout) {\n",
       "        setTimeout(display_loaded, 100)\n",
       "      }\n",
       "    }if ((window.Jupyter !== undefined) && Jupyter.notebook.kernel) {\n",
       "      comm_manager = Jupyter.notebook.kernel.comm_manager\n",
       "      comm_manager.register_target(\"b1f943d1-41da-4537-9004-128c18a4e118\", function () {});\n",
       "    }\n",
       "  \n",
       "    function run_callbacks() {\n",
       "      window._bokeh_onload_callbacks.forEach(function(callback) { callback() });\n",
       "      delete window._bokeh_onload_callbacks\n",
       "      console.info(\"Bokeh: all callbacks have finished\");\n",
       "    }\n",
       "  \n",
       "    function load_libs(js_urls, callback) {\n",
       "      window._bokeh_onload_callbacks.push(callback);\n",
       "      if (window._bokeh_is_loading > 0) {\n",
       "        console.log(\"Bokeh: BokehJS is being loaded, scheduling callback at\", now());\n",
       "        return null;\n",
       "      }\n",
       "      if (js_urls == null || js_urls.length === 0) {\n",
       "        run_callbacks();\n",
       "        return null;\n",
       "      }\n",
       "      console.log(\"Bokeh: BokehJS not loaded, scheduling load and callback at\", now());\n",
       "      window._bokeh_is_loading = js_urls.length;\n",
       "      for (var i = 0; i < js_urls.length; i++) {\n",
       "        var url = js_urls[i];\n",
       "        var s = document.createElement('script');\n",
       "        s.src = url;\n",
       "        s.async = false;\n",
       "        s.onreadystatechange = s.onload = function() {\n",
       "          window._bokeh_is_loading--;\n",
       "          if (window._bokeh_is_loading === 0) {\n",
       "            console.log(\"Bokeh: all BokehJS libraries loaded\");\n",
       "            run_callbacks()\n",
       "          }\n",
       "        };\n",
       "        s.onerror = function() {\n",
       "          console.warn(\"failed to load library \" + url);\n",
       "        };\n",
       "        console.log(\"Bokeh: injecting script tag for BokehJS library: \", url);\n",
       "        document.getElementsByTagName(\"head\")[0].appendChild(s);\n",
       "      }\n",
       "    };var element = document.getElementById(\"cca10450-38bf-4507-a4f5-366a37ec0b90\");\n",
       "    if (element == null) {\n",
       "      console.log(\"Bokeh: ERROR: autoload.js configured with elementid 'cca10450-38bf-4507-a4f5-366a37ec0b90' but no matching script tag was found. \")\n",
       "      return false;\n",
       "    }\n",
       "  \n",
       "    var js_urls = [];\n",
       "  \n",
       "    var inline_js = [\n",
       "      function(Bokeh) {\n",
       "        (function() {\n",
       "          var fn = function() {\n",
       "            var docs_json = {\"bb954a2c-f50b-485f-ad04-97d9ccc4f085\":{\"roots\":{\"references\":[{\"attributes\":{\"plot\":null,\"text\":\"\"},\"id\":\"cf028f11-3773-477e-9c76-0e5e2b7aa783\",\"type\":\"Title\"},{\"attributes\":{\"callback\":null},\"id\":\"db1f3cb5-778f-429d-a448-80ed4d1da368\",\"type\":\"DataRange1d\"},{\"attributes\":{\"overlay\":{\"id\":\"0987a020-49e3-4df4-9514-a70eba30625c\",\"type\":\"BoxAnnotation\"},\"plot\":{\"id\":\"bde08886-9cd0-4e44-8ba8-28be33e69561\",\"subtype\":\"Figure\",\"type\":\"Plot\"}},\"id\":\"3ba27a44-4a40-4653-beb3-cda22ad82afe\",\"type\":\"BoxZoomTool\"},{\"attributes\":{\"plot\":{\"id\":\"f92df067-9a4c-4258-af48-569f68e6b469\",\"subtype\":\"Figure\",\"type\":\"Plot\"}},\"id\":\"24ff8011-96fd-4e25-a2b8-fc22efdba5e5\",\"type\":\"HelpTool\"},{\"attributes\":{},\"id\":\"0946474e-3a67-42c7-a386-9d912686b1ee\",\"type\":\"ToolEvents\"},{\"attributes\":{},\"id\":\"857d5977-5f69-4855-a5a0-6824800110cd\",\"type\":\"BasicTickFormatter\"},{\"attributes\":{},\"id\":\"fa6dcb67-cd04-499f-b63b-941c9eab9b1c\",\"type\":\"ToolEvents\"},{\"attributes\":{\"bottom_units\":\"screen\",\"fill_alpha\":{\"value\":0.5},\"fill_color\":{\"value\":\"lightgrey\"},\"left_units\":\"screen\",\"level\":\"overlay\",\"line_alpha\":{\"value\":1.0},\"line_color\":{\"value\":\"black\"},\"line_dash\":[4,4],\"line_width\":{\"value\":2},\"plot\":null,\"render_mode\":\"css\",\"right_units\":\"screen\",\"top_units\":\"screen\"},\"id\":\"0987a020-49e3-4df4-9514-a70eba30625c\",\"type\":\"BoxAnnotation\"},{\"attributes\":{\"overlay\":{\"id\":\"e2eb2e56-c4be-43b8-8467-0084b3b3e0ec\",\"type\":\"BoxAnnotation\"},\"plot\":{\"id\":\"962afd1c-4aa4-4533-ba13-782191c34f1e\",\"subtype\":\"Figure\",\"type\":\"Plot\"}},\"id\":\"dbc5b06f-3c44-48e9-adf9-7e0140e93673\",\"type\":\"BoxZoomTool\"},{\"attributes\":{\"plot\":{\"id\":\"bde08886-9cd0-4e44-8ba8-28be33e69561\",\"subtype\":\"Figure\",\"type\":\"Plot\"}},\"id\":\"53be4009-6adf-4e23-9533-a74d45e9a44f\",\"type\":\"SaveTool\"},{\"attributes\":{\"plot\":{\"id\":\"bde08886-9cd0-4e44-8ba8-28be33e69561\",\"subtype\":\"Figure\",\"type\":\"Plot\"}},\"id\":\"c2f25db6-93ff-4bf4-9a01-6512b510b101\",\"type\":\"ResetTool\"},{\"attributes\":{\"plot\":{\"id\":\"bde08886-9cd0-4e44-8ba8-28be33e69561\",\"subtype\":\"Figure\",\"type\":\"Plot\"}},\"id\":\"912831d5-64da-42ab-acca-d4db4793eb65\",\"type\":\"HelpTool\"},{\"attributes\":{\"formatter\":{\"id\":\"737d993c-fe24-444b-bb6f-dfc9b761a503\",\"type\":\"BasicTickFormatter\"},\"plot\":{\"id\":\"bde08886-9cd0-4e44-8ba8-28be33e69561\",\"subtype\":\"Figure\",\"type\":\"Plot\"},\"ticker\":{\"id\":\"7e0f4c3a-4864-4c44-978d-77140e2626ef\",\"type\":\"BasicTicker\"}},\"id\":\"1f4eb8ae-85d3-498b-a6bf-b564dc4663a2\",\"type\":\"LinearAxis\"},{\"attributes\":{},\"id\":\"7e0f4c3a-4864-4c44-978d-77140e2626ef\",\"type\":\"BasicTicker\"},{\"attributes\":{\"callback\":null},\"id\":\"5a6b822b-897c-47ef-8430-657291cbb6b1\",\"type\":\"DataRange1d\"},{\"attributes\":{\"bottom_units\":\"screen\",\"fill_alpha\":{\"value\":0.5},\"fill_color\":{\"value\":\"lightgrey\"},\"left_units\":\"screen\",\"level\":\"overlay\",\"line_alpha\":{\"value\":1.0},\"line_color\":{\"value\":\"black\"},\"line_dash\":[4,4],\"line_width\":{\"value\":2},\"plot\":null,\"render_mode\":\"css\",\"right_units\":\"screen\",\"top_units\":\"screen\"},\"id\":\"b24a1fdb-eade-4f8b-aa3a-a9c3a3a68c32\",\"type\":\"BoxAnnotation\"},{\"attributes\":{\"dimension\":1,\"plot\":{\"id\":\"f92df067-9a4c-4258-af48-569f68e6b469\",\"subtype\":\"Figure\",\"type\":\"Plot\"},\"ticker\":{\"id\":\"2e7bd9db-ff40-4857-a14e-c9372e521c42\",\"type\":\"BasicTicker\"}},\"id\":\"d7e810f9-dfb9-404f-bd09-bbc18c39c27a\",\"type\":\"Grid\"},{\"attributes\":{\"active_drag\":\"auto\",\"active_scroll\":\"auto\",\"active_tap\":\"auto\",\"tools\":[{\"id\":\"37eba751-43d5-4ee2-846c-f843d61bd35b\",\"type\":\"PanTool\"},{\"id\":\"e46e1ab9-ee4a-41db-afc3-ab4da42bc477\",\"type\":\"WheelZoomTool\"},{\"id\":\"dbc5b06f-3c44-48e9-adf9-7e0140e93673\",\"type\":\"BoxZoomTool\"},{\"id\":\"6395f586-ba29-46c2-a70a-0fe6a97ada7b\",\"type\":\"SaveTool\"},{\"id\":\"7353a6fa-09c5-4c25-bfef-04df42a9fc9f\",\"type\":\"ResetTool\"},{\"id\":\"15086005-89be-4fb3-a18e-ef643ed00df9\",\"type\":\"HelpTool\"}]},\"id\":\"2ffd2436-0102-46de-aecf-b5fcf4686074\",\"type\":\"Toolbar\"},{\"attributes\":{\"callback\":null},\"id\":\"17eadece-8f4f-4385-a3e9-641913e2081b\",\"type\":\"DataRange1d\"},{\"attributes\":{\"plot\":null,\"text\":\"\"},\"id\":\"62ec5e9f-76ee-4d84-84cc-6c9d9d11f2f8\",\"type\":\"Title\"},{\"attributes\":{\"children\":[{\"id\":\"f92df067-9a4c-4258-af48-569f68e6b469\",\"subtype\":\"Figure\",\"type\":\"Plot\"},{\"id\":\"962afd1c-4aa4-4533-ba13-782191c34f1e\",\"subtype\":\"Figure\",\"type\":\"Plot\"},{\"id\":\"bde08886-9cd0-4e44-8ba8-28be33e69561\",\"subtype\":\"Figure\",\"type\":\"Plot\"}]},\"id\":\"1fb524f6-fe0c-4d93-b4b2-d59f6993bc92\",\"type\":\"Row\"},{\"attributes\":{\"formatter\":{\"id\":\"2b20a696-7ecc-4527-a0de-9ee161acb5c9\",\"type\":\"BasicTickFormatter\"},\"plot\":{\"id\":\"f92df067-9a4c-4258-af48-569f68e6b469\",\"subtype\":\"Figure\",\"type\":\"Plot\"},\"ticker\":{\"id\":\"250eaa1d-e892-4490-bc90-b72883f09adf\",\"type\":\"BasicTicker\"}},\"id\":\"10b317e4-f238-4e09-a6c4-33495c0c09d3\",\"type\":\"LinearAxis\"},{\"attributes\":{\"plot\":{\"id\":\"962afd1c-4aa4-4533-ba13-782191c34f1e\",\"subtype\":\"Figure\",\"type\":\"Plot\"}},\"id\":\"37eba751-43d5-4ee2-846c-f843d61bd35b\",\"type\":\"PanTool\"},{\"attributes\":{\"plot\":{\"id\":\"bde08886-9cd0-4e44-8ba8-28be33e69561\",\"subtype\":\"Figure\",\"type\":\"Plot\"}},\"id\":\"e7144731-acc3-4e7b-bc97-d7c1c434cdce\",\"type\":\"PanTool\"},{\"attributes\":{\"plot\":{\"id\":\"f92df067-9a4c-4258-af48-569f68e6b469\",\"subtype\":\"Figure\",\"type\":\"Plot\"}},\"id\":\"43673af7-ece9-47e1-9975-5f30485c21bf\",\"type\":\"SaveTool\"},{\"attributes\":{\"data_source\":{\"id\":\"60efc9ee-f494-45ef-8f83-ac074ca4c90e\",\"type\":\"ColumnDataSource\"},\"glyph\":{\"id\":\"d86077eb-29e9-4f01-83a2-336f9db620dc\",\"type\":\"Circle\"},\"hover_glyph\":null,\"nonselection_glyph\":{\"id\":\"ebe14eeb-5bba-45a3-9087-e2fe6b8ac87b\",\"type\":\"Circle\"},\"selection_glyph\":null},\"id\":\"60968d29-5fb6-4926-85fa-25b674a0428a\",\"type\":\"GlyphRenderer\"},{\"attributes\":{\"data_source\":{\"id\":\"90c63e18-8000-4090-b85f-53a3642e74de\",\"type\":\"ColumnDataSource\"},\"glyph\":{\"id\":\"882220d1-7d1b-46fb-aa0a-fbee9fa9b59a\",\"type\":\"Circle\"},\"hover_glyph\":null,\"nonselection_glyph\":{\"id\":\"e2f176c3-18ee-404b-9f80-1d63d2b7a045\",\"type\":\"Circle\"},\"selection_glyph\":null},\"id\":\"3e8b8a7c-33d6-4f74-9413-2b9ae59bb5d4\",\"type\":\"GlyphRenderer\"},{\"attributes\":{\"callback\":null},\"id\":\"c834f129-729c-4464-a0dd-a6b314ee89ed\",\"type\":\"DataRange1d\"},{\"attributes\":{\"below\":[{\"id\":\"dafc8ed9-1c87-4643-a6f3-5f87fdec6500\",\"type\":\"LinearAxis\"}],\"left\":[{\"id\":\"9db21ab2-3e36-48e3-a74e-864045eb6536\",\"type\":\"LinearAxis\"}],\"plot_height\":300,\"plot_width\":300,\"renderers\":[{\"id\":\"dafc8ed9-1c87-4643-a6f3-5f87fdec6500\",\"type\":\"LinearAxis\"},{\"id\":\"c2dc29b2-5b3f-466c-8608-a816ff58b4cd\",\"type\":\"Grid\"},{\"id\":\"9db21ab2-3e36-48e3-a74e-864045eb6536\",\"type\":\"LinearAxis\"},{\"id\":\"583abe48-1044-40a6-9950-5433609db253\",\"type\":\"Grid\"},{\"id\":\"e2eb2e56-c4be-43b8-8467-0084b3b3e0ec\",\"type\":\"BoxAnnotation\"},{\"id\":\"3e8b8a7c-33d6-4f74-9413-2b9ae59bb5d4\",\"type\":\"GlyphRenderer\"}],\"title\":{\"id\":\"a0c4de14-0edc-42e6-8317-01484fd562b7\",\"type\":\"Title\"},\"tool_events\":{\"id\":\"0946474e-3a67-42c7-a386-9d912686b1ee\",\"type\":\"ToolEvents\"},\"toolbar\":{\"id\":\"2ffd2436-0102-46de-aecf-b5fcf4686074\",\"type\":\"Toolbar\"},\"x_range\":{\"id\":\"db1f3cb5-778f-429d-a448-80ed4d1da368\",\"type\":\"DataRange1d\"},\"y_range\":{\"id\":\"17eadece-8f4f-4385-a3e9-641913e2081b\",\"type\":\"DataRange1d\"}},\"id\":\"962afd1c-4aa4-4533-ba13-782191c34f1e\",\"subtype\":\"Figure\",\"type\":\"Plot\"},{\"attributes\":{\"formatter\":{\"id\":\"669e8824-2a20-4697-91b7-7cb761dc83c9\",\"type\":\"BasicTickFormatter\"},\"plot\":{\"id\":\"f92df067-9a4c-4258-af48-569f68e6b469\",\"subtype\":\"Figure\",\"type\":\"Plot\"},\"ticker\":{\"id\":\"2e7bd9db-ff40-4857-a14e-c9372e521c42\",\"type\":\"BasicTicker\"}},\"id\":\"ac9426b5-5414-4fe0-ba9c-9b584a4606c7\",\"type\":\"LinearAxis\"},{\"attributes\":{\"formatter\":{\"id\":\"753e13c5-99d6-4ece-b133-f2dc46dfa0fb\",\"type\":\"BasicTickFormatter\"},\"plot\":{\"id\":\"962afd1c-4aa4-4533-ba13-782191c34f1e\",\"subtype\":\"Figure\",\"type\":\"Plot\"},\"ticker\":{\"id\":\"64c5e9f7-f338-4d65-b97c-62c08cb41eda\",\"type\":\"BasicTicker\"}},\"id\":\"dafc8ed9-1c87-4643-a6f3-5f87fdec6500\",\"type\":\"LinearAxis\"},{\"attributes\":{\"fill_color\":{\"value\":\"#1f77b4\"},\"line_color\":{\"value\":\"#1f77b4\"},\"x\":{\"field\":\"x\"},\"y\":{\"field\":\"y\"}},\"id\":\"882220d1-7d1b-46fb-aa0a-fbee9fa9b59a\",\"type\":\"Circle\"},{\"attributes\":{},\"id\":\"6bf626c4-275b-4ce0-98fb-5d75e1812049\",\"type\":\"ToolEvents\"},{\"attributes\":{\"fill_color\":{\"value\":\"#1f77b4\"},\"line_color\":{\"value\":\"#1f77b4\"},\"x\":{\"field\":\"x\"},\"y\":{\"field\":\"y\"}},\"id\":\"057d5889-b713-49d3-bf1e-2eb62ce1a07f\",\"type\":\"Circle\"},{\"attributes\":{\"fill_alpha\":{\"value\":0.1},\"fill_color\":{\"value\":\"#1f77b4\"},\"line_alpha\":{\"value\":0.1},\"line_color\":{\"value\":\"#1f77b4\"},\"x\":{\"field\":\"x\"},\"y\":{\"field\":\"y\"}},\"id\":\"e2f176c3-18ee-404b-9f80-1d63d2b7a045\",\"type\":\"Circle\"},{\"attributes\":{\"plot\":null,\"text\":\"\"},\"id\":\"a0c4de14-0edc-42e6-8317-01484fd562b7\",\"type\":\"Title\"},{\"attributes\":{\"callback\":null,\"column_names\":[\"x\",\"y\"],\"data\":{\"x\":{\"__ndarray__\":\"cmoaA6DOB0DAOynhT/QFQJcyLRvNmwZAu9k9wX5oA0Bw35tSlvYGQLvZPcF+aANAcN+bUpb2BkD/6ifLk0T/PwC9T6gJogFAv86FrHNEAECOvuZmJJkGQB86eD/U+Pk/f7LjjVNE8T+h9rOnRnkFQM0HUCkAdfk//WzXkVnX7j+3r/Dn6nIGQJCAuZMYpgZAt6/w5+pyBkCQgLmTGKYGQGN033FjpAZAnrYzp/wyCEDfawbSID4BQP95n1ATRNM/KxIXZLRsAEDpY2tx+2X3P+ViOyH3BwZAGifXIEZDAkB8tTL9wsUFQBon1yBGQwJAfLUy/cLFBUDswtZnnMsGQDnDX0wjkgVA6qBtH95mBEC10oOauHYDQPuSnz4xK/g/RouaWNK5BkAOQiQnQWsHQFhhUjoAKAhAMCe420v78T/T+RxaFCcGQDAnuNtL+/E/0/kcWhQnBkD37WTrx4EHQOjpaelGQQdAMD5Hwsy97T8bPQosqtcEQH7L0zxFKQNAhh5+7Y3fA0B+y9M8RSkDQIYefu2N3wNAryLiv5AuB0AHArux7rIHQG63O+Zl5wVARfHOG3EbAkBntUE05/MEQLMjrRerHQVAz/DjF7uj9j+eLwwlHpvxP7/7E2ER3ARAhSHEaXsq+T9AQybbqI8CQOwAyysguABAlQ5Xl0PF+T9UCGuqOGIGQE8SvEO20vE/b8VQYIup8D8isP/9Hpn5P/zVT5Ynid4//3mfUBNE4z8YnyNh5t7+P8LyRSRKKAZAqhTkCBaP9j9JxodHrLQGQNOAhqLUKhBATkdaNByaA0BISxBYT6AHQD+sYxKMCgRAB4Ua3QqAAUAhevnNWm0HQPZiivtxdAZAxjW2g3pDB0AD+dsTO0wHQPZtNFv+zAVA31cOOCtOBkDSeEGvozoHQPRuBWEHVQVA/9O7uU5z/D8eu+5zH3gIQH2zrl8WsgZAN0bcsztkBUCeGKAT2cn+P+lja3H7Zfc/AAAAAAAA8D+gh5SxgLT4PzVFhUOmTABA/NVPlieJ3j8AQ7BX9l3mv+of2RsRWwJArLx9B8jCAUCfcXIOKO4GQA==\",\"dtype\":\"float64\",\"shape\":[101]},\"y\":{\"__ndarray__\":\"CDH3F3q1AUAIMfcXerUBQAgx9xd6tQFACDH3F3q1AUAIMfcXerUBQAgx9xd6tQFACDH3F3q1AUAIMfcXerUBQAgx9xd6tQFACDH3F3q1AUAIMfcXerUBQEaKFccnDQJARooVxycNAkBGihXHJw0CQEaKFccnDQJARooVxycNAkBGihXHJw0CQEaKFccnDQJARooVxycNAkBGihXHJw0CQEaKFccnDQJA8YCM0psTAkDxgIzSmxMCQPGAjNKbEwJA8YCM0psTAkDxgIzSmxMCQPGAjNKbEwJA8YCM0psTAkDxgIzSmxMCQPGAjNKbEwJA8YCM0psTAkCRz7Bl+tABQJHPsGX60AFAkc+wZfrQAUCRz7Bl+tABQJHPsGX60AFAkc+wZfrQAUCRz7Bl+tABQJHPsGX60AFAkc+wZfrQAUCRz7Bl+tABQFxzce369gFAXHNx7fr2AUBcc3Ht+vYBQFxzce369gFAXHNx7fr2AUBcc3Ht+vYBQFxzce369gFAXHNx7fr2AUBcc3Ht+vYBQFxzce369gFA0k6hGNb7AUDSTqEY1vsBQNJOoRjW+wFA0k6hGNb7AUDSTqEY1vsBQNJOoRjW+wFA0k6hGNb7AUDSTqEY1vsBQNJOoRjW+wFA0k6hGNb7AUCpUZfOn54CQKlRl86fngJAqVGXzp+eAkCpUZfOn54CQKlRl86fngJAqVGXzp+eAkCpUZfOn54CQKlRl86fngJAqVGXzp+eAkCpUZfOn54CQE6ymUweoAFATrKZTB6gAUBOsplMHqABQE6ymUweoAFATrKZTB6gAUBOsplMHqABQE6ymUweoAFATrKZTB6gAUBOsplMHqABQE6ymUweoAFAl6gYlfjFAUCgUV+PtZMBQEL8AfmQ0P0/XzLTH+kgAUB+95/DJGIBQJcuWA/pugFAoNdcmdAJAkAEkjM7sz4BQEFJHdbBMgFAeU8Sv1mtAUAgRzIC36gCQCBHMgLfqAJAIEcyAt+oAkAgRzIC36gCQCBHMgLfqAJAIEcyAt+oAkAgRzIC36gCQCBHMgLfqAJAIEcyAt+oAkAgRzIC36gCQA==\",\"dtype\":\"float64\",\"shape\":[101]}}},\"id\":\"1bd00ee2-8cd8-457d-9cbd-459487a1b236\",\"type\":\"ColumnDataSource\"},{\"attributes\":{},\"id\":\"2e7bd9db-ff40-4857-a14e-c9372e521c42\",\"type\":\"BasicTicker\"},{\"attributes\":{\"callback\":null},\"id\":\"85335997-3172-4c14-b6d7-cbe9fec810c0\",\"type\":\"DataRange1d\"},{\"attributes\":{},\"id\":\"737d993c-fe24-444b-bb6f-dfc9b761a503\",\"type\":\"BasicTickFormatter\"},{\"attributes\":{\"data_source\":{\"id\":\"1bd00ee2-8cd8-457d-9cbd-459487a1b236\",\"type\":\"ColumnDataSource\"},\"glyph\":{\"id\":\"057d5889-b713-49d3-bf1e-2eb62ce1a07f\",\"type\":\"Circle\"},\"hover_glyph\":null,\"nonselection_glyph\":{\"id\":\"4d45978e-cc28-4a0a-a828-2ecc324bc0d2\",\"type\":\"Circle\"},\"selection_glyph\":null},\"id\":\"02937e72-2b91-4fc3-bc00-22b2454b09be\",\"type\":\"GlyphRenderer\"},{\"attributes\":{\"dimension\":1,\"plot\":{\"id\":\"962afd1c-4aa4-4533-ba13-782191c34f1e\",\"subtype\":\"Figure\",\"type\":\"Plot\"},\"ticker\":{\"id\":\"15eda6ce-e795-4029-a978-4eb9d89fc0e2\",\"type\":\"BasicTicker\"}},\"id\":\"583abe48-1044-40a6-9950-5433609db253\",\"type\":\"Grid\"},{\"attributes\":{},\"id\":\"250eaa1d-e892-4490-bc90-b72883f09adf\",\"type\":\"BasicTicker\"},{\"attributes\":{},\"id\":\"753e13c5-99d6-4ece-b133-f2dc46dfa0fb\",\"type\":\"BasicTickFormatter\"},{\"attributes\":{\"plot\":{\"id\":\"f92df067-9a4c-4258-af48-569f68e6b469\",\"subtype\":\"Figure\",\"type\":\"Plot\"},\"ticker\":{\"id\":\"250eaa1d-e892-4490-bc90-b72883f09adf\",\"type\":\"BasicTicker\"}},\"id\":\"f3e05b18-9f12-450a-ac31-bb9b96dc23f7\",\"type\":\"Grid\"},{\"attributes\":{\"overlay\":{\"id\":\"b24a1fdb-eade-4f8b-aa3a-a9c3a3a68c32\",\"type\":\"BoxAnnotation\"},\"plot\":{\"id\":\"f92df067-9a4c-4258-af48-569f68e6b469\",\"subtype\":\"Figure\",\"type\":\"Plot\"}},\"id\":\"e94d1ddd-67e8-456e-a8c4-8abf033f5d50\",\"type\":\"BoxZoomTool\"},{\"attributes\":{\"active_drag\":\"auto\",\"active_scroll\":\"auto\",\"active_tap\":\"auto\",\"tools\":[{\"id\":\"53437cec-3586-450c-89b6-50dfa05ca664\",\"type\":\"PanTool\"},{\"id\":\"67b14108-2e63-4c7f-b046-8f17d54717a4\",\"type\":\"WheelZoomTool\"},{\"id\":\"e94d1ddd-67e8-456e-a8c4-8abf033f5d50\",\"type\":\"BoxZoomTool\"},{\"id\":\"43673af7-ece9-47e1-9975-5f30485c21bf\",\"type\":\"SaveTool\"},{\"id\":\"b6b55549-927d-410a-b40c-d19c07eeb497\",\"type\":\"ResetTool\"},{\"id\":\"24ff8011-96fd-4e25-a2b8-fc22efdba5e5\",\"type\":\"HelpTool\"}]},\"id\":\"28b8be06-3264-4f26-a2e1-ec649fd30cab\",\"type\":\"Toolbar\"},{\"attributes\":{},\"id\":\"eb2ac490-52c9-44d6-a7d6-a8416d1ebaaf\",\"type\":\"BasicTickFormatter\"},{\"attributes\":{},\"id\":\"15eda6ce-e795-4029-a978-4eb9d89fc0e2\",\"type\":\"BasicTicker\"},{\"attributes\":{\"fill_color\":{\"value\":\"#1f77b4\"},\"line_color\":{\"value\":\"#1f77b4\"},\"x\":{\"field\":\"x\"},\"y\":{\"field\":\"y\"}},\"id\":\"d86077eb-29e9-4f01-83a2-336f9db620dc\",\"type\":\"Circle\"},{\"attributes\":{\"bottom_units\":\"screen\",\"fill_alpha\":{\"value\":0.5},\"fill_color\":{\"value\":\"lightgrey\"},\"left_units\":\"screen\",\"level\":\"overlay\",\"line_alpha\":{\"value\":1.0},\"line_color\":{\"value\":\"black\"},\"line_dash\":[4,4],\"line_width\":{\"value\":2},\"plot\":null,\"render_mode\":\"css\",\"right_units\":\"screen\",\"top_units\":\"screen\"},\"id\":\"e2eb2e56-c4be-43b8-8467-0084b3b3e0ec\",\"type\":\"BoxAnnotation\"},{\"attributes\":{\"plot\":{\"id\":\"f92df067-9a4c-4258-af48-569f68e6b469\",\"subtype\":\"Figure\",\"type\":\"Plot\"}},\"id\":\"53437cec-3586-450c-89b6-50dfa05ca664\",\"type\":\"PanTool\"},{\"attributes\":{\"formatter\":{\"id\":\"eb2ac490-52c9-44d6-a7d6-a8416d1ebaaf\",\"type\":\"BasicTickFormatter\"},\"plot\":{\"id\":\"962afd1c-4aa4-4533-ba13-782191c34f1e\",\"subtype\":\"Figure\",\"type\":\"Plot\"},\"ticker\":{\"id\":\"15eda6ce-e795-4029-a978-4eb9d89fc0e2\",\"type\":\"BasicTicker\"}},\"id\":\"9db21ab2-3e36-48e3-a74e-864045eb6536\",\"type\":\"LinearAxis\"},{\"attributes\":{\"callback\":null,\"column_names\":[\"x\",\"y\"],\"data\":{\"x\":{\"__ndarray__\":\"jwpbIJ4TFUClVBJENc8TQP2vnLWOzhNAQsx2HlohE0AezyXnZegUQELMdh5aIRNAHs8l52XoFEBbFsND8KAUQKTNkzM/FhFAyILpNfuyEEApJ3AjgvUSQC39TzeJ7hBAYZab7HptBkAJ3A+u8KYSQFo56cg1eQhAqr0Q6WCw/T/G1HfX98UUQK3vdzhMRRRAxtR31/fFFECt73c4TEUUQF7G7L0BdRRAlFEUFLP+E0Dn8QTvyNAPQNjqKUb7nv4/NMGx/z2rEEC1gUJgUCcPQDTNGnilfhVA9IFLVjr2EUD5feE3VA4UQPSBS1Y69hFA+X3hN1QOFEABQy7eETMUQH/K3pHerRNAZZ3YTKxwE0BbR1hzZmcUQCvguL4elhFAA0TFSyHCFEBeM56rB2cUQOxggihhIRVAt4j2ic34A0C2gBVnm2oVQLeI9onN+ANAtoAVZ5tqFUDAXoB+vfkTQJPDmtNTchNAlx3cd3W8C0A8Ca5Rn1EUQMzjFZRiNxNAYyihVwNTEkDM4xWUYjcTQGMooVcDUxJAOBnC85DdFUABZG1ER/wUQPJTZ//jxBNAe3L/SEJbEUCWbDHUsJcSQCRlV2ZV0hNAyD03BtxsDUBZWPMCE84FQLrnH/oRYhJA+0DQH9jxD0BYSzCXp2EOQOB2JdL+ghFAn5Zsk+ikB0DqlCHrmcgYQAGZ1sY08ghAA1q3xen1BUDYm0OacSANQG63O+Zl5wVAtcmm4VDBBEBf4WmWQy0OQKHoNnynfBVAVQpyBItHC0CQEfSs9iIVQI7iHKGyAhdASSFtRYWqEUALowXpDtMSQGgBwSs6WxJARxpbykMqEEAPgfCGc6YSQE8NB5kaxRNAsBQ0BuS9FEDm1Gj9dRkVQBWNdJMm3hRAQc30+mxBFEDa6U3gumQVQLsNxlxwaRNAs4Y8M+T2DEDpjpCCkucUQJN0GI8erxNALSQulJbeEUDsAk/JzMsHQDglR9FcCxFA+G3uPQwwC0DPHksNoTgQQMnT4wBPGxFAzQdQKQB1+T+rU4asZyLzP2O2i4wcWw5AclHzyHIWEkBjDDlhKVsUQA==\",\"dtype\":\"float64\",\"shape\":[101]},\"y\":{\"__ndarray__\":\"xJ42ftdZEUDEnjZ+11kRQMSeNn7XWRFAxJ42ftdZEUDEnjZ+11kRQMSeNn7XWRFAxJ42ftdZEUDEnjZ+11kRQMSeNn7XWRFAxJ42ftdZEUDEnjZ+11kRQHpO2z0FqBFAek7bPQWoEUB6Tts9BagRQHpO2z0FqBFAek7bPQWoEUB6Tts9BagRQHpO2z0FqBFAek7bPQWoEUB6Tts9BagRQHpO2z0FqBFAW1CGTNWbEUBbUIZM1ZsRQFtQhkzVmxFAW1CGTNWbEUBbUIZM1ZsRQFtQhkzVmxFAW1CGTNWbEUBbUIZM1ZsRQFtQhkzVmxFAW1CGTNWbEUAOkMW8IGoRQA6QxbwgahFADpDFvCBqEUAOkMW8IGoRQA6QxbwgahFADpDFvCBqEUAOkMW8IGoRQA6QxbwgahFADpDFvCBqEUAOkMW8IGoRQLz+ddjRiBFAvP512NGIEUC8/nXY0YgRQLz+ddjRiBFAvP512NGIEUC8/nXY0YgRQLz+ddjRiBFAvP512NGIEUC8/nXY0YgRQLz+ddjRiBFAY5vcx7CNEUBjm9zHsI0RQGOb3MewjRFAY5vcx7CNEUBjm9zHsI0RQGOb3MewjRFAY5vcx7CNEUBjm9zHsI0RQGOb3MewjRFAY5vcx7CNEUCki+9cV0sSQHBVpsU9kxFAGcjOiRRPEUCIsjcaG6QRQPNBUT8pgBNA0F/+HdSbEUDzx0PE1pwRQLrpbjr2rxFALFU9o11cEkCgUW7KmTwQQDVmtMyWcBFANWa0zJZwEUA1ZrTMlnARQDVmtMyWcBFANWa0zJZwEUA1ZrTMlnARQDVmtMyWcBFANWa0zJZwEUA1ZrTMlnARQDVmtMyWcBFAqeayRRJaEUCp5rJFEloRQKnmskUSWhFAqeayRRJaEUCp5rJFEloRQKnmskUSWhFAqeayRRJaEUCp5rJFEloRQKnmskUSWhFAqeayRRJaEUDUey000/cRQNR7LTTT9xFA1HstNNP3EUDUey000/cRQNR7LTTT9xFA1HstNNP3EUDUey000/cRQNR7LTTT9xFA1HstNNP3EUDUey000/cRQA==\",\"dtype\":\"float64\",\"shape\":[101]}}},\"id\":\"60efc9ee-f494-45ef-8f83-ac074ca4c90e\",\"type\":\"ColumnDataSource\"},{\"attributes\":{\"fill_alpha\":{\"value\":0.1},\"fill_color\":{\"value\":\"#1f77b4\"},\"line_alpha\":{\"value\":0.1},\"line_color\":{\"value\":\"#1f77b4\"},\"x\":{\"field\":\"x\"},\"y\":{\"field\":\"y\"}},\"id\":\"ebe14eeb-5bba-45a3-9087-e2fe6b8ac87b\",\"type\":\"Circle\"},{\"attributes\":{\"fill_alpha\":{\"value\":0.1},\"fill_color\":{\"value\":\"#1f77b4\"},\"line_alpha\":{\"value\":0.1},\"line_color\":{\"value\":\"#1f77b4\"},\"x\":{\"field\":\"x\"},\"y\":{\"field\":\"y\"}},\"id\":\"4d45978e-cc28-4a0a-a828-2ecc324bc0d2\",\"type\":\"Circle\"},{\"attributes\":{},\"id\":\"64c5e9f7-f338-4d65-b97c-62c08cb41eda\",\"type\":\"BasicTicker\"},{\"attributes\":{\"plot\":{\"id\":\"962afd1c-4aa4-4533-ba13-782191c34f1e\",\"subtype\":\"Figure\",\"type\":\"Plot\"}},\"id\":\"e46e1ab9-ee4a-41db-afc3-ab4da42bc477\",\"type\":\"WheelZoomTool\"},{\"attributes\":{\"plot\":{\"id\":\"962afd1c-4aa4-4533-ba13-782191c34f1e\",\"subtype\":\"Figure\",\"type\":\"Plot\"}},\"id\":\"7353a6fa-09c5-4c25-bfef-04df42a9fc9f\",\"type\":\"ResetTool\"},{\"attributes\":{\"plot\":{\"id\":\"f92df067-9a4c-4258-af48-569f68e6b469\",\"subtype\":\"Figure\",\"type\":\"Plot\"}},\"id\":\"b6b55549-927d-410a-b40c-d19c07eeb497\",\"type\":\"ResetTool\"},{\"attributes\":{\"plot\":{\"id\":\"962afd1c-4aa4-4533-ba13-782191c34f1e\",\"subtype\":\"Figure\",\"type\":\"Plot\"}},\"id\":\"15086005-89be-4fb3-a18e-ef643ed00df9\",\"type\":\"HelpTool\"},{\"attributes\":{\"active_drag\":\"auto\",\"active_scroll\":\"auto\",\"active_tap\":\"auto\",\"tools\":[{\"id\":\"e7144731-acc3-4e7b-bc97-d7c1c434cdce\",\"type\":\"PanTool\"},{\"id\":\"accbd508-ad84-471c-9f1e-42aa4c10a2bd\",\"type\":\"WheelZoomTool\"},{\"id\":\"3ba27a44-4a40-4653-beb3-cda22ad82afe\",\"type\":\"BoxZoomTool\"},{\"id\":\"53be4009-6adf-4e23-9533-a74d45e9a44f\",\"type\":\"SaveTool\"},{\"id\":\"c2f25db6-93ff-4bf4-9a01-6512b510b101\",\"type\":\"ResetTool\"},{\"id\":\"912831d5-64da-42ab-acca-d4db4793eb65\",\"type\":\"HelpTool\"}]},\"id\":\"a65553d5-96c6-48e2-b25d-22255619355c\",\"type\":\"Toolbar\"},{\"attributes\":{},\"id\":\"fa5ce823-7705-4b28-a570-e63bdba5a702\",\"type\":\"BasicTicker\"},{\"attributes\":{\"plot\":{\"id\":\"962afd1c-4aa4-4533-ba13-782191c34f1e\",\"subtype\":\"Figure\",\"type\":\"Plot\"},\"ticker\":{\"id\":\"64c5e9f7-f338-4d65-b97c-62c08cb41eda\",\"type\":\"BasicTicker\"}},\"id\":\"c2dc29b2-5b3f-466c-8608-a816ff58b4cd\",\"type\":\"Grid\"},{\"attributes\":{},\"id\":\"669e8824-2a20-4697-91b7-7cb761dc83c9\",\"type\":\"BasicTickFormatter\"},{\"attributes\":{\"below\":[{\"id\":\"1f4eb8ae-85d3-498b-a6bf-b564dc4663a2\",\"type\":\"LinearAxis\"}],\"left\":[{\"id\":\"e91dc8fb-89ae-40c4-b3fb-f7174591e544\",\"type\":\"LinearAxis\"}],\"plot_height\":300,\"plot_width\":300,\"renderers\":[{\"id\":\"1f4eb8ae-85d3-498b-a6bf-b564dc4663a2\",\"type\":\"LinearAxis\"},{\"id\":\"64c703b4-c85d-4411-bf26-3a8fd1489762\",\"type\":\"Grid\"},{\"id\":\"e91dc8fb-89ae-40c4-b3fb-f7174591e544\",\"type\":\"LinearAxis\"},{\"id\":\"f57852e0-284b-44a3-bd14-efd4d370461a\",\"type\":\"Grid\"},{\"id\":\"0987a020-49e3-4df4-9514-a70eba30625c\",\"type\":\"BoxAnnotation\"},{\"id\":\"60968d29-5fb6-4926-85fa-25b674a0428a\",\"type\":\"GlyphRenderer\"}],\"title\":{\"id\":\"cf028f11-3773-477e-9c76-0e5e2b7aa783\",\"type\":\"Title\"},\"tool_events\":{\"id\":\"6bf626c4-275b-4ce0-98fb-5d75e1812049\",\"type\":\"ToolEvents\"},\"toolbar\":{\"id\":\"a65553d5-96c6-48e2-b25d-22255619355c\",\"type\":\"Toolbar\"},\"x_range\":{\"id\":\"9d66fe2b-7377-4131-8d88-ef8aa5958dec\",\"type\":\"DataRange1d\"},\"y_range\":{\"id\":\"5a6b822b-897c-47ef-8430-657291cbb6b1\",\"type\":\"DataRange1d\"}},\"id\":\"bde08886-9cd0-4e44-8ba8-28be33e69561\",\"subtype\":\"Figure\",\"type\":\"Plot\"},{\"attributes\":{\"dimension\":1,\"plot\":{\"id\":\"bde08886-9cd0-4e44-8ba8-28be33e69561\",\"subtype\":\"Figure\",\"type\":\"Plot\"},\"ticker\":{\"id\":\"fa5ce823-7705-4b28-a570-e63bdba5a702\",\"type\":\"BasicTicker\"}},\"id\":\"f57852e0-284b-44a3-bd14-efd4d370461a\",\"type\":\"Grid\"},{\"attributes\":{\"plot\":{\"id\":\"962afd1c-4aa4-4533-ba13-782191c34f1e\",\"subtype\":\"Figure\",\"type\":\"Plot\"}},\"id\":\"6395f586-ba29-46c2-a70a-0fe6a97ada7b\",\"type\":\"SaveTool\"},{\"attributes\":{\"below\":[{\"id\":\"10b317e4-f238-4e09-a6c4-33495c0c09d3\",\"type\":\"LinearAxis\"}],\"left\":[{\"id\":\"ac9426b5-5414-4fe0-ba9c-9b584a4606c7\",\"type\":\"LinearAxis\"}],\"plot_height\":300,\"plot_width\":300,\"renderers\":[{\"id\":\"10b317e4-f238-4e09-a6c4-33495c0c09d3\",\"type\":\"LinearAxis\"},{\"id\":\"f3e05b18-9f12-450a-ac31-bb9b96dc23f7\",\"type\":\"Grid\"},{\"id\":\"ac9426b5-5414-4fe0-ba9c-9b584a4606c7\",\"type\":\"LinearAxis\"},{\"id\":\"d7e810f9-dfb9-404f-bd09-bbc18c39c27a\",\"type\":\"Grid\"},{\"id\":\"b24a1fdb-eade-4f8b-aa3a-a9c3a3a68c32\",\"type\":\"BoxAnnotation\"},{\"id\":\"02937e72-2b91-4fc3-bc00-22b2454b09be\",\"type\":\"GlyphRenderer\"}],\"title\":{\"id\":\"62ec5e9f-76ee-4d84-84cc-6c9d9d11f2f8\",\"type\":\"Title\"},\"tool_events\":{\"id\":\"fa6dcb67-cd04-499f-b63b-941c9eab9b1c\",\"type\":\"ToolEvents\"},\"toolbar\":{\"id\":\"28b8be06-3264-4f26-a2e1-ec649fd30cab\",\"type\":\"Toolbar\"},\"x_range\":{\"id\":\"c834f129-729c-4464-a0dd-a6b314ee89ed\",\"type\":\"DataRange1d\"},\"y_range\":{\"id\":\"85335997-3172-4c14-b6d7-cbe9fec810c0\",\"type\":\"DataRange1d\"}},\"id\":\"f92df067-9a4c-4258-af48-569f68e6b469\",\"subtype\":\"Figure\",\"type\":\"Plot\"},{\"attributes\":{\"formatter\":{\"id\":\"857d5977-5f69-4855-a5a0-6824800110cd\",\"type\":\"BasicTickFormatter\"},\"plot\":{\"id\":\"bde08886-9cd0-4e44-8ba8-28be33e69561\",\"subtype\":\"Figure\",\"type\":\"Plot\"},\"ticker\":{\"id\":\"fa5ce823-7705-4b28-a570-e63bdba5a702\",\"type\":\"BasicTicker\"}},\"id\":\"e91dc8fb-89ae-40c4-b3fb-f7174591e544\",\"type\":\"LinearAxis\"},{\"attributes\":{\"plot\":{\"id\":\"f92df067-9a4c-4258-af48-569f68e6b469\",\"subtype\":\"Figure\",\"type\":\"Plot\"}},\"id\":\"67b14108-2e63-4c7f-b046-8f17d54717a4\",\"type\":\"WheelZoomTool\"},{\"attributes\":{\"plot\":{\"id\":\"bde08886-9cd0-4e44-8ba8-28be33e69561\",\"subtype\":\"Figure\",\"type\":\"Plot\"}},\"id\":\"accbd508-ad84-471c-9f1e-42aa4c10a2bd\",\"type\":\"WheelZoomTool\"},{\"attributes\":{\"callback\":null},\"id\":\"9d66fe2b-7377-4131-8d88-ef8aa5958dec\",\"type\":\"DataRange1d\"},{\"attributes\":{\"plot\":{\"id\":\"bde08886-9cd0-4e44-8ba8-28be33e69561\",\"subtype\":\"Figure\",\"type\":\"Plot\"},\"ticker\":{\"id\":\"7e0f4c3a-4864-4c44-978d-77140e2626ef\",\"type\":\"BasicTicker\"}},\"id\":\"64c703b4-c85d-4411-bf26-3a8fd1489762\",\"type\":\"Grid\"},{\"attributes\":{},\"id\":\"2b20a696-7ecc-4527-a0de-9ee161acb5c9\",\"type\":\"BasicTickFormatter\"},{\"attributes\":{\"callback\":null,\"column_names\":[\"x\",\"y\"],\"data\":{\"x\":{\"__ndarray__\":\"tGpUnG6d5j+75MKgh1XpPwsA2HsA9+s/3ARBESqX5D/cBEERKpfkP9wEQREql+Q/3ARBESqX5D8Pd914Na/Jvx3BhryAzu0/QcE+ACN56z8P+OpO41vxP5YNQEOyPtk/32dwfpc/9D8efSiXylbwPzd7p+q5h/g/aXzt76XdAECwGATk7JvjP9OEJosAbug/sBgE5Oyb4z/ThCaLAG7oP56eF9h/6eY/bLqQigFr8D8Uy3XuFt3yP/Lvn1aS2vU/ewb6XT5Q7D8AwcxhtS7iP/lDLohhVdg/zIwA0UVb6T8t5r41aqTmP8yMANFFW+k/Lea+NWqk5j94Y7kr15npP0GO1x7I1Og/f5jxFhYW5j/WSVH2q0bVP/YkwTtkK70/PDpX/UTX5D+8wl/JgnTqP9yYaAYVl+c/wxXLx7AJ+j88w49f7I7aP8MVy8ewCfo/PMOPX+yO2j/dwZC5MznuP0lPFCQKuPA/qI+txe2X3T87q993xdfgP50PoFIA6uI//zbv+Bzm7D+dD6BSAOriP/827/gc5uw/+IHvwnab2z+enhfYf+nmPwIMwV7Zd+k/PDFAJ7KT7T9p42XkFA3vPzyq2Bfl4uU/0gdfEux85z/tfiUf+P71P72bTX1kL/A/ID9HVJaN4j99Sw587lv4P1PmF7o1wOY/V+F9cHJ7+j8CDMFe2XfZvxeS2RmdiO8/7Y6g/yO/9D/e8PCSd7DuP6N5z4KRYuc/Uk+EzGwr7z/+ZMcbp4jyPwIMwV7Zd9k/AAAAAAAA8D+G1qflaLnhP6g7Az1UoPQ/RUJa4jGM8D92HuhPrvTzP977KTuXU+0/tgifg89X8j/XGAJphUH0P92chSQTqus/2mkILdEf5z8LWXncUGbkPz18APVaQOA/h/SmlkQt5z+auNpuVcPhPwqHUf/aCOo/5T8cCUZ38j8tdTa76aPqP977KTuXU+0/LPZlmPJM8z8tIxmpSzT/P/f8wjJFeco//cnoFK3g4z83onM5akTfP++hzJcBSeg/FXbuUeON/T8Xto9yK7DxPzzTtMHm+/c/sN0e6bNP5j/XPyY3ruDoPw==\",\"dtype\":\"float64\",\"shape\":[101]},\"y\":{\"__ndarray__\":\"pq6yaxb+6z+mrrJrFv7rP6ausmsW/us/pq6yaxb+6z+mrrJrFv7rP6ausmsW/us/pq6yaxb+6z+mrrJrFv7rP6ausmsW/us/pq6yaxb+6z+mrrJrFv7rP8Xy3dDw6+o/xfLd0PDr6j/F8t3Q8OvqP8Xy3dDw6+o/xfLd0PDr6j/F8t3Q8OvqP8Xy3dDw6+o/xfLd0PDr6j/F8t3Q8OvqP8Xy3dDw6+o/vHPi4slo6z+8c+LiyWjrP7xz4uLJaOs/vHPi4slo6z+8c+LiyWjrP7xz4uLJaOs/vHPi4slo6z+8c+LiyWjrP7xz4uLJaOs/vHPi4slo6z9bY6jl8WbrP+OLTsPd2+s/Jl8AJvcI7T8RFA2ENpfrP3adqcNRFO0/R+qTAa/c6z/osOwiu8DrP0lmRB/v6Ow/SG00M7O16z9IbTQzs7XrPxWLEbpfjOs/FYsRul+M6z8VixG6X4zrPxWLEbpfjOs/FYsRul+M6z8VixG6X4zrPxWLEbpfjOs/FYsRul+M6z8VixG6X4zrPxWLEbpfjOs/WZiT85di7D8bd0ewQCrsPwzOexnXGeY/S0YDjotn6j/WE/k0BgnsPx4kQ/0uEOs/HBozYDg27T9VV374t2bsPx2qUxPuXOo/GYj2MPEz7D/0Ya5WqmTrP51idXnia+s/FBqbPKdb6z9Z6Hwtt47rP53UZdWWd+o/X6B5Ce6a6z8Xae0G7KbqP2ShSwXsI+s/izi45FPU6j+qUpp2yAfrP3MYg+93eOw/MxuhBeha7D8i1JHEyTPrP9vbd8goIes/MMutl1jj6j9HE+JY9nrrP7hF0C8ZQeo/1Dhc79mj6j9E/PkPhd7qP368hOLu6+o/hE1pb9aG6z+ETWlv1obrP4RNaW/Whus/hE1pb9aG6z+ETWlv1obrP4RNaW/Whus/hE1pb9aG6z+ETWlv1obrP4RNaW/Whus/hE1pb9aG6z8JWXQllCvqP0rX8pZD8+k/osBZ3KEL6z+Q5iG84RDrP/gVT0fbs+k/imlOrQ8c6z9enAYoEYHqP3+zMgKSUus/OEAyOobR6j+F2rkNxHbrPw==\",\"dtype\":\"float64\",\"shape\":[101]}}},\"id\":\"90c63e18-8000-4090-b85f-53a3642e74de\",\"type\":\"ColumnDataSource\"}],\"root_ids\":[\"1fb524f6-fe0c-4d93-b4b2-d59f6993bc92\"]},\"title\":\"Bokeh Application\",\"version\":\"0.12.4\"}};\n",
       "            var render_items = [{\"docid\":\"bb954a2c-f50b-485f-ad04-97d9ccc4f085\",\"elementid\":\"cca10450-38bf-4507-a4f5-366a37ec0b90\",\"modelid\":\"1fb524f6-fe0c-4d93-b4b2-d59f6993bc92\",\"notebook_comms_target\":\"b1f943d1-41da-4537-9004-128c18a4e118\"}];\n",
       "            \n",
       "            Bokeh.embed.embed_items(docs_json, render_items);\n",
       "          };\n",
       "          if (document.readyState != \"loading\") fn();\n",
       "          else document.addEventListener(\"DOMContentLoaded\", fn);\n",
       "        })();\n",
       "      },\n",
       "      function(Bokeh) {\n",
       "      }\n",
       "    ];\n",
       "  \n",
       "    function run_inline_js() {\n",
       "      \n",
       "      if ((window.Bokeh !== undefined) || (force === true)) {\n",
       "        for (var i = 0; i < inline_js.length; i++) {\n",
       "          inline_js[i](window.Bokeh);\n",
       "        }if (force === true) {\n",
       "          display_loaded();\n",
       "        }} else if (Date.now() < window._bokeh_timeout) {\n",
       "        setTimeout(run_inline_js, 100);\n",
       "      } else if (!window._bokeh_failed_load) {\n",
       "        console.log(\"Bokeh: BokehJS failed to load within specified timeout.\");\n",
       "        window._bokeh_failed_load = true;\n",
       "      } else if (force !== true) {\n",
       "        var cell = $(document.getElementById(\"cca10450-38bf-4507-a4f5-366a37ec0b90\")).parents('.cell').data().cell;\n",
       "        cell.output_area.append_execute_result(NB_LOAD_WARNING)\n",
       "      }\n",
       "  \n",
       "    }\n",
       "  \n",
       "    if (window._bokeh_is_loading === 0) {\n",
       "      console.log(\"Bokeh: BokehJS loaded, going straight to plotting\");\n",
       "      run_inline_js();\n",
       "    } else {\n",
       "      load_libs(js_urls, function() {\n",
       "        console.log(\"Bokeh: BokehJS plotting callback run at\", now());\n",
       "        run_inline_js();\n",
       "      });\n",
       "    }\n",
       "  }(this));\n",
       "</script>"
      ]
     },
     "metadata": {},
     "output_type": "display_data"
    },
    {
     "data": {
      "text/html": [
       "<p><code>&lt;Bokeh Notebook handle for <strong>In[23]</strong>&gt;</code></p>"
      ],
      "text/plain": [
       "<bokeh.io._CommsHandle at 0x110d96d30>"
      ]
     },
     "execution_count": 23,
     "metadata": {},
     "output_type": "execute_result"
    }
   ],
   "source": [
    "pts = []\n",
    "results = []\n",
    "for tgt, X, y in runs:\n",
    "    print(tgt, X.shape, y.shape) \n",
    "    \n",
    "    pln = pipeline.Pipeline([\n",
    "        ('scaler', preprocessing.StandardScaler()),\n",
    "        ('clf', linear_model.ElasticNetCV(cv=10, n_alphas=1000, eps=0.01, l1_ratio=[.5,.9,.99], max_iter=1e9, n_jobs=-1, normalize=True)),\n",
    "    ])\n",
    "    \n",
    "    preds = model_selection.cross_val_predict(pln, X, y, cv=10)\n",
    "    \n",
    "    opts = dict(plot_width=300, plot_height=300)\n",
    "    plot = figure(**opts)\n",
    "    plot.circle(y, preds)\n",
    "    pts.append(plot)\n",
    "    \n",
    "show(row(pts), notebook_handle=True)    "
   ]
  },
  {
   "cell_type": "code",
   "execution_count": 24,
   "metadata": {
    "scrolled": false
   },
   "outputs": [
    {
     "name": "stdout",
     "output_type": "stream",
     "text": [
      "kcat (101, 7) (101,)\n",
      "km (101, 7) (101,)\n",
      "kcatkm (101, 7) (101,)\n"
     ]
    },
    {
     "data": {
      "text/html": [
       "\n",
       "\n",
       "    <div class=\"bk-root\">\n",
       "        <div class=\"bk-plotdiv\" id=\"3f8cbf13-e317-44fd-b0c7-90a56bbfd4b9\"></div>\n",
       "    </div>\n",
       "<script type=\"text/javascript\">\n",
       "  \n",
       "  (function(global) {\n",
       "    function now() {\n",
       "      return new Date();\n",
       "    }\n",
       "  \n",
       "    var force = false;\n",
       "  \n",
       "    if (typeof (window._bokeh_onload_callbacks) === \"undefined\" || force === true) {\n",
       "      window._bokeh_onload_callbacks = [];\n",
       "      window._bokeh_is_loading = undefined;\n",
       "    }\n",
       "  \n",
       "  \n",
       "    \n",
       "    if (typeof (window._bokeh_timeout) === \"undefined\" || force === true) {\n",
       "      window._bokeh_timeout = Date.now() + 0;\n",
       "      window._bokeh_failed_load = false;\n",
       "    }\n",
       "  \n",
       "    var NB_LOAD_WARNING = {'data': {'text/html':\n",
       "       \"<div style='background-color: #fdd'>\\n\"+\n",
       "       \"<p>\\n\"+\n",
       "       \"BokehJS does not appear to have successfully loaded. If loading BokehJS from CDN, this \\n\"+\n",
       "       \"may be due to a slow or bad network connection. Possible fixes:\\n\"+\n",
       "       \"</p>\\n\"+\n",
       "       \"<ul>\\n\"+\n",
       "       \"<li>re-rerun `output_notebook()` to attempt to load from CDN again, or</li>\\n\"+\n",
       "       \"<li>use INLINE resources instead, as so:</li>\\n\"+\n",
       "       \"</ul>\\n\"+\n",
       "       \"<code>\\n\"+\n",
       "       \"from bokeh.resources import INLINE\\n\"+\n",
       "       \"output_notebook(resources=INLINE)\\n\"+\n",
       "       \"</code>\\n\"+\n",
       "       \"</div>\"}};\n",
       "  \n",
       "    function display_loaded() {\n",
       "      if (window.Bokeh !== undefined) {\n",
       "        document.getElementById(\"3f8cbf13-e317-44fd-b0c7-90a56bbfd4b9\").textContent = \"BokehJS successfully loaded.\";\n",
       "      } else if (Date.now() < window._bokeh_timeout) {\n",
       "        setTimeout(display_loaded, 100)\n",
       "      }\n",
       "    }if ((window.Jupyter !== undefined) && Jupyter.notebook.kernel) {\n",
       "      comm_manager = Jupyter.notebook.kernel.comm_manager\n",
       "      comm_manager.register_target(\"08ccecfc-0337-4cb6-ba63-4fedaed2bf42\", function () {});\n",
       "    }\n",
       "  \n",
       "    function run_callbacks() {\n",
       "      window._bokeh_onload_callbacks.forEach(function(callback) { callback() });\n",
       "      delete window._bokeh_onload_callbacks\n",
       "      console.info(\"Bokeh: all callbacks have finished\");\n",
       "    }\n",
       "  \n",
       "    function load_libs(js_urls, callback) {\n",
       "      window._bokeh_onload_callbacks.push(callback);\n",
       "      if (window._bokeh_is_loading > 0) {\n",
       "        console.log(\"Bokeh: BokehJS is being loaded, scheduling callback at\", now());\n",
       "        return null;\n",
       "      }\n",
       "      if (js_urls == null || js_urls.length === 0) {\n",
       "        run_callbacks();\n",
       "        return null;\n",
       "      }\n",
       "      console.log(\"Bokeh: BokehJS not loaded, scheduling load and callback at\", now());\n",
       "      window._bokeh_is_loading = js_urls.length;\n",
       "      for (var i = 0; i < js_urls.length; i++) {\n",
       "        var url = js_urls[i];\n",
       "        var s = document.createElement('script');\n",
       "        s.src = url;\n",
       "        s.async = false;\n",
       "        s.onreadystatechange = s.onload = function() {\n",
       "          window._bokeh_is_loading--;\n",
       "          if (window._bokeh_is_loading === 0) {\n",
       "            console.log(\"Bokeh: all BokehJS libraries loaded\");\n",
       "            run_callbacks()\n",
       "          }\n",
       "        };\n",
       "        s.onerror = function() {\n",
       "          console.warn(\"failed to load library \" + url);\n",
       "        };\n",
       "        console.log(\"Bokeh: injecting script tag for BokehJS library: \", url);\n",
       "        document.getElementsByTagName(\"head\")[0].appendChild(s);\n",
       "      }\n",
       "    };var element = document.getElementById(\"3f8cbf13-e317-44fd-b0c7-90a56bbfd4b9\");\n",
       "    if (element == null) {\n",
       "      console.log(\"Bokeh: ERROR: autoload.js configured with elementid '3f8cbf13-e317-44fd-b0c7-90a56bbfd4b9' but no matching script tag was found. \")\n",
       "      return false;\n",
       "    }\n",
       "  \n",
       "    var js_urls = [];\n",
       "  \n",
       "    var inline_js = [\n",
       "      function(Bokeh) {\n",
       "        (function() {\n",
       "          var fn = function() {\n",
       "            var docs_json = {\"55c2e9c7-e4ba-471d-8c9f-e9e29d231227\":{\"roots\":{\"references\":[{\"attributes\":{\"plot\":{\"id\":\"9bbfad07-a8b4-41c5-9708-1472dce7369b\",\"subtype\":\"Figure\",\"type\":\"Plot\"}},\"id\":\"eea694e7-14d2-45a8-abc8-cf390d48d072\",\"type\":\"HelpTool\"},{\"attributes\":{\"plot\":{\"id\":\"9bbfad07-a8b4-41c5-9708-1472dce7369b\",\"subtype\":\"Figure\",\"type\":\"Plot\"}},\"id\":\"41218390-bba0-4387-8e67-920818dfd67c\",\"type\":\"ResetTool\"},{\"attributes\":{\"dimension\":1,\"plot\":{\"id\":\"9bbfad07-a8b4-41c5-9708-1472dce7369b\",\"subtype\":\"Figure\",\"type\":\"Plot\"},\"ticker\":{\"id\":\"24297057-8f49-4173-a14d-eb579e156b5e\",\"type\":\"BasicTicker\"}},\"id\":\"c0ed7b8f-2800-4f86-a75a-0f49e325e068\",\"type\":\"Grid\"},{\"attributes\":{\"data_source\":{\"id\":\"bdadf0bb-5bcc-4990-b43d-5f66a9c27e8e\",\"type\":\"ColumnDataSource\"},\"glyph\":{\"id\":\"cfb91857-34cb-4d31-9fee-659efb28b91d\",\"type\":\"Circle\"},\"hover_glyph\":null,\"nonselection_glyph\":{\"id\":\"b8e3e7d7-0d5e-4bed-a9dd-51c8bf73d576\",\"type\":\"Circle\"},\"selection_glyph\":null},\"id\":\"d1dfa16b-60f7-4ff0-83bb-0d67a22a45bf\",\"type\":\"GlyphRenderer\"},{\"attributes\":{},\"id\":\"27945c30-2830-4ef1-8d68-4c5712494d7d\",\"type\":\"BasicTicker\"},{\"attributes\":{\"below\":[{\"id\":\"2ab39276-fc42-4e86-b9fd-9ecb2e37fce3\",\"type\":\"LinearAxis\"}],\"left\":[{\"id\":\"5372e39c-ef93-4508-922d-7ae146525b0d\",\"type\":\"LinearAxis\"}],\"plot_height\":300,\"plot_width\":300,\"renderers\":[{\"id\":\"2ab39276-fc42-4e86-b9fd-9ecb2e37fce3\",\"type\":\"LinearAxis\"},{\"id\":\"891a5c3f-f04a-4a10-9e92-352b1cb22014\",\"type\":\"Grid\"},{\"id\":\"5372e39c-ef93-4508-922d-7ae146525b0d\",\"type\":\"LinearAxis\"},{\"id\":\"3e112e59-218b-43b7-9be0-2c924cbd8b98\",\"type\":\"Grid\"},{\"id\":\"ad0939a2-e0fe-411f-9540-58deae6ee82f\",\"type\":\"BoxAnnotation\"},{\"id\":\"d1dfa16b-60f7-4ff0-83bb-0d67a22a45bf\",\"type\":\"GlyphRenderer\"}],\"title\":{\"id\":\"0f0b2556-0799-435e-ab1b-4442c320dd48\",\"type\":\"Title\"},\"tool_events\":{\"id\":\"bc5f64d1-3381-41a1-8842-2770f16b171b\",\"type\":\"ToolEvents\"},\"toolbar\":{\"id\":\"9c9e82ea-15c6-4345-982c-8f9d5a6ac14d\",\"type\":\"Toolbar\"},\"x_range\":{\"id\":\"efc53097-37f9-433e-bdfd-1639003304f6\",\"type\":\"DataRange1d\"},\"y_range\":{\"id\":\"a42469d4-d161-4f88-a363-be00c4108899\",\"type\":\"DataRange1d\"}},\"id\":\"98d345b1-cc97-48bf-a077-52bb59cb45a2\",\"subtype\":\"Figure\",\"type\":\"Plot\"},{\"attributes\":{\"data_source\":{\"id\":\"8bef5de3-2cc7-4e36-9035-7ba10861f67b\",\"type\":\"ColumnDataSource\"},\"glyph\":{\"id\":\"426e740f-a797-4c29-81c2-e8842375fd37\",\"type\":\"Circle\"},\"hover_glyph\":null,\"nonselection_glyph\":{\"id\":\"51bcab7a-350b-4987-8f01-e0021c3adb3e\",\"type\":\"Circle\"},\"selection_glyph\":null},\"id\":\"368b2603-d764-4277-ad6d-08c2638a04b3\",\"type\":\"GlyphRenderer\"},{\"attributes\":{\"plot\":{\"id\":\"9bbfad07-a8b4-41c5-9708-1472dce7369b\",\"subtype\":\"Figure\",\"type\":\"Plot\"}},\"id\":\"f76e4864-377e-4896-8101-945ca547c060\",\"type\":\"WheelZoomTool\"},{\"attributes\":{\"below\":[{\"id\":\"326607fc-d755-475b-a6fc-797959ddf0f0\",\"type\":\"LinearAxis\"}],\"left\":[{\"id\":\"ef895668-0d9a-4502-8b30-89714686b121\",\"type\":\"LinearAxis\"}],\"plot_height\":300,\"plot_width\":300,\"renderers\":[{\"id\":\"326607fc-d755-475b-a6fc-797959ddf0f0\",\"type\":\"LinearAxis\"},{\"id\":\"8f2a7f99-b142-4a97-bed8-89f97ed883a7\",\"type\":\"Grid\"},{\"id\":\"ef895668-0d9a-4502-8b30-89714686b121\",\"type\":\"LinearAxis\"},{\"id\":\"c0ed7b8f-2800-4f86-a75a-0f49e325e068\",\"type\":\"Grid\"},{\"id\":\"55c4c384-84e9-4127-b9a0-a210044c46b1\",\"type\":\"BoxAnnotation\"},{\"id\":\"368b2603-d764-4277-ad6d-08c2638a04b3\",\"type\":\"GlyphRenderer\"}],\"title\":{\"id\":\"2c8e0494-7ba6-4acd-9c4c-3858ecd26234\",\"type\":\"Title\"},\"tool_events\":{\"id\":\"2f4a89b0-ffd6-4b6d-a3f2-d6e7fbedc2bf\",\"type\":\"ToolEvents\"},\"toolbar\":{\"id\":\"0cdd8bb5-b7d2-4a74-b0e4-c6b0aaa02169\",\"type\":\"Toolbar\"},\"x_range\":{\"id\":\"4983c6e8-8bc1-4716-8ef5-a6839297e494\",\"type\":\"DataRange1d\"},\"y_range\":{\"id\":\"abb4d193-70aa-49e7-9885-92bf27428144\",\"type\":\"DataRange1d\"}},\"id\":\"9bbfad07-a8b4-41c5-9708-1472dce7369b\",\"subtype\":\"Figure\",\"type\":\"Plot\"},{\"attributes\":{\"bottom_units\":\"screen\",\"fill_alpha\":{\"value\":0.5},\"fill_color\":{\"value\":\"lightgrey\"},\"left_units\":\"screen\",\"level\":\"overlay\",\"line_alpha\":{\"value\":1.0},\"line_color\":{\"value\":\"black\"},\"line_dash\":[4,4],\"line_width\":{\"value\":2},\"plot\":null,\"render_mode\":\"css\",\"right_units\":\"screen\",\"top_units\":\"screen\"},\"id\":\"55c4c384-84e9-4127-b9a0-a210044c46b1\",\"type\":\"BoxAnnotation\"},{\"attributes\":{\"overlay\":{\"id\":\"55c4c384-84e9-4127-b9a0-a210044c46b1\",\"type\":\"BoxAnnotation\"},\"plot\":{\"id\":\"9bbfad07-a8b4-41c5-9708-1472dce7369b\",\"subtype\":\"Figure\",\"type\":\"Plot\"}},\"id\":\"1ea2b947-0eee-4dc2-8a1d-753663d721e4\",\"type\":\"BoxZoomTool\"},{\"attributes\":{\"plot\":{\"id\":\"9bbfad07-a8b4-41c5-9708-1472dce7369b\",\"subtype\":\"Figure\",\"type\":\"Plot\"}},\"id\":\"f03c454a-9563-42b9-bb34-af2ab9bff593\",\"type\":\"PanTool\"},{\"attributes\":{\"plot\":{\"id\":\"9bbfad07-a8b4-41c5-9708-1472dce7369b\",\"subtype\":\"Figure\",\"type\":\"Plot\"}},\"id\":\"fe8f6f75-2394-4d5c-ba94-5d5ac365ff00\",\"type\":\"SaveTool\"},{\"attributes\":{\"below\":[{\"id\":\"4246dc50-756e-4e6f-a421-f5c2fa2851f9\",\"type\":\"LinearAxis\"}],\"left\":[{\"id\":\"1db23f80-5f19-4662-9130-8d835625a02d\",\"type\":\"LinearAxis\"}],\"plot_height\":300,\"plot_width\":300,\"renderers\":[{\"id\":\"4246dc50-756e-4e6f-a421-f5c2fa2851f9\",\"type\":\"LinearAxis\"},{\"id\":\"aae55e51-98c5-4e8b-a530-7597a8f48176\",\"type\":\"Grid\"},{\"id\":\"1db23f80-5f19-4662-9130-8d835625a02d\",\"type\":\"LinearAxis\"},{\"id\":\"32200455-a831-40c1-a604-1f04c1b12d30\",\"type\":\"Grid\"},{\"id\":\"f78c6245-d631-483c-9948-5f79bc484f9d\",\"type\":\"BoxAnnotation\"},{\"id\":\"b2c9386d-68ab-48b5-a9b2-bfe7c2bb009b\",\"type\":\"GlyphRenderer\"}],\"title\":{\"id\":\"fca4a620-c2f0-49be-a927-48d8d3d88d0a\",\"type\":\"Title\"},\"tool_events\":{\"id\":\"7721538e-bfc4-4acd-8265-7c987151328f\",\"type\":\"ToolEvents\"},\"toolbar\":{\"id\":\"f89abb7d-87bf-43d5-943f-49aef6c4d6ca\",\"type\":\"Toolbar\"},\"x_range\":{\"id\":\"6b9b9490-8f55-43e0-a708-ca12447cc4bc\",\"type\":\"DataRange1d\"},\"y_range\":{\"id\":\"39a0787d-aa7b-4c34-bdf3-33d4a6ae9b1e\",\"type\":\"DataRange1d\"}},\"id\":\"81f96dea-a204-4c28-b460-e072798f9fde\",\"subtype\":\"Figure\",\"type\":\"Plot\"},{\"attributes\":{},\"id\":\"b76b53a2-a403-4ba5-b05f-a09b6bd9860a\",\"type\":\"BasicTickFormatter\"},{\"attributes\":{},\"id\":\"7721538e-bfc4-4acd-8265-7c987151328f\",\"type\":\"ToolEvents\"},{\"attributes\":{},\"id\":\"969da14d-3c70-423c-abdf-8d9cc2c97c97\",\"type\":\"BasicTicker\"},{\"attributes\":{\"data_source\":{\"id\":\"426aaa22-e031-4571-aa00-e44acc6afbda\",\"type\":\"ColumnDataSource\"},\"glyph\":{\"id\":\"d3585d5b-1b0e-4424-ac64-94bcdc640923\",\"type\":\"Circle\"},\"hover_glyph\":null,\"nonselection_glyph\":{\"id\":\"117229f7-6032-4835-9c4b-ad50f314a69a\",\"type\":\"Circle\"},\"selection_glyph\":null},\"id\":\"b2c9386d-68ab-48b5-a9b2-bfe7c2bb009b\",\"type\":\"GlyphRenderer\"},{\"attributes\":{\"plot\":{\"id\":\"98d345b1-cc97-48bf-a077-52bb59cb45a2\",\"subtype\":\"Figure\",\"type\":\"Plot\"},\"ticker\":{\"id\":\"27945c30-2830-4ef1-8d68-4c5712494d7d\",\"type\":\"BasicTicker\"}},\"id\":\"891a5c3f-f04a-4a10-9e92-352b1cb22014\",\"type\":\"Grid\"},{\"attributes\":{\"formatter\":{\"id\":\"c2bd4688-ae9f-440a-977b-6fb49cae53f5\",\"type\":\"BasicTickFormatter\"},\"plot\":{\"id\":\"98d345b1-cc97-48bf-a077-52bb59cb45a2\",\"subtype\":\"Figure\",\"type\":\"Plot\"},\"ticker\":{\"id\":\"27945c30-2830-4ef1-8d68-4c5712494d7d\",\"type\":\"BasicTicker\"}},\"id\":\"2ab39276-fc42-4e86-b9fd-9ecb2e37fce3\",\"type\":\"LinearAxis\"},{\"attributes\":{\"formatter\":{\"id\":\"172517fa-9cc2-48e7-81e5-8aa901761b0c\",\"type\":\"BasicTickFormatter\"},\"plot\":{\"id\":\"98d345b1-cc97-48bf-a077-52bb59cb45a2\",\"subtype\":\"Figure\",\"type\":\"Plot\"},\"ticker\":{\"id\":\"87665e01-1fa8-4571-b683-076bbbe3cc9a\",\"type\":\"BasicTicker\"}},\"id\":\"5372e39c-ef93-4508-922d-7ae146525b0d\",\"type\":\"LinearAxis\"},{\"attributes\":{},\"id\":\"87665e01-1fa8-4571-b683-076bbbe3cc9a\",\"type\":\"BasicTicker\"},{\"attributes\":{\"callback\":null},\"id\":\"a42469d4-d161-4f88-a363-be00c4108899\",\"type\":\"DataRange1d\"},{\"attributes\":{\"fill_color\":{\"value\":\"#1f77b4\"},\"line_color\":{\"value\":\"#1f77b4\"},\"x\":{\"field\":\"x\"},\"y\":{\"field\":\"y\"}},\"id\":\"cfb91857-34cb-4d31-9fee-659efb28b91d\",\"type\":\"Circle\"},{\"attributes\":{\"callback\":null},\"id\":\"4983c6e8-8bc1-4716-8ef5-a6839297e494\",\"type\":\"DataRange1d\"},{\"attributes\":{\"active_drag\":\"auto\",\"active_scroll\":\"auto\",\"active_tap\":\"auto\",\"tools\":[{\"id\":\"b10685c8-3e26-41eb-9df6-96d5b856498e\",\"type\":\"PanTool\"},{\"id\":\"bcf90425-3854-4fcd-a94b-4034c304ea74\",\"type\":\"WheelZoomTool\"},{\"id\":\"beaad277-4550-46e0-9c6b-40eb4a34d620\",\"type\":\"BoxZoomTool\"},{\"id\":\"dc147726-7f18-4c16-ab5f-ac6059bb77cd\",\"type\":\"SaveTool\"},{\"id\":\"71008bea-adcf-4f41-bf37-d10273f4ca7f\",\"type\":\"ResetTool\"},{\"id\":\"9ff6fb2b-62df-4dee-8dd2-b98eedde27dd\",\"type\":\"HelpTool\"}]},\"id\":\"9c9e82ea-15c6-4345-982c-8f9d5a6ac14d\",\"type\":\"Toolbar\"},{\"attributes\":{\"callback\":null},\"id\":\"abb4d193-70aa-49e7-9885-92bf27428144\",\"type\":\"DataRange1d\"},{\"attributes\":{},\"id\":\"bc5f64d1-3381-41a1-8842-2770f16b171b\",\"type\":\"ToolEvents\"},{\"attributes\":{\"callback\":null},\"id\":\"efc53097-37f9-433e-bdfd-1639003304f6\",\"type\":\"DataRange1d\"},{\"attributes\":{\"dimension\":1,\"plot\":{\"id\":\"98d345b1-cc97-48bf-a077-52bb59cb45a2\",\"subtype\":\"Figure\",\"type\":\"Plot\"},\"ticker\":{\"id\":\"87665e01-1fa8-4571-b683-076bbbe3cc9a\",\"type\":\"BasicTicker\"}},\"id\":\"3e112e59-218b-43b7-9be0-2c924cbd8b98\",\"type\":\"Grid\"},{\"attributes\":{\"fill_alpha\":{\"value\":0.1},\"fill_color\":{\"value\":\"#1f77b4\"},\"line_alpha\":{\"value\":0.1},\"line_color\":{\"value\":\"#1f77b4\"},\"x\":{\"field\":\"x\"},\"y\":{\"field\":\"y\"}},\"id\":\"b8e3e7d7-0d5e-4bed-a9dd-51c8bf73d576\",\"type\":\"Circle\"},{\"attributes\":{\"callback\":null,\"column_names\":[\"x\",\"y\"],\"data\":{\"x\":{\"__ndarray__\":\"tGpUnG6d5j+75MKgh1XpPwsA2HsA9+s/3ARBESqX5D/cBEERKpfkP9wEQREql+Q/3ARBESqX5D8Pd914Na/Jvx3BhryAzu0/QcE+ACN56z8P+OpO41vxP5YNQEOyPtk/32dwfpc/9D8efSiXylbwPzd7p+q5h/g/aXzt76XdAECwGATk7JvjP9OEJosAbug/sBgE5Oyb4z/ThCaLAG7oP56eF9h/6eY/bLqQigFr8D8Uy3XuFt3yP/Lvn1aS2vU/ewb6XT5Q7D8AwcxhtS7iP/lDLohhVdg/zIwA0UVb6T8t5r41aqTmP8yMANFFW+k/Lea+NWqk5j94Y7kr15npP0GO1x7I1Og/f5jxFhYW5j/WSVH2q0bVP/YkwTtkK70/PDpX/UTX5D+8wl/JgnTqP9yYaAYVl+c/wxXLx7AJ+j88w49f7I7aP8MVy8ewCfo/PMOPX+yO2j/dwZC5MznuP0lPFCQKuPA/qI+txe2X3T87q993xdfgP50PoFIA6uI//zbv+Bzm7D+dD6BSAOriP/827/gc5uw/+IHvwnab2z+enhfYf+nmPwIMwV7Zd+k/PDFAJ7KT7T9p42XkFA3vPzyq2Bfl4uU/0gdfEux85z/tfiUf+P71P72bTX1kL/A/ID9HVJaN4j99Sw587lv4P1PmF7o1wOY/V+F9cHJ7+j8CDMFe2XfZvxeS2RmdiO8/7Y6g/yO/9D/e8PCSd7DuP6N5z4KRYuc/Uk+EzGwr7z/+ZMcbp4jyPwIMwV7Zd9k/AAAAAAAA8D+G1qflaLnhP6g7Az1UoPQ/RUJa4jGM8D92HuhPrvTzP977KTuXU+0/tgifg89X8j/XGAJphUH0P92chSQTqus/2mkILdEf5z8LWXncUGbkPz18APVaQOA/h/SmlkQt5z+auNpuVcPhPwqHUf/aCOo/5T8cCUZ38j8tdTa76aPqP977KTuXU+0/LPZlmPJM8z8tIxmpSzT/P/f8wjJFeco//cnoFK3g4z83onM5akTfP++hzJcBSeg/FXbuUeON/T8Xto9yK7DxPzzTtMHm+/c/sN0e6bNP5j/XPyY3ruDoPw==\",\"dtype\":\"float64\",\"shape\":[101]},\"y\":{\"__ndarray__\":\"0ucaNGlX7D/z+bl3LMXrP43A9SgaqOs/rGrY/xyu6j+satj/HK7qP6xq2P8cruo/rGrY/xyu6j++8aKFfFzrP4qRA8vRO+w/6MvbANfG6z+1tOIE1LzrP+lGlzPGu+s/SCDvWH/56j+c7VRk1bzqP4WcsxRFoOs/R5ReePoJ7D+Bl1E18r7qP4GXUTXyvuo/gZdRNfK+6j+Bl1E18r7qP6RYO3eUR+w/sTxy2Ixm7D/BIBlTbljrPwhkr2wAZ+s/VR7p+Ptg6j+ckWsabHHsPzB6TKe2Aeg/VKCt8eeZ6z9UoK3x55nrP1SgrfHnmes/VKCt8eeZ6z9srd4y9d3qP+vPNoC+t+s/UUBK74RW6z8n6/aWMs3qPwcGDPtJ5us/hiU6KmZl6z97GJQbm3rrP7CAAVbs6Ow/h59gVPFf6z+Hn2BU8V/rP4efYFTxX+s/h59gVPFf6z/qhNlNQy7sP1XDf2oEQOw//v8pMk256j9YJvAqn7DqP2Zg8pzmXus/ZmDynOZe6z9mYPKc5l7rP2Zg8pzmXus/nztTVKgs6z8+Nvp4IT/sP2gGT10oR+g/QHPCBjR56j/7PNN4ownsP2gnqeAYXus/OWBkBv5T7D/miDihn/vrP+fvZUoV/uo/bL0ay15y7D+JuweFdObrP0qFfA20F+w/aAP0oIXq7D+pHsPRkyDsP1r6uS95lOg/kni6lBSg7D8pcry5fLzrPyDvr1tpZus/wsJZTeeZ6j+kVB2Wu6LsPzE/fay3x+w/zcHd9St37D9BGGkAbdXrP0L6IC95tOs/8DNKnjcf6z9DaPfNcAbsP+Vvx1jUVOo/yr4+1YTy6j9bFFnMzlzrP2OrW4sFUes/WyiFtUks7D/wspLL2gvsP/fWcIVgF+c/DASMGiu/6j/RAcpb74HqP42ZdcYoTeo/6ds+WKKc7D8MDbnUqe7qP/58OX5PCOs/fLz1x6hB7D8epv07I5XqP4+6IW3XVOo/lZnZjWiV6z9/mGBHwpvrP+1lVb86DOo/zEQTfmqn6z/HJPkq5fbqPyi8sh2l5us/2mdEWw5T6z+iOgg5+w/sPw==\",\"dtype\":\"float64\",\"shape\":[101]}}},\"id\":\"bdadf0bb-5bcc-4990-b43d-5f66a9c27e8e\",\"type\":\"ColumnDataSource\"},{\"attributes\":{\"bottom_units\":\"screen\",\"fill_alpha\":{\"value\":0.5},\"fill_color\":{\"value\":\"lightgrey\"},\"left_units\":\"screen\",\"level\":\"overlay\",\"line_alpha\":{\"value\":1.0},\"line_color\":{\"value\":\"black\"},\"line_dash\":[4,4],\"line_width\":{\"value\":2},\"plot\":null,\"render_mode\":\"css\",\"right_units\":\"screen\",\"top_units\":\"screen\"},\"id\":\"ad0939a2-e0fe-411f-9540-58deae6ee82f\",\"type\":\"BoxAnnotation\"},{\"attributes\":{\"plot\":{\"id\":\"98d345b1-cc97-48bf-a077-52bb59cb45a2\",\"subtype\":\"Figure\",\"type\":\"Plot\"}},\"id\":\"b10685c8-3e26-41eb-9df6-96d5b856498e\",\"type\":\"PanTool\"},{\"attributes\":{\"plot\":null,\"text\":\"\"},\"id\":\"0f0b2556-0799-435e-ab1b-4442c320dd48\",\"type\":\"Title\"},{\"attributes\":{\"plot\":{\"id\":\"98d345b1-cc97-48bf-a077-52bb59cb45a2\",\"subtype\":\"Figure\",\"type\":\"Plot\"}},\"id\":\"bcf90425-3854-4fcd-a94b-4034c304ea74\",\"type\":\"WheelZoomTool\"},{\"attributes\":{\"overlay\":{\"id\":\"ad0939a2-e0fe-411f-9540-58deae6ee82f\",\"type\":\"BoxAnnotation\"},\"plot\":{\"id\":\"98d345b1-cc97-48bf-a077-52bb59cb45a2\",\"subtype\":\"Figure\",\"type\":\"Plot\"}},\"id\":\"beaad277-4550-46e0-9c6b-40eb4a34d620\",\"type\":\"BoxZoomTool\"},{\"attributes\":{\"plot\":{\"id\":\"98d345b1-cc97-48bf-a077-52bb59cb45a2\",\"subtype\":\"Figure\",\"type\":\"Plot\"}},\"id\":\"dc147726-7f18-4c16-ab5f-ac6059bb77cd\",\"type\":\"SaveTool\"},{\"attributes\":{\"plot\":{\"id\":\"98d345b1-cc97-48bf-a077-52bb59cb45a2\",\"subtype\":\"Figure\",\"type\":\"Plot\"}},\"id\":\"71008bea-adcf-4f41-bf37-d10273f4ca7f\",\"type\":\"ResetTool\"},{\"attributes\":{\"plot\":{\"id\":\"98d345b1-cc97-48bf-a077-52bb59cb45a2\",\"subtype\":\"Figure\",\"type\":\"Plot\"}},\"id\":\"9ff6fb2b-62df-4dee-8dd2-b98eedde27dd\",\"type\":\"HelpTool\"},{\"attributes\":{},\"id\":\"2f4a89b0-ffd6-4b6d-a3f2-d6e7fbedc2bf\",\"type\":\"ToolEvents\"},{\"attributes\":{},\"id\":\"c2bd4688-ae9f-440a-977b-6fb49cae53f5\",\"type\":\"BasicTickFormatter\"},{\"attributes\":{},\"id\":\"172517fa-9cc2-48e7-81e5-8aa901761b0c\",\"type\":\"BasicTickFormatter\"},{\"attributes\":{\"plot\":{\"id\":\"81f96dea-a204-4c28-b460-e072798f9fde\",\"subtype\":\"Figure\",\"type\":\"Plot\"},\"ticker\":{\"id\":\"969da14d-3c70-423c-abdf-8d9cc2c97c97\",\"type\":\"BasicTicker\"}},\"id\":\"aae55e51-98c5-4e8b-a530-7597a8f48176\",\"type\":\"Grid\"},{\"attributes\":{\"formatter\":{\"id\":\"b76b53a2-a403-4ba5-b05f-a09b6bd9860a\",\"type\":\"BasicTickFormatter\"},\"plot\":{\"id\":\"9bbfad07-a8b4-41c5-9708-1472dce7369b\",\"subtype\":\"Figure\",\"type\":\"Plot\"},\"ticker\":{\"id\":\"f920a7b6-9a9e-4fbf-8ad5-c0b2745f0c33\",\"type\":\"BasicTicker\"}},\"id\":\"326607fc-d755-475b-a6fc-797959ddf0f0\",\"type\":\"LinearAxis\"},{\"attributes\":{\"formatter\":{\"id\":\"4e60d8d1-b130-41cd-ae64-7b2e2f84d3a8\",\"type\":\"BasicTickFormatter\"},\"plot\":{\"id\":\"81f96dea-a204-4c28-b460-e072798f9fde\",\"subtype\":\"Figure\",\"type\":\"Plot\"},\"ticker\":{\"id\":\"969da14d-3c70-423c-abdf-8d9cc2c97c97\",\"type\":\"BasicTicker\"}},\"id\":\"4246dc50-756e-4e6f-a421-f5c2fa2851f9\",\"type\":\"LinearAxis\"},{\"attributes\":{\"formatter\":{\"id\":\"383b0189-b229-4754-9555-9aaa816a3238\",\"type\":\"BasicTickFormatter\"},\"plot\":{\"id\":\"81f96dea-a204-4c28-b460-e072798f9fde\",\"subtype\":\"Figure\",\"type\":\"Plot\"},\"ticker\":{\"id\":\"9a024591-7955-42d8-b42f-43453330e479\",\"type\":\"BasicTicker\"}},\"id\":\"1db23f80-5f19-4662-9130-8d835625a02d\",\"type\":\"LinearAxis\"},{\"attributes\":{\"fill_color\":{\"value\":\"#1f77b4\"},\"line_color\":{\"value\":\"#1f77b4\"},\"x\":{\"field\":\"x\"},\"y\":{\"field\":\"y\"}},\"id\":\"426e740f-a797-4c29-81c2-e8842375fd37\",\"type\":\"Circle\"},{\"attributes\":{},\"id\":\"9a024591-7955-42d8-b42f-43453330e479\",\"type\":\"BasicTicker\"},{\"attributes\":{\"callback\":null},\"id\":\"39a0787d-aa7b-4c34-bdf3-33d4a6ae9b1e\",\"type\":\"DataRange1d\"},{\"attributes\":{\"fill_color\":{\"value\":\"#1f77b4\"},\"line_color\":{\"value\":\"#1f77b4\"},\"x\":{\"field\":\"x\"},\"y\":{\"field\":\"y\"}},\"id\":\"d3585d5b-1b0e-4424-ac64-94bcdc640923\",\"type\":\"Circle\"},{\"attributes\":{\"dimension\":1,\"plot\":{\"id\":\"81f96dea-a204-4c28-b460-e072798f9fde\",\"subtype\":\"Figure\",\"type\":\"Plot\"},\"ticker\":{\"id\":\"9a024591-7955-42d8-b42f-43453330e479\",\"type\":\"BasicTicker\"}},\"id\":\"32200455-a831-40c1-a604-1f04c1b12d30\",\"type\":\"Grid\"},{\"attributes\":{\"active_drag\":\"auto\",\"active_scroll\":\"auto\",\"active_tap\":\"auto\",\"tools\":[{\"id\":\"351c6863-4cef-4e65-8605-ce96b3ac769c\",\"type\":\"PanTool\"},{\"id\":\"41c34c88-91a3-44c0-8012-d712c2a3febd\",\"type\":\"WheelZoomTool\"},{\"id\":\"8ecbe4ee-bc1a-47a1-b3bd-72f027008b08\",\"type\":\"BoxZoomTool\"},{\"id\":\"1d6e5c1d-2e54-4c29-88fc-5fd1d9091a11\",\"type\":\"SaveTool\"},{\"id\":\"21a5590e-a43c-4344-bc67-b2524245a954\",\"type\":\"ResetTool\"},{\"id\":\"34f24698-08f7-4dd7-9220-30bc5aa48602\",\"type\":\"HelpTool\"}]},\"id\":\"f89abb7d-87bf-43d5-943f-49aef6c4d6ca\",\"type\":\"Toolbar\"},{\"attributes\":{\"callback\":null},\"id\":\"6b9b9490-8f55-43e0-a708-ca12447cc4bc\",\"type\":\"DataRange1d\"},{\"attributes\":{\"fill_alpha\":{\"value\":0.1},\"fill_color\":{\"value\":\"#1f77b4\"},\"line_alpha\":{\"value\":0.1},\"line_color\":{\"value\":\"#1f77b4\"},\"x\":{\"field\":\"x\"},\"y\":{\"field\":\"y\"}},\"id\":\"117229f7-6032-4835-9c4b-ad50f314a69a\",\"type\":\"Circle\"},{\"attributes\":{\"callback\":null,\"column_names\":[\"x\",\"y\"],\"data\":{\"x\":{\"__ndarray__\":\"jwpbIJ4TFUClVBJENc8TQP2vnLWOzhNAQsx2HlohE0AezyXnZegUQELMdh5aIRNAHs8l52XoFEBbFsND8KAUQKTNkzM/FhFAyILpNfuyEEApJ3AjgvUSQC39TzeJ7hBAYZab7HptBkAJ3A+u8KYSQFo56cg1eQhAqr0Q6WCw/T/G1HfX98UUQK3vdzhMRRRAxtR31/fFFECt73c4TEUUQF7G7L0BdRRAlFEUFLP+E0Dn8QTvyNAPQNjqKUb7nv4/NMGx/z2rEEC1gUJgUCcPQDTNGnilfhVA9IFLVjr2EUD5feE3VA4UQPSBS1Y69hFA+X3hN1QOFEABQy7eETMUQH/K3pHerRNAZZ3YTKxwE0BbR1hzZmcUQCvguL4elhFAA0TFSyHCFEBeM56rB2cUQOxggihhIRVAt4j2ic34A0C2gBVnm2oVQLeI9onN+ANAtoAVZ5tqFUDAXoB+vfkTQJPDmtNTchNAlx3cd3W8C0A8Ca5Rn1EUQMzjFZRiNxNAYyihVwNTEkDM4xWUYjcTQGMooVcDUxJAOBnC85DdFUABZG1ER/wUQPJTZ//jxBNAe3L/SEJbEUCWbDHUsJcSQCRlV2ZV0hNAyD03BtxsDUBZWPMCE84FQLrnH/oRYhJA+0DQH9jxD0BYSzCXp2EOQOB2JdL+ghFAn5Zsk+ikB0DqlCHrmcgYQAGZ1sY08ghAA1q3xen1BUDYm0OacSANQG63O+Zl5wVAtcmm4VDBBEBf4WmWQy0OQKHoNnynfBVAVQpyBItHC0CQEfSs9iIVQI7iHKGyAhdASSFtRYWqEUALowXpDtMSQGgBwSs6WxJARxpbykMqEEAPgfCGc6YSQE8NB5kaxRNAsBQ0BuS9FEDm1Gj9dRkVQBWNdJMm3hRAQc30+mxBFEDa6U3gumQVQLsNxlxwaRNAs4Y8M+T2DEDpjpCCkucUQJN0GI8erxNALSQulJbeEUDsAk/JzMsHQDglR9FcCxFA+G3uPQwwC0DPHksNoTgQQMnT4wBPGxFAzQdQKQB1+T+rU4asZyLzP2O2i4wcWw5AclHzyHIWEkBjDDlhKVsUQA==\",\"dtype\":\"float64\",\"shape\":[101]},\"y\":{\"__ndarray__\":\"fGFMLud2EUCBz1mx7EASQFQtECn0UhJAq1Lqv8hREUCrUuq/yFERQKtS6r/IURFAq1Lqv8hREUDqSP32OI0RQLLI016RvRJAEI07Ny7UEEDzRP9rdxIRQFp25Ic3vBFABkIJXxouEEBcOnnApagRQJVE1eBbsRFAxdfGFX1wEUDe/sKIPcYRQN7+wog9xhFA3v7CiD3GEUDe/sKIPcYRQMbLIvvochBAIKiGpiMSEUDbRCPpsfARQO+5Zf5wZRFAbgfnuLOVEUDvBq4xO74RQFOmll2n8xNA7nSWbI/rEUDudJZsj+sRQO50lmyP6xFA7nSWbI/rEUAqd/bJCQgSQDlTRaf1tRFAfG8SgXZFEkB3LF6Ck68RQHHUFtuq0BBA5+MFpkGBEUAeNqcGrdgQQLX+zGO6shBA0ZvqaTJrEUDRm+ppMmsRQNGb6mkyaxFA0ZvqaTJrEUCNKNhVUkoRQPF+Kp6EuRFA5kFkkwxgEUBUtf+9xOQRQEaReGIq1xFARpF4YirXEUBGkXhiKtcRQEaReGIq1xFAfeOWKrH/EkDHAdowmLkRQFizw6r3VxJApBTzmB3mEUC7NoZBU2gQQOEZ9FbVqRJAJEbXHzIjEUDV06uydn8RQMBZNhNPwRBA7C8YWcWlEEDohrbbQPgRQGmpwslRQhFAnat/bFrFEEDv49ggjDwRQNK7quaaZxJAewp1415cEUCPB7E5XjoRQNQuCkPzVxFAzoJTIZICEkC6LFiGoisPQOz7nf/pnRFAYHBEGtXFEUCNsI/JqbYRQFFgcef6HRJAY9vYF39gEUA/BjtfJw8SQBZlr6XNHBJAcxJQfY/REUCyAShXQRISQEtaqyqMaRFAI2CNEnpXEUBBOhySAUkRQOol70GE7xFAf+QGp2ZAEUDroYeJjPMRQNgfbc6QPBJAPGNqcZDxEUCyno/LUr0RQCb/2CSzFhFAoFwEwrj6EUCXAlS6wf0RQGG1R/aXLhFAMnU0o38HEkBHICJ4bZMRQGjKxa4IpxFALObH65jiD0AZojJICFcRQDAZteb9RBFAdyFiA7tjEECklgjQ4UQSQA==\",\"dtype\":\"float64\",\"shape\":[101]}}},\"id\":\"426aaa22-e031-4571-aa00-e44acc6afbda\",\"type\":\"ColumnDataSource\"},{\"attributes\":{\"bottom_units\":\"screen\",\"fill_alpha\":{\"value\":0.5},\"fill_color\":{\"value\":\"lightgrey\"},\"left_units\":\"screen\",\"level\":\"overlay\",\"line_alpha\":{\"value\":1.0},\"line_color\":{\"value\":\"black\"},\"line_dash\":[4,4],\"line_width\":{\"value\":2},\"plot\":null,\"render_mode\":\"css\",\"right_units\":\"screen\",\"top_units\":\"screen\"},\"id\":\"f78c6245-d631-483c-9948-5f79bc484f9d\",\"type\":\"BoxAnnotation\"},{\"attributes\":{\"plot\":{\"id\":\"81f96dea-a204-4c28-b460-e072798f9fde\",\"subtype\":\"Figure\",\"type\":\"Plot\"}},\"id\":\"351c6863-4cef-4e65-8605-ce96b3ac769c\",\"type\":\"PanTool\"},{\"attributes\":{\"plot\":null,\"text\":\"\"},\"id\":\"fca4a620-c2f0-49be-a927-48d8d3d88d0a\",\"type\":\"Title\"},{\"attributes\":{\"plot\":{\"id\":\"81f96dea-a204-4c28-b460-e072798f9fde\",\"subtype\":\"Figure\",\"type\":\"Plot\"}},\"id\":\"41c34c88-91a3-44c0-8012-d712c2a3febd\",\"type\":\"WheelZoomTool\"},{\"attributes\":{\"overlay\":{\"id\":\"f78c6245-d631-483c-9948-5f79bc484f9d\",\"type\":\"BoxAnnotation\"},\"plot\":{\"id\":\"81f96dea-a204-4c28-b460-e072798f9fde\",\"subtype\":\"Figure\",\"type\":\"Plot\"}},\"id\":\"8ecbe4ee-bc1a-47a1-b3bd-72f027008b08\",\"type\":\"BoxZoomTool\"},{\"attributes\":{\"plot\":{\"id\":\"81f96dea-a204-4c28-b460-e072798f9fde\",\"subtype\":\"Figure\",\"type\":\"Plot\"}},\"id\":\"1d6e5c1d-2e54-4c29-88fc-5fd1d9091a11\",\"type\":\"SaveTool\"},{\"attributes\":{\"plot\":{\"id\":\"9bbfad07-a8b4-41c5-9708-1472dce7369b\",\"subtype\":\"Figure\",\"type\":\"Plot\"},\"ticker\":{\"id\":\"f920a7b6-9a9e-4fbf-8ad5-c0b2745f0c33\",\"type\":\"BasicTicker\"}},\"id\":\"8f2a7f99-b142-4a97-bed8-89f97ed883a7\",\"type\":\"Grid\"},{\"attributes\":{\"plot\":{\"id\":\"81f96dea-a204-4c28-b460-e072798f9fde\",\"subtype\":\"Figure\",\"type\":\"Plot\"}},\"id\":\"21a5590e-a43c-4344-bc67-b2524245a954\",\"type\":\"ResetTool\"},{\"attributes\":{},\"id\":\"24297057-8f49-4173-a14d-eb579e156b5e\",\"type\":\"BasicTicker\"},{\"attributes\":{\"plot\":{\"id\":\"81f96dea-a204-4c28-b460-e072798f9fde\",\"subtype\":\"Figure\",\"type\":\"Plot\"}},\"id\":\"34f24698-08f7-4dd7-9220-30bc5aa48602\",\"type\":\"HelpTool\"},{\"attributes\":{\"formatter\":{\"id\":\"afe34bd5-2f2a-4d3a-ad51-e7b6be07b34f\",\"type\":\"BasicTickFormatter\"},\"plot\":{\"id\":\"9bbfad07-a8b4-41c5-9708-1472dce7369b\",\"subtype\":\"Figure\",\"type\":\"Plot\"},\"ticker\":{\"id\":\"24297057-8f49-4173-a14d-eb579e156b5e\",\"type\":\"BasicTicker\"}},\"id\":\"ef895668-0d9a-4502-8b30-89714686b121\",\"type\":\"LinearAxis\"},{\"attributes\":{},\"id\":\"4e60d8d1-b130-41cd-ae64-7b2e2f84d3a8\",\"type\":\"BasicTickFormatter\"},{\"attributes\":{},\"id\":\"383b0189-b229-4754-9555-9aaa816a3238\",\"type\":\"BasicTickFormatter\"},{\"attributes\":{\"children\":[{\"id\":\"9bbfad07-a8b4-41c5-9708-1472dce7369b\",\"subtype\":\"Figure\",\"type\":\"Plot\"},{\"id\":\"98d345b1-cc97-48bf-a077-52bb59cb45a2\",\"subtype\":\"Figure\",\"type\":\"Plot\"},{\"id\":\"81f96dea-a204-4c28-b460-e072798f9fde\",\"subtype\":\"Figure\",\"type\":\"Plot\"}]},\"id\":\"8887fcd2-2177-41c9-9330-4c2657b11936\",\"type\":\"Row\"},{\"attributes\":{},\"id\":\"f920a7b6-9a9e-4fbf-8ad5-c0b2745f0c33\",\"type\":\"BasicTicker\"},{\"attributes\":{\"fill_alpha\":{\"value\":0.1},\"fill_color\":{\"value\":\"#1f77b4\"},\"line_alpha\":{\"value\":0.1},\"line_color\":{\"value\":\"#1f77b4\"},\"x\":{\"field\":\"x\"},\"y\":{\"field\":\"y\"}},\"id\":\"51bcab7a-350b-4987-8f01-e0021c3adb3e\",\"type\":\"Circle\"},{\"attributes\":{},\"id\":\"afe34bd5-2f2a-4d3a-ad51-e7b6be07b34f\",\"type\":\"BasicTickFormatter\"},{\"attributes\":{\"callback\":null,\"column_names\":[\"x\",\"y\"],\"data\":{\"x\":{\"__ndarray__\":\"cmoaA6DOB0DAOynhT/QFQJcyLRvNmwZAu9k9wX5oA0Bw35tSlvYGQLvZPcF+aANAcN+bUpb2BkD/6ifLk0T/PwC9T6gJogFAv86FrHNEAECOvuZmJJkGQB86eD/U+Pk/f7LjjVNE8T+h9rOnRnkFQM0HUCkAdfk//WzXkVnX7j+3r/Dn6nIGQJCAuZMYpgZAt6/w5+pyBkCQgLmTGKYGQGN033FjpAZAnrYzp/wyCEDfawbSID4BQP95n1ATRNM/KxIXZLRsAEDpY2tx+2X3P+ViOyH3BwZAGifXIEZDAkB8tTL9wsUFQBon1yBGQwJAfLUy/cLFBUDswtZnnMsGQDnDX0wjkgVA6qBtH95mBEC10oOauHYDQPuSnz4xK/g/RouaWNK5BkAOQiQnQWsHQFhhUjoAKAhAMCe420v78T/T+RxaFCcGQDAnuNtL+/E/0/kcWhQnBkD37WTrx4EHQOjpaelGQQdAMD5Hwsy97T8bPQosqtcEQH7L0zxFKQNAhh5+7Y3fA0B+y9M8RSkDQIYefu2N3wNAryLiv5AuB0AHArux7rIHQG63O+Zl5wVARfHOG3EbAkBntUE05/MEQLMjrRerHQVAz/DjF7uj9j+eLwwlHpvxP7/7E2ER3ARAhSHEaXsq+T9AQybbqI8CQOwAyysguABAlQ5Xl0PF+T9UCGuqOGIGQE8SvEO20vE/b8VQYIup8D8isP/9Hpn5P/zVT5Ynid4//3mfUBNE4z8YnyNh5t7+P8LyRSRKKAZAqhTkCBaP9j9JxodHrLQGQNOAhqLUKhBATkdaNByaA0BISxBYT6AHQD+sYxKMCgRAB4Ua3QqAAUAhevnNWm0HQPZiivtxdAZAxjW2g3pDB0AD+dsTO0wHQPZtNFv+zAVA31cOOCtOBkDSeEGvozoHQPRuBWEHVQVA/9O7uU5z/D8eu+5zH3gIQH2zrl8WsgZAN0bcsztkBUCeGKAT2cn+P+lja3H7Zfc/AAAAAAAA8D+gh5SxgLT4PzVFhUOmTABA/NVPlieJ3j8AQ7BX9l3mv+of2RsRWwJArLx9B8jCAUCfcXIOKO4GQA==\",\"dtype\":\"float64\",\"shape\":[101]},\"y\":{\"__ndarray__\":\"lFLW+jWhAUDoUxjjC2cDQLKZb60EXANAGOb8snB2AUAY5vyycHYBQBjm/LJwdgFAGOb8snB2AUASbUe3cAYCQEgf9uD8QgRAb7lIADTtAEAIzzzq8UwBQBMDi2z+egJAhgjgkJ0//z9YNrA/l/wBQDG9FlRo6QFAcv0rO3w6AkAWA9wv5CQCQBYD3C/kJAJAFgPcL+QkAkAWA9wv5CQCQOUq58RI0/8/SJ+2PH+uAUAV8cnYCLACQPpGyzAWtQFA3mbM9hO0AUBOJP9bxZECQJMeszo93wRAbx0SjA22AkBvHRKMDbYCQG8dEowNtgJAbx0SjA22AkCwN29nA5wCQJdONdv7dgJAJxfs7abbAkD9Z8vc2PgBQM6fG7CveABALKHxIYkZAkA2cJ3WUwYBQMXqAS5BFwFArUEWY0vsAUCtQRZjS+wBQK1BFmNL7AFArUEWY0vsAUC7LREAiFgBQMYmuSoqqgJACCWC4HWlAUA5V8uEnIICQLa/R2P2vwJAtr9HY/a/AkC2v0dj9r8CQLa/R2P2vwJA9unGMUKFBEDB/vmleH8CQBzGEp7wTgJAFjY6zeoYAkB6Zv8XSD4AQF+gIjuS2ANAOrFjRqgBAkBrlQaryMUBQBkhwAxQgABAEFhtSuApAEAFqcuPT+gCQFpkiwVxygFACPEYG5S3AECUuIHr2LABQKC06XgZLQJAux8jFPMxAkARnVe5RxIBQMoBuecAzQFAOFZX65SSAkAsY4lrJRv9P4VM3wg5DgJAjF6OQDNFAkCeBqhTcW4CQOzg0ufCNwNA2zm+Fgh7AUDFckbunB8DQAGHMLHvwwJAePsUNUIRAkAF29V1eNsCQH7vjL/P0QFALQeQg8fjAUAnpyvViKcBQAQdRCz/qwBANgoVqXRoAUCFZV0AdlwCQCINknac3gJAjYBC8U+TAkChghLObAICQEyPlfELTwFAOLpRGICDAkAsiOks2YMCQBSYh91d6ABAVfMdUkDsAkAMC5R1BW0CQO0mGHq+0wFAU5RGw1KL/z+kPhuA/mUBQMq+oIzbvQFAd7t7nhg1AEBWiursLY0DQA==\",\"dtype\":\"float64\",\"shape\":[101]}}},\"id\":\"8bef5de3-2cc7-4e36-9035-7ba10861f67b\",\"type\":\"ColumnDataSource\"},{\"attributes\":{\"active_drag\":\"auto\",\"active_scroll\":\"auto\",\"active_tap\":\"auto\",\"tools\":[{\"id\":\"f03c454a-9563-42b9-bb34-af2ab9bff593\",\"type\":\"PanTool\"},{\"id\":\"f76e4864-377e-4896-8101-945ca547c060\",\"type\":\"WheelZoomTool\"},{\"id\":\"1ea2b947-0eee-4dc2-8a1d-753663d721e4\",\"type\":\"BoxZoomTool\"},{\"id\":\"fe8f6f75-2394-4d5c-ba94-5d5ac365ff00\",\"type\":\"SaveTool\"},{\"id\":\"41218390-bba0-4387-8e67-920818dfd67c\",\"type\":\"ResetTool\"},{\"id\":\"eea694e7-14d2-45a8-abc8-cf390d48d072\",\"type\":\"HelpTool\"}]},\"id\":\"0cdd8bb5-b7d2-4a74-b0e4-c6b0aaa02169\",\"type\":\"Toolbar\"},{\"attributes\":{\"plot\":null,\"text\":\"\"},\"id\":\"2c8e0494-7ba6-4acd-9c4c-3858ecd26234\",\"type\":\"Title\"}],\"root_ids\":[\"8887fcd2-2177-41c9-9330-4c2657b11936\"]},\"title\":\"Bokeh Application\",\"version\":\"0.12.4\"}};\n",
       "            var render_items = [{\"docid\":\"55c2e9c7-e4ba-471d-8c9f-e9e29d231227\",\"elementid\":\"3f8cbf13-e317-44fd-b0c7-90a56bbfd4b9\",\"modelid\":\"8887fcd2-2177-41c9-9330-4c2657b11936\",\"notebook_comms_target\":\"08ccecfc-0337-4cb6-ba63-4fedaed2bf42\"}];\n",
       "            \n",
       "            Bokeh.embed.embed_items(docs_json, render_items);\n",
       "          };\n",
       "          if (document.readyState != \"loading\") fn();\n",
       "          else document.addEventListener(\"DOMContentLoaded\", fn);\n",
       "        })();\n",
       "      },\n",
       "      function(Bokeh) {\n",
       "      }\n",
       "    ];\n",
       "  \n",
       "    function run_inline_js() {\n",
       "      \n",
       "      if ((window.Bokeh !== undefined) || (force === true)) {\n",
       "        for (var i = 0; i < inline_js.length; i++) {\n",
       "          inline_js[i](window.Bokeh);\n",
       "        }if (force === true) {\n",
       "          display_loaded();\n",
       "        }} else if (Date.now() < window._bokeh_timeout) {\n",
       "        setTimeout(run_inline_js, 100);\n",
       "      } else if (!window._bokeh_failed_load) {\n",
       "        console.log(\"Bokeh: BokehJS failed to load within specified timeout.\");\n",
       "        window._bokeh_failed_load = true;\n",
       "      } else if (force !== true) {\n",
       "        var cell = $(document.getElementById(\"3f8cbf13-e317-44fd-b0c7-90a56bbfd4b9\")).parents('.cell').data().cell;\n",
       "        cell.output_area.append_execute_result(NB_LOAD_WARNING)\n",
       "      }\n",
       "  \n",
       "    }\n",
       "  \n",
       "    if (window._bokeh_is_loading === 0) {\n",
       "      console.log(\"Bokeh: BokehJS loaded, going straight to plotting\");\n",
       "      run_inline_js();\n",
       "    } else {\n",
       "      load_libs(js_urls, function() {\n",
       "        console.log(\"Bokeh: BokehJS plotting callback run at\", now());\n",
       "        run_inline_js();\n",
       "      });\n",
       "    }\n",
       "  }(this));\n",
       "</script>"
      ]
     },
     "metadata": {},
     "output_type": "display_data"
    },
    {
     "data": {
      "text/html": [
       "<p><code>&lt;Bokeh Notebook handle for <strong>In[24]</strong>&gt;</code></p>"
      ],
      "text/plain": [
       "<bokeh.io._CommsHandle at 0x110f06be0>"
      ]
     },
     "execution_count": 24,
     "metadata": {},
     "output_type": "execute_result"
    }
   ],
   "source": [
    "pts = []\n",
    "results = []\n",
    "for tgt, X, y in runs:\n",
    "    \n",
    "    print(tgt, X.shape, y.shape) \n",
    "    \n",
    "    pln = pipeline.Pipeline([\n",
    "        ('scaler', preprocessing.StandardScaler()),\n",
    "        ('clf', linear_model.ElasticNetCV(cv=5, l1_ratio=0.9, max_iter=1e9)),\n",
    "    ])\n",
    "    \n",
    "    pln.fit(X, y)\n",
    "    preds = pln.predict(X)\n",
    "    \n",
    "    opts = dict(plot_width=300, plot_height=300)\n",
    "    plot = figure(**opts)\n",
    "    plot.circle(y, preds)\n",
    "    pts.append(plot)\n",
    "    \n",
    "show(row(pts), notebook_handle=True)    "
   ]
  },
  {
   "cell_type": "code",
   "execution_count": 25,
   "metadata": {},
   "outputs": [
    {
     "data": {
      "text/plain": [
       "(7,)"
      ]
     },
     "execution_count": 25,
     "metadata": {},
     "output_type": "execute_result"
    }
   ],
   "source": [
    "_, en = pln.steps[1]\n",
    "en.coef_.shape"
   ]
  },
  {
   "cell_type": "code",
   "execution_count": 26,
   "metadata": {},
   "outputs": [
    {
     "data": {
      "text/plain": [
       "(0, 9)"
      ]
     },
     "execution_count": 26,
     "metadata": {},
     "output_type": "execute_result"
    },
    {
     "data": {
      "image/png": "[encoded data removed]",
      "text/plain": [
       "<matplotlib.figure.Figure at 0x110d858d0>"
      ]
     },
     "metadata": {},
     "output_type": "display_data"
    }
   ],
   "source": [
    "plt.hist(en.coef_)\n",
    "plt.ylim(0,9)"
   ]
  },
  {
   "cell_type": "code",
   "execution_count": 28,
   "metadata": {},
   "outputs": [
    {
     "data": {
      "text/plain": [
       "[('fa_atr', 0.0),\n",
       " ('fa_rep', 0.0),\n",
       " ('fa_sol', -0.061783387604673272),\n",
       " ('fa_intra_rep', -0.19401018150117397),\n",
       " ('fa_elec', 0.16747135902344767),\n",
       " ('hbond_sc', -0.0),\n",
       " ('total', -0.0)]"
      ]
     },
     "execution_count": 28,
     "metadata": {},
     "output_type": "execute_result"
    }
   ],
   "source": [
    "list(zip(X.columns, en.coef_))"
   ]
  },
  {
   "cell_type": "code",
   "execution_count": null,
   "metadata": {
    "collapsed": true
   },
   "outputs": [],
   "source": []
  }
 ],
 "metadata": {
  "kernelspec": {
   "display_name": "Python [default]",
   "language": "python",
   "name": "python3"
  },
  "language_info": {
   "codemirror_mode": {
    "name": "ipython",
    "version": 3
   },
   "file_extension": ".py",
   "mimetype": "text/x-python",
   "name": "python",
   "nbconvert_exporter": "python",
   "pygments_lexer": "ipython3",
   "version": "3.6.0"
  }
 },
 "nbformat": 4,
 "nbformat_minor": 2
}
