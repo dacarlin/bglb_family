{
 "cells": [
  {
   "cell_type": "markdown",
   "metadata": {},
   "source": [
    "## Machine learning analysis 8,959 potentially-informative features derived from molecular modeling* for thier use in prediciting experimental $k_{cat}$, $K_M$, and $k_{cat}/K_M$\n",
    "\n",
    "### *stock enzyme design protocol\n",
    "\n",
    "We are interested in using machine learning tools to predict enzyme function from protein structure. In order to put this in machine learning tools, we need to identify informative features from the molecular modeling feature set $F$. "
   ]
  },
  {
   "cell_type": "code",
   "execution_count": 1,
   "metadata": {
    "collapsed": true
   },
   "outputs": [],
   "source": [
    "%matplotlib inline\n",
    "import matplotlib.pyplot as plt \n",
    "import seaborn as sns "
   ]
  },
  {
   "cell_type": "code",
   "execution_count": 2,
   "metadata": {
    "collapsed": true
   },
   "outputs": [],
   "source": [
    "from sklearn import preprocessing, linear_model, ensemble, feature_selection, model_selection, pipeline "
   ]
  },
  {
   "cell_type": "code",
   "execution_count": 3,
   "metadata": {},
   "outputs": [
    {
     "data": {
      "text/html": [
       "\n",
       "    <div class=\"bk-root\">\n",
       "        <a href=\"http://bokeh.pydata.org\" target=\"_blank\" class=\"bk-logo bk-logo-small bk-logo-notebook\"></a>\n",
       "        <span id=\"6392d3c4-a3db-40c1-b4e9-7ef7a5dfc6de\">Loading BokehJS ...</span>\n",
       "    </div>"
      ]
     },
     "metadata": {},
     "output_type": "display_data"
    },
    {
     "data": {
      "application/javascript": [
       "\n",
       "(function(global) {\n",
       "  function now() {\n",
       "    return new Date();\n",
       "  }\n",
       "\n",
       "  var force = true;\n",
       "\n",
       "  if (typeof (window._bokeh_onload_callbacks) === \"undefined\" || force === true) {\n",
       "    window._bokeh_onload_callbacks = [];\n",
       "    window._bokeh_is_loading = undefined;\n",
       "  }\n",
       "\n",
       "\n",
       "  \n",
       "  if (typeof (window._bokeh_timeout) === \"undefined\" || force === true) {\n",
       "    window._bokeh_timeout = Date.now() + 5000;\n",
       "    window._bokeh_failed_load = false;\n",
       "  }\n",
       "\n",
       "  var NB_LOAD_WARNING = {'data': {'text/html':\n",
       "     \"<div style='background-color: #fdd'>\\n\"+\n",
       "     \"<p>\\n\"+\n",
       "     \"BokehJS does not appear to have successfully loaded. If loading BokehJS from CDN, this \\n\"+\n",
       "     \"may be due to a slow or bad network connection. Possible fixes:\\n\"+\n",
       "     \"</p>\\n\"+\n",
       "     \"<ul>\\n\"+\n",
       "     \"<li>re-rerun `output_notebook()` to attempt to load from CDN again, or</li>\\n\"+\n",
       "     \"<li>use INLINE resources instead, as so:</li>\\n\"+\n",
       "     \"</ul>\\n\"+\n",
       "     \"<code>\\n\"+\n",
       "     \"from bokeh.resources import INLINE\\n\"+\n",
       "     \"output_notebook(resources=INLINE)\\n\"+\n",
       "     \"</code>\\n\"+\n",
       "     \"</div>\"}};\n",
       "\n",
       "  function display_loaded() {\n",
       "    if (window.Bokeh !== undefined) {\n",
       "      document.getElementById(\"6392d3c4-a3db-40c1-b4e9-7ef7a5dfc6de\").textContent = \"BokehJS successfully loaded.\";\n",
       "    } else if (Date.now() < window._bokeh_timeout) {\n",
       "      setTimeout(display_loaded, 100)\n",
       "    }\n",
       "  }\n",
       "\n",
       "  function run_callbacks() {\n",
       "    window._bokeh_onload_callbacks.forEach(function(callback) { callback() });\n",
       "    delete window._bokeh_onload_callbacks\n",
       "    console.info(\"Bokeh: all callbacks have finished\");\n",
       "  }\n",
       "\n",
       "  function load_libs(js_urls, callback) {\n",
       "    window._bokeh_onload_callbacks.push(callback);\n",
       "    if (window._bokeh_is_loading > 0) {\n",
       "      console.log(\"Bokeh: BokehJS is being loaded, scheduling callback at\", now());\n",
       "      return null;\n",
       "    }\n",
       "    if (js_urls == null || js_urls.length === 0) {\n",
       "      run_callbacks();\n",
       "      return null;\n",
       "    }\n",
       "    console.log(\"Bokeh: BokehJS not loaded, scheduling load and callback at\", now());\n",
       "    window._bokeh_is_loading = js_urls.length;\n",
       "    for (var i = 0; i < js_urls.length; i++) {\n",
       "      var url = js_urls[i];\n",
       "      var s = document.createElement('script');\n",
       "      s.src = url;\n",
       "      s.async = false;\n",
       "      s.onreadystatechange = s.onload = function() {\n",
       "        window._bokeh_is_loading--;\n",
       "        if (window._bokeh_is_loading === 0) {\n",
       "          console.log(\"Bokeh: all BokehJS libraries loaded\");\n",
       "          run_callbacks()\n",
       "        }\n",
       "      };\n",
       "      s.onerror = function() {\n",
       "        console.warn(\"failed to load library \" + url);\n",
       "      };\n",
       "      console.log(\"Bokeh: injecting script tag for BokehJS library: \", url);\n",
       "      document.getElementsByTagName(\"head\")[0].appendChild(s);\n",
       "    }\n",
       "  };var element = document.getElementById(\"6392d3c4-a3db-40c1-b4e9-7ef7a5dfc6de\");\n",
       "  if (element == null) {\n",
       "    console.log(\"Bokeh: ERROR: autoload.js configured with elementid '6392d3c4-a3db-40c1-b4e9-7ef7a5dfc6de' but no matching script tag was found. \")\n",
       "    return false;\n",
       "  }\n",
       "\n",
       "  var js_urls = [\"https://cdn.pydata.org/bokeh/release/bokeh-0.12.4.min.js\", \"https://cdn.pydata.org/bokeh/release/bokeh-widgets-0.12.4.min.js\"];\n",
       "\n",
       "  var inline_js = [\n",
       "    function(Bokeh) {\n",
       "      Bokeh.set_log_level(\"info\");\n",
       "    },\n",
       "    \n",
       "    function(Bokeh) {\n",
       "      \n",
       "      document.getElementById(\"6392d3c4-a3db-40c1-b4e9-7ef7a5dfc6de\").textContent = \"BokehJS is loading...\";\n",
       "    },\n",
       "    function(Bokeh) {\n",
       "      console.log(\"Bokeh: injecting CSS: https://cdn.pydata.org/bokeh/release/bokeh-0.12.4.min.css\");\n",
       "      Bokeh.embed.inject_css(\"https://cdn.pydata.org/bokeh/release/bokeh-0.12.4.min.css\");\n",
       "      console.log(\"Bokeh: injecting CSS: https://cdn.pydata.org/bokeh/release/bokeh-widgets-0.12.4.min.css\");\n",
       "      Bokeh.embed.inject_css(\"https://cdn.pydata.org/bokeh/release/bokeh-widgets-0.12.4.min.css\");\n",
       "    }\n",
       "  ];\n",
       "\n",
       "  function run_inline_js() {\n",
       "    \n",
       "    if ((window.Bokeh !== undefined) || (force === true)) {\n",
       "      for (var i = 0; i < inline_js.length; i++) {\n",
       "        inline_js[i](window.Bokeh);\n",
       "      }if (force === true) {\n",
       "        display_loaded();\n",
       "      }} else if (Date.now() < window._bokeh_timeout) {\n",
       "      setTimeout(run_inline_js, 100);\n",
       "    } else if (!window._bokeh_failed_load) {\n",
       "      console.log(\"Bokeh: BokehJS failed to load within specified timeout.\");\n",
       "      window._bokeh_failed_load = true;\n",
       "    } else if (force !== true) {\n",
       "      var cell = $(document.getElementById(\"6392d3c4-a3db-40c1-b4e9-7ef7a5dfc6de\")).parents('.cell').data().cell;\n",
       "      cell.output_area.append_execute_result(NB_LOAD_WARNING)\n",
       "    }\n",
       "\n",
       "  }\n",
       "\n",
       "  if (window._bokeh_is_loading === 0) {\n",
       "    console.log(\"Bokeh: BokehJS loaded, going straight to plotting\");\n",
       "    run_inline_js();\n",
       "  } else {\n",
       "    load_libs(js_urls, function() {\n",
       "      console.log(\"Bokeh: BokehJS plotting callback run at\", now());\n",
       "      run_inline_js();\n",
       "    });\n",
       "  }\n",
       "}(this));"
      ]
     },
     "metadata": {},
     "output_type": "display_data"
    }
   ],
   "source": [
    "import pandas \n",
    "from bokeh.io import push_notebook, show, output_notebook\n",
    "from bokeh.layouts import row, column\n",
    "from bokeh.plotting import figure\n",
    "output_notebook()"
   ]
  },
  {
   "cell_type": "code",
   "execution_count": 4,
   "metadata": {},
   "outputs": [
    {
     "name": "stdout",
     "output_type": "stream",
     "text": [
      "/Users/alex/Documents/bglb_family/machine_learning\r\n"
     ]
    }
   ],
   "source": [
    "! pwd"
   ]
  },
  {
   "cell_type": "markdown",
   "metadata": {},
   "source": [
    "## Features! "
   ]
  },
  {
   "cell_type": "code",
   "execution_count": 5,
   "metadata": {},
   "outputs": [
    {
     "name": "stdout",
     "output_type": "stream",
     "text": [
      "/home/carlin/.bashrc: line 3: bind: warning: line editing not enabled\n",
      "receiving file list ... done\n",
      "\n",
      "sent 16 bytes  received 88 bytes  208.00 bytes/sec\n",
      "total size is 14344384  speedup is 137926.77\n"
     ]
    }
   ],
   "source": [
    "! rsync -avz ca:/share/work/alex/stock_enzyme_design_protocol/data.h5 data2.h5 "
   ]
  },
  {
   "cell_type": "code",
   "execution_count": 6,
   "metadata": {},
   "outputs": [
    {
     "data": {
      "text/html": [
       "<div>\n",
       "<table border=\"1\" class=\"dataframe\">\n",
       "  <thead>\n",
       "    <tr>\n",
       "      <th></th>\n",
       "      <th colspan=\"10\" halign=\"left\">0</th>\n",
       "      <th>...</th>\n",
       "      <th colspan=\"10\" halign=\"left\">447</th>\n",
       "    </tr>\n",
       "    <tr>\n",
       "      <th></th>\n",
       "      <th>label</th>\n",
       "      <th>fa_atr</th>\n",
       "      <th>fa_rep</th>\n",
       "      <th>fa_sol</th>\n",
       "      <th>fa_intra_rep</th>\n",
       "      <th>fa_elec</th>\n",
       "      <th>pro_close</th>\n",
       "      <th>hbond_sr_bb</th>\n",
       "      <th>hbond_lr_bb</th>\n",
       "      <th>hbond_bb_sc</th>\n",
       "      <th>...</th>\n",
       "      <th>hbond_sc</th>\n",
       "      <th>dslf_fa13</th>\n",
       "      <th>rama</th>\n",
       "      <th>omega</th>\n",
       "      <th>fa_dun</th>\n",
       "      <th>p_aa_pp</th>\n",
       "      <th>yhh_planarity</th>\n",
       "      <th>ref</th>\n",
       "      <th>total</th>\n",
       "      <th>sequence_position</th>\n",
       "    </tr>\n",
       "  </thead>\n",
       "  <tbody>\n",
       "    <tr>\n",
       "      <th>A192S</th>\n",
       "      <td>weights</td>\n",
       "      <td>1.0</td>\n",
       "      <td>0.55</td>\n",
       "      <td>0.9375</td>\n",
       "      <td>0.005</td>\n",
       "      <td>0.875</td>\n",
       "      <td>1.25</td>\n",
       "      <td>1.17</td>\n",
       "      <td>1.17</td>\n",
       "      <td>1.17</td>\n",
       "      <td>...</td>\n",
       "      <td>-3.03171</td>\n",
       "      <td>0.0</td>\n",
       "      <td>0.0</td>\n",
       "      <td>0.0</td>\n",
       "      <td>0.0</td>\n",
       "      <td>0.0</td>\n",
       "      <td>0.0</td>\n",
       "      <td>0.0</td>\n",
       "      <td>-3.89029</td>\n",
       "      <td>446</td>\n",
       "    </tr>\n",
       "    <tr>\n",
       "      <th>A306N</th>\n",
       "      <td>weights</td>\n",
       "      <td>1.0</td>\n",
       "      <td>0.55</td>\n",
       "      <td>0.9375</td>\n",
       "      <td>0.005</td>\n",
       "      <td>0.875</td>\n",
       "      <td>1.25</td>\n",
       "      <td>1.17</td>\n",
       "      <td>1.17</td>\n",
       "      <td>1.17</td>\n",
       "      <td>...</td>\n",
       "      <td>-3.18737</td>\n",
       "      <td>0.0</td>\n",
       "      <td>0.0</td>\n",
       "      <td>0.0</td>\n",
       "      <td>0.0</td>\n",
       "      <td>0.0</td>\n",
       "      <td>0.0</td>\n",
       "      <td>0.0</td>\n",
       "      <td>-4.42077</td>\n",
       "      <td>446</td>\n",
       "    </tr>\n",
       "    <tr>\n",
       "      <th>A356A</th>\n",
       "      <td>weights</td>\n",
       "      <td>1.0</td>\n",
       "      <td>0.55</td>\n",
       "      <td>0.9375</td>\n",
       "      <td>0.005</td>\n",
       "      <td>0.875</td>\n",
       "      <td>1.25</td>\n",
       "      <td>1.17</td>\n",
       "      <td>1.17</td>\n",
       "      <td>1.17</td>\n",
       "      <td>...</td>\n",
       "      <td>-3.35449</td>\n",
       "      <td>0.0</td>\n",
       "      <td>0.0</td>\n",
       "      <td>0.0</td>\n",
       "      <td>0.0</td>\n",
       "      <td>0.0</td>\n",
       "      <td>0.0</td>\n",
       "      <td>0.0</td>\n",
       "      <td>-4.26879</td>\n",
       "      <td>446</td>\n",
       "    </tr>\n",
       "    <tr>\n",
       "      <th>A357A</th>\n",
       "      <td>weights</td>\n",
       "      <td>1.0</td>\n",
       "      <td>0.55</td>\n",
       "      <td>0.9375</td>\n",
       "      <td>0.005</td>\n",
       "      <td>0.875</td>\n",
       "      <td>1.25</td>\n",
       "      <td>1.17</td>\n",
       "      <td>1.17</td>\n",
       "      <td>1.17</td>\n",
       "      <td>...</td>\n",
       "      <td>-3.33426</td>\n",
       "      <td>0.0</td>\n",
       "      <td>0.0</td>\n",
       "      <td>0.0</td>\n",
       "      <td>0.0</td>\n",
       "      <td>0.0</td>\n",
       "      <td>0.0</td>\n",
       "      <td>0.0</td>\n",
       "      <td>-4.19985</td>\n",
       "      <td>446</td>\n",
       "    </tr>\n",
       "    <tr>\n",
       "      <th>E177K</th>\n",
       "      <td>weights</td>\n",
       "      <td>1.0</td>\n",
       "      <td>0.55</td>\n",
       "      <td>0.9375</td>\n",
       "      <td>0.005</td>\n",
       "      <td>0.875</td>\n",
       "      <td>1.25</td>\n",
       "      <td>1.17</td>\n",
       "      <td>1.17</td>\n",
       "      <td>1.17</td>\n",
       "      <td>...</td>\n",
       "      <td>-3.36620</td>\n",
       "      <td>0.0</td>\n",
       "      <td>0.0</td>\n",
       "      <td>0.0</td>\n",
       "      <td>0.0</td>\n",
       "      <td>0.0</td>\n",
       "      <td>0.0</td>\n",
       "      <td>0.0</td>\n",
       "      <td>-4.37823</td>\n",
       "      <td>446</td>\n",
       "    </tr>\n",
       "  </tbody>\n",
       "</table>\n",
       "<p>5 rows × 8959 columns</p>\n",
       "</div>"
      ],
      "text/plain": [
       "           0                                                         \\\n",
       "         label fa_atr fa_rep  fa_sol fa_intra_rep fa_elec pro_close   \n",
       "A192S  weights    1.0   0.55  0.9375        0.005   0.875      1.25   \n",
       "A306N  weights    1.0   0.55  0.9375        0.005   0.875      1.25   \n",
       "A356A  weights    1.0   0.55  0.9375        0.005   0.875      1.25   \n",
       "A357A  weights    1.0   0.55  0.9375        0.005   0.875      1.25   \n",
       "E177K  weights    1.0   0.55  0.9375        0.005   0.875      1.25   \n",
       "\n",
       "                                                 ...             447  \\\n",
       "      hbond_sr_bb hbond_lr_bb hbond_bb_sc        ...        hbond_sc   \n",
       "A192S        1.17        1.17        1.17        ...        -3.03171   \n",
       "A306N        1.17        1.17        1.17        ...        -3.18737   \n",
       "A356A        1.17        1.17        1.17        ...        -3.35449   \n",
       "A357A        1.17        1.17        1.17        ...        -3.33426   \n",
       "E177K        1.17        1.17        1.17        ...        -3.36620   \n",
       "\n",
       "                                                                       \\\n",
       "      dslf_fa13 rama omega fa_dun p_aa_pp yhh_planarity  ref    total   \n",
       "A192S       0.0  0.0   0.0    0.0     0.0           0.0  0.0 -3.89029   \n",
       "A306N       0.0  0.0   0.0    0.0     0.0           0.0  0.0 -4.42077   \n",
       "A356A       0.0  0.0   0.0    0.0     0.0           0.0  0.0 -4.26879   \n",
       "A357A       0.0  0.0   0.0    0.0     0.0           0.0  0.0 -4.19985   \n",
       "E177K       0.0  0.0   0.0    0.0     0.0           0.0  0.0 -4.37823   \n",
       "\n",
       "                         \n",
       "      sequence_position  \n",
       "A192S               446  \n",
       "A306N               446  \n",
       "A356A               446  \n",
       "A357A               446  \n",
       "E177K               446  \n",
       "\n",
       "[5 rows x 8959 columns]"
      ]
     },
     "execution_count": 6,
     "metadata": {},
     "output_type": "execute_result"
    }
   ],
   "source": [
    "feat = pandas.read_hdf('data2.h5')\n",
    "feat.head()"
   ]
  },
  {
   "cell_type": "code",
   "execution_count": 7,
   "metadata": {},
   "outputs": [
    {
     "data": {
      "text/plain": [
       "(182, 8959)"
      ]
     },
     "execution_count": 7,
     "metadata": {},
     "output_type": "execute_result"
    }
   ],
   "source": [
    "feat.shape"
   ]
  },
  {
   "cell_type": "markdown",
   "metadata": {},
   "source": [
    "Before we get in to the targets, let's get rid of as many of these features as we can. Having 12,991 features for only 200 samples is not great!\n",
    "\n",
    "First, let's get rid of string features, since they are likely labels. Easiest way to do this is to get all the features that are float64. "
   ]
  },
  {
   "cell_type": "code",
   "execution_count": 8,
   "metadata": {},
   "outputs": [
    {
     "data": {
      "text/plain": [
       "(182, 8063)"
      ]
     },
     "execution_count": 8,
     "metadata": {},
     "output_type": "execute_result"
    }
   ],
   "source": [
    "feat = feat.select_dtypes(['float64'])\n",
    "feat.shape"
   ]
  },
  {
   "cell_type": "markdown",
   "metadata": {},
   "source": [
    "And, let's get rid of features with 0 variance. "
   ]
  },
  {
   "cell_type": "code",
   "execution_count": 9,
   "metadata": {},
   "outputs": [
    {
     "data": {
      "text/plain": [
       "(182, 5023)"
      ]
     },
     "execution_count": 9,
     "metadata": {},
     "output_type": "execute_result"
    }
   ],
   "source": [
    "zero_variance_features = []\n",
    "for col in feat.columns:\n",
    "    if feat[col].std() == 0.0:\n",
    "        zero_variance_features.append(col)\n",
    "feat = feat.drop(zero_variance_features, axis=1)\n",
    "feat.shape"
   ]
  },
  {
   "cell_type": "markdown",
   "metadata": {},
   "source": [
    "Ooooh, that is good, we get rid of another 3,694 useless features this way! \n",
    "\n",
    "Now that we have a \"reasonable\" set of features. Let's try looking at the targets. "
   ]
  },
  {
   "cell_type": "code",
   "execution_count": 10,
   "metadata": {},
   "outputs": [
    {
     "data": {
      "text/plain": [
       "(182, 7)"
      ]
     },
     "execution_count": 10,
     "metadata": {},
     "output_type": "execute_result"
    }
   ],
   "source": [
    "# ligand only features! \n",
    "feat = feat[447]\n",
    "feat.shape"
   ]
  },
  {
   "cell_type": "markdown",
   "metadata": {},
   "source": [
    "## Machine learning targets! "
   ]
  },
  {
   "cell_type": "code",
   "execution_count": 47,
   "metadata": {},
   "outputs": [
    {
     "data": {
      "text/html": [
       "<div>\n",
       "<table border=\"1\" class=\"dataframe\">\n",
       "  <thead>\n",
       "    <tr style=\"text-align: right;\">\n",
       "      <th></th>\n",
       "      <th>kcat</th>\n",
       "      <th>km</th>\n",
       "      <th>kcatkm</th>\n",
       "    </tr>\n",
       "    <tr>\n",
       "      <th>mutant_name</th>\n",
       "      <th></th>\n",
       "      <th></th>\n",
       "      <th></th>\n",
       "    </tr>\n",
       "  </thead>\n",
       "  <tbody>\n",
       "    <tr>\n",
       "      <th>S14A</th>\n",
       "      <td>2.505150</td>\n",
       "      <td>0.916454</td>\n",
       "      <td>4.589089</td>\n",
       "    </tr>\n",
       "    <tr>\n",
       "      <th>T15A</th>\n",
       "      <td>2.788168</td>\n",
       "      <td>0.724276</td>\n",
       "      <td>5.063892</td>\n",
       "    </tr>\n",
       "    <tr>\n",
       "      <th>S16A</th>\n",
       "      <td>2.187521</td>\n",
       "      <td>1.146438</td>\n",
       "      <td>4.041274</td>\n",
       "    </tr>\n",
       "    <tr>\n",
       "      <th>S17A</th>\n",
       "      <td>2.928396</td>\n",
       "      <td>1.265996</td>\n",
       "      <td>4.662550</td>\n",
       "    </tr>\n",
       "    <tr>\n",
       "      <th>S17E</th>\n",
       "      <td>2.806858</td>\n",
       "      <td>0.864511</td>\n",
       "      <td>4.942484</td>\n",
       "    </tr>\n",
       "  </tbody>\n",
       "</table>\n",
       "</div>"
      ],
      "text/plain": [
       "                 kcat        km    kcatkm\n",
       "mutant_name                              \n",
       "S14A         2.505150  0.916454  4.589089\n",
       "T15A         2.788168  0.724276  5.063892\n",
       "S16A         2.187521  1.146438  4.041274\n",
       "S17A         2.928396  1.265996  4.662550\n",
       "S17E         2.806858  0.864511  4.942484"
      ]
     },
     "execution_count": 47,
     "metadata": {},
     "output_type": "execute_result"
    }
   ],
   "source": [
    "targets = pandas.read_csv('/Users/alex/Documents/bglb_data_set/bglb_targets.csv', index_col=0)\n",
    "\n",
    "# remove a funky data point \n",
    "targets = targets.drop('F415A', axis=0)\n",
    "\n",
    "targets.head()"
   ]
  },
  {
   "cell_type": "markdown",
   "metadata": {},
   "source": [
    "Now, let's see if we can join these and get something out "
   ]
  },
  {
   "cell_type": "code",
   "execution_count": 48,
   "metadata": {},
   "outputs": [
    {
     "data": {
      "text/html": [
       "<div>\n",
       "<table border=\"1\" class=\"dataframe\">\n",
       "  <thead>\n",
       "    <tr style=\"text-align: right;\">\n",
       "      <th></th>\n",
       "      <th>fa_atr</th>\n",
       "      <th>fa_rep</th>\n",
       "      <th>fa_sol</th>\n",
       "      <th>fa_intra_rep</th>\n",
       "      <th>fa_elec</th>\n",
       "      <th>hbond_sc</th>\n",
       "      <th>total</th>\n",
       "      <th>kcat</th>\n",
       "      <th>km</th>\n",
       "      <th>kcatkm</th>\n",
       "    </tr>\n",
       "  </thead>\n",
       "  <tbody>\n",
       "    <tr>\n",
       "      <th>A192S</th>\n",
       "      <td>-11.8267</td>\n",
       "      <td>1.33128</td>\n",
       "      <td>13.3406</td>\n",
       "      <td>0.03927</td>\n",
       "      <td>-3.74311</td>\n",
       "      <td>-3.03171</td>\n",
       "      <td>-3.89029</td>\n",
       "      <td>2.975891</td>\n",
       "      <td>0.706718</td>\n",
       "      <td>5.269158</td>\n",
       "    </tr>\n",
       "    <tr>\n",
       "      <th>A306N</th>\n",
       "      <td>-11.8133</td>\n",
       "      <td>1.23626</td>\n",
       "      <td>13.2531</td>\n",
       "      <td>0.03910</td>\n",
       "      <td>-3.94859</td>\n",
       "      <td>-3.18737</td>\n",
       "      <td>-4.42077</td>\n",
       "      <td>NaN</td>\n",
       "      <td>NaN</td>\n",
       "      <td>NaN</td>\n",
       "    </tr>\n",
       "    <tr>\n",
       "      <th>A356A</th>\n",
       "      <td>-11.8475</td>\n",
       "      <td>1.33786</td>\n",
       "      <td>13.2661</td>\n",
       "      <td>0.03930</td>\n",
       "      <td>-3.71004</td>\n",
       "      <td>-3.35449</td>\n",
       "      <td>-4.26879</td>\n",
       "      <td>NaN</td>\n",
       "      <td>NaN</td>\n",
       "      <td>NaN</td>\n",
       "    </tr>\n",
       "    <tr>\n",
       "      <th>A357A</th>\n",
       "      <td>-11.8786</td>\n",
       "      <td>1.39338</td>\n",
       "      <td>13.2893</td>\n",
       "      <td>0.03931</td>\n",
       "      <td>-3.70902</td>\n",
       "      <td>-3.33426</td>\n",
       "      <td>-4.19985</td>\n",
       "      <td>NaN</td>\n",
       "      <td>NaN</td>\n",
       "      <td>NaN</td>\n",
       "    </tr>\n",
       "    <tr>\n",
       "      <th>E177K</th>\n",
       "      <td>-11.8111</td>\n",
       "      <td>1.34083</td>\n",
       "      <td>13.2388</td>\n",
       "      <td>0.03913</td>\n",
       "      <td>-3.81969</td>\n",
       "      <td>-3.36620</td>\n",
       "      <td>-4.37823</td>\n",
       "      <td>2.744293</td>\n",
       "      <td>0.791691</td>\n",
       "      <td>4.952352</td>\n",
       "    </tr>\n",
       "  </tbody>\n",
       "</table>\n",
       "</div>"
      ],
      "text/plain": [
       "        fa_atr   fa_rep   fa_sol  fa_intra_rep  fa_elec  hbond_sc    total  \\\n",
       "A192S -11.8267  1.33128  13.3406       0.03927 -3.74311  -3.03171 -3.89029   \n",
       "A306N -11.8133  1.23626  13.2531       0.03910 -3.94859  -3.18737 -4.42077   \n",
       "A356A -11.8475  1.33786  13.2661       0.03930 -3.71004  -3.35449 -4.26879   \n",
       "A357A -11.8786  1.39338  13.2893       0.03931 -3.70902  -3.33426 -4.19985   \n",
       "E177K -11.8111  1.34083  13.2388       0.03913 -3.81969  -3.36620 -4.37823   \n",
       "\n",
       "           kcat        km    kcatkm  \n",
       "A192S  2.975891  0.706718  5.269158  \n",
       "A306N       NaN       NaN       NaN  \n",
       "A356A       NaN       NaN       NaN  \n",
       "A357A       NaN       NaN       NaN  \n",
       "E177K  2.744293  0.791691  4.952352  "
      ]
     },
     "execution_count": 48,
     "metadata": {},
     "output_type": "execute_result"
    }
   ],
   "source": [
    "J = feat.join(targets)\n",
    "J.head()"
   ]
  },
  {
   "cell_type": "markdown",
   "metadata": {},
   "source": [
    "OK, that'll work! Now, let's make a nice dict where we can do each of kcat, km, and kcat/KM at the same time! "
   ]
  },
  {
   "cell_type": "code",
   "execution_count": 49,
   "metadata": {},
   "outputs": [
    {
     "data": {
      "text/html": [
       "<div>\n",
       "<table border=\"1\" class=\"dataframe\">\n",
       "  <thead>\n",
       "    <tr style=\"text-align: right;\">\n",
       "      <th></th>\n",
       "      <th>fa_atr</th>\n",
       "      <th>fa_rep</th>\n",
       "      <th>fa_sol</th>\n",
       "      <th>fa_intra_rep</th>\n",
       "      <th>fa_elec</th>\n",
       "      <th>hbond_sc</th>\n",
       "      <th>total</th>\n",
       "      <th>kcat</th>\n",
       "      <th>km</th>\n",
       "      <th>kcatkm</th>\n",
       "    </tr>\n",
       "  </thead>\n",
       "  <tbody>\n",
       "    <tr>\n",
       "      <th>F415A</th>\n",
       "      <td>-11.0202</td>\n",
       "      <td>1.20163</td>\n",
       "      <td>12.0939</td>\n",
       "      <td>0.05087</td>\n",
       "      <td>-3.40713</td>\n",
       "      <td>-3.12900</td>\n",
       "      <td>-4.20988</td>\n",
       "      <td>NaN</td>\n",
       "      <td>NaN</td>\n",
       "      <td>NaN</td>\n",
       "    </tr>\n",
       "    <tr>\n",
       "      <th>H119E</th>\n",
       "      <td>-11.1390</td>\n",
       "      <td>1.30614</td>\n",
       "      <td>12.2895</td>\n",
       "      <td>0.05183</td>\n",
       "      <td>-3.50564</td>\n",
       "      <td>-3.21921</td>\n",
       "      <td>-4.21645</td>\n",
       "      <td>NaN</td>\n",
       "      <td>NaN</td>\n",
       "      <td>NaN</td>\n",
       "    </tr>\n",
       "  </tbody>\n",
       "</table>\n",
       "</div>"
      ],
      "text/plain": [
       "        fa_atr   fa_rep   fa_sol  fa_intra_rep  fa_elec  hbond_sc    total  \\\n",
       "F415A -11.0202  1.20163  12.0939       0.05087 -3.40713  -3.12900 -4.20988   \n",
       "H119E -11.1390  1.30614  12.2895       0.05183 -3.50564  -3.21921 -4.21645   \n",
       "\n",
       "       kcat  km  kcatkm  \n",
       "F415A   NaN NaN     NaN  \n",
       "H119E   NaN NaN     NaN  "
      ]
     },
     "execution_count": 49,
     "metadata": {},
     "output_type": "execute_result"
    }
   ],
   "source": [
    "J.query('fa_sol<12.6')"
   ]
  },
  {
   "cell_type": "code",
   "execution_count": 56,
   "metadata": {
    "scrolled": false
   },
   "outputs": [
    {
     "data": {
      "image/png": "[encoded data removed]",
      "text/plain": [
       "<matplotlib.figure.Figure at 0x1212b9cc0>"
      ]
     },
     "metadata": {},
     "output_type": "display_data"
    },
    {
     "data": {
      "image/png": "[encoded data removed]",
      "text/plain": [
       "<matplotlib.figure.Figure at 0x121340f98>"
      ]
     },
     "metadata": {},
     "output_type": "display_data"
    },
    {
     "data": {
      "image/png": "[encoded data removed]",
      "text/plain": [
       "<matplotlib.figure.Figure at 0x121539eb8>"
      ]
     },
     "metadata": {},
     "output_type": "display_data"
    },
    {
     "data": {
      "image/png": "[encoded data removed]",
      "text/plain": [
       "<matplotlib.figure.Figure at 0x1213873c8>"
      ]
     },
     "metadata": {},
     "output_type": "display_data"
    },
    {
     "data": {
      "image/png": "[encoded data removed]",
      "text/plain": [
       "<matplotlib.figure.Figure at 0x120f84be0>"
      ]
     },
     "metadata": {},
     "output_type": "display_data"
    },
    {
     "data": {
      "image/png": "[encoded data removed]",
      "text/plain": [
       "<matplotlib.figure.Figure at 0x12181c9b0>"
      ]
     },
     "metadata": {},
     "output_type": "display_data"
    },
    {
     "data": {
      "image/png": "[encoded data removed]",
      "text/plain": [
       "<matplotlib.figure.Figure at 0x120f2ee80>"
      ]
     },
     "metadata": {},
     "output_type": "display_data"
    },
    {
     "data": {
      "image/png": "[encoded data removed]",
      "text/plain": [
       "<matplotlib.figure.Figure at 0x120de6668>"
      ]
     },
     "metadata": {},
     "output_type": "display_data"
    },
    {
     "data": {
      "image/png": "[encoded data removed]",
      "text/plain": [
       "<matplotlib.figure.Figure at 0x120f2e518>"
      ]
     },
     "metadata": {},
     "output_type": "display_data"
    }
   ],
   "source": [
    "for col in J:\n",
    "    if col != 'km':\n",
    "        plt.scatter(J.km, J[col])\n",
    "        plt.subplot()\n",
    "        plt.title(col)\n",
    "        plt.show()"
   ]
  },
  {
   "cell_type": "code",
   "execution_count": 57,
   "metadata": {},
   "outputs": [
    {
     "data": {
      "text/plain": [
       "(91, 8)"
      ]
     },
     "execution_count": 57,
     "metadata": {},
     "output_type": "execute_result"
    }
   ],
   "source": [
    "d = J.drop(['kcat', 'kcatkm'], axis=1).dropna()\n",
    "d.shape"
   ]
  },
  {
   "cell_type": "code",
   "execution_count": 58,
   "metadata": {},
   "outputs": [
    {
     "data": {
      "text/plain": [
       "((91, 7), (91,))"
      ]
     },
     "execution_count": 58,
     "metadata": {},
     "output_type": "execute_result"
    }
   ],
   "source": [
    "%matplotlib inline\n",
    "import matplotlib.pyplot as plt \n",
    "import seaborn as sns \n",
    "from sklearn import decomposition, manifold\n",
    "\n",
    "X = d.drop('km', axis=1)\n",
    "y = d.km.ravel()\n",
    "\n",
    "X.shape, y.shape "
   ]
  },
  {
   "cell_type": "code",
   "execution_count": 59,
   "metadata": {},
   "outputs": [
    {
     "data": {
      "text/plain": [
       "<matplotlib.colorbar.Colorbar at 0x1211d4b38>"
      ]
     },
     "execution_count": 59,
     "metadata": {},
     "output_type": "execute_result"
    },
    {
     "data": {
      "image/png": "[encoded data removed]",
      "text/plain": [
       "<matplotlib.figure.Figure at 0x11a7fc550>"
      ]
     },
     "metadata": {},
     "output_type": "display_data"
    }
   ],
   "source": [
    "tsne = manifold.TSNE()\n",
    "X_ = tsne.fit_transform(X)\n",
    "plt.scatter(X_[:,0], X_[:,1], c=y, cmap='viridis')\n",
    "plt.colorbar()"
   ]
  },
  {
   "cell_type": "code",
   "execution_count": 60,
   "metadata": {},
   "outputs": [
    {
     "data": {
      "text/plain": [
       "<matplotlib.colorbar.Colorbar at 0x12190f128>"
      ]
     },
     "execution_count": 60,
     "metadata": {},
     "output_type": "execute_result"
    },
    {
     "data": {
      "image/png": "[encoded data removed]",
      "text/plain": [
       "<matplotlib.figure.Figure at 0x120c222b0>"
      ]
     },
     "metadata": {},
     "output_type": "display_data"
    }
   ],
   "source": [
    "pca = decomposition.PCA(n_components=2)\n",
    "X_ = pca.fit_transform(X)\n",
    "plt.scatter(X_[:,0], X_[:,1], c=y, cmap='viridis')\n",
    "plt.colorbar()"
   ]
  },
  {
   "cell_type": "code",
   "execution_count": 13,
   "metadata": {
    "collapsed": true
   },
   "outputs": [],
   "source": [
    "# opts = dict(plot_width=600, plot_height=400, min_border=0)\n",
    "# p1 = figure(**opts)\n",
    "# r1 = p1.circle([1,2,3], [4,5,6], size=20)\n",
    "\n",
    "# p2 = figure(**opts)\n",
    "# r2 = p2.circle([1,2,3], [4,5,6], size=20)\n",
    "\n",
    "# # get a handle to update the shown cell with\n",
    "# t = show(row(p1, p2), notebook_handle=True)"
   ]
  },
  {
   "cell_type": "code",
   "execution_count": null,
   "metadata": {
    "collapsed": true
   },
   "outputs": [],
   "source": []
  },
  {
   "cell_type": "code",
   "execution_count": 14,
   "metadata": {
    "collapsed": true
   },
   "outputs": [],
   "source": [
    "tgts = 'kcat km kcatkm'.split()"
   ]
  },
  {
   "cell_type": "code",
   "execution_count": 15,
   "metadata": {},
   "outputs": [
    {
     "name": "stdout",
     "output_type": "stream",
     "text": [
      "                  kcat       abs\n",
      "fa_intra_rep -0.288047  0.288047\n",
      "fa_atr       -0.198206  0.198206\n",
      "fa_sol        0.197755  0.197755\n",
      "fa_elec      -0.077472  0.077472\n",
      "hbond_sc     -0.068945  0.068945\n",
      "total        -0.055841  0.055841\n",
      "fa_rep        0.019920  0.019920\n",
      "select a, resi f+f+f+f+h+t+f+446\n",
      "kcat (102, 7) (102,)\n",
      "                    km       abs\n",
      "hbond_sc      0.130286  0.130286\n",
      "fa_sol       -0.096286  0.096286\n",
      "fa_elec      -0.092461  0.092461\n",
      "fa_intra_rep  0.090327  0.090327\n",
      "fa_atr        0.088071  0.088071\n",
      "fa_rep       -0.056599  0.056599\n",
      "total         0.026707  0.026707\n",
      "select a, resi h+f+f+f+f+f+t+446\n",
      "km (102, 7) (102,)\n",
      "                kcatkm       abs\n",
      "fa_intra_rep -0.254542  0.254542\n",
      "fa_sol        0.185988  0.185988\n",
      "fa_atr       -0.183127  0.183127\n",
      "hbond_sc     -0.105311  0.105311\n",
      "total        -0.054810  0.054810\n",
      "fa_rep        0.035486  0.035486\n",
      "fa_elec      -0.021292  0.021292\n",
      "select a, resi f+f+f+h+t+f+f+446\n",
      "kcatkm (102, 7) (102,)\n"
     ]
    }
   ],
   "source": [
    "runs = []\n",
    "for tgt in tgts:\n",
    "    X = J.ix[:,0:-3]\n",
    "    y = J[tgt]\n",
    "    G = X.join(y).dropna()\n",
    "    \n",
    "    d = G.corr()[[tgt]]\n",
    "    d['abs'] = d[tgt].map(abs)\n",
    "    d = d.sort_values('abs', ascending=False).head(11).drop(tgt)\n",
    "    print(d)\n",
    "    \n",
    "    print('select a, resi ', end='')\n",
    "\n",
    "    for idx, ddf in d.iterrows():\n",
    "        print(idx[0],end='')\n",
    "        print('+',end='')\n",
    "    \n",
    "    print('446')\n",
    "    \n",
    "    X = G.ix[:,0:-1]\n",
    "    y = G.ix[:,-1].ravel()\n",
    "    pkg = tgt, X, y \n",
    "    runs.append(pkg)\n",
    "    print(tgt, X.shape, y.shape)"
   ]
  },
  {
   "cell_type": "code",
   "execution_count": 16,
   "metadata": {
    "scrolled": false
   },
   "outputs": [
    {
     "name": "stdout",
     "output_type": "stream",
     "text": [
      "kcat (102, 7) (102,)\n",
      "km (102, 7) (102,)\n"
     ]
    },
    {
     "ename": "KeyboardInterrupt",
     "evalue": "",
     "output_type": "error",
     "traceback": [
      "\u001b[0;31m---------------------------------------------------------------------------\u001b[0m",
      "\u001b[0;31mKeyboardInterrupt\u001b[0m                         Traceback (most recent call last)",
      "\u001b[0;32m<ipython-input-16-20b4138cdab8>\u001b[0m in \u001b[0;36m<module>\u001b[0;34m()\u001b[0m\n\u001b[1;32m      9\u001b[0m     ])\n\u001b[1;32m     10\u001b[0m \u001b[0;34m\u001b[0m\u001b[0m\n\u001b[0;32m---> 11\u001b[0;31m     \u001b[0mpreds\u001b[0m \u001b[0;34m=\u001b[0m \u001b[0mmodel_selection\u001b[0m\u001b[0;34m.\u001b[0m\u001b[0mcross_val_predict\u001b[0m\u001b[0;34m(\u001b[0m\u001b[0mpln\u001b[0m\u001b[0;34m,\u001b[0m \u001b[0mX\u001b[0m\u001b[0;34m,\u001b[0m \u001b[0my\u001b[0m\u001b[0;34m,\u001b[0m \u001b[0mcv\u001b[0m\u001b[0;34m=\u001b[0m\u001b[0;36m10\u001b[0m\u001b[0;34m)\u001b[0m\u001b[0;34m\u001b[0m\u001b[0m\n\u001b[0m\u001b[1;32m     12\u001b[0m \u001b[0;34m\u001b[0m\u001b[0m\n\u001b[1;32m     13\u001b[0m     \u001b[0mopts\u001b[0m \u001b[0;34m=\u001b[0m \u001b[0mdict\u001b[0m\u001b[0;34m(\u001b[0m\u001b[0mplot_width\u001b[0m\u001b[0;34m=\u001b[0m\u001b[0;36m300\u001b[0m\u001b[0;34m,\u001b[0m \u001b[0mplot_height\u001b[0m\u001b[0;34m=\u001b[0m\u001b[0;36m300\u001b[0m\u001b[0;34m)\u001b[0m\u001b[0;34m\u001b[0m\u001b[0m\n",
      "\u001b[0;32m/Users/alex/anaconda3/lib/python3.6/site-packages/sklearn/model_selection/_validation.py\u001b[0m in \u001b[0;36mcross_val_predict\u001b[0;34m(estimator, X, y, groups, cv, n_jobs, verbose, fit_params, pre_dispatch, method)\u001b[0m\n\u001b[1;32m    399\u001b[0m     prediction_blocks = parallel(delayed(_fit_and_predict)(\n\u001b[1;32m    400\u001b[0m         clone(estimator), X, y, train, test, verbose, fit_params, method)\n\u001b[0;32m--> 401\u001b[0;31m         for train, test in cv_iter)\n\u001b[0m\u001b[1;32m    402\u001b[0m \u001b[0;34m\u001b[0m\u001b[0m\n\u001b[1;32m    403\u001b[0m     \u001b[0;31m# Concatenate the predictions\u001b[0m\u001b[0;34m\u001b[0m\u001b[0;34m\u001b[0m\u001b[0m\n",
      "\u001b[0;32m/Users/alex/anaconda3/lib/python3.6/site-packages/sklearn/externals/joblib/parallel.py\u001b[0m in \u001b[0;36m__call__\u001b[0;34m(self, iterable)\u001b[0m\n\u001b[1;32m    756\u001b[0m             \u001b[0;31m# was dispatched. In particular this covers the edge\u001b[0m\u001b[0;34m\u001b[0m\u001b[0;34m\u001b[0m\u001b[0m\n\u001b[1;32m    757\u001b[0m             \u001b[0;31m# case of Parallel used with an exhausted iterator.\u001b[0m\u001b[0;34m\u001b[0m\u001b[0;34m\u001b[0m\u001b[0m\n\u001b[0;32m--> 758\u001b[0;31m             \u001b[0;32mwhile\u001b[0m \u001b[0mself\u001b[0m\u001b[0;34m.\u001b[0m\u001b[0mdispatch_one_batch\u001b[0m\u001b[0;34m(\u001b[0m\u001b[0miterator\u001b[0m\u001b[0;34m)\u001b[0m\u001b[0;34m:\u001b[0m\u001b[0;34m\u001b[0m\u001b[0m\n\u001b[0m\u001b[1;32m    759\u001b[0m                 \u001b[0mself\u001b[0m\u001b[0;34m.\u001b[0m\u001b[0m_iterating\u001b[0m \u001b[0;34m=\u001b[0m \u001b[0;32mTrue\u001b[0m\u001b[0;34m\u001b[0m\u001b[0m\n\u001b[1;32m    760\u001b[0m             \u001b[0;32melse\u001b[0m\u001b[0;34m:\u001b[0m\u001b[0;34m\u001b[0m\u001b[0m\n",
      "\u001b[0;32m/Users/alex/anaconda3/lib/python3.6/site-packages/sklearn/externals/joblib/parallel.py\u001b[0m in \u001b[0;36mdispatch_one_batch\u001b[0;34m(self, iterator)\u001b[0m\n\u001b[1;32m    606\u001b[0m                 \u001b[0;32mreturn\u001b[0m \u001b[0;32mFalse\u001b[0m\u001b[0;34m\u001b[0m\u001b[0m\n\u001b[1;32m    607\u001b[0m             \u001b[0;32melse\u001b[0m\u001b[0;34m:\u001b[0m\u001b[0;34m\u001b[0m\u001b[0m\n\u001b[0;32m--> 608\u001b[0;31m                 \u001b[0mself\u001b[0m\u001b[0;34m.\u001b[0m\u001b[0m_dispatch\u001b[0m\u001b[0;34m(\u001b[0m\u001b[0mtasks\u001b[0m\u001b[0;34m)\u001b[0m\u001b[0;34m\u001b[0m\u001b[0m\n\u001b[0m\u001b[1;32m    609\u001b[0m                 \u001b[0;32mreturn\u001b[0m \u001b[0;32mTrue\u001b[0m\u001b[0;34m\u001b[0m\u001b[0m\n\u001b[1;32m    610\u001b[0m \u001b[0;34m\u001b[0m\u001b[0m\n",
      "\u001b[0;32m/Users/alex/anaconda3/lib/python3.6/site-packages/sklearn/externals/joblib/parallel.py\u001b[0m in \u001b[0;36m_dispatch\u001b[0;34m(self, batch)\u001b[0m\n\u001b[1;32m    569\u001b[0m         \u001b[0mdispatch_timestamp\u001b[0m \u001b[0;34m=\u001b[0m \u001b[0mtime\u001b[0m\u001b[0;34m.\u001b[0m\u001b[0mtime\u001b[0m\u001b[0;34m(\u001b[0m\u001b[0;34m)\u001b[0m\u001b[0;34m\u001b[0m\u001b[0m\n\u001b[1;32m    570\u001b[0m         \u001b[0mcb\u001b[0m \u001b[0;34m=\u001b[0m \u001b[0mBatchCompletionCallBack\u001b[0m\u001b[0;34m(\u001b[0m\u001b[0mdispatch_timestamp\u001b[0m\u001b[0;34m,\u001b[0m \u001b[0mlen\u001b[0m\u001b[0;34m(\u001b[0m\u001b[0mbatch\u001b[0m\u001b[0;34m)\u001b[0m\u001b[0;34m,\u001b[0m \u001b[0mself\u001b[0m\u001b[0;34m)\u001b[0m\u001b[0;34m\u001b[0m\u001b[0m\n\u001b[0;32m--> 571\u001b[0;31m         \u001b[0mjob\u001b[0m \u001b[0;34m=\u001b[0m \u001b[0mself\u001b[0m\u001b[0;34m.\u001b[0m\u001b[0m_backend\u001b[0m\u001b[0;34m.\u001b[0m\u001b[0mapply_async\u001b[0m\u001b[0;34m(\u001b[0m\u001b[0mbatch\u001b[0m\u001b[0;34m,\u001b[0m \u001b[0mcallback\u001b[0m\u001b[0;34m=\u001b[0m\u001b[0mcb\u001b[0m\u001b[0;34m)\u001b[0m\u001b[0;34m\u001b[0m\u001b[0m\n\u001b[0m\u001b[1;32m    572\u001b[0m         \u001b[0mself\u001b[0m\u001b[0;34m.\u001b[0m\u001b[0m_jobs\u001b[0m\u001b[0;34m.\u001b[0m\u001b[0mappend\u001b[0m\u001b[0;34m(\u001b[0m\u001b[0mjob\u001b[0m\u001b[0;34m)\u001b[0m\u001b[0;34m\u001b[0m\u001b[0m\n\u001b[1;32m    573\u001b[0m \u001b[0;34m\u001b[0m\u001b[0m\n",
      "\u001b[0;32m/Users/alex/anaconda3/lib/python3.6/site-packages/sklearn/externals/joblib/_parallel_backends.py\u001b[0m in \u001b[0;36mapply_async\u001b[0;34m(self, func, callback)\u001b[0m\n\u001b[1;32m    107\u001b[0m     \u001b[0;32mdef\u001b[0m \u001b[0mapply_async\u001b[0m\u001b[0;34m(\u001b[0m\u001b[0mself\u001b[0m\u001b[0;34m,\u001b[0m \u001b[0mfunc\u001b[0m\u001b[0;34m,\u001b[0m \u001b[0mcallback\u001b[0m\u001b[0;34m=\u001b[0m\u001b[0;32mNone\u001b[0m\u001b[0;34m)\u001b[0m\u001b[0;34m:\u001b[0m\u001b[0;34m\u001b[0m\u001b[0m\n\u001b[1;32m    108\u001b[0m         \u001b[0;34m\"\"\"Schedule a func to be run\"\"\"\u001b[0m\u001b[0;34m\u001b[0m\u001b[0m\n\u001b[0;32m--> 109\u001b[0;31m         \u001b[0mresult\u001b[0m \u001b[0;34m=\u001b[0m \u001b[0mImmediateResult\u001b[0m\u001b[0;34m(\u001b[0m\u001b[0mfunc\u001b[0m\u001b[0;34m)\u001b[0m\u001b[0;34m\u001b[0m\u001b[0m\n\u001b[0m\u001b[1;32m    110\u001b[0m         \u001b[0;32mif\u001b[0m \u001b[0mcallback\u001b[0m\u001b[0;34m:\u001b[0m\u001b[0;34m\u001b[0m\u001b[0m\n\u001b[1;32m    111\u001b[0m             \u001b[0mcallback\u001b[0m\u001b[0;34m(\u001b[0m\u001b[0mresult\u001b[0m\u001b[0;34m)\u001b[0m\u001b[0;34m\u001b[0m\u001b[0m\n",
      "\u001b[0;32m/Users/alex/anaconda3/lib/python3.6/site-packages/sklearn/externals/joblib/_parallel_backends.py\u001b[0m in \u001b[0;36m__init__\u001b[0;34m(self, batch)\u001b[0m\n\u001b[1;32m    324\u001b[0m         \u001b[0;31m# Don't delay the application, to avoid keeping the input\u001b[0m\u001b[0;34m\u001b[0m\u001b[0;34m\u001b[0m\u001b[0m\n\u001b[1;32m    325\u001b[0m         \u001b[0;31m# arguments in memory\u001b[0m\u001b[0;34m\u001b[0m\u001b[0;34m\u001b[0m\u001b[0m\n\u001b[0;32m--> 326\u001b[0;31m         \u001b[0mself\u001b[0m\u001b[0;34m.\u001b[0m\u001b[0mresults\u001b[0m \u001b[0;34m=\u001b[0m \u001b[0mbatch\u001b[0m\u001b[0;34m(\u001b[0m\u001b[0;34m)\u001b[0m\u001b[0;34m\u001b[0m\u001b[0m\n\u001b[0m\u001b[1;32m    327\u001b[0m \u001b[0;34m\u001b[0m\u001b[0m\n\u001b[1;32m    328\u001b[0m     \u001b[0;32mdef\u001b[0m \u001b[0mget\u001b[0m\u001b[0;34m(\u001b[0m\u001b[0mself\u001b[0m\u001b[0;34m)\u001b[0m\u001b[0;34m:\u001b[0m\u001b[0;34m\u001b[0m\u001b[0m\n",
      "\u001b[0;32m/Users/alex/anaconda3/lib/python3.6/site-packages/sklearn/externals/joblib/parallel.py\u001b[0m in \u001b[0;36m__call__\u001b[0;34m(self)\u001b[0m\n\u001b[1;32m    129\u001b[0m \u001b[0;34m\u001b[0m\u001b[0m\n\u001b[1;32m    130\u001b[0m     \u001b[0;32mdef\u001b[0m \u001b[0m__call__\u001b[0m\u001b[0;34m(\u001b[0m\u001b[0mself\u001b[0m\u001b[0;34m)\u001b[0m\u001b[0;34m:\u001b[0m\u001b[0;34m\u001b[0m\u001b[0m\n\u001b[0;32m--> 131\u001b[0;31m         \u001b[0;32mreturn\u001b[0m \u001b[0;34m[\u001b[0m\u001b[0mfunc\u001b[0m\u001b[0;34m(\u001b[0m\u001b[0;34m*\u001b[0m\u001b[0margs\u001b[0m\u001b[0;34m,\u001b[0m \u001b[0;34m**\u001b[0m\u001b[0mkwargs\u001b[0m\u001b[0;34m)\u001b[0m \u001b[0;32mfor\u001b[0m \u001b[0mfunc\u001b[0m\u001b[0;34m,\u001b[0m \u001b[0margs\u001b[0m\u001b[0;34m,\u001b[0m \u001b[0mkwargs\u001b[0m \u001b[0;32min\u001b[0m \u001b[0mself\u001b[0m\u001b[0;34m.\u001b[0m\u001b[0mitems\u001b[0m\u001b[0;34m]\u001b[0m\u001b[0;34m\u001b[0m\u001b[0m\n\u001b[0m\u001b[1;32m    132\u001b[0m \u001b[0;34m\u001b[0m\u001b[0m\n\u001b[1;32m    133\u001b[0m     \u001b[0;32mdef\u001b[0m \u001b[0m__len__\u001b[0m\u001b[0;34m(\u001b[0m\u001b[0mself\u001b[0m\u001b[0;34m)\u001b[0m\u001b[0;34m:\u001b[0m\u001b[0;34m\u001b[0m\u001b[0m\n",
      "\u001b[0;32m/Users/alex/anaconda3/lib/python3.6/site-packages/sklearn/externals/joblib/parallel.py\u001b[0m in \u001b[0;36m<listcomp>\u001b[0;34m(.0)\u001b[0m\n\u001b[1;32m    129\u001b[0m \u001b[0;34m\u001b[0m\u001b[0m\n\u001b[1;32m    130\u001b[0m     \u001b[0;32mdef\u001b[0m \u001b[0m__call__\u001b[0m\u001b[0;34m(\u001b[0m\u001b[0mself\u001b[0m\u001b[0;34m)\u001b[0m\u001b[0;34m:\u001b[0m\u001b[0;34m\u001b[0m\u001b[0m\n\u001b[0;32m--> 131\u001b[0;31m         \u001b[0;32mreturn\u001b[0m \u001b[0;34m[\u001b[0m\u001b[0mfunc\u001b[0m\u001b[0;34m(\u001b[0m\u001b[0;34m*\u001b[0m\u001b[0margs\u001b[0m\u001b[0;34m,\u001b[0m \u001b[0;34m**\u001b[0m\u001b[0mkwargs\u001b[0m\u001b[0;34m)\u001b[0m \u001b[0;32mfor\u001b[0m \u001b[0mfunc\u001b[0m\u001b[0;34m,\u001b[0m \u001b[0margs\u001b[0m\u001b[0;34m,\u001b[0m \u001b[0mkwargs\u001b[0m \u001b[0;32min\u001b[0m \u001b[0mself\u001b[0m\u001b[0;34m.\u001b[0m\u001b[0mitems\u001b[0m\u001b[0;34m]\u001b[0m\u001b[0;34m\u001b[0m\u001b[0m\n\u001b[0m\u001b[1;32m    132\u001b[0m \u001b[0;34m\u001b[0m\u001b[0m\n\u001b[1;32m    133\u001b[0m     \u001b[0;32mdef\u001b[0m \u001b[0m__len__\u001b[0m\u001b[0;34m(\u001b[0m\u001b[0mself\u001b[0m\u001b[0;34m)\u001b[0m\u001b[0;34m:\u001b[0m\u001b[0;34m\u001b[0m\u001b[0m\n",
      "\u001b[0;32m/Users/alex/anaconda3/lib/python3.6/site-packages/sklearn/model_selection/_validation.py\u001b[0m in \u001b[0;36m_fit_and_predict\u001b[0;34m(estimator, X, y, train, test, verbose, fit_params, method)\u001b[0m\n\u001b[1;32m    472\u001b[0m         \u001b[0mestimator\u001b[0m\u001b[0;34m.\u001b[0m\u001b[0mfit\u001b[0m\u001b[0;34m(\u001b[0m\u001b[0mX_train\u001b[0m\u001b[0;34m,\u001b[0m \u001b[0;34m**\u001b[0m\u001b[0mfit_params\u001b[0m\u001b[0;34m)\u001b[0m\u001b[0;34m\u001b[0m\u001b[0m\n\u001b[1;32m    473\u001b[0m     \u001b[0;32melse\u001b[0m\u001b[0;34m:\u001b[0m\u001b[0;34m\u001b[0m\u001b[0m\n\u001b[0;32m--> 474\u001b[0;31m         \u001b[0mestimator\u001b[0m\u001b[0;34m.\u001b[0m\u001b[0mfit\u001b[0m\u001b[0;34m(\u001b[0m\u001b[0mX_train\u001b[0m\u001b[0;34m,\u001b[0m \u001b[0my_train\u001b[0m\u001b[0;34m,\u001b[0m \u001b[0;34m**\u001b[0m\u001b[0mfit_params\u001b[0m\u001b[0;34m)\u001b[0m\u001b[0;34m\u001b[0m\u001b[0m\n\u001b[0m\u001b[1;32m    475\u001b[0m     \u001b[0mfunc\u001b[0m \u001b[0;34m=\u001b[0m \u001b[0mgetattr\u001b[0m\u001b[0;34m(\u001b[0m\u001b[0mestimator\u001b[0m\u001b[0;34m,\u001b[0m \u001b[0mmethod\u001b[0m\u001b[0;34m)\u001b[0m\u001b[0;34m\u001b[0m\u001b[0m\n\u001b[1;32m    476\u001b[0m     \u001b[0mpredictions\u001b[0m \u001b[0;34m=\u001b[0m \u001b[0mfunc\u001b[0m\u001b[0;34m(\u001b[0m\u001b[0mX_test\u001b[0m\u001b[0;34m)\u001b[0m\u001b[0;34m\u001b[0m\u001b[0m\n",
      "\u001b[0;32m/Users/alex/anaconda3/lib/python3.6/site-packages/sklearn/pipeline.py\u001b[0m in \u001b[0;36mfit\u001b[0;34m(self, X, y, **fit_params)\u001b[0m\n\u001b[1;32m    268\u001b[0m         \u001b[0mXt\u001b[0m\u001b[0;34m,\u001b[0m \u001b[0mfit_params\u001b[0m \u001b[0;34m=\u001b[0m \u001b[0mself\u001b[0m\u001b[0;34m.\u001b[0m\u001b[0m_fit\u001b[0m\u001b[0;34m(\u001b[0m\u001b[0mX\u001b[0m\u001b[0;34m,\u001b[0m \u001b[0my\u001b[0m\u001b[0;34m,\u001b[0m \u001b[0;34m**\u001b[0m\u001b[0mfit_params\u001b[0m\u001b[0;34m)\u001b[0m\u001b[0;34m\u001b[0m\u001b[0m\n\u001b[1;32m    269\u001b[0m         \u001b[0;32mif\u001b[0m \u001b[0mself\u001b[0m\u001b[0;34m.\u001b[0m\u001b[0m_final_estimator\u001b[0m \u001b[0;32mis\u001b[0m \u001b[0;32mnot\u001b[0m \u001b[0;32mNone\u001b[0m\u001b[0;34m:\u001b[0m\u001b[0;34m\u001b[0m\u001b[0m\n\u001b[0;32m--> 270\u001b[0;31m             \u001b[0mself\u001b[0m\u001b[0;34m.\u001b[0m\u001b[0m_final_estimator\u001b[0m\u001b[0;34m.\u001b[0m\u001b[0mfit\u001b[0m\u001b[0;34m(\u001b[0m\u001b[0mXt\u001b[0m\u001b[0;34m,\u001b[0m \u001b[0my\u001b[0m\u001b[0;34m,\u001b[0m \u001b[0;34m**\u001b[0m\u001b[0mfit_params\u001b[0m\u001b[0;34m)\u001b[0m\u001b[0;34m\u001b[0m\u001b[0m\n\u001b[0m\u001b[1;32m    271\u001b[0m         \u001b[0;32mreturn\u001b[0m \u001b[0mself\u001b[0m\u001b[0;34m\u001b[0m\u001b[0m\n\u001b[1;32m    272\u001b[0m \u001b[0;34m\u001b[0m\u001b[0m\n",
      "\u001b[0;32m/Users/alex/anaconda3/lib/python3.6/site-packages/sklearn/linear_model/coordinate_descent.py\u001b[0m in \u001b[0;36mfit\u001b[0;34m(self, X, y)\u001b[0m\n\u001b[1;32m   1177\u001b[0m                 for train, test in folds)\n\u001b[1;32m   1178\u001b[0m         mse_paths = Parallel(n_jobs=self.n_jobs, verbose=self.verbose,\n\u001b[0;32m-> 1179\u001b[0;31m                              backend=\"threading\")(jobs)\n\u001b[0m\u001b[1;32m   1180\u001b[0m         \u001b[0mmse_paths\u001b[0m \u001b[0;34m=\u001b[0m \u001b[0mnp\u001b[0m\u001b[0;34m.\u001b[0m\u001b[0mreshape\u001b[0m\u001b[0;34m(\u001b[0m\u001b[0mmse_paths\u001b[0m\u001b[0;34m,\u001b[0m \u001b[0;34m(\u001b[0m\u001b[0mn_l1_ratio\u001b[0m\u001b[0;34m,\u001b[0m \u001b[0mlen\u001b[0m\u001b[0;34m(\u001b[0m\u001b[0mfolds\u001b[0m\u001b[0;34m)\u001b[0m\u001b[0;34m,\u001b[0m \u001b[0;34m-\u001b[0m\u001b[0;36m1\u001b[0m\u001b[0;34m)\u001b[0m\u001b[0;34m)\u001b[0m\u001b[0;34m\u001b[0m\u001b[0m\n\u001b[1;32m   1181\u001b[0m         \u001b[0mmean_mse\u001b[0m \u001b[0;34m=\u001b[0m \u001b[0mnp\u001b[0m\u001b[0;34m.\u001b[0m\u001b[0mmean\u001b[0m\u001b[0;34m(\u001b[0m\u001b[0mmse_paths\u001b[0m\u001b[0;34m,\u001b[0m \u001b[0maxis\u001b[0m\u001b[0;34m=\u001b[0m\u001b[0;36m1\u001b[0m\u001b[0;34m)\u001b[0m\u001b[0;34m\u001b[0m\u001b[0m\n",
      "\u001b[0;32m/Users/alex/anaconda3/lib/python3.6/site-packages/sklearn/externals/joblib/parallel.py\u001b[0m in \u001b[0;36m__call__\u001b[0;34m(self, iterable)\u001b[0m\n\u001b[1;32m    766\u001b[0m                 \u001b[0;31m# consumption.\u001b[0m\u001b[0;34m\u001b[0m\u001b[0;34m\u001b[0m\u001b[0m\n\u001b[1;32m    767\u001b[0m                 \u001b[0mself\u001b[0m\u001b[0;34m.\u001b[0m\u001b[0m_iterating\u001b[0m \u001b[0;34m=\u001b[0m \u001b[0;32mFalse\u001b[0m\u001b[0;34m\u001b[0m\u001b[0m\n\u001b[0;32m--> 768\u001b[0;31m             \u001b[0mself\u001b[0m\u001b[0;34m.\u001b[0m\u001b[0mretrieve\u001b[0m\u001b[0;34m(\u001b[0m\u001b[0;34m)\u001b[0m\u001b[0;34m\u001b[0m\u001b[0m\n\u001b[0m\u001b[1;32m    769\u001b[0m             \u001b[0;31m# Make sure that we get a last message telling us we are done\u001b[0m\u001b[0;34m\u001b[0m\u001b[0;34m\u001b[0m\u001b[0m\n\u001b[1;32m    770\u001b[0m             \u001b[0melapsed_time\u001b[0m \u001b[0;34m=\u001b[0m \u001b[0mtime\u001b[0m\u001b[0;34m.\u001b[0m\u001b[0mtime\u001b[0m\u001b[0;34m(\u001b[0m\u001b[0;34m)\u001b[0m \u001b[0;34m-\u001b[0m \u001b[0mself\u001b[0m\u001b[0;34m.\u001b[0m\u001b[0m_start_time\u001b[0m\u001b[0;34m\u001b[0m\u001b[0m\n",
      "\u001b[0;32m/Users/alex/anaconda3/lib/python3.6/site-packages/sklearn/externals/joblib/parallel.py\u001b[0m in \u001b[0;36mretrieve\u001b[0;34m(self)\u001b[0m\n\u001b[1;32m    717\u001b[0m                     \u001b[0mensure_ready\u001b[0m \u001b[0;34m=\u001b[0m \u001b[0mself\u001b[0m\u001b[0;34m.\u001b[0m\u001b[0m_managed_backend\u001b[0m\u001b[0;34m\u001b[0m\u001b[0m\n\u001b[1;32m    718\u001b[0m                     \u001b[0mbackend\u001b[0m\u001b[0;34m.\u001b[0m\u001b[0mabort_everything\u001b[0m\u001b[0;34m(\u001b[0m\u001b[0mensure_ready\u001b[0m\u001b[0;34m=\u001b[0m\u001b[0mensure_ready\u001b[0m\u001b[0;34m)\u001b[0m\u001b[0;34m\u001b[0m\u001b[0m\n\u001b[0;32m--> 719\u001b[0;31m                 \u001b[0;32mraise\u001b[0m \u001b[0mexception\u001b[0m\u001b[0;34m\u001b[0m\u001b[0m\n\u001b[0m\u001b[1;32m    720\u001b[0m \u001b[0;34m\u001b[0m\u001b[0m\n\u001b[1;32m    721\u001b[0m     \u001b[0;32mdef\u001b[0m \u001b[0m__call__\u001b[0m\u001b[0;34m(\u001b[0m\u001b[0mself\u001b[0m\u001b[0;34m,\u001b[0m \u001b[0miterable\u001b[0m\u001b[0;34m)\u001b[0m\u001b[0;34m:\u001b[0m\u001b[0;34m\u001b[0m\u001b[0m\n",
      "\u001b[0;32m/Users/alex/anaconda3/lib/python3.6/site-packages/sklearn/externals/joblib/parallel.py\u001b[0m in \u001b[0;36mretrieve\u001b[0;34m(self)\u001b[0m\n\u001b[1;32m    680\u001b[0m                 \u001b[0;31m# check if timeout supported in backend future implementation\u001b[0m\u001b[0;34m\u001b[0m\u001b[0;34m\u001b[0m\u001b[0m\n\u001b[1;32m    681\u001b[0m                 \u001b[0;32mif\u001b[0m \u001b[0;34m'timeout'\u001b[0m \u001b[0;32min\u001b[0m \u001b[0mgetfullargspec\u001b[0m\u001b[0;34m(\u001b[0m\u001b[0mjob\u001b[0m\u001b[0;34m.\u001b[0m\u001b[0mget\u001b[0m\u001b[0;34m)\u001b[0m\u001b[0;34m.\u001b[0m\u001b[0margs\u001b[0m\u001b[0;34m:\u001b[0m\u001b[0;34m\u001b[0m\u001b[0m\n\u001b[0;32m--> 682\u001b[0;31m                     \u001b[0mself\u001b[0m\u001b[0;34m.\u001b[0m\u001b[0m_output\u001b[0m\u001b[0;34m.\u001b[0m\u001b[0mextend\u001b[0m\u001b[0;34m(\u001b[0m\u001b[0mjob\u001b[0m\u001b[0;34m.\u001b[0m\u001b[0mget\u001b[0m\u001b[0;34m(\u001b[0m\u001b[0mtimeout\u001b[0m\u001b[0;34m=\u001b[0m\u001b[0mself\u001b[0m\u001b[0;34m.\u001b[0m\u001b[0mtimeout\u001b[0m\u001b[0;34m)\u001b[0m\u001b[0;34m)\u001b[0m\u001b[0;34m\u001b[0m\u001b[0m\n\u001b[0m\u001b[1;32m    683\u001b[0m                 \u001b[0;32melse\u001b[0m\u001b[0;34m:\u001b[0m\u001b[0;34m\u001b[0m\u001b[0m\n\u001b[1;32m    684\u001b[0m                     \u001b[0mself\u001b[0m\u001b[0;34m.\u001b[0m\u001b[0m_output\u001b[0m\u001b[0;34m.\u001b[0m\u001b[0mextend\u001b[0m\u001b[0;34m(\u001b[0m\u001b[0mjob\u001b[0m\u001b[0;34m.\u001b[0m\u001b[0mget\u001b[0m\u001b[0;34m(\u001b[0m\u001b[0;34m)\u001b[0m\u001b[0;34m)\u001b[0m\u001b[0;34m\u001b[0m\u001b[0m\n",
      "\u001b[0;32m/Users/alex/anaconda3/lib/python3.6/multiprocessing/pool.py\u001b[0m in \u001b[0;36mget\u001b[0;34m(self, timeout)\u001b[0m\n\u001b[1;32m    600\u001b[0m \u001b[0;34m\u001b[0m\u001b[0m\n\u001b[1;32m    601\u001b[0m     \u001b[0;32mdef\u001b[0m \u001b[0mget\u001b[0m\u001b[0;34m(\u001b[0m\u001b[0mself\u001b[0m\u001b[0;34m,\u001b[0m \u001b[0mtimeout\u001b[0m\u001b[0;34m=\u001b[0m\u001b[0;32mNone\u001b[0m\u001b[0;34m)\u001b[0m\u001b[0;34m:\u001b[0m\u001b[0;34m\u001b[0m\u001b[0m\n\u001b[0;32m--> 602\u001b[0;31m         \u001b[0mself\u001b[0m\u001b[0;34m.\u001b[0m\u001b[0mwait\u001b[0m\u001b[0;34m(\u001b[0m\u001b[0mtimeout\u001b[0m\u001b[0;34m)\u001b[0m\u001b[0;34m\u001b[0m\u001b[0m\n\u001b[0m\u001b[1;32m    603\u001b[0m         \u001b[0;32mif\u001b[0m \u001b[0;32mnot\u001b[0m \u001b[0mself\u001b[0m\u001b[0;34m.\u001b[0m\u001b[0mready\u001b[0m\u001b[0;34m(\u001b[0m\u001b[0;34m)\u001b[0m\u001b[0;34m:\u001b[0m\u001b[0;34m\u001b[0m\u001b[0m\n\u001b[1;32m    604\u001b[0m             \u001b[0;32mraise\u001b[0m \u001b[0mTimeoutError\u001b[0m\u001b[0;34m\u001b[0m\u001b[0m\n",
      "\u001b[0;32m/Users/alex/anaconda3/lib/python3.6/multiprocessing/pool.py\u001b[0m in \u001b[0;36mwait\u001b[0;34m(self, timeout)\u001b[0m\n\u001b[1;32m    597\u001b[0m \u001b[0;34m\u001b[0m\u001b[0m\n\u001b[1;32m    598\u001b[0m     \u001b[0;32mdef\u001b[0m \u001b[0mwait\u001b[0m\u001b[0;34m(\u001b[0m\u001b[0mself\u001b[0m\u001b[0;34m,\u001b[0m \u001b[0mtimeout\u001b[0m\u001b[0;34m=\u001b[0m\u001b[0;32mNone\u001b[0m\u001b[0;34m)\u001b[0m\u001b[0;34m:\u001b[0m\u001b[0;34m\u001b[0m\u001b[0m\n\u001b[0;32m--> 599\u001b[0;31m         \u001b[0mself\u001b[0m\u001b[0;34m.\u001b[0m\u001b[0m_event\u001b[0m\u001b[0;34m.\u001b[0m\u001b[0mwait\u001b[0m\u001b[0;34m(\u001b[0m\u001b[0mtimeout\u001b[0m\u001b[0;34m)\u001b[0m\u001b[0;34m\u001b[0m\u001b[0m\n\u001b[0m\u001b[1;32m    600\u001b[0m \u001b[0;34m\u001b[0m\u001b[0m\n\u001b[1;32m    601\u001b[0m     \u001b[0;32mdef\u001b[0m \u001b[0mget\u001b[0m\u001b[0;34m(\u001b[0m\u001b[0mself\u001b[0m\u001b[0;34m,\u001b[0m \u001b[0mtimeout\u001b[0m\u001b[0;34m=\u001b[0m\u001b[0;32mNone\u001b[0m\u001b[0;34m)\u001b[0m\u001b[0;34m:\u001b[0m\u001b[0;34m\u001b[0m\u001b[0m\n",
      "\u001b[0;32m/Users/alex/anaconda3/lib/python3.6/threading.py\u001b[0m in \u001b[0;36mwait\u001b[0;34m(self, timeout)\u001b[0m\n\u001b[1;32m    549\u001b[0m             \u001b[0msignaled\u001b[0m \u001b[0;34m=\u001b[0m \u001b[0mself\u001b[0m\u001b[0;34m.\u001b[0m\u001b[0m_flag\u001b[0m\u001b[0;34m\u001b[0m\u001b[0m\n\u001b[1;32m    550\u001b[0m             \u001b[0;32mif\u001b[0m \u001b[0;32mnot\u001b[0m \u001b[0msignaled\u001b[0m\u001b[0;34m:\u001b[0m\u001b[0;34m\u001b[0m\u001b[0m\n\u001b[0;32m--> 551\u001b[0;31m                 \u001b[0msignaled\u001b[0m \u001b[0;34m=\u001b[0m \u001b[0mself\u001b[0m\u001b[0;34m.\u001b[0m\u001b[0m_cond\u001b[0m\u001b[0;34m.\u001b[0m\u001b[0mwait\u001b[0m\u001b[0;34m(\u001b[0m\u001b[0mtimeout\u001b[0m\u001b[0;34m)\u001b[0m\u001b[0;34m\u001b[0m\u001b[0m\n\u001b[0m\u001b[1;32m    552\u001b[0m             \u001b[0;32mreturn\u001b[0m \u001b[0msignaled\u001b[0m\u001b[0;34m\u001b[0m\u001b[0m\n\u001b[1;32m    553\u001b[0m \u001b[0;34m\u001b[0m\u001b[0m\n",
      "\u001b[0;32m/Users/alex/anaconda3/lib/python3.6/threading.py\u001b[0m in \u001b[0;36mwait\u001b[0;34m(self, timeout)\u001b[0m\n\u001b[1;32m    293\u001b[0m         \u001b[0;32mtry\u001b[0m\u001b[0;34m:\u001b[0m    \u001b[0;31m# restore state no matter what (e.g., KeyboardInterrupt)\u001b[0m\u001b[0;34m\u001b[0m\u001b[0m\n\u001b[1;32m    294\u001b[0m             \u001b[0;32mif\u001b[0m \u001b[0mtimeout\u001b[0m \u001b[0;32mis\u001b[0m \u001b[0;32mNone\u001b[0m\u001b[0;34m:\u001b[0m\u001b[0;34m\u001b[0m\u001b[0m\n\u001b[0;32m--> 295\u001b[0;31m                 \u001b[0mwaiter\u001b[0m\u001b[0;34m.\u001b[0m\u001b[0macquire\u001b[0m\u001b[0;34m(\u001b[0m\u001b[0;34m)\u001b[0m\u001b[0;34m\u001b[0m\u001b[0m\n\u001b[0m\u001b[1;32m    296\u001b[0m                 \u001b[0mgotit\u001b[0m \u001b[0;34m=\u001b[0m \u001b[0;32mTrue\u001b[0m\u001b[0;34m\u001b[0m\u001b[0m\n\u001b[1;32m    297\u001b[0m             \u001b[0;32melse\u001b[0m\u001b[0;34m:\u001b[0m\u001b[0;34m\u001b[0m\u001b[0m\n",
      "\u001b[0;31mKeyboardInterrupt\u001b[0m: "
     ]
    }
   ],
   "source": [
    "pts = []\n",
    "results = []\n",
    "for tgt, X, y in runs:\n",
    "    print(tgt, X.shape, y.shape) \n",
    "    \n",
    "    pln = pipeline.Pipeline([\n",
    "        ('scaler', preprocessing.StandardScaler()),\n",
    "        ('clf', linear_model.ElasticNetCV(cv=10, n_alphas=1000, eps=0.01, l1_ratio=[.5,.9,.99], max_iter=1e9, n_jobs=-1, normalize=True)),\n",
    "    ])\n",
    "    \n",
    "    preds = model_selection.cross_val_predict(pln, X, y, cv=10)\n",
    "    \n",
    "    opts = dict(plot_width=300, plot_height=300)\n",
    "    plot = figure(**opts)\n",
    "    plot.circle(y, preds)\n",
    "    pts.append(plot)\n",
    "    \n",
    "show(row(pts), notebook_handle=True)    "
   ]
  },
  {
   "cell_type": "code",
   "execution_count": 47,
   "metadata": {
    "scrolled": false
   },
   "outputs": [
    {
     "name": "stdout",
     "output_type": "stream",
     "text": [
      "kcat (102, 7) (102,)\n",
      "km (102, 7) (102,)\n",
      "kcatkm (102, 7) (102,)\n"
     ]
    },
    {
     "data": {
      "text/html": [
       "\n",
       "\n",
       "    <div class=\"bk-root\">\n",
       "        <div class=\"bk-plotdiv\" id=\"18d65cb3-4acd-4342-87c1-50e81cfb7fdb\"></div>\n",
       "    </div>\n",
       "<script type=\"text/javascript\">\n",
       "  \n",
       "  (function(global) {\n",
       "    function now() {\n",
       "      return new Date();\n",
       "    }\n",
       "  \n",
       "    var force = false;\n",
       "  \n",
       "    if (typeof (window._bokeh_onload_callbacks) === \"undefined\" || force === true) {\n",
       "      window._bokeh_onload_callbacks = [];\n",
       "      window._bokeh_is_loading = undefined;\n",
       "    }\n",
       "  \n",
       "  \n",
       "    \n",
       "    if (typeof (window._bokeh_timeout) === \"undefined\" || force === true) {\n",
       "      window._bokeh_timeout = Date.now() + 0;\n",
       "      window._bokeh_failed_load = false;\n",
       "    }\n",
       "  \n",
       "    var NB_LOAD_WARNING = {'data': {'text/html':\n",
       "       \"<div style='background-color: #fdd'>\\n\"+\n",
       "       \"<p>\\n\"+\n",
       "       \"BokehJS does not appear to have successfully loaded. If loading BokehJS from CDN, this \\n\"+\n",
       "       \"may be due to a slow or bad network connection. Possible fixes:\\n\"+\n",
       "       \"</p>\\n\"+\n",
       "       \"<ul>\\n\"+\n",
       "       \"<li>re-rerun `output_notebook()` to attempt to load from CDN again, or</li>\\n\"+\n",
       "       \"<li>use INLINE resources instead, as so:</li>\\n\"+\n",
       "       \"</ul>\\n\"+\n",
       "       \"<code>\\n\"+\n",
       "       \"from bokeh.resources import INLINE\\n\"+\n",
       "       \"output_notebook(resources=INLINE)\\n\"+\n",
       "       \"</code>\\n\"+\n",
       "       \"</div>\"}};\n",
       "  \n",
       "    function display_loaded() {\n",
       "      if (window.Bokeh !== undefined) {\n",
       "        document.getElementById(\"18d65cb3-4acd-4342-87c1-50e81cfb7fdb\").textContent = \"BokehJS successfully loaded.\";\n",
       "      } else if (Date.now() < window._bokeh_timeout) {\n",
       "        setTimeout(display_loaded, 100)\n",
       "      }\n",
       "    }if ((window.Jupyter !== undefined) && Jupyter.notebook.kernel) {\n",
       "      comm_manager = Jupyter.notebook.kernel.comm_manager\n",
       "      comm_manager.register_target(\"ebc8fb10-c933-407d-a25a-c2b11057cb23\", function () {});\n",
       "    }\n",
       "  \n",
       "    function run_callbacks() {\n",
       "      window._bokeh_onload_callbacks.forEach(function(callback) { callback() });\n",
       "      delete window._bokeh_onload_callbacks\n",
       "      console.info(\"Bokeh: all callbacks have finished\");\n",
       "    }\n",
       "  \n",
       "    function load_libs(js_urls, callback) {\n",
       "      window._bokeh_onload_callbacks.push(callback);\n",
       "      if (window._bokeh_is_loading > 0) {\n",
       "        console.log(\"Bokeh: BokehJS is being loaded, scheduling callback at\", now());\n",
       "        return null;\n",
       "      }\n",
       "      if (js_urls == null || js_urls.length === 0) {\n",
       "        run_callbacks();\n",
       "        return null;\n",
       "      }\n",
       "      console.log(\"Bokeh: BokehJS not loaded, scheduling load and callback at\", now());\n",
       "      window._bokeh_is_loading = js_urls.length;\n",
       "      for (var i = 0; i < js_urls.length; i++) {\n",
       "        var url = js_urls[i];\n",
       "        var s = document.createElement('script');\n",
       "        s.src = url;\n",
       "        s.async = false;\n",
       "        s.onreadystatechange = s.onload = function() {\n",
       "          window._bokeh_is_loading--;\n",
       "          if (window._bokeh_is_loading === 0) {\n",
       "            console.log(\"Bokeh: all BokehJS libraries loaded\");\n",
       "            run_callbacks()\n",
       "          }\n",
       "        };\n",
       "        s.onerror = function() {\n",
       "          console.warn(\"failed to load library \" + url);\n",
       "        };\n",
       "        console.log(\"Bokeh: injecting script tag for BokehJS library: \", url);\n",
       "        document.getElementsByTagName(\"head\")[0].appendChild(s);\n",
       "      }\n",
       "    };var element = document.getElementById(\"18d65cb3-4acd-4342-87c1-50e81cfb7fdb\");\n",
       "    if (element == null) {\n",
       "      console.log(\"Bokeh: ERROR: autoload.js configured with elementid '18d65cb3-4acd-4342-87c1-50e81cfb7fdb' but no matching script tag was found. \")\n",
       "      return false;\n",
       "    }\n",
       "  \n",
       "    var js_urls = [];\n",
       "  \n",
       "    var inline_js = [\n",
       "      function(Bokeh) {\n",
       "        (function() {\n",
       "          var fn = function() {\n",
       "            var docs_json = {\"d943aa91-ddd3-438f-83e1-bb10ca6fc84b\":{\"roots\":{\"references\":[{\"attributes\":{\"plot\":{\"id\":\"ed78488f-c7e2-4cc6-8a09-77eb0b56f0c3\",\"subtype\":\"Figure\",\"type\":\"Plot\"}},\"id\":\"b1f39c2c-7ffb-4500-b8bf-c6c15aefb301\",\"type\":\"WheelZoomTool\"},{\"attributes\":{\"formatter\":{\"id\":\"b2522f9b-7a4d-4877-8429-ef42399937cc\",\"type\":\"BasicTickFormatter\"},\"plot\":{\"id\":\"7215775f-7806-4b61-9288-ccd4aefc132e\",\"subtype\":\"Figure\",\"type\":\"Plot\"},\"ticker\":{\"id\":\"8b1e34ce-9b51-409f-ade5-068cc1d7c243\",\"type\":\"BasicTicker\"}},\"id\":\"4a29735c-8c61-4f15-a9fe-6f72132cb7f7\",\"type\":\"LinearAxis\"},{\"attributes\":{\"plot\":{\"id\":\"ed78488f-c7e2-4cc6-8a09-77eb0b56f0c3\",\"subtype\":\"Figure\",\"type\":\"Plot\"}},\"id\":\"22e98dac-f7ad-452b-ba46-39ba0e2874ae\",\"type\":\"ResetTool\"},{\"attributes\":{\"plot\":{\"id\":\"ed78488f-c7e2-4cc6-8a09-77eb0b56f0c3\",\"subtype\":\"Figure\",\"type\":\"Plot\"}},\"id\":\"7f1d08d5-6ea4-47ec-8d7c-307a50bce0cf\",\"type\":\"SaveTool\"},{\"attributes\":{\"data_source\":{\"id\":\"19266947-6c3d-475e-8323-1a768a457f81\",\"type\":\"ColumnDataSource\"},\"glyph\":{\"id\":\"eab76d9c-6599-4667-a16c-b9d2b393a7f7\",\"type\":\"Circle\"},\"hover_glyph\":null,\"nonselection_glyph\":{\"id\":\"feabc9b7-f54d-49ab-a86e-1c70ad76cd62\",\"type\":\"Circle\"},\"selection_glyph\":null},\"id\":\"a2c1cc6d-e9c7-4ea7-9431-ae2ba7faf526\",\"type\":\"GlyphRenderer\"},{\"attributes\":{\"formatter\":{\"id\":\"dbaebd18-fea7-42f8-8572-e68bbfdd43f2\",\"type\":\"BasicTickFormatter\"},\"plot\":{\"id\":\"7215775f-7806-4b61-9288-ccd4aefc132e\",\"subtype\":\"Figure\",\"type\":\"Plot\"},\"ticker\":{\"id\":\"5e95f34b-acdd-4680-844a-bfbd668f441d\",\"type\":\"BasicTicker\"}},\"id\":\"db6927c3-1e8f-45e6-a51b-14fc18aa1091\",\"type\":\"LinearAxis\"},{\"attributes\":{\"below\":[{\"id\":\"4a29735c-8c61-4f15-a9fe-6f72132cb7f7\",\"type\":\"LinearAxis\"}],\"left\":[{\"id\":\"db6927c3-1e8f-45e6-a51b-14fc18aa1091\",\"type\":\"LinearAxis\"}],\"plot_height\":300,\"plot_width\":300,\"renderers\":[{\"id\":\"4a29735c-8c61-4f15-a9fe-6f72132cb7f7\",\"type\":\"LinearAxis\"},{\"id\":\"0f886b9b-f78d-461c-892a-1a0d03abb682\",\"type\":\"Grid\"},{\"id\":\"db6927c3-1e8f-45e6-a51b-14fc18aa1091\",\"type\":\"LinearAxis\"},{\"id\":\"d5026438-86a9-42df-9dda-2a4372d99a45\",\"type\":\"Grid\"},{\"id\":\"25b3a95b-ecdc-46c2-a3a4-b7948e30b950\",\"type\":\"BoxAnnotation\"},{\"id\":\"a2c1cc6d-e9c7-4ea7-9431-ae2ba7faf526\",\"type\":\"GlyphRenderer\"}],\"title\":{\"id\":\"c4810369-9c04-4b0f-8d02-8eb574162a19\",\"type\":\"Title\"},\"tool_events\":{\"id\":\"d50e64eb-d4d8-40f0-82b2-0146dfbd5bf8\",\"type\":\"ToolEvents\"},\"toolbar\":{\"id\":\"0f4b8a68-53b0-41c6-ad98-1515836701ee\",\"type\":\"Toolbar\"},\"x_range\":{\"id\":\"4a2c93eb-c6dd-4c3c-b353-696b89496ecd\",\"type\":\"DataRange1d\"},\"y_range\":{\"id\":\"17aeaa26-d70e-461c-a515-6b41629d0db7\",\"type\":\"DataRange1d\"}},\"id\":\"7215775f-7806-4b61-9288-ccd4aefc132e\",\"subtype\":\"Figure\",\"type\":\"Plot\"},{\"attributes\":{\"active_drag\":\"auto\",\"active_scroll\":\"auto\",\"active_tap\":\"auto\",\"tools\":[{\"id\":\"50dc2736-c9ae-4e4f-bb75-6f99d7db63f3\",\"type\":\"PanTool\"},{\"id\":\"b1f39c2c-7ffb-4500-b8bf-c6c15aefb301\",\"type\":\"WheelZoomTool\"},{\"id\":\"61d27b91-127b-4427-b91a-92132701eab3\",\"type\":\"BoxZoomTool\"},{\"id\":\"7f1d08d5-6ea4-47ec-8d7c-307a50bce0cf\",\"type\":\"SaveTool\"},{\"id\":\"22e98dac-f7ad-452b-ba46-39ba0e2874ae\",\"type\":\"ResetTool\"},{\"id\":\"1b144a40-5588-42bf-b026-1dfa82bc2e97\",\"type\":\"HelpTool\"}]},\"id\":\"8d3cad36-533a-412d-8e63-4f7e9d6a0171\",\"type\":\"Toolbar\"},{\"attributes\":{\"fill_alpha\":{\"value\":0.1},\"fill_color\":{\"value\":\"#1f77b4\"},\"line_alpha\":{\"value\":0.1},\"line_color\":{\"value\":\"#1f77b4\"},\"x\":{\"field\":\"x\"},\"y\":{\"field\":\"y\"}},\"id\":\"9422dc61-ac71-44cc-b742-6ec243016962\",\"type\":\"Circle\"},{\"attributes\":{\"plot\":{\"id\":\"7215775f-7806-4b61-9288-ccd4aefc132e\",\"subtype\":\"Figure\",\"type\":\"Plot\"},\"ticker\":{\"id\":\"8b1e34ce-9b51-409f-ade5-068cc1d7c243\",\"type\":\"BasicTicker\"}},\"id\":\"0f886b9b-f78d-461c-892a-1a0d03abb682\",\"type\":\"Grid\"},{\"attributes\":{\"bottom_units\":\"screen\",\"fill_alpha\":{\"value\":0.5},\"fill_color\":{\"value\":\"lightgrey\"},\"left_units\":\"screen\",\"level\":\"overlay\",\"line_alpha\":{\"value\":1.0},\"line_color\":{\"value\":\"black\"},\"line_dash\":[4,4],\"line_width\":{\"value\":2},\"plot\":null,\"render_mode\":\"css\",\"right_units\":\"screen\",\"top_units\":\"screen\"},\"id\":\"4d7611ab-6717-4ed6-adf8-7daddc0784ab\",\"type\":\"BoxAnnotation\"},{\"attributes\":{\"dimension\":1,\"plot\":{\"id\":\"ed78488f-c7e2-4cc6-8a09-77eb0b56f0c3\",\"subtype\":\"Figure\",\"type\":\"Plot\"},\"ticker\":{\"id\":\"455bf601-6715-403f-9e02-fd4a30329401\",\"type\":\"BasicTicker\"}},\"id\":\"778ebe37-6e30-4297-bc8e-61aa1eeb6e59\",\"type\":\"Grid\"},{\"attributes\":{\"overlay\":{\"id\":\"4d7611ab-6717-4ed6-adf8-7daddc0784ab\",\"type\":\"BoxAnnotation\"},\"plot\":{\"id\":\"ed78488f-c7e2-4cc6-8a09-77eb0b56f0c3\",\"subtype\":\"Figure\",\"type\":\"Plot\"}},\"id\":\"61d27b91-127b-4427-b91a-92132701eab3\",\"type\":\"BoxZoomTool\"},{\"attributes\":{\"plot\":{\"id\":\"ed78488f-c7e2-4cc6-8a09-77eb0b56f0c3\",\"subtype\":\"Figure\",\"type\":\"Plot\"}},\"id\":\"50dc2736-c9ae-4e4f-bb75-6f99d7db63f3\",\"type\":\"PanTool\"},{\"attributes\":{\"data_source\":{\"id\":\"c37eee3e-cc02-41a7-b7f9-49ce3c8ae981\",\"type\":\"ColumnDataSource\"},\"glyph\":{\"id\":\"5ebbf1c9-9fc2-4582-ad32-91168974b841\",\"type\":\"Circle\"},\"hover_glyph\":null,\"nonselection_glyph\":{\"id\":\"9422dc61-ac71-44cc-b742-6ec243016962\",\"type\":\"Circle\"},\"selection_glyph\":null},\"id\":\"88803076-7255-4b67-8e5b-5d33fabe5d8b\",\"type\":\"GlyphRenderer\"},{\"attributes\":{\"fill_color\":{\"value\":\"#1f77b4\"},\"line_color\":{\"value\":\"#1f77b4\"},\"x\":{\"field\":\"x\"},\"y\":{\"field\":\"y\"}},\"id\":\"5ebbf1c9-9fc2-4582-ad32-91168974b841\",\"type\":\"Circle\"},{\"attributes\":{\"plot\":null,\"text\":\"\"},\"id\":\"af37cab4-48fe-48b7-a6c0-6963b0c658e9\",\"type\":\"Title\"},{\"attributes\":{},\"id\":\"f64a5828-a669-4a39-902c-5f239361d69c\",\"type\":\"BasicTickFormatter\"},{\"attributes\":{},\"id\":\"49885c3f-e739-4795-9658-3a6dd5952efe\",\"type\":\"BasicTicker\"},{\"attributes\":{\"plot\":{\"id\":\"ed78488f-c7e2-4cc6-8a09-77eb0b56f0c3\",\"subtype\":\"Figure\",\"type\":\"Plot\"}},\"id\":\"1b144a40-5588-42bf-b026-1dfa82bc2e97\",\"type\":\"HelpTool\"},{\"attributes\":{},\"id\":\"f3b46c55-ad53-4c67-ab32-8cf3fc3cda0b\",\"type\":\"BasicTickFormatter\"},{\"attributes\":{},\"id\":\"33f619e1-2f59-47b0-a726-b5f8bacf46b2\",\"type\":\"BasicTickFormatter\"},{\"attributes\":{},\"id\":\"e3e8b6fe-0124-4ee6-a3ae-9fb7bbab05e7\",\"type\":\"BasicTicker\"},{\"attributes\":{},\"id\":\"8b1e34ce-9b51-409f-ade5-068cc1d7c243\",\"type\":\"BasicTicker\"},{\"attributes\":{\"below\":[{\"id\":\"a39cb16b-eb08-4a2b-b68f-dbd382e0c078\",\"type\":\"LinearAxis\"}],\"left\":[{\"id\":\"74624b7b-2cb6-4df3-b741-f84482bc3e85\",\"type\":\"LinearAxis\"}],\"plot_height\":300,\"plot_width\":300,\"renderers\":[{\"id\":\"a39cb16b-eb08-4a2b-b68f-dbd382e0c078\",\"type\":\"LinearAxis\"},{\"id\":\"703f2106-4f56-4931-be43-256dd8fe1db4\",\"type\":\"Grid\"},{\"id\":\"74624b7b-2cb6-4df3-b741-f84482bc3e85\",\"type\":\"LinearAxis\"},{\"id\":\"c279ac5a-4e6b-4a98-a7c6-83c6753705ba\",\"type\":\"Grid\"},{\"id\":\"366c1665-ece8-426a-becd-8cf05e11ef6f\",\"type\":\"BoxAnnotation\"},{\"id\":\"41a6408c-fe8b-44b3-9688-ac663978d0ab\",\"type\":\"GlyphRenderer\"}],\"title\":{\"id\":\"10e20060-bfa2-4db2-b4c0-66a43f2c9c09\",\"type\":\"Title\"},\"tool_events\":{\"id\":\"7576e2fe-b62a-4f6b-834c-439e590d0a63\",\"type\":\"ToolEvents\"},\"toolbar\":{\"id\":\"0f6316ea-30c9-46b4-aa2c-22bd5ac03a20\",\"type\":\"Toolbar\"},\"x_range\":{\"id\":\"658db053-d90c-4bb2-9264-55241cc7ac28\",\"type\":\"DataRange1d\"},\"y_range\":{\"id\":\"be9bb302-35aa-4438-b8f4-517e495fa05d\",\"type\":\"DataRange1d\"}},\"id\":\"5de240a1-d8f2-4392-a75c-0b9eced3b18f\",\"subtype\":\"Figure\",\"type\":\"Plot\"},{\"attributes\":{},\"id\":\"7576e2fe-b62a-4f6b-834c-439e590d0a63\",\"type\":\"ToolEvents\"},{\"attributes\":{\"data_source\":{\"id\":\"b3102509-a7f5-448d-b26b-a6cd00c2ac4c\",\"type\":\"ColumnDataSource\"},\"glyph\":{\"id\":\"bbe34746-6a7c-45c4-837f-f13d2eb308ea\",\"type\":\"Circle\"},\"hover_glyph\":null,\"nonselection_glyph\":{\"id\":\"5a3f6406-e54c-4c95-85ac-d0557d260a4b\",\"type\":\"Circle\"},\"selection_glyph\":null},\"id\":\"41a6408c-fe8b-44b3-9688-ac663978d0ab\",\"type\":\"GlyphRenderer\"},{\"attributes\":{},\"id\":\"5e95f34b-acdd-4680-844a-bfbd668f441d\",\"type\":\"BasicTicker\"},{\"attributes\":{\"dimension\":1,\"plot\":{\"id\":\"7215775f-7806-4b61-9288-ccd4aefc132e\",\"subtype\":\"Figure\",\"type\":\"Plot\"},\"ticker\":{\"id\":\"5e95f34b-acdd-4680-844a-bfbd668f441d\",\"type\":\"BasicTicker\"}},\"id\":\"d5026438-86a9-42df-9dda-2a4372d99a45\",\"type\":\"Grid\"},{\"attributes\":{\"callback\":null},\"id\":\"706d8b60-76d9-4678-a6c3-175448bb4576\",\"type\":\"DataRange1d\"},{\"attributes\":{\"fill_alpha\":{\"value\":0.1},\"fill_color\":{\"value\":\"#1f77b4\"},\"line_alpha\":{\"value\":0.1},\"line_color\":{\"value\":\"#1f77b4\"},\"x\":{\"field\":\"x\"},\"y\":{\"field\":\"y\"}},\"id\":\"feabc9b7-f54d-49ab-a86e-1c70ad76cd62\",\"type\":\"Circle\"},{\"attributes\":{\"callback\":null},\"id\":\"17aeaa26-d70e-461c-a515-6b41629d0db7\",\"type\":\"DataRange1d\"},{\"attributes\":{\"fill_color\":{\"value\":\"#1f77b4\"},\"line_color\":{\"value\":\"#1f77b4\"},\"x\":{\"field\":\"x\"},\"y\":{\"field\":\"y\"}},\"id\":\"eab76d9c-6599-4667-a16c-b9d2b393a7f7\",\"type\":\"Circle\"},{\"attributes\":{\"bottom_units\":\"screen\",\"fill_alpha\":{\"value\":0.5},\"fill_color\":{\"value\":\"lightgrey\"},\"left_units\":\"screen\",\"level\":\"overlay\",\"line_alpha\":{\"value\":1.0},\"line_color\":{\"value\":\"black\"},\"line_dash\":[4,4],\"line_width\":{\"value\":2},\"plot\":null,\"render_mode\":\"css\",\"right_units\":\"screen\",\"top_units\":\"screen\"},\"id\":\"25b3a95b-ecdc-46c2-a3a4-b7948e30b950\",\"type\":\"BoxAnnotation\"},{\"attributes\":{\"active_drag\":\"auto\",\"active_scroll\":\"auto\",\"active_tap\":\"auto\",\"tools\":[{\"id\":\"1cca150e-a31d-43aa-9aea-a6fc08e29a81\",\"type\":\"PanTool\"},{\"id\":\"bf92ea5b-8e3b-473b-aaef-e3c8afb3a460\",\"type\":\"WheelZoomTool\"},{\"id\":\"ced8f487-4939-4a2c-8bbb-5a11f42efb69\",\"type\":\"BoxZoomTool\"},{\"id\":\"482bb4bc-1fad-4d50-95c8-ebc71491a4b8\",\"type\":\"SaveTool\"},{\"id\":\"1f5aa7b9-711c-4027-b192-1c119b82b8a6\",\"type\":\"ResetTool\"},{\"id\":\"9d56e11a-f171-49f1-8d7a-a620fb319e95\",\"type\":\"HelpTool\"}]},\"id\":\"0f4b8a68-53b0-41c6-ad98-1515836701ee\",\"type\":\"Toolbar\"},{\"attributes\":{},\"id\":\"d50e64eb-d4d8-40f0-82b2-0146dfbd5bf8\",\"type\":\"ToolEvents\"},{\"attributes\":{\"callback\":null},\"id\":\"4a2c93eb-c6dd-4c3c-b353-696b89496ecd\",\"type\":\"DataRange1d\"},{\"attributes\":{\"callback\":null,\"column_names\":[\"x\",\"y\"],\"data\":{\"x\":{\"__ndarray__\":\"tGpUnG6d5j+75MKgh1XpPwsA2HsA9+s/3ARBESqX5D/cBEERKpfkP9wEQREql+Q/3ARBESqX5D8Pd914Na/Jvx3BhryAzu0/QcE+ACN56z8P+OpO41vxP5YNQEOyPtk/32dwfpc/9D8efSiXylbwPzd7p+q5h/g/aXzt76XdAECwGATk7JvjP9OEJosAbug/sBgE5Oyb4z/ThCaLAG7oP0lnpU/GiPM/np4X2H/p5j9supCKAWvwPxTLde4W3fI/8u+fVpLa9T97BvpdPlDsPwDBzGG1LuI/+UMuiGFV2D/MjADRRVvpPy3mvjVqpOY/zIwA0UVb6T8t5r41aqTmP3hjuSvXmek/QY7XHsjU6D9/mPEWFhbmP9ZJUfarRtU/9iTBO2QrvT88Olf9RNfkP7zCX8mCdOo/3JhoBhWX5z/DFcvHsAn6PzzDj1/sjto/wxXLx7AJ+j88w49f7I7aP93BkLkzOe4/SU8UJAq48D+oj63F7ZfdPzur33fF1+A/nQ+gUgDq4j//Nu/4HObsP50PoFIA6uI//zbv+Bzm7D/4ge/CdpvbP56eF9h/6eY/AgzBXtl36T88MUAnspPtP2njZeQUDe8/PKrYF+Xi5T/SB18S7HznP+1+JR/4/vU/vZtNfWQv8D8gP0dUlo3iP31LDnzuW/g/U+YXujXA5j9X4X1wcnv6PwIMwV7Zd9m/F5LZGZ2I7z/tjqD/I7/0P97w8JJ3sO4/o3nPgpFi5z9ST4TMbCvvP/5kxxuniPI/AgzBXtl32T8AAAAAAADwP4bWp+VoueE/qDsDPVSg9D9FQlriMYzwP3Ye6E+u9PM/3vspO5dT7T+2CJ+Dz1fyP9cYAmmFQfQ/3ZyFJBOq6z/aaQgt0R/nPwtZedxQZuQ/PXwA9VpA4D+H9KaWRC3nP5q42m5Vw+E/CodR/9oI6j/lPxwJRnfyPy11Nrvpo+o/3vspO5dT7T8s9mWY8kzzPy0jGalLNP8/9/zCMkV5yj/9yegUreDjPzeiczlqRN8/76HMlwFJ6D8Vdu5R4439Pxe2j3IrsPE/PNO0web79z+w3R7ps0/mP9c/Jjeu4Og/\",\"dtype\":\"float64\",\"shape\":[102]},\"y\":{\"__ndarray__\":\"GYFPp/So7T91AZFz5vvrP8cAlUNlcOs/wU3NoJ3i6j/BTc2gneLqP8FNzaCd4uo/wU3NoJ3i6j/BzphDAinrP8qwxaZY1ew/oe0o8o9o6z+mY54NSAjsP1NSyj49mOs/ujndZD9d6j/5BrA2mPjpP8vBK+OcGuw/sGndxRQC7D+aj04MS4XqP5qPTgxLheo/mo9ODEuF6j+aj04MS4XqP2qFrJJ2SPI/6z3EUKBm7D96suD0h4TtP4eue0FMG+s/YC/m9kuE6z88Tex29/HpP37IfV0YS+w/2iu0oV6z5D/jayDvE7rrP+NrIO8Tuus/42sg7xO66z/jayDvE7rrPyoW7iYTLuk/JDSpD0GW6z+cizfbN27sPwbeHfm+6uk/Th+Pzf6a6z8vSv2fmGPsP46OABzoKOw/jFzQ8x627T/ImfR5eiPsP8iZ9Hl6I+w/yJn0eXoj7D/ImfR5eiPsPxQAfpLrmew/69o8ILJl7D9uO7nY7GrqP27LSlqc7eo/eQYRS+1Z7D95BhFL7VnsP3kGEUvtWew/eQYRS+1Z7D/6ei9ZivrsPwPWAK4ot+s/jqIcxwzH5D9aDRvagoXqP+TmnOaRC+w/3hz8ijCC6j/Fep6JPkPtP7GDfZpz4uw/r4IISQgM6j/aWWOm/kbsPx990mAldew/OA1mbU6J7D841gxAihztPyL2bzIUaOs/LhPMNAS95D9zo780mzftP2Be3Ptn8ew/FcPR4R6c6z8aWffPo2bqP+HXTi6wxew/NvdBjXgY7T/TjtKZLO3tP/kBZIRkEew/Dk8i7wcw7D9wwXOFFP/qP8I0/LtXL+0/c2hW4puP6T9j4LTDj1fqP+lrcEa+AOw/tfN5fTgj6z9i5HGEZOzrP6R4kZrJ7Os/QpCPvcGp4j/VnZpkP7DqP4a7TEcfE+s/5yNj9CqP6T9W2ZM1rT/tPwjmMwNWSuo/LKO1Dn2f6z+JCLG90gbtP3gtrgnJaOo/V9kcLmbk6T9E5sdD2nnrPwMrblF7eOw/YKUDrGml6T91q9vdl6PsP6m7J73ww+o/kyRHdmNY7D9YMooX3XrqP8LoRIBD9+w/\",\"dtype\":\"float64\",\"shape\":[102]}}},\"id\":\"19266947-6c3d-475e-8323-1a768a457f81\",\"type\":\"ColumnDataSource\"},{\"attributes\":{\"plot\":{\"id\":\"7215775f-7806-4b61-9288-ccd4aefc132e\",\"subtype\":\"Figure\",\"type\":\"Plot\"}},\"id\":\"1cca150e-a31d-43aa-9aea-a6fc08e29a81\",\"type\":\"PanTool\"},{\"attributes\":{\"plot\":null,\"text\":\"\"},\"id\":\"c4810369-9c04-4b0f-8d02-8eb574162a19\",\"type\":\"Title\"},{\"attributes\":{\"plot\":{\"id\":\"7215775f-7806-4b61-9288-ccd4aefc132e\",\"subtype\":\"Figure\",\"type\":\"Plot\"}},\"id\":\"bf92ea5b-8e3b-473b-aaef-e3c8afb3a460\",\"type\":\"WheelZoomTool\"},{\"attributes\":{\"overlay\":{\"id\":\"25b3a95b-ecdc-46c2-a3a4-b7948e30b950\",\"type\":\"BoxAnnotation\"},\"plot\":{\"id\":\"7215775f-7806-4b61-9288-ccd4aefc132e\",\"subtype\":\"Figure\",\"type\":\"Plot\"}},\"id\":\"ced8f487-4939-4a2c-8bbb-5a11f42efb69\",\"type\":\"BoxZoomTool\"},{\"attributes\":{\"plot\":{\"id\":\"7215775f-7806-4b61-9288-ccd4aefc132e\",\"subtype\":\"Figure\",\"type\":\"Plot\"}},\"id\":\"482bb4bc-1fad-4d50-95c8-ebc71491a4b8\",\"type\":\"SaveTool\"},{\"attributes\":{\"formatter\":{\"id\":\"f64a5828-a669-4a39-902c-5f239361d69c\",\"type\":\"BasicTickFormatter\"},\"plot\":{\"id\":\"ed78488f-c7e2-4cc6-8a09-77eb0b56f0c3\",\"subtype\":\"Figure\",\"type\":\"Plot\"},\"ticker\":{\"id\":\"49885c3f-e739-4795-9658-3a6dd5952efe\",\"type\":\"BasicTicker\"}},\"id\":\"6a9cdadd-338a-4f2c-8e4c-1cd5926c65cc\",\"type\":\"LinearAxis\"},{\"attributes\":{\"plot\":{\"id\":\"7215775f-7806-4b61-9288-ccd4aefc132e\",\"subtype\":\"Figure\",\"type\":\"Plot\"}},\"id\":\"1f5aa7b9-711c-4027-b192-1c119b82b8a6\",\"type\":\"ResetTool\"},{\"attributes\":{\"plot\":{\"id\":\"7215775f-7806-4b61-9288-ccd4aefc132e\",\"subtype\":\"Figure\",\"type\":\"Plot\"}},\"id\":\"9d56e11a-f171-49f1-8d7a-a620fb319e95\",\"type\":\"HelpTool\"},{\"attributes\":{},\"id\":\"b2522f9b-7a4d-4877-8429-ef42399937cc\",\"type\":\"BasicTickFormatter\"},{\"attributes\":{},\"id\":\"dbaebd18-fea7-42f8-8572-e68bbfdd43f2\",\"type\":\"BasicTickFormatter\"},{\"attributes\":{\"plot\":{\"id\":\"5de240a1-d8f2-4392-a75c-0b9eced3b18f\",\"subtype\":\"Figure\",\"type\":\"Plot\"},\"ticker\":{\"id\":\"e3e8b6fe-0124-4ee6-a3ae-9fb7bbab05e7\",\"type\":\"BasicTicker\"}},\"id\":\"703f2106-4f56-4931-be43-256dd8fe1db4\",\"type\":\"Grid\"},{\"attributes\":{\"formatter\":{\"id\":\"0ef98b98-cc73-4f98-a4bc-4956abae7688\",\"type\":\"BasicTickFormatter\"},\"plot\":{\"id\":\"5de240a1-d8f2-4392-a75c-0b9eced3b18f\",\"subtype\":\"Figure\",\"type\":\"Plot\"},\"ticker\":{\"id\":\"e3e8b6fe-0124-4ee6-a3ae-9fb7bbab05e7\",\"type\":\"BasicTicker\"}},\"id\":\"a39cb16b-eb08-4a2b-b68f-dbd382e0c078\",\"type\":\"LinearAxis\"},{\"attributes\":{\"formatter\":{\"id\":\"33f619e1-2f59-47b0-a726-b5f8bacf46b2\",\"type\":\"BasicTickFormatter\"},\"plot\":{\"id\":\"5de240a1-d8f2-4392-a75c-0b9eced3b18f\",\"subtype\":\"Figure\",\"type\":\"Plot\"},\"ticker\":{\"id\":\"1eddcb57-40a8-4863-a623-d57033e1b7c8\",\"type\":\"BasicTicker\"}},\"id\":\"74624b7b-2cb6-4df3-b741-f84482bc3e85\",\"type\":\"LinearAxis\"},{\"attributes\":{},\"id\":\"1eddcb57-40a8-4863-a623-d57033e1b7c8\",\"type\":\"BasicTicker\"},{\"attributes\":{\"callback\":null},\"id\":\"be9bb302-35aa-4438-b8f4-517e495fa05d\",\"type\":\"DataRange1d\"},{\"attributes\":{\"fill_color\":{\"value\":\"#1f77b4\"},\"line_color\":{\"value\":\"#1f77b4\"},\"x\":{\"field\":\"x\"},\"y\":{\"field\":\"y\"}},\"id\":\"bbe34746-6a7c-45c4-837f-f13d2eb308ea\",\"type\":\"Circle\"},{\"attributes\":{\"dimension\":1,\"plot\":{\"id\":\"5de240a1-d8f2-4392-a75c-0b9eced3b18f\",\"subtype\":\"Figure\",\"type\":\"Plot\"},\"ticker\":{\"id\":\"1eddcb57-40a8-4863-a623-d57033e1b7c8\",\"type\":\"BasicTicker\"}},\"id\":\"c279ac5a-4e6b-4a98-a7c6-83c6753705ba\",\"type\":\"Grid\"},{\"attributes\":{\"active_drag\":\"auto\",\"active_scroll\":\"auto\",\"active_tap\":\"auto\",\"tools\":[{\"id\":\"240e49f7-5f3f-44b3-a26b-c418def5c389\",\"type\":\"PanTool\"},{\"id\":\"73e459f0-212e-4a52-a31d-2a1c9119b29c\",\"type\":\"WheelZoomTool\"},{\"id\":\"00f96390-440e-4f90-ae64-104530ae39cb\",\"type\":\"BoxZoomTool\"},{\"id\":\"946ec9f4-a30c-4c9a-9551-8d31949070c3\",\"type\":\"SaveTool\"},{\"id\":\"84ed4bd5-6699-44f9-9e92-7b145901fc7e\",\"type\":\"ResetTool\"},{\"id\":\"048c932b-ac7d-4817-a39d-67cded7aebbe\",\"type\":\"HelpTool\"}]},\"id\":\"0f6316ea-30c9-46b4-aa2c-22bd5ac03a20\",\"type\":\"Toolbar\"},{\"attributes\":{\"formatter\":{\"id\":\"f3b46c55-ad53-4c67-ab32-8cf3fc3cda0b\",\"type\":\"BasicTickFormatter\"},\"plot\":{\"id\":\"ed78488f-c7e2-4cc6-8a09-77eb0b56f0c3\",\"subtype\":\"Figure\",\"type\":\"Plot\"},\"ticker\":{\"id\":\"455bf601-6715-403f-9e02-fd4a30329401\",\"type\":\"BasicTicker\"}},\"id\":\"0453cb9c-04a6-4f07-beba-d9d85a4383bd\",\"type\":\"LinearAxis\"},{\"attributes\":{\"callback\":null},\"id\":\"658db053-d90c-4bb2-9264-55241cc7ac28\",\"type\":\"DataRange1d\"},{\"attributes\":{\"callback\":null},\"id\":\"f96cf31b-9a73-4aea-a3a9-bd11d83b9c35\",\"type\":\"DataRange1d\"},{\"attributes\":{\"fill_alpha\":{\"value\":0.1},\"fill_color\":{\"value\":\"#1f77b4\"},\"line_alpha\":{\"value\":0.1},\"line_color\":{\"value\":\"#1f77b4\"},\"x\":{\"field\":\"x\"},\"y\":{\"field\":\"y\"}},\"id\":\"5a3f6406-e54c-4c95-85ac-d0557d260a4b\",\"type\":\"Circle\"},{\"attributes\":{\"callback\":null,\"column_names\":[\"x\",\"y\"],\"data\":{\"x\":{\"__ndarray__\":\"jwpbIJ4TFUClVBJENc8TQP2vnLWOzhNAQsx2HlohE0AezyXnZegUQELMdh5aIRNAHs8l52XoFEBbFsND8KAUQKTNkzM/FhFAyILpNfuyEEApJ3AjgvUSQC39TzeJ7hBAYZab7HptBkAJ3A+u8KYSQFo56cg1eQhAqr0Q6WCw/T/G1HfX98UUQK3vdzhMRRRAxtR31/fFFECt73c4TEUUQH+bd3wOc/4/XsbsvQF1FECUURQUs/4TQOfxBO/I0A9A2OopRvue/j80wbH/PasQQLWBQmBQJw9ANM0aeKV+FUD0gUtWOvYRQPl94TdUDhRA9IFLVjr2EUD5feE3VA4UQAFDLt4RMxRAf8rekd6tE0BlndhMrHATQFtHWHNmZxRAK+C4vh6WEUADRMVLIcIUQF4znqsHZxRA7GCCKGEhFUC3iPaJzfgDQLaAFWebahVAt4j2ic34A0C2gBVnm2oVQMBegH69+RNAk8Oa01NyE0CXHdx3dbwLQDwJrlGfURRAzOMVlGI3E0BjKKFXA1MSQMzjFZRiNxNAYyihVwNTEkA4GcLzkN0VQAFkbURH/BRA8lNn/+PEE0B7cv9IQlsRQJZsMdSwlxJAJGVXZlXSE0DIPTcG3GwNQFlY8wITzgVAuucf+hFiEkD7QNAf2PEPQFhLMJenYQ5A4HYl0v6CEUCflmyT6KQHQOqUIeuZyBhAAZnWxjTyCEADWrfF6fUFQNibQ5pxIA1Abrc75mXnBUC1yabhUMEEQF/haZZDLQ5Aoeg2fKd8FUBVCnIEi0cLQJAR9Kz2IhVAjuIcobICF0BJIW1FhaoRQAujBekO0xJAaAHBKzpbEkBHGlvKQyoQQA+B8IZzphJATw0HmRrFE0CwFDQG5L0UQObUaP11GRVAFY10kybeFEBBzfT6bEEUQNrpTeC6ZBVAuw3GXHBpE0Czhjwz5PYMQOmOkIKS5xRAk3QYjx6vE0AtJC6Ult4RQOwCT8nMywdAOCVH0VwLEUD4be49DDALQM8eSw2hOBBAydPjAE8bEUDNB1ApAHX5P6tThqxnIvM/Y7aLjBxbDkByUfPIchYSQGMMOWEpWxRA\",\"dtype\":\"float64\",\"shape\":[102]},\"y\":{\"__ndarray__\":\"ud5r9PPwEECwKUjwC8URQPpa4CJgvhFAChyp1qK2EUAKHKnWorYRQAocqdaithFAChyp1qK2EUBWeNtlYZsRQCusuctr1RFAAywdyk0fEUBgSbGgA1oRQKFn9NWRtxFAfoFUs60vEUBSsBnmpdARQFxLRzUpXhFALg51og1/EUB23wCnftcRQHbfAKd+1xFAdt8Ap37XEUB23wCnftcRQMRg+78XmP4/K4a05YfGEEDlcy9nqzkRQHiNo4+93RFAzUTneWhhEUAZJ6/ALs8RQBraZ+obVBFA4uMsOOskE0Bo9E0fo4wRQGj0TR+jjBFAaPRNH6OMEUBo9E0fo4wRQHIvJ0U7EhJAbBIwgauNEUAcfq2wnK0RQBg8vzHaxxFAZwvdPAoOEUDDQy32dZQRQAkbRt13RRFAo26Z/1XuEEAy5wLrd5URQDLnAut3lRFAMucC63eVEUAy5wLrd5URQEtGptu/AxFAEpenUwB9EUBEjF1xtt0RQOODV9RiMhJA8lUzouzoEUDyVTOi7OgRQPJVM6Ls6BFA8lUzouzoEUBmqaW4mj8SQF5SeClegRFAlF8twbSrEkDUVSCiIK8RQJ9oMO4pAhFAwhnLnugCEkB6rOwDEJYRQBbkw9TtQRFAAbwvg0mGEUCf1e55q68QQCckMoJhYBFAqvaX/DArEUA/H8C2lqgQQMxxjf9GFhFA2N3Z8WIsEkChl+zw2kARQLVjuqQA/xBAYTXcZqekEUB0FMSTHukRQELQoM9wiRBA4VpQFaUCEUA6oPnpBzkRQGkKU2/mehFAQXfdBkLZEUDpexY0cHURQL7a6c6IihFAUAuWqQGDEkAc62n/g1kRQPTF/u/6jRFAGmmbG8avEUCwXWB87FERQFyevsAoLhFAqdaWgBU3EkAn+00b9vARQBrQeaNlqxFAWZPU5E9bEkBssO3mkDURQNR/icR+sBFAa86rZ4uSEUDpYAambVERQKlSQQMjzxFA0vpF55WGEUDGdN6TDcERQBDR6uGUwRFAetymqw4kEkDL4jU6VGgRQJ0rHUSzZxFAaHtF20w3EUD5nyK+k4oRQEGDwG67phFA\",\"dtype\":\"float64\",\"shape\":[102]}}},\"id\":\"b3102509-a7f5-448d-b26b-a6cd00c2ac4c\",\"type\":\"ColumnDataSource\"},{\"attributes\":{\"plot\":null,\"text\":\"\"},\"id\":\"10e20060-bfa2-4db2-b4c0-66a43f2c9c09\",\"type\":\"Title\"},{\"attributes\":{\"plot\":{\"id\":\"5de240a1-d8f2-4392-a75c-0b9eced3b18f\",\"subtype\":\"Figure\",\"type\":\"Plot\"}},\"id\":\"240e49f7-5f3f-44b3-a26b-c418def5c389\",\"type\":\"PanTool\"},{\"attributes\":{\"bottom_units\":\"screen\",\"fill_alpha\":{\"value\":0.5},\"fill_color\":{\"value\":\"lightgrey\"},\"left_units\":\"screen\",\"level\":\"overlay\",\"line_alpha\":{\"value\":1.0},\"line_color\":{\"value\":\"black\"},\"line_dash\":[4,4],\"line_width\":{\"value\":2},\"plot\":null,\"render_mode\":\"css\",\"right_units\":\"screen\",\"top_units\":\"screen\"},\"id\":\"366c1665-ece8-426a-becd-8cf05e11ef6f\",\"type\":\"BoxAnnotation\"},{\"attributes\":{\"plot\":{\"id\":\"5de240a1-d8f2-4392-a75c-0b9eced3b18f\",\"subtype\":\"Figure\",\"type\":\"Plot\"}},\"id\":\"73e459f0-212e-4a52-a31d-2a1c9119b29c\",\"type\":\"WheelZoomTool\"},{\"attributes\":{\"overlay\":{\"id\":\"366c1665-ece8-426a-becd-8cf05e11ef6f\",\"type\":\"BoxAnnotation\"},\"plot\":{\"id\":\"5de240a1-d8f2-4392-a75c-0b9eced3b18f\",\"subtype\":\"Figure\",\"type\":\"Plot\"}},\"id\":\"00f96390-440e-4f90-ae64-104530ae39cb\",\"type\":\"BoxZoomTool\"},{\"attributes\":{\"plot\":{\"id\":\"5de240a1-d8f2-4392-a75c-0b9eced3b18f\",\"subtype\":\"Figure\",\"type\":\"Plot\"}},\"id\":\"946ec9f4-a30c-4c9a-9551-8d31949070c3\",\"type\":\"SaveTool\"},{\"attributes\":{\"plot\":{\"id\":\"5de240a1-d8f2-4392-a75c-0b9eced3b18f\",\"subtype\":\"Figure\",\"type\":\"Plot\"}},\"id\":\"84ed4bd5-6699-44f9-9e92-7b145901fc7e\",\"type\":\"ResetTool\"},{\"attributes\":{\"below\":[{\"id\":\"6a9cdadd-338a-4f2c-8e4c-1cd5926c65cc\",\"type\":\"LinearAxis\"}],\"left\":[{\"id\":\"0453cb9c-04a6-4f07-beba-d9d85a4383bd\",\"type\":\"LinearAxis\"}],\"plot_height\":300,\"plot_width\":300,\"renderers\":[{\"id\":\"6a9cdadd-338a-4f2c-8e4c-1cd5926c65cc\",\"type\":\"LinearAxis\"},{\"id\":\"8613b403-9a67-4d2e-a197-c0abc6d843dc\",\"type\":\"Grid\"},{\"id\":\"0453cb9c-04a6-4f07-beba-d9d85a4383bd\",\"type\":\"LinearAxis\"},{\"id\":\"778ebe37-6e30-4297-bc8e-61aa1eeb6e59\",\"type\":\"Grid\"},{\"id\":\"4d7611ab-6717-4ed6-adf8-7daddc0784ab\",\"type\":\"BoxAnnotation\"},{\"id\":\"88803076-7255-4b67-8e5b-5d33fabe5d8b\",\"type\":\"GlyphRenderer\"}],\"title\":{\"id\":\"af37cab4-48fe-48b7-a6c0-6963b0c658e9\",\"type\":\"Title\"},\"tool_events\":{\"id\":\"1788035b-2a02-4f6a-9511-75b2f4d2e552\",\"type\":\"ToolEvents\"},\"toolbar\":{\"id\":\"8d3cad36-533a-412d-8e63-4f7e9d6a0171\",\"type\":\"Toolbar\"},\"x_range\":{\"id\":\"f96cf31b-9a73-4aea-a3a9-bd11d83b9c35\",\"type\":\"DataRange1d\"},\"y_range\":{\"id\":\"706d8b60-76d9-4678-a6c3-175448bb4576\",\"type\":\"DataRange1d\"}},\"id\":\"ed78488f-c7e2-4cc6-8a09-77eb0b56f0c3\",\"subtype\":\"Figure\",\"type\":\"Plot\"},{\"attributes\":{\"plot\":{\"id\":\"5de240a1-d8f2-4392-a75c-0b9eced3b18f\",\"subtype\":\"Figure\",\"type\":\"Plot\"}},\"id\":\"048c932b-ac7d-4817-a39d-67cded7aebbe\",\"type\":\"HelpTool\"},{\"attributes\":{},\"id\":\"0ef98b98-cc73-4f98-a4bc-4956abae7688\",\"type\":\"BasicTickFormatter\"},{\"attributes\":{\"plot\":{\"id\":\"ed78488f-c7e2-4cc6-8a09-77eb0b56f0c3\",\"subtype\":\"Figure\",\"type\":\"Plot\"},\"ticker\":{\"id\":\"49885c3f-e739-4795-9658-3a6dd5952efe\",\"type\":\"BasicTicker\"}},\"id\":\"8613b403-9a67-4d2e-a197-c0abc6d843dc\",\"type\":\"Grid\"},{\"attributes\":{},\"id\":\"1788035b-2a02-4f6a-9511-75b2f4d2e552\",\"type\":\"ToolEvents\"},{\"attributes\":{\"children\":[{\"id\":\"ed78488f-c7e2-4cc6-8a09-77eb0b56f0c3\",\"subtype\":\"Figure\",\"type\":\"Plot\"},{\"id\":\"7215775f-7806-4b61-9288-ccd4aefc132e\",\"subtype\":\"Figure\",\"type\":\"Plot\"},{\"id\":\"5de240a1-d8f2-4392-a75c-0b9eced3b18f\",\"subtype\":\"Figure\",\"type\":\"Plot\"}]},\"id\":\"3d1f70d2-4517-4bff-b885-faade4b70e79\",\"type\":\"Row\"},{\"attributes\":{\"callback\":null,\"column_names\":[\"x\",\"y\"],\"data\":{\"x\":{\"__ndarray__\":\"cmoaA6DOB0DAOynhT/QFQJcyLRvNmwZAu9k9wX5oA0Bw35tSlvYGQLvZPcF+aANAcN+bUpb2BkD/6ifLk0T/PwC9T6gJogFAv86FrHNEAECOvuZmJJkGQB86eD/U+Pk/f7LjjVNE8T+h9rOnRnkFQM0HUCkAdfk//WzXkVnX7j+3r/Dn6nIGQJCAuZMYpgZAt6/w5+pyBkCQgLmTGKYGQAAAAAAAAAAAY3TfcWOkBkCetjOn/DIIQN9rBtIgPgFA/3mfUBNE0z8rEhdktGwAQOlja3H7Zfc/5WI7IfcHBkAaJ9cgRkMCQHy1Mv3CxQVAGifXIEZDAkB8tTL9wsUFQOzC1mecywZAOcNfTCOSBUDqoG0f3mYEQLXSg5q4dgNA+5KfPjEr+D9Gi5pY0rkGQA5CJCdBawdAWGFSOgAoCEAwJ7jbS/vxP9P5HFoUJwZAMCe420v78T/T+RxaFCcGQPftZOvHgQdA6Olp6UZBB0AwPkfCzL3tPxs9Ciyq1wRAfsvTPEUpA0CGHn7tjd8DQH7L0zxFKQNAhh5+7Y3fA0CvIuK/kC4HQAcCu7HusgdAbrc75mXnBUBF8c4bcRsCQGe1QTTn8wRAsyOtF6sdBUDP8OMXu6P2P54vDCUem/E/v/sTYRHcBECFIcRpeyr5P0BDJtuojwJA7ADLKyC4AECVDleXQ8X5P1QIa6o4YgZATxK8Q7bS8T9vxVBgi6nwPyKw//0emfk//NVPlieJ3j//eZ9QE0TjPxifI2Hm3v4/wvJFJEooBkCqFOQIFo/2P0nGh0estAZA04CGotQqEEBOR1o0HJoDQEhLEFhPoAdAP6xjEowKBEAHhRrdCoABQCF6+c1abQdA9mKK+3F0BkDGNbaDekMHQAP52xM7TAdA9m00W/7MBUDfVw44K04GQNJ4Qa+jOgdA9G4FYQdVBUD/07u5TnP8Px677nMfeAhAfbOuXxayBkA3RtyzO2QFQJ4YoBPZyf4/6WNrcftl9z8AAAAAAADwP6CHlLGAtPg/NUWFQ6ZMAED81U+WJ4nePwBDsFf2Xea/6h/ZGxFbAkCsvH0HyMIBQJ9xcg4o7gZA\",\"dtype\":\"float64\",\"shape\":[102]},\"y\":{\"__ndarray__\":\"Y0/s5KZdAUAWxKxjxn0CQBRs1Xo1TgJA5CQxrAsiAkDkJDGsCyICQOQkMawLIgJA5CQxrAsiAkDH6LRByQcCQLAtjr3PuQJAZ18viHFoAUDRR35iSLMBQA5hss5uMgJANVlBilo/AUA3Tqc8pBcCQNrrvd9OvAFAheILwY4kAkC2S7tSbT0CQLZLu1JtPQJAtku7Um09AkC2S7tSbT0CQAB/1LZISI4/9FbIwrnMAEAaECrjo/UBQFMmFOLAXgJAgZc/OlHNAUCVuCYz4SACQHr9zyR90QFAftH2t8XmAkCdaRRXGCoCQJ1pFFcYKgJAnWkUVxgqAkCdaRRXGCoCQGiMkr3AKwJACtVXdYYfAkC0R6MZaFcCQNpARlla/QFA5++8+IcQAUCEAfOENFUCQHwWmw2m2AFAtx8Py+SKAUAzgnqfnTQCQDOCep+dNAJAM4J6n500AkAzgnqfnTQCQMZDTEoxUAFA7DethiEjAkDHYMKA3zQCQMG3a5pWxwJAHqHwjfS5AkAeofCN9LkCQB6h8I30uQJAHqHwjfS5AkBHpkJAD3IDQMaLzBYq5wFAXOFLNOoNAkApjaTVVAQCQDy2mU5BTwFAyR9cacyAAkB4o5ERb3ACQNAFuYFHywFAdmnVL5d8AUClq34cXJ4AQPZLmDGCIwJAt2+CVsvIAUDAmvwmkt0AQEjr/mEZcQFAwP4xdEZoAUBsmjwmef0BQH0WJtCZZAFAFyRsD/AgAkAwFCypw1gCQI8XssrmUQBAlXYvxGFsAUCpZs0MYN8BQFpVG0oOAgJA4opat3GXAkDsena5hcQBQD2ks5ffbgJAaHI7OzHiAkASws/W46MBQE6BJiL1OQJAMpt3y8EXAkAD+JyXiMQBQHEN1lp4jgFAHwgGMmT1AEBjgYLYO0MCQAYA5xQqPgJAD4y3v3GqAkAmxlsCRqoBQAvwfwYh5gFAbjOaC+0jAkAmeclGb9IBQM4HqafPUwJAE0gxwRycAUCbPtssg04CQI+leQLbhgJA8iI7jZtpAkDSVgDjVewBQNUh06mZqAFAPBn5Sa7DAUCEj86FWZsBQN/8+HbMiQJA\",\"dtype\":\"float64\",\"shape\":[102]}}},\"id\":\"c37eee3e-cc02-41a7-b7f9-49ce3c8ae981\",\"type\":\"ColumnDataSource\"},{\"attributes\":{},\"id\":\"455bf601-6715-403f-9e02-fd4a30329401\",\"type\":\"BasicTicker\"}],\"root_ids\":[\"3d1f70d2-4517-4bff-b885-faade4b70e79\"]},\"title\":\"Bokeh Application\",\"version\":\"0.12.4\"}};\n",
       "            var render_items = [{\"docid\":\"d943aa91-ddd3-438f-83e1-bb10ca6fc84b\",\"elementid\":\"18d65cb3-4acd-4342-87c1-50e81cfb7fdb\",\"modelid\":\"3d1f70d2-4517-4bff-b885-faade4b70e79\",\"notebook_comms_target\":\"ebc8fb10-c933-407d-a25a-c2b11057cb23\"}];\n",
       "            \n",
       "            Bokeh.embed.embed_items(docs_json, render_items);\n",
       "          };\n",
       "          if (document.readyState != \"loading\") fn();\n",
       "          else document.addEventListener(\"DOMContentLoaded\", fn);\n",
       "        })();\n",
       "      },\n",
       "      function(Bokeh) {\n",
       "      }\n",
       "    ];\n",
       "  \n",
       "    function run_inline_js() {\n",
       "      \n",
       "      if ((window.Bokeh !== undefined) || (force === true)) {\n",
       "        for (var i = 0; i < inline_js.length; i++) {\n",
       "          inline_js[i](window.Bokeh);\n",
       "        }if (force === true) {\n",
       "          display_loaded();\n",
       "        }} else if (Date.now() < window._bokeh_timeout) {\n",
       "        setTimeout(run_inline_js, 100);\n",
       "      } else if (!window._bokeh_failed_load) {\n",
       "        console.log(\"Bokeh: BokehJS failed to load within specified timeout.\");\n",
       "        window._bokeh_failed_load = true;\n",
       "      } else if (force !== true) {\n",
       "        var cell = $(document.getElementById(\"18d65cb3-4acd-4342-87c1-50e81cfb7fdb\")).parents('.cell').data().cell;\n",
       "        cell.output_area.append_execute_result(NB_LOAD_WARNING)\n",
       "      }\n",
       "  \n",
       "    }\n",
       "  \n",
       "    if (window._bokeh_is_loading === 0) {\n",
       "      console.log(\"Bokeh: BokehJS loaded, going straight to plotting\");\n",
       "      run_inline_js();\n",
       "    } else {\n",
       "      load_libs(js_urls, function() {\n",
       "        console.log(\"Bokeh: BokehJS plotting callback run at\", now());\n",
       "        run_inline_js();\n",
       "      });\n",
       "    }\n",
       "  }(this));\n",
       "</script>"
      ]
     },
     "metadata": {},
     "output_type": "display_data"
    },
    {
     "data": {
      "text/html": [
       "<p><code>&lt;Bokeh Notebook handle for <strong>In[47]</strong>&gt;</code></p>"
      ],
      "text/plain": [
       "<bokeh.io._CommsHandle at 0x1171730b8>"
      ]
     },
     "execution_count": 47,
     "metadata": {},
     "output_type": "execute_result"
    }
   ],
   "source": [
    "pts = []\n",
    "results = []\n",
    "for tgt, X, y in runs:\n",
    "    \n",
    "    print(tgt, X.shape, y.shape) \n",
    "    \n",
    "    pln = pipeline.Pipeline([\n",
    "        ('scaler', preprocessing.StandardScaler()),\n",
    "        ('clf', linear_model.ElasticNetCV(cv=5, l1_ratio=0.9, max_iter=1e9)),\n",
    "    ])\n",
    "    \n",
    "    pln.fit(X, y)\n",
    "    preds = pln.predict(X)\n",
    "    \n",
    "    opts = dict(plot_width=300, plot_height=300)\n",
    "    plot = figure(**opts)\n",
    "    plot.circle(y, preds)\n",
    "    pts.append(plot)\n",
    "    \n",
    "show(row(pts), notebook_handle=True)    "
   ]
  },
  {
   "cell_type": "code",
   "execution_count": 23,
   "metadata": {},
   "outputs": [
    {
     "data": {
      "text/plain": [
       "(5023,)"
      ]
     },
     "execution_count": 23,
     "metadata": {},
     "output_type": "execute_result"
    }
   ],
   "source": [
    "_, en = pln.steps[1]\n",
    "en.coef_.shape"
   ]
  },
  {
   "cell_type": "code",
   "execution_count": 26,
   "metadata": {},
   "outputs": [
    {
     "data": {
      "text/plain": [
       "(0, 9)"
      ]
     },
     "execution_count": 26,
     "metadata": {},
     "output_type": "execute_result"
    },
    {
     "data": {
      "image/png": "[encoded data removed]",
      "text/plain": [
       "<matplotlib.figure.Figure at 0x11c874b38>"
      ]
     },
     "metadata": {},
     "output_type": "display_data"
    }
   ],
   "source": [
    "plt.hist(en.coef_)\n",
    "plt.ylim(0,9)"
   ]
  },
  {
   "cell_type": "code",
   "execution_count": null,
   "metadata": {
    "collapsed": true
   },
   "outputs": [],
   "source": []
  }
 ],
 "metadata": {
  "kernelspec": {
   "display_name": "Python 3",
   "language": "python",
   "name": "python3"
  },
  "language_info": {
   "codemirror_mode": {
    "name": "ipython",
    "version": 3
   },
   "file_extension": ".py",
   "mimetype": "text/x-python",
   "name": "python",
   "nbconvert_exporter": "python",
   "pygments_lexer": "ipython3",
   "version": "3.6.0"
  }
 },
 "nbformat": 4,
 "nbformat_minor": 2
}
