{
 "cells": [
  {
   "cell_type": "markdown",
   "metadata": {},
   "source": [
    "_Fetch feature sets for BglB family_. This notebook is for fetching the feature sets for machine learning from Cabernet. "
   ]
  },
  {
   "cell_type": "code",
   "execution_count": 3,
   "metadata": {
    "collapsed": true
   },
   "outputs": [],
   "source": [
    "#! mkdir ../feature_sets"
   ]
  },
  {
   "cell_type": "code",
   "execution_count": 4,
   "metadata": {},
   "outputs": [
    {
     "name": "stdout",
     "output_type": "stream",
     "text": [
      "/home/carlin/.bashrc: line 3: bind: warning: line editing not enabled\n",
      "receiving file list ... done\n",
      "\n",
      "sent 16 bytes  received 92 bytes  72.00 bytes/sec\n",
      "total size is 3808690  speedup is 35265.65\n",
      "/home/carlin/.bashrc: line 3: bind: warning: line editing not enabled\n",
      "receiving file list ... done\n",
      "\n",
      "sent 16 bytes  received 92 bytes  72.00 bytes/sec\n",
      "total size is 3636970  speedup is 33675.65\n",
      "/home/carlin/.bashrc: line 3: bind: warning: line editing not enabled\n",
      "receiving file list ... done\n",
      "\n",
      "sent 16 bytes  received 92 bytes  216.00 bytes/sec\n",
      "total size is 4134481  speedup is 38282.23\n",
      "/home/carlin/.bashrc: line 3: bind: warning: line editing not enabled\n",
      "receiving file list ... done\n",
      "features.h5\n",
      "\n",
      "sent 11504 bytes  received 1049887 bytes  424556.40 bytes/sec\n",
      "total size is 4116832  speedup is 3.88\n"
     ]
    }
   ],
   "source": [
    "! rsync -avz ca:/share/work/alex/bglb_family/rosetta_runs/bglb/enzyme_design/features.h5 ../feature_sets/bglb__enzyme_design.h5 \n",
    "! rsync -avz ca:/share/work/alex/bglb_family/rosetta_runs/run_A/enzyme_design/features.h5 ../feature_sets/run_A__enzyme_design.h5 \n",
    "! rsync -avz ca:/share/work/alex/bglb_family/rosetta_runs/run_B/enzyme_design/features.h5 ../feature_sets/run_B__enzyme_design.h5 \n",
    "! rsync -avz ca:/share/work/alex/bglb_family/rosetta_runs/run_C/enzyme_design/features.h5 ../feature_sets/run_C__enzyme_design.h5 "
   ]
  },
  {
   "cell_type": "code",
   "execution_count": 3,
   "metadata": {},
   "outputs": [
    {
     "name": "stdout",
     "output_type": "stream",
     "text": [
      " 11M\t../feature_sets/\r\n"
     ]
    }
   ],
   "source": [
    "! du -hs ../feature_sets/"
   ]
  },
  {
   "cell_type": "code",
   "execution_count": null,
   "metadata": {
    "collapsed": true
   },
   "outputs": [],
   "source": []
  }
 ],
 "metadata": {
  "kernelspec": {
   "display_name": "Python [conda root]",
   "language": "python",
   "name": "conda-root-py"
  },
  "language_info": {
   "codemirror_mode": {
    "name": "ipython",
    "version": 3
   },
   "file_extension": ".py",
   "mimetype": "text/x-python",
   "name": "python",
   "nbconvert_exporter": "python",
   "pygments_lexer": "ipython3",
   "version": "3.6.0"
  }
 },
 "nbformat": 4,
 "nbformat_minor": 2
}
