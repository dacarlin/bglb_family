{
 "cells": [
  {
   "cell_type": "code",
   "execution_count": 79,
   "metadata": {},
   "outputs": [
    {
     "data": {
      "text/plain": [
       "dict_keys(['_comment', 'attributes', 'dataset_uuids', 'id', 'plotGroups', 'tables', 'title', 'uuid', 'version'])"
      ]
     },
     "execution_count": 79,
     "metadata": {},
     "output_type": "execute_result"
    }
   ],
   "source": [
    "import json\n",
    "import pandas \n",
    "\n",
    "%matplotlib inline\n",
    "import matplotlib.pyplot as plt \n",
    "import seaborn as sns \n",
    "\n",
    "fn = '/Users/alex/Desktop/neat_aws/output_files/r54048_20170426_180733__7_G01/job__ccs/tasks/pbreports.tasks.ccs_report-0/ccs_report.json'\n",
    "with open(fn) as f:\n",
    "    J = json.load(f)\n",
    "    \n",
    "J.keys()"
   ]
  },
  {
   "cell_type": "code",
   "execution_count": null,
   "metadata": {
    "collapsed": true
   },
   "outputs": [],
   "source": []
  },
  {
   "cell_type": "code",
   "execution_count": 80,
   "metadata": {
    "scrolled": false
   },
   "outputs": [
    {
     "name": "stderr",
     "output_type": "stream",
     "text": [
      "/Users/alex/anaconda3/lib/python3.6/site-packages/ipykernel/__main__.py:8: SettingWithCopyWarning: \n",
      "A value is trying to be set on a copy of a slice from a DataFrame\n",
      "\n",
      "See the caveats in the documentation: http://pandas.pydata.org/pandas-docs/stable/indexing.html#indexing-view-versus-copy\n"
     ]
    },
    {
     "data": {
      "text/html": [
       "<div>\n",
       "<table border=\"1\" class=\"dataframe\">\n",
       "  <thead>\n",
       "    <tr style=\"text-align: right;\">\n",
       "      <th></th>\n",
       "      <th>n_reads</th>\n",
       "      <th>n_bases</th>\n",
       "      <th>ccs_read_len_mean</th>\n",
       "      <th>mean_ccs_accuracy</th>\n",
       "      <th>n_passes</th>\n",
       "    </tr>\n",
       "  </thead>\n",
       "  <tbody>\n",
       "    <tr>\n",
       "      <th>0</th>\n",
       "      <td>4458</td>\n",
       "      <td>4212409</td>\n",
       "      <td>944</td>\n",
       "      <td>0.990688</td>\n",
       "      <td>13</td>\n",
       "    </tr>\n",
       "    <tr>\n",
       "      <th>1</th>\n",
       "      <td>8289</td>\n",
       "      <td>7773127</td>\n",
       "      <td>937</td>\n",
       "      <td>0.990906</td>\n",
       "      <td>12</td>\n",
       "    </tr>\n",
       "    <tr>\n",
       "      <th>2</th>\n",
       "      <td>6095</td>\n",
       "      <td>7332847</td>\n",
       "      <td>1203</td>\n",
       "      <td>0.989936</td>\n",
       "      <td>11</td>\n",
       "    </tr>\n",
       "    <tr>\n",
       "      <th>3</th>\n",
       "      <td>7008</td>\n",
       "      <td>5700575</td>\n",
       "      <td>813</td>\n",
       "      <td>0.990029</td>\n",
       "      <td>14</td>\n",
       "    </tr>\n",
       "    <tr>\n",
       "      <th>4</th>\n",
       "      <td>4192</td>\n",
       "      <td>5524453</td>\n",
       "      <td>1317</td>\n",
       "      <td>0.989962</td>\n",
       "      <td>10</td>\n",
       "    </tr>\n",
       "    <tr>\n",
       "      <th>5</th>\n",
       "      <td>6029</td>\n",
       "      <td>6322548</td>\n",
       "      <td>1048</td>\n",
       "      <td>0.989773</td>\n",
       "      <td>11</td>\n",
       "    </tr>\n",
       "    <tr>\n",
       "      <th>6</th>\n",
       "      <td>2358</td>\n",
       "      <td>4066059</td>\n",
       "      <td>1724</td>\n",
       "      <td>0.991060</td>\n",
       "      <td>8</td>\n",
       "    </tr>\n",
       "    <tr>\n",
       "      <th>7</th>\n",
       "      <td>2625</td>\n",
       "      <td>4531155</td>\n",
       "      <td>1726</td>\n",
       "      <td>0.991156</td>\n",
       "      <td>8</td>\n",
       "    </tr>\n",
       "    <tr>\n",
       "      <th>8</th>\n",
       "      <td>2717</td>\n",
       "      <td>4690972</td>\n",
       "      <td>1726</td>\n",
       "      <td>0.991166</td>\n",
       "      <td>8</td>\n",
       "    </tr>\n",
       "    <tr>\n",
       "      <th>9</th>\n",
       "      <td>5643</td>\n",
       "      <td>6287424</td>\n",
       "      <td>1114</td>\n",
       "      <td>0.990026</td>\n",
       "      <td>11</td>\n",
       "    </tr>\n",
       "    <tr>\n",
       "      <th>10</th>\n",
       "      <td>7017</td>\n",
       "      <td>6943327</td>\n",
       "      <td>989</td>\n",
       "      <td>0.991235</td>\n",
       "      <td>12</td>\n",
       "    </tr>\n",
       "    <tr>\n",
       "      <th>11</th>\n",
       "      <td>4849</td>\n",
       "      <td>6522159</td>\n",
       "      <td>1345</td>\n",
       "      <td>0.990277</td>\n",
       "      <td>10</td>\n",
       "    </tr>\n",
       "    <tr>\n",
       "      <th>12</th>\n",
       "      <td>7440</td>\n",
       "      <td>6546580</td>\n",
       "      <td>879</td>\n",
       "      <td>0.990703</td>\n",
       "      <td>14</td>\n",
       "    </tr>\n",
       "    <tr>\n",
       "      <th>13</th>\n",
       "      <td>4842</td>\n",
       "      <td>6384393</td>\n",
       "      <td>1318</td>\n",
       "      <td>0.990010</td>\n",
       "      <td>11</td>\n",
       "    </tr>\n",
       "    <tr>\n",
       "      <th>14</th>\n",
       "      <td>4661</td>\n",
       "      <td>6978433</td>\n",
       "      <td>1497</td>\n",
       "      <td>0.990225</td>\n",
       "      <td>10</td>\n",
       "    </tr>\n",
       "    <tr>\n",
       "      <th>15</th>\n",
       "      <td>4362</td>\n",
       "      <td>6521052</td>\n",
       "      <td>1494</td>\n",
       "      <td>0.990048</td>\n",
       "      <td>10</td>\n",
       "    </tr>\n",
       "    <tr>\n",
       "      <th>16</th>\n",
       "      <td>4635</td>\n",
       "      <td>6940358</td>\n",
       "      <td>1497</td>\n",
       "      <td>0.990210</td>\n",
       "      <td>9</td>\n",
       "    </tr>\n",
       "    <tr>\n",
       "      <th>17</th>\n",
       "      <td>4095</td>\n",
       "      <td>6091403</td>\n",
       "      <td>1487</td>\n",
       "      <td>0.990053</td>\n",
       "      <td>10</td>\n",
       "    </tr>\n",
       "    <tr>\n",
       "      <th>18</th>\n",
       "      <td>5375</td>\n",
       "      <td>5063820</td>\n",
       "      <td>942</td>\n",
       "      <td>0.990338</td>\n",
       "      <td>12</td>\n",
       "    </tr>\n",
       "    <tr>\n",
       "      <th>19</th>\n",
       "      <td>9500</td>\n",
       "      <td>8908952</td>\n",
       "      <td>937</td>\n",
       "      <td>0.990902</td>\n",
       "      <td>13</td>\n",
       "    </tr>\n",
       "    <tr>\n",
       "      <th>20</th>\n",
       "      <td>6542</td>\n",
       "      <td>7875520</td>\n",
       "      <td>1203</td>\n",
       "      <td>0.990056</td>\n",
       "      <td>11</td>\n",
       "    </tr>\n",
       "    <tr>\n",
       "      <th>21</th>\n",
       "      <td>7845</td>\n",
       "      <td>6384718</td>\n",
       "      <td>813</td>\n",
       "      <td>0.989982</td>\n",
       "      <td>14</td>\n",
       "    </tr>\n",
       "    <tr>\n",
       "      <th>22</th>\n",
       "      <td>4740</td>\n",
       "      <td>6250774</td>\n",
       "      <td>1318</td>\n",
       "      <td>0.989478</td>\n",
       "      <td>10</td>\n",
       "    </tr>\n",
       "    <tr>\n",
       "      <th>23</th>\n",
       "      <td>7037</td>\n",
       "      <td>7386975</td>\n",
       "      <td>1049</td>\n",
       "      <td>0.990294</td>\n",
       "      <td>11</td>\n",
       "    </tr>\n",
       "    <tr>\n",
       "      <th>24</th>\n",
       "      <td>2273</td>\n",
       "      <td>3916850</td>\n",
       "      <td>1723</td>\n",
       "      <td>0.990770</td>\n",
       "      <td>8</td>\n",
       "    </tr>\n",
       "    <tr>\n",
       "      <th>25</th>\n",
       "      <td>2799</td>\n",
       "      <td>4829744</td>\n",
       "      <td>1725</td>\n",
       "      <td>0.991494</td>\n",
       "      <td>8</td>\n",
       "    </tr>\n",
       "    <tr>\n",
       "      <th>26</th>\n",
       "      <td>3012</td>\n",
       "      <td>5202575</td>\n",
       "      <td>1727</td>\n",
       "      <td>0.991123</td>\n",
       "      <td>8</td>\n",
       "    </tr>\n",
       "    <tr>\n",
       "      <th>27</th>\n",
       "      <td>5402</td>\n",
       "      <td>6025582</td>\n",
       "      <td>1115</td>\n",
       "      <td>0.989926</td>\n",
       "      <td>11</td>\n",
       "    </tr>\n",
       "    <tr>\n",
       "      <th>28</th>\n",
       "      <td>8378</td>\n",
       "      <td>8305831</td>\n",
       "      <td>991</td>\n",
       "      <td>0.990777</td>\n",
       "      <td>12</td>\n",
       "    </tr>\n",
       "    <tr>\n",
       "      <th>29</th>\n",
       "      <td>5871</td>\n",
       "      <td>7902034</td>\n",
       "      <td>1345</td>\n",
       "      <td>0.990290</td>\n",
       "      <td>10</td>\n",
       "    </tr>\n",
       "    <tr>\n",
       "      <th>30</th>\n",
       "      <td>7498</td>\n",
       "      <td>6729473</td>\n",
       "      <td>897</td>\n",
       "      <td>0.990524</td>\n",
       "      <td>13</td>\n",
       "    </tr>\n",
       "    <tr>\n",
       "      <th>31</th>\n",
       "      <td>4927</td>\n",
       "      <td>6495678</td>\n",
       "      <td>1318</td>\n",
       "      <td>0.989421</td>\n",
       "      <td>10</td>\n",
       "    </tr>\n",
       "    <tr>\n",
       "      <th>32</th>\n",
       "      <td>5018</td>\n",
       "      <td>7459257</td>\n",
       "      <td>1486</td>\n",
       "      <td>0.990320</td>\n",
       "      <td>10</td>\n",
       "    </tr>\n",
       "    <tr>\n",
       "      <th>33</th>\n",
       "      <td>4749</td>\n",
       "      <td>7070769</td>\n",
       "      <td>1488</td>\n",
       "      <td>0.989759</td>\n",
       "      <td>9</td>\n",
       "    </tr>\n",
       "    <tr>\n",
       "      <th>34</th>\n",
       "      <td>4672</td>\n",
       "      <td>6951239</td>\n",
       "      <td>1487</td>\n",
       "      <td>0.990248</td>\n",
       "      <td>10</td>\n",
       "    </tr>\n",
       "    <tr>\n",
       "      <th>35</th>\n",
       "      <td>4800</td>\n",
       "      <td>7078060</td>\n",
       "      <td>1474</td>\n",
       "      <td>0.990598</td>\n",
       "      <td>10</td>\n",
       "    </tr>\n",
       "  </tbody>\n",
       "</table>\n",
       "</div>"
      ],
      "text/plain": [
       "    n_reads  n_bases  ccs_read_len_mean  mean_ccs_accuracy  n_passes\n",
       "0      4458  4212409                944           0.990688        13\n",
       "1      8289  7773127                937           0.990906        12\n",
       "2      6095  7332847               1203           0.989936        11\n",
       "3      7008  5700575                813           0.990029        14\n",
       "4      4192  5524453               1317           0.989962        10\n",
       "5      6029  6322548               1048           0.989773        11\n",
       "6      2358  4066059               1724           0.991060         8\n",
       "7      2625  4531155               1726           0.991156         8\n",
       "8      2717  4690972               1726           0.991166         8\n",
       "9      5643  6287424               1114           0.990026        11\n",
       "10     7017  6943327                989           0.991235        12\n",
       "11     4849  6522159               1345           0.990277        10\n",
       "12     7440  6546580                879           0.990703        14\n",
       "13     4842  6384393               1318           0.990010        11\n",
       "14     4661  6978433               1497           0.990225        10\n",
       "15     4362  6521052               1494           0.990048        10\n",
       "16     4635  6940358               1497           0.990210         9\n",
       "17     4095  6091403               1487           0.990053        10\n",
       "18     5375  5063820                942           0.990338        12\n",
       "19     9500  8908952                937           0.990902        13\n",
       "20     6542  7875520               1203           0.990056        11\n",
       "21     7845  6384718                813           0.989982        14\n",
       "22     4740  6250774               1318           0.989478        10\n",
       "23     7037  7386975               1049           0.990294        11\n",
       "24     2273  3916850               1723           0.990770         8\n",
       "25     2799  4829744               1725           0.991494         8\n",
       "26     3012  5202575               1727           0.991123         8\n",
       "27     5402  6025582               1115           0.989926        11\n",
       "28     8378  8305831                991           0.990777        12\n",
       "29     5871  7902034               1345           0.990290        10\n",
       "30     7498  6729473                897           0.990524        13\n",
       "31     4927  6495678               1318           0.989421        10\n",
       "32     5018  7459257               1486           0.990320        10\n",
       "33     4749  7070769               1488           0.989759         9\n",
       "34     4672  6951239               1487           0.990248        10\n",
       "35     4800  7078060               1474           0.990598        10"
      ]
     },
     "execution_count": 80,
     "metadata": {},
     "output_type": "execute_result"
    }
   ],
   "source": [
    "seed = pandas.DataFrame(J['tables'][1]['columns'][0])\n",
    "for n in J['tables'][1]['columns']:\n",
    "    seed = seed.join(pandas.DataFrame(n), rsuffix='_right')\n",
    "# print(seed.head())\n",
    "\n",
    "df = seed.select_dtypes([int])\n",
    "df.columns = [ '_', 'n_reads', 'n_bases', 'ccs_read_len_mean', 'mean_ccs_accuracy', 'n_passes' ]\n",
    "df.drop('_', axis=1, inplace=True)\n",
    "df"
   ]
  },
  {
   "cell_type": "code",
   "execution_count": 81,
   "metadata": {},
   "outputs": [
    {
     "data": {
      "image/png": "[encoded data removed]",
      "text/plain": [
       "<matplotlib.figure.Figure at 0x11774e278>"
      ]
     },
     "metadata": {},
     "output_type": "display_data"
    }
   ],
   "source": [
    "fig, ax = plt.subplots(2, 1, sharex=True)\n",
    "ax[0].bar(df.index, df.n_reads, color='black')\n",
    "ax[0].set_ylabel('Consensus sequences')\n",
    "ax[1].bar(df.index, df.n_bases, color='black')\n",
    "ax[1].set_xlabel('Paircode Pair ID')\n",
    "ax[1].set_ylabel('Bases')\n",
    "fig.savefig('fig1.pdf') "
   ]
  },
  {
   "cell_type": "code",
   "execution_count": 82,
   "metadata": {},
   "outputs": [
    {
     "data": {
      "text/plain": [
       "Index(['n_reads', 'n_bases', 'ccs_read_len_mean', 'mean_ccs_accuracy',\n",
       "       'n_passes'],\n",
       "      dtype='object')"
      ]
     },
     "execution_count": 82,
     "metadata": {},
     "output_type": "execute_result"
    }
   ],
   "source": [
    "df.columns"
   ]
  },
  {
   "cell_type": "code",
   "execution_count": 83,
   "metadata": {
    "collapsed": true
   },
   "outputs": [],
   "source": [
    "import numpy as np "
   ]
  },
  {
   "cell_type": "code",
   "execution_count": 96,
   "metadata": {},
   "outputs": [
    {
     "data": {
      "image/png": "[encoded data removed]",
      "text/plain": [
       "<matplotlib.figure.Figure at 0x1189af320>"
      ]
     },
     "metadata": {},
     "output_type": "display_data"
    }
   ],
   "source": [
    "fig, ax = plt.subplots(3, 1, sharex=True)\n",
    "ax[0].bar(df.index, df.ccs_read_len_mean)\n",
    "ax[0].set_ylabel('Consensus length')\n",
    "ax[1].bar(df.index, df.mean_ccs_accuracy, color='green')\n",
    "ax[1].set_ylim((0.98,1))\n",
    "ax[1].set_ylabel('Mean CCS accuracy')\n",
    "\n",
    "ax[2].bar(df.index, df.n_passes, color='orange')\n",
    "ax[2].set_ylabel('Number of passes')\n",
    "ax[2].set_xlabel('Barcode Pair ID')\n",
    "\n",
    "fig.tight_layout()\n",
    "fig.savefig('fig2.pdf') "
   ]
  },
  {
   "cell_type": "code",
   "execution_count": 97,
   "metadata": {},
   "outputs": [
    {
     "data": {
      "image/png": "[encoded data removed]",
      "text/plain": [
       "<matplotlib.figure.Figure at 0x11894df28>"
      ]
     },
     "metadata": {},
     "output_type": "display_data"
    }
   ],
   "source": [
    "fig, ax = plt.subplots()\n",
    "ax.scatter(df.ccs_read_len_mean, df.mean_ccs_accuracy)\n",
    "ax.set_ylim((df.mean_ccs_accuracy.min(),df.mean_ccs_accuracy.max()))\n",
    "ax.set_xlabel('Mean read length')\n",
    "ax.set_ylabel('Mean CCS quality') \n",
    "fig.savefig('fig3.pdf')"
   ]
  },
  {
   "cell_type": "code",
   "execution_count": 99,
   "metadata": {},
   "outputs": [
    {
     "data": {
      "image/png": "[encoded data removed]",
      "text/plain": [
       "<matplotlib.figure.Figure at 0x117a17e80>"
      ]
     },
     "metadata": {},
     "output_type": "display_data"
    }
   ],
   "source": [
    "fig, ax = plt.subplots()\n",
    "ax.scatter(df.n_passes, df.mean_ccs_accuracy)\n",
    "ax.set_ylim((df.mean_ccs_accuracy.min(),df.mean_ccs_accuracy.max()))\n",
    "ax.set_xlabel('Number of passes')\n",
    "ax.set_ylabel('Mean CCS quality') \n",
    "fig.savefig('fig4.pdf')"
   ]
  },
  {
   "cell_type": "code",
   "execution_count": null,
   "metadata": {
    "collapsed": true
   },
   "outputs": [],
   "source": []
  }
 ],
 "metadata": {
  "kernelspec": {
   "display_name": "Python 3",
   "language": "python",
   "name": "python3"
  },
  "language_info": {
   "codemirror_mode": {
    "name": "ipython",
    "version": 3
   },
   "file_extension": ".py",
   "mimetype": "text/x-python",
   "name": "python",
   "nbconvert_exporter": "python",
   "pygments_lexer": "ipython3",
   "version": "3.6.0"
  }
 },
 "nbformat": 4,
 "nbformat_minor": 2
}
