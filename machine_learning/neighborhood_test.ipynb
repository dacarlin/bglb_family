{
 "cells": [
  {
   "cell_type": "code",
   "execution_count": 1,
   "metadata": {},
   "outputs": [
    {
     "ename": "SyntaxError",
     "evalue": "Missing parentheses in call to 'print' (<ipython-input-1-8f4e72c7b40c>, line 44)",
     "output_type": "error",
     "traceback": [
      "\u001b[0;36m  File \u001b[0;32m\"<ipython-input-1-8f4e72c7b40c>\"\u001b[0;36m, line \u001b[0;32m44\u001b[0m\n\u001b[0;31m    print \"\\n\" + \"\\033[31m\" + \"Number of Residues at Each Selection Distance\" + \"\\033[0m\"\u001b[0m\n\u001b[0m             ^\u001b[0m\n\u001b[0;31mSyntaxError\u001b[0m\u001b[0;31m:\u001b[0m Missing parentheses in call to 'print'\n"
     ]
    }
   ],
   "source": [
    "\"\"\"\n",
    "Minimal example demonstrating the futility of NeighborhoodResidueSelector's second argument.\n",
    "\"\"\"\n",
    "\n",
    "# imports\n",
    "import pyrosetta\n",
    "import rosetta\n",
    "from rosetta.core.select.residue_selector import *\n",
    "from rosetta.core.select import *\n",
    "\n",
    "def main():\n",
    "    # init w/ latest sfxn\n",
    "    pyrosetta.init(\"\")\n",
    "    pyrosetta.cre\n",
    "\n",
    "    # load sample PDB\n",
    "    pose = pyrosetta.pose_from_pdb(\"1hk9.pdb\")\n",
    "\n",
    "    # score to generate neighbor graph\n",
    "    sfxn = pyrosetta.get_fa_scorefxn()\n",
    "    sfxn(pose)\n",
    "\n",
    "    # select center of neighborhood residue\n",
    "    cen_res = ResidueIndexSelector(\"55\")\n",
    "\n",
    "    # select neighboring residues at four /different/ distances\n",
    "    # - the first argument is the selector to select about\n",
    "    # - the second argument should specify distance\n",
    "    # - the final arguement specifies to exclude residues_mutant the neighbor set\n",
    "    neighbors_1 = NeighborhoodResidueSelector(cen_res, 1.0, False)\n",
    "    neighbors_4 = NeighborhoodResidueSelector(cen_res, 4.0, False)\n",
    "    neighbors_8 = NeighborhoodResidueSelector(cen_res, 8.0, False)\n",
    "    neighbors_12 = NeighborhoodResidueSelector(cen_res, 12.0, False)\n",
    "    neighbors_16 = NeighborhoodResidueSelector(cen_res, 16.0, False)\n",
    "\n",
    "    # get selections\n",
    "    residues_1 = get_residues_from_subset( neighbors_1.apply(pose) )\n",
    "    residues_4 = get_residues_from_subset( neighbors_4.apply(pose) )\n",
    "    residues_8 = get_residues_from_subset( neighbors_8.apply(pose) )\n",
    "    residues_12 = get_residues_from_subset( neighbors_12.apply(pose) )\n",
    "    residues_16 = get_residues_from_subset( neighbors_16.apply(pose) )\n",
    "\n",
    "    # Compare selection sizes\n",
    "\n",
    "    print \"\\n\" + \"\\033[31m\" + \"Number of Residues at Each Selection Distance\" + \"\\033[0m\"\n",
    "    print \"1: {}\".format(len(residues_1))\n",
    "    print \"4: {}\".format(len(residues_4))\n",
    "    print \"8: {}\".format(len(residues_8))\n",
    "    print \"12: {}\".format(len(residues_12))\n",
    "    print \"16: {}\".format(len(residues_16))\n",
    "    print \"\\033[31m\" + \"--------------------------------------------\"  + \"\\033[0m\" + \"\\n\"\n",
    "\n",
    "    # Compare actual selections\n",
    "    # Central residue should only be one...\n",
    "    print \"\\033[31m\" + \"Residues in Selection (Rosetta numbering)\" + \"\\033[0m\"\n",
    "    print \"Central Residue: {}\\n\".format( get_residues_from_subset(cen_res.apply(pose))[1] )\n",
    "    print \"1 A Neighbors: {}\\n\".format( \",\".join([str(x) for x in residues_1]) )\n",
    "    print \"4 A Neighbors: {}\\n\".format( \",\".join([str(x) for x in residues_4]) )\n",
    "    print \"8 A Neighbors: {}\\n\".format( \",\".join([str(x) for x in residues_8]) )\n",
    "    print \"12 A Neighbors: {}\\n\".format( \",\".join([str(x) for x in residues_12]) )\n",
    "    print \"16 A Neighbors: {}\\n\".format( \",\".join([str(x) for x in residues_16]) )\n",
    "    print \"\\033[31m\" + \"----------------------------------------\"  + \"\\033[0m\" + \"\\n\"\n",
    "\n",
    "    return\n",
    "\n",
    "if __name__ == \"__main__\": main()\n",
    "\n",
    "\n",
    "\n",
    "\n",
    "\n",
    "\n",
    "\n"
   ]
  },
  {
   "cell_type": "code",
   "execution_count": 1,
   "metadata": {
    "collapsed": true
   },
   "outputs": [],
   "source": [
    "import pyrosetta \n",
    "from rosetta import protocols, core "
   ]
  },
  {
   "cell_type": "code",
   "execution_count": 2,
   "metadata": {},
   "outputs": [
    {
     "name": "stdout",
     "output_type": "stream",
     "text": [
      "Found rosetta database at: /Users/alex/anaconda3/envs/rose/lib/python3.5/site-packages/pyrosetta-4.0-py3.5.egg/database; using it....\n",
      "PyRosetta-4 2016 [Rosetta 2016 unknown:94998f0e5b038b6d8083995a664cb96641cb844b 2017-05-11 15:10:16 -0500] retrieved from: git@github.com:RosettaCommons/main.git\n",
      "(C) Copyright Rosetta Commons Member Institutions.\n",
      "Created in JHU by Sergey Lyskov and PyRosetta Team.\n",
      "\n"
     ]
    }
   ],
   "source": [
    "pyrosetta.init('-beta')\n",
    "p = pyrosetta.pose_from_file('../rosetta_runs/bglb/relax/output/relax_387/2JIE_0001.pdb')\n",
    "#s = pyrosetta.create_score_function('ref2015')\n",
    "#s(p)\n"
   ]
  },
  {
   "cell_type": "code",
   "execution_count": null,
   "metadata": {},
   "outputs": [],
   "source": [
    "def distances():\n",
    "    for n in range(30):\n",
    "        hood = core.select.residue_selector.NeighborhoodResidueSelector()\n",
    "        hood.set_focus('164')\n",
    "        hood.set_distance(n)\n",
    "        yield sum(hood.apply(p))\n",
    "        \n",
    "fig, ax = plt.subplots()\n",
    "ax.scatter(range(30), list(distances()))\n",
    "ax.set(xlabel='Distance (Å)', ylabel='Number of residues selected')\n"
   ]
  },
  {
   "cell_type": "code",
   "execution_count": 19,
   "metadata": {},
   "outputs": [
    {
     "data": {
      "text/plain": [
       "'PyRosetta-4 2016 [Rosetta 2016 unknown:94998f0e5b038b6d8083995a664cb96641cb844b 2017-05-11 15:10:16 -0500] retrieved from: git@github.com:RosettaCommons/main.git\\n(C) Copyright Rosetta Commons Member Institutions.\\nCreated in JHU by Sergey Lyskov and PyRosetta Team.\\n'"
      ]
     },
     "execution_count": 19,
     "metadata": {},
     "output_type": "execute_result"
    }
   ],
   "source": [
    "pyrosetta.version()"
   ]
  },
  {
   "cell_type": "code",
   "execution_count": 16,
   "metadata": {},
   "outputs": [
    {
     "data": {
      "text/plain": [
       "[(0, 1),\n",
       " (1, 1),\n",
       " (2, 1),\n",
       " (3, 1),\n",
       " (4, 1),\n",
       " (5, 3),\n",
       " (6, 6),\n",
       " (7, 10),\n",
       " (8, 12),\n",
       " (9, 15),\n",
       " (10, 26),\n",
       " (11, 30),\n",
       " (12, 43),\n",
       " (13, 52),\n",
       " (14, 65),\n",
       " (15, 80),\n",
       " (16, 103),\n",
       " (17, 124),\n",
       " (18, 146),\n",
       " (19, 176),\n",
       " (20, 201),\n",
       " (21, 236),\n",
       " (22, 262),\n",
       " (23, 289),\n",
       " (24, 316),\n",
       " (25, 332),\n",
       " (26, 363),\n",
       " (27, 386),\n",
       " (28, 402),\n",
       " (29, 414)]"
      ]
     },
     "execution_count": 16,
     "metadata": {},
     "output_type": "execute_result"
    }
   ],
   "source": [
    "list(zip(range(30), distances()))"
   ]
  },
  {
   "cell_type": "code",
   "execution_count": null,
   "metadata": {
    "collapsed": true
   },
   "outputs": [],
   "source": []
  }
 ],
 "metadata": {
  "kernelspec": {
   "display_name": "Python [conda env:rose]",
   "language": "python",
   "name": "conda-env-rose-py"
  },
  "language_info": {
   "codemirror_mode": {
    "name": "ipython",
    "version": 3
   },
   "file_extension": ".py",
   "mimetype": "text/x-python",
   "name": "python",
   "nbconvert_exporter": "python",
   "pygments_lexer": "ipython3",
   "version": "3.5.2"
  }
 },
 "nbformat": 4,
 "nbformat_minor": 2
}
