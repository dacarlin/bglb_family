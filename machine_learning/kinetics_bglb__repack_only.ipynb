{
 "cells": [
  {
   "cell_type": "code",
   "execution_count": 1,
   "metadata": {
    "collapsed": true
   },
   "outputs": [],
   "source": [
    "import pandas \n",
    "import pyrosetta \n",
    "from sklearn import preprocessing, svm, ensemble, model_selection, metrics, manifold, decomposition\n",
    "from rosetta import protocols, core \n",
    "from Bio.Data import IUPACData\n",
    "import matplotlib.pyplot as plt \n",
    "import numpy as np \n",
    "%matplotlib inline"
   ]
  },
  {
   "cell_type": "code",
   "execution_count": 2,
   "metadata": {
    "collapsed": true
   },
   "outputs": [],
   "source": [
    "plt.style.use('seaborn-deep')"
   ]
  },
  {
   "cell_type": "code",
   "execution_count": 3,
   "metadata": {},
   "outputs": [
    {
     "data": {
      "text/html": [
       "<div>\n",
       "<table border=\"1\" class=\"dataframe\">\n",
       "  <thead>\n",
       "    <tr style=\"text-align: right;\">\n",
       "      <th></th>\n",
       "      <th>kcat</th>\n",
       "      <th>km</th>\n",
       "      <th>kcatkm</th>\n",
       "      <th>expression</th>\n",
       "    </tr>\n",
       "    <tr>\n",
       "      <th>mutant_name</th>\n",
       "      <th></th>\n",
       "      <th></th>\n",
       "      <th></th>\n",
       "      <th></th>\n",
       "    </tr>\n",
       "  </thead>\n",
       "  <tbody>\n",
       "    <tr>\n",
       "      <th>W407G</th>\n",
       "      <td>NaN</td>\n",
       "      <td>NaN</td>\n",
       "      <td>NaN</td>\n",
       "      <td>0</td>\n",
       "    </tr>\n",
       "    <tr>\n",
       "      <th>R240D</th>\n",
       "      <td>-0.494234</td>\n",
       "      <td>0.335257</td>\n",
       "      <td>-0.824025</td>\n",
       "      <td>1</td>\n",
       "    </tr>\n",
       "    <tr>\n",
       "      <th>I244N</th>\n",
       "      <td>-0.511513</td>\n",
       "      <td>-0.366532</td>\n",
       "      <td>-0.139572</td>\n",
       "      <td>1</td>\n",
       "    </tr>\n",
       "    <tr>\n",
       "      <th>N220D</th>\n",
       "      <td>-1.371611</td>\n",
       "      <td>-0.119186</td>\n",
       "      <td>-1.247461</td>\n",
       "      <td>1</td>\n",
       "    </tr>\n",
       "    <tr>\n",
       "      <th>L171D</th>\n",
       "      <td>-2.015064</td>\n",
       "      <td>-0.236572</td>\n",
       "      <td>-1.773528</td>\n",
       "      <td>1</td>\n",
       "    </tr>\n",
       "  </tbody>\n",
       "</table>\n",
       "</div>"
      ],
      "text/plain": [
       "                 kcat        km    kcatkm  expression\n",
       "mutant_name                                          \n",
       "W407G             NaN       NaN       NaN           0\n",
       "R240D       -0.494234  0.335257 -0.824025           1\n",
       "I244N       -0.511513 -0.366532 -0.139572           1\n",
       "N220D       -1.371611 -0.119186 -1.247461           1\n",
       "L171D       -2.015064 -0.236572 -1.773528           1"
      ]
     },
     "execution_count": 3,
     "metadata": {},
     "output_type": "execute_result"
    }
   ],
   "source": [
    "df = pandas.read_csv('../data_sets/speculative_targets.csv', index_col=0)\n",
    "df.drop('BglB', axis=0, inplace=True)\n",
    "df.sample(5)"
   ]
  },
  {
   "cell_type": "code",
   "execution_count": 4,
   "metadata": {},
   "outputs": [
    {
     "data": {
      "text/plain": [
       "(145, 4)"
      ]
     },
     "execution_count": 4,
     "metadata": {},
     "output_type": "execute_result"
    }
   ],
   "source": [
    "df.shape"
   ]
  },
  {
   "cell_type": "code",
   "execution_count": 5,
   "metadata": {},
   "outputs": [
    {
     "name": "stdout",
     "output_type": "stream",
     "text": [
      "Found rosetta database at: /Users/alex/anaconda3/envs/rose/lib/python3.5/site-packages/pyrosetta-4.0-py3.5.egg/database; using it....\n",
      "PyRosetta-4 2016 [Rosetta 2016 unknown:94998f0e5b038b6d8083995a664cb96641cb844b 2017-05-11 15:10:16 -0500] retrieved from: git@github.com:RosettaCommons/main.git\n",
      "(C) Copyright Rosetta Commons Member Institutions.\n",
      "Created in JHU by Sergey Lyskov and PyRosetta Team.\n",
      "\n"
     ]
    }
   ],
   "source": [
    "BASE_DIR = '/Users/alex/Documents/bglb_family/pipeline/'\n",
    "pyrosetta.init('-beta -extra_res_fa ../pipeline/comparative_modeling/pnpg.params -preserve_header')"
   ]
  },
  {
   "cell_type": "code",
   "execution_count": 6,
   "metadata": {},
   "outputs": [
    {
     "data": {
      "text/plain": [
       "-1402.010406123926"
      ]
     },
     "execution_count": 6,
     "metadata": {},
     "output_type": "execute_result"
    }
   ],
   "source": [
    "p = pyrosetta.pose_from_file('../pipeline/output_files/2888/native.pdb')\n",
    "cst = protocols.enzdes.AddOrRemoveMatchCsts()\n",
    "cst.set_cst_action(protocols.enzdes.ADD_NEW)\n",
    "cst.cstfile('../pipeline/output_files/2888/pnpg.cst')\n",
    "cst.apply(p)\n",
    "s = pyrosetta.create_score_function('beta_cst')\n",
    "s(p)"
   ]
  },
  {
   "cell_type": "code",
   "execution_count": 7,
   "metadata": {},
   "outputs": [
    {
     "data": {
      "text/plain": [
       "[480, 178, 383, 309]"
      ]
     },
     "execution_count": 7,
     "metadata": {},
     "output_type": "execute_result"
    }
   ],
   "source": [
    "cst_set = p.constraint_set()\n",
    "res_with_cst = []\n",
    "for n in cst_set.get_all_constraints():\n",
    "    for r in n.residues():\n",
    "        if r not in res_with_cst:\n",
    "            res_with_cst.append(r)\n",
    "            # gives us deterministic order (instead of set) \n",
    "\n",
    "res_with_cst"
   ]
  },
  {
   "cell_type": "code",
   "execution_count": 8,
   "metadata": {},
   "outputs": [
    {
     "data": {
      "text/plain": [
       "{178: 'acid_base', 309: 'backup', 383: 'nucleophile', 480: 'ligand'}"
      ]
     },
     "execution_count": 8,
     "metadata": {},
     "output_type": "execute_result"
    }
   ],
   "source": [
    "# we can infer the chemical function of these by ordering them \n",
    "chem = ['acid_base', 'backup', 'nucleophile', 'ligand']\n",
    "dict(zip(sorted(res_with_cst), chem))"
   ]
  },
  {
   "cell_type": "code",
   "execution_count": 9,
   "metadata": {},
   "outputs": [
    {
     "data": {
      "text/plain": [
       "vector1_core_scoring_ScoreType[fa_atr, fa_rep, fa_sol, fa_intra_atr_xover4, fa_intra_rep_xover4, fa_intra_sol_xover4, lk_ball, lk_ball_iso, lk_ball_bridge, lk_ball_bridge_uncpl, fa_elec, fa_intra_elec, pro_close, hbond_sr_bb, hbond_lr_bb, hbond_bb_sc, hbond_sc, dslf_fa13, atom_pair_constraint, coordinate_constraint, angle_constraint, dihedral_constraint, omega, fa_dun_dev, fa_dun_rot, fa_dun_semi, p_aa_pp, hxl_tors, ref, chainbreak, rama_prepro, res_type_constraint]"
      ]
     },
     "execution_count": 9,
     "metadata": {},
     "output_type": "execute_result"
    }
   ],
   "source": [
    "nonzero_score_types = s.get_nonzero_weighted_scoretypes()\n",
    "\n",
    "nonzero_score_types"
   ]
  },
  {
   "cell_type": "code",
   "execution_count": 10,
   "metadata": {
    "scrolled": false
   },
   "outputs": [
    {
     "data": {
      "text/plain": [
       "36"
      ]
     },
     "execution_count": 10,
     "metadata": {},
     "output_type": "execute_result"
    }
   ],
   "source": [
    "#for n, residue_pos in enumerate(sorted(res_with_cst), 1):\n",
    "features = {}\n",
    "en = p.energies()\n",
    "d = dict(zip(sorted(res_with_cst), chem))\n",
    "for k, v in d.items():\n",
    "    for st in nonzero_score_types:\n",
    "        name = core.scoring.name_from_score_type(st) \n",
    "        energy = en.residue_total_energies(k)[st]\n",
    "        features.update({name: energy})\n",
    "        #print('{}__{}'.format(v, name), energy)\n",
    "    features.update({'{}__position'.format(v): k})\n",
    "len(features)"
   ]
  },
  {
   "cell_type": "code",
   "execution_count": 11,
   "metadata": {},
   "outputs": [
    {
     "data": {
      "text/plain": [
       "{'acid_base__position': 178,\n",
       " 'angle_constraint': 0.19317785052071523,\n",
       " 'atom_pair_constraint': 0.06593128710226558,\n",
       " 'backup__position': 309,\n",
       " 'chainbreak': 0.0,\n",
       " 'coordinate_constraint': 0.0,\n",
       " 'dihedral_constraint': 0.026139638794694355,\n",
       " 'dslf_fa13': 0.0,\n",
       " 'fa_atr': -8.557156223083636,\n",
       " 'fa_dun_dev': 1.0369735397579316,\n",
       " 'fa_dun_rot': 0.0,\n",
       " 'fa_dun_semi': 5.583484336874597,\n",
       " 'fa_elec': -3.717117955347686,\n",
       " 'fa_intra_atr_xover4': -0.1793307814742469,\n",
       " 'fa_intra_elec': -0.45534360846361577,\n",
       " 'fa_intra_rep_xover4': 0.005714665240062907,\n",
       " 'fa_intra_sol_xover4': 0.24033860637916388,\n",
       " 'fa_rep': 4.05114004364606,\n",
       " 'fa_sol': 10.226297090063387,\n",
       " 'hbond_bb_sc': 0.0,\n",
       " 'hbond_lr_bb': 0.0,\n",
       " 'hbond_sc': -1.071626535194667,\n",
       " 'hbond_sr_bb': 0.0,\n",
       " 'hxl_tors': 0.0,\n",
       " 'ligand__position': 480,\n",
       " 'lk_ball': 5.259450224127169,\n",
       " 'lk_ball_bridge': 0.03129901112090718,\n",
       " 'lk_ball_bridge_uncpl': 0.1909812230222458,\n",
       " 'lk_ball_iso': 10.933055380453265,\n",
       " 'nucleophile__position': 383,\n",
       " 'omega': 2.1286001364338905,\n",
       " 'p_aa_pp': 0.026322027361638408,\n",
       " 'pro_close': 0.0,\n",
       " 'rama_prepro': 0.15862853636615343,\n",
       " 'ref': -2.7348,\n",
       " 'res_type_constraint': 0.0}"
      ]
     },
     "execution_count": 11,
     "metadata": {},
     "output_type": "execute_result"
    }
   ],
   "source": [
    "features"
   ]
  },
  {
   "cell_type": "code",
   "execution_count": 12,
   "metadata": {},
   "outputs": [
    {
     "data": {
      "text/html": [
       "<div>\n",
       "<table border=\"1\" class=\"dataframe\">\n",
       "  <thead>\n",
       "    <tr style=\"text-align: right;\">\n",
       "      <th></th>\n",
       "      <th>acid_base__angle_constraint</th>\n",
       "      <th>acid_base__atom_pair_constraint</th>\n",
       "      <th>acid_base__chainbreak</th>\n",
       "      <th>acid_base__coordinate_constraint</th>\n",
       "      <th>acid_base__dihedral_constraint</th>\n",
       "      <th>acid_base__dslf_fa13</th>\n",
       "      <th>acid_base__fa_atr</th>\n",
       "      <th>acid_base__fa_dun_dev</th>\n",
       "      <th>acid_base__fa_dun_rot</th>\n",
       "      <th>acid_base__fa_dun_semi</th>\n",
       "      <th>...</th>\n",
       "      <th>nucleophile__lk_ball_bridge</th>\n",
       "      <th>nucleophile__lk_ball_bridge_uncpl</th>\n",
       "      <th>nucleophile__lk_ball_iso</th>\n",
       "      <th>nucleophile__omega</th>\n",
       "      <th>nucleophile__p_aa_pp</th>\n",
       "      <th>nucleophile__position</th>\n",
       "      <th>nucleophile__pro_close</th>\n",
       "      <th>nucleophile__rama_prepro</th>\n",
       "      <th>nucleophile__ref</th>\n",
       "      <th>nucleophile__res_type_constraint</th>\n",
       "    </tr>\n",
       "    <tr>\n",
       "      <th>mutant_name</th>\n",
       "      <th></th>\n",
       "      <th></th>\n",
       "      <th></th>\n",
       "      <th></th>\n",
       "      <th></th>\n",
       "      <th></th>\n",
       "      <th></th>\n",
       "      <th></th>\n",
       "      <th></th>\n",
       "      <th></th>\n",
       "      <th></th>\n",
       "      <th></th>\n",
       "      <th></th>\n",
       "      <th></th>\n",
       "      <th></th>\n",
       "      <th></th>\n",
       "      <th></th>\n",
       "      <th></th>\n",
       "      <th></th>\n",
       "      <th></th>\n",
       "      <th></th>\n",
       "    </tr>\n",
       "  </thead>\n",
       "  <tbody>\n",
       "    <tr>\n",
       "      <th>S14A</th>\n",
       "      <td>0.001868</td>\n",
       "      <td>0.0</td>\n",
       "      <td>0.0</td>\n",
       "      <td>0.0</td>\n",
       "      <td>0.013679</td>\n",
       "      <td>0.0</td>\n",
       "      <td>-9.556874</td>\n",
       "      <td>0.582336</td>\n",
       "      <td>0.0</td>\n",
       "      <td>3.523524</td>\n",
       "      <td>...</td>\n",
       "      <td>0.031299</td>\n",
       "      <td>0.190981</td>\n",
       "      <td>10.933055</td>\n",
       "      <td>2.1286</td>\n",
       "      <td>0.026322</td>\n",
       "      <td>383</td>\n",
       "      <td>0.0</td>\n",
       "      <td>0.158629</td>\n",
       "      <td>-2.7348</td>\n",
       "      <td>0.0</td>\n",
       "    </tr>\n",
       "    <tr>\n",
       "      <th>T15A</th>\n",
       "      <td>0.001868</td>\n",
       "      <td>0.0</td>\n",
       "      <td>0.0</td>\n",
       "      <td>0.0</td>\n",
       "      <td>0.013679</td>\n",
       "      <td>0.0</td>\n",
       "      <td>-9.556874</td>\n",
       "      <td>0.582336</td>\n",
       "      <td>0.0</td>\n",
       "      <td>3.523524</td>\n",
       "      <td>...</td>\n",
       "      <td>0.031299</td>\n",
       "      <td>0.190981</td>\n",
       "      <td>10.933055</td>\n",
       "      <td>2.1286</td>\n",
       "      <td>0.026322</td>\n",
       "      <td>383</td>\n",
       "      <td>0.0</td>\n",
       "      <td>0.158629</td>\n",
       "      <td>-2.7348</td>\n",
       "      <td>0.0</td>\n",
       "    </tr>\n",
       "    <tr>\n",
       "      <th>S16A</th>\n",
       "      <td>0.001868</td>\n",
       "      <td>0.0</td>\n",
       "      <td>0.0</td>\n",
       "      <td>0.0</td>\n",
       "      <td>0.013679</td>\n",
       "      <td>0.0</td>\n",
       "      <td>-9.556874</td>\n",
       "      <td>0.582336</td>\n",
       "      <td>0.0</td>\n",
       "      <td>3.523524</td>\n",
       "      <td>...</td>\n",
       "      <td>0.031299</td>\n",
       "      <td>0.190981</td>\n",
       "      <td>10.933055</td>\n",
       "      <td>2.1286</td>\n",
       "      <td>0.026322</td>\n",
       "      <td>383</td>\n",
       "      <td>0.0</td>\n",
       "      <td>0.158629</td>\n",
       "      <td>-2.7348</td>\n",
       "      <td>0.0</td>\n",
       "    </tr>\n",
       "    <tr>\n",
       "      <th>S17A</th>\n",
       "      <td>0.001868</td>\n",
       "      <td>0.0</td>\n",
       "      <td>0.0</td>\n",
       "      <td>0.0</td>\n",
       "      <td>0.013679</td>\n",
       "      <td>0.0</td>\n",
       "      <td>-9.556874</td>\n",
       "      <td>0.582336</td>\n",
       "      <td>0.0</td>\n",
       "      <td>3.523524</td>\n",
       "      <td>...</td>\n",
       "      <td>0.031299</td>\n",
       "      <td>0.190981</td>\n",
       "      <td>10.933055</td>\n",
       "      <td>2.1286</td>\n",
       "      <td>0.026322</td>\n",
       "      <td>383</td>\n",
       "      <td>0.0</td>\n",
       "      <td>0.158629</td>\n",
       "      <td>-2.7348</td>\n",
       "      <td>0.0</td>\n",
       "    </tr>\n",
       "    <tr>\n",
       "      <th>S17E</th>\n",
       "      <td>0.001868</td>\n",
       "      <td>0.0</td>\n",
       "      <td>0.0</td>\n",
       "      <td>0.0</td>\n",
       "      <td>0.013679</td>\n",
       "      <td>0.0</td>\n",
       "      <td>-9.556874</td>\n",
       "      <td>0.582336</td>\n",
       "      <td>0.0</td>\n",
       "      <td>3.523524</td>\n",
       "      <td>...</td>\n",
       "      <td>0.031299</td>\n",
       "      <td>0.190981</td>\n",
       "      <td>10.933055</td>\n",
       "      <td>2.1286</td>\n",
       "      <td>0.026322</td>\n",
       "      <td>383</td>\n",
       "      <td>0.0</td>\n",
       "      <td>0.158629</td>\n",
       "      <td>-2.7348</td>\n",
       "      <td>0.0</td>\n",
       "    </tr>\n",
       "  </tbody>\n",
       "</table>\n",
       "<p>5 rows × 132 columns</p>\n",
       "</div>"
      ],
      "text/plain": [
       "             acid_base__angle_constraint  acid_base__atom_pair_constraint  \\\n",
       "mutant_name                                                                 \n",
       "S14A                            0.001868                              0.0   \n",
       "T15A                            0.001868                              0.0   \n",
       "S16A                            0.001868                              0.0   \n",
       "S17A                            0.001868                              0.0   \n",
       "S17E                            0.001868                              0.0   \n",
       "\n",
       "             acid_base__chainbreak  acid_base__coordinate_constraint  \\\n",
       "mutant_name                                                            \n",
       "S14A                           0.0                               0.0   \n",
       "T15A                           0.0                               0.0   \n",
       "S16A                           0.0                               0.0   \n",
       "S17A                           0.0                               0.0   \n",
       "S17E                           0.0                               0.0   \n",
       "\n",
       "             acid_base__dihedral_constraint  acid_base__dslf_fa13  \\\n",
       "mutant_name                                                         \n",
       "S14A                               0.013679                   0.0   \n",
       "T15A                               0.013679                   0.0   \n",
       "S16A                               0.013679                   0.0   \n",
       "S17A                               0.013679                   0.0   \n",
       "S17E                               0.013679                   0.0   \n",
       "\n",
       "             acid_base__fa_atr  acid_base__fa_dun_dev  acid_base__fa_dun_rot  \\\n",
       "mutant_name                                                                    \n",
       "S14A                 -9.556874               0.582336                    0.0   \n",
       "T15A                 -9.556874               0.582336                    0.0   \n",
       "S16A                 -9.556874               0.582336                    0.0   \n",
       "S17A                 -9.556874               0.582336                    0.0   \n",
       "S17E                 -9.556874               0.582336                    0.0   \n",
       "\n",
       "             acid_base__fa_dun_semi                ...                 \\\n",
       "mutant_name                                        ...                  \n",
       "S14A                       3.523524                ...                  \n",
       "T15A                       3.523524                ...                  \n",
       "S16A                       3.523524                ...                  \n",
       "S17A                       3.523524                ...                  \n",
       "S17E                       3.523524                ...                  \n",
       "\n",
       "             nucleophile__lk_ball_bridge  nucleophile__lk_ball_bridge_uncpl  \\\n",
       "mutant_name                                                                   \n",
       "S14A                            0.031299                           0.190981   \n",
       "T15A                            0.031299                           0.190981   \n",
       "S16A                            0.031299                           0.190981   \n",
       "S17A                            0.031299                           0.190981   \n",
       "S17E                            0.031299                           0.190981   \n",
       "\n",
       "             nucleophile__lk_ball_iso  nucleophile__omega  \\\n",
       "mutant_name                                                 \n",
       "S14A                        10.933055              2.1286   \n",
       "T15A                        10.933055              2.1286   \n",
       "S16A                        10.933055              2.1286   \n",
       "S17A                        10.933055              2.1286   \n",
       "S17E                        10.933055              2.1286   \n",
       "\n",
       "             nucleophile__p_aa_pp  nucleophile__position  \\\n",
       "mutant_name                                                \n",
       "S14A                     0.026322                    383   \n",
       "T15A                     0.026322                    383   \n",
       "S16A                     0.026322                    383   \n",
       "S17A                     0.026322                    383   \n",
       "S17E                     0.026322                    383   \n",
       "\n",
       "             nucleophile__pro_close  nucleophile__rama_prepro  \\\n",
       "mutant_name                                                     \n",
       "S14A                            0.0                  0.158629   \n",
       "T15A                            0.0                  0.158629   \n",
       "S16A                            0.0                  0.158629   \n",
       "S17A                            0.0                  0.158629   \n",
       "S17E                            0.0                  0.158629   \n",
       "\n",
       "             nucleophile__ref  nucleophile__res_type_constraint  \n",
       "mutant_name                                                      \n",
       "S14A                  -2.7348                               0.0  \n",
       "T15A                  -2.7348                               0.0  \n",
       "S16A                  -2.7348                               0.0  \n",
       "S17A                  -2.7348                               0.0  \n",
       "S17E                  -2.7348                               0.0  \n",
       "\n",
       "[5 rows x 132 columns]"
      ]
     },
     "execution_count": 12,
     "metadata": {},
     "output_type": "execute_result"
    }
   ],
   "source": [
    "def deep_mutational_scan():\n",
    "    \n",
    "    for mutant_name in df.index:\n",
    "        \n",
    "        # make mutant \n",
    "        pose = p.clone()\n",
    "        native, *pos, design = mutant_name \n",
    "        pos = int(''.join(pos))\n",
    "        design = IUPACData.protein_letters_1to3[design].upper()\n",
    "        mutate = protocols.simple_moves.MutateResidue(pos, design) \n",
    "        _ = s(pose)\n",
    "        score_begin = [pose.energies().total_energies()[n] for n in s.get_nonzero_weighted_scoretypes()] #WT\n",
    "        mutate.apply(pose)\n",
    "        \n",
    "        # conformational sampling \n",
    "        tf = core.pack.task.TaskFactory()\n",
    "        around = protocols.toolbox.task_operations.DesignAroundOperation()\n",
    "        around.include_residue(pos)\n",
    "        around.repack_shell(8.0) \n",
    "        around.resnums_allow_design(False)\n",
    "        around.allow_design(False)\n",
    "        tf.push_back(around) \n",
    "        pt = tf.create_task_and_apply_taskoperations(pose)\n",
    "        repack = protocols.simple_moves.PackRotamersMover(s, pt)\n",
    "        repack.apply(pose)\n",
    "        _ = s(pose) \n",
    "        \n",
    "        # features \n",
    "        features = {}\n",
    "        en = pose.energies()\n",
    "        d = dict(zip(sorted(res_with_cst), chem))\n",
    "        for k, v in d.items():\n",
    "            for st in nonzero_score_types:\n",
    "                name = core.scoring.name_from_score_type(st) \n",
    "                energy = en.residue_total_energies(k)[st]\n",
    "                feature_name = '{}__{}'.format(v, name)\n",
    "                features.update({feature_name: energy})\n",
    "                #print('{}__{}'.format(v, name), energy)\n",
    "            features.update({'{}__position'.format(v): k})\n",
    "        yield features \n",
    "        \n",
    "#list_of_score_type_names = [str(n).replace('ScoreType.', '') for n in s.get_nonzero_weighted_scoretypes()]\n",
    "features = pandas.DataFrame(list(deep_mutational_scan()), index=df.index)\n",
    "features.head()"
   ]
  },
  {
   "cell_type": "code",
   "execution_count": 13,
   "metadata": {},
   "outputs": [
    {
     "data": {
      "text/plain": [
       "(145, 132)"
      ]
     },
     "execution_count": 13,
     "metadata": {},
     "output_type": "execute_result"
    }
   ],
   "source": [
    "features.shape"
   ]
  },
  {
   "cell_type": "code",
   "execution_count": 14,
   "metadata": {},
   "outputs": [
    {
     "data": {
      "text/plain": [
       "Index(['acid_base__angle_constraint', 'acid_base__atom_pair_constraint',\n",
       "       'acid_base__chainbreak', 'acid_base__coordinate_constraint',\n",
       "       'acid_base__dihedral_constraint', 'acid_base__dslf_fa13',\n",
       "       'acid_base__fa_atr', 'acid_base__fa_dun_dev', 'acid_base__fa_dun_rot',\n",
       "       'acid_base__fa_dun_semi',\n",
       "       ...\n",
       "       'nucleophile__lk_ball_bridge', 'nucleophile__lk_ball_bridge_uncpl',\n",
       "       'nucleophile__lk_ball_iso', 'nucleophile__omega',\n",
       "       'nucleophile__p_aa_pp', 'nucleophile__position',\n",
       "       'nucleophile__pro_close', 'nucleophile__rama_prepro',\n",
       "       'nucleophile__ref', 'nucleophile__res_type_constraint'],\n",
       "      dtype='object', length=132)"
      ]
     },
     "execution_count": 14,
     "metadata": {},
     "output_type": "execute_result"
    }
   ],
   "source": [
    "features.columns"
   ]
  },
  {
   "cell_type": "code",
   "execution_count": 15,
   "metadata": {},
   "outputs": [
    {
     "data": {
      "text/plain": [
       "(145, 83)"
      ]
     },
     "execution_count": 15,
     "metadata": {},
     "output_type": "execute_result"
    }
   ],
   "source": [
    "# clean up features a bit \n",
    "drop_me = []\n",
    "for feature in features:\n",
    "    if features[feature].std() == 0.0:\n",
    "        drop_me.append(feature)\n",
    "\n",
    "features.drop(drop_me, axis=1, inplace=1) \n",
    "features.shape"
   ]
  },
  {
   "cell_type": "markdown",
   "metadata": {},
   "source": [
    "**Result: dropping features with `variance == 0.0` reduces feature count from 32 to 26**. This leaves sample size (145) unchanged. "
   ]
  },
  {
   "cell_type": "code",
   "execution_count": 16,
   "metadata": {},
   "outputs": [
    {
     "data": {
      "text/html": [
       "<div>\n",
       "<table border=\"1\" class=\"dataframe\">\n",
       "  <thead>\n",
       "    <tr style=\"text-align: right;\">\n",
       "      <th></th>\n",
       "      <th>acid_base__angle_constraint</th>\n",
       "      <th>acid_base__atom_pair_constraint</th>\n",
       "      <th>acid_base__dihedral_constraint</th>\n",
       "      <th>acid_base__fa_atr</th>\n",
       "      <th>acid_base__fa_dun_dev</th>\n",
       "      <th>acid_base__fa_dun_rot</th>\n",
       "      <th>acid_base__fa_dun_semi</th>\n",
       "      <th>acid_base__fa_elec</th>\n",
       "      <th>acid_base__fa_intra_atr_xover4</th>\n",
       "      <th>acid_base__fa_intra_elec</th>\n",
       "      <th>...</th>\n",
       "      <th>nucleophile__fa_sol</th>\n",
       "      <th>nucleophile__hbond_sc</th>\n",
       "      <th>nucleophile__lk_ball</th>\n",
       "      <th>nucleophile__lk_ball_bridge</th>\n",
       "      <th>nucleophile__lk_ball_bridge_uncpl</th>\n",
       "      <th>nucleophile__lk_ball_iso</th>\n",
       "      <th>nucleophile__omega</th>\n",
       "      <th>nucleophile__p_aa_pp</th>\n",
       "      <th>nucleophile__rama_prepro</th>\n",
       "      <th>nucleophile__ref</th>\n",
       "    </tr>\n",
       "    <tr>\n",
       "      <th>mutant_name</th>\n",
       "      <th></th>\n",
       "      <th></th>\n",
       "      <th></th>\n",
       "      <th></th>\n",
       "      <th></th>\n",
       "      <th></th>\n",
       "      <th></th>\n",
       "      <th></th>\n",
       "      <th></th>\n",
       "      <th></th>\n",
       "      <th></th>\n",
       "      <th></th>\n",
       "      <th></th>\n",
       "      <th></th>\n",
       "      <th></th>\n",
       "      <th></th>\n",
       "      <th></th>\n",
       "      <th></th>\n",
       "      <th></th>\n",
       "      <th></th>\n",
       "      <th></th>\n",
       "    </tr>\n",
       "  </thead>\n",
       "  <tbody>\n",
       "    <tr>\n",
       "      <th>S14A</th>\n",
       "      <td>0.001868</td>\n",
       "      <td>0.0</td>\n",
       "      <td>0.013679</td>\n",
       "      <td>-9.556874</td>\n",
       "      <td>0.582336</td>\n",
       "      <td>0.0</td>\n",
       "      <td>3.523524</td>\n",
       "      <td>-4.480659</td>\n",
       "      <td>-0.267133</td>\n",
       "      <td>-0.281258</td>\n",
       "      <td>...</td>\n",
       "      <td>10.226297</td>\n",
       "      <td>-1.071627</td>\n",
       "      <td>5.25945</td>\n",
       "      <td>0.031299</td>\n",
       "      <td>0.190981</td>\n",
       "      <td>10.933055</td>\n",
       "      <td>2.1286</td>\n",
       "      <td>0.026322</td>\n",
       "      <td>0.158629</td>\n",
       "      <td>-2.7348</td>\n",
       "    </tr>\n",
       "    <tr>\n",
       "      <th>T15A</th>\n",
       "      <td>0.001868</td>\n",
       "      <td>0.0</td>\n",
       "      <td>0.013679</td>\n",
       "      <td>-9.556874</td>\n",
       "      <td>0.582336</td>\n",
       "      <td>0.0</td>\n",
       "      <td>3.523524</td>\n",
       "      <td>-4.480659</td>\n",
       "      <td>-0.267133</td>\n",
       "      <td>-0.281258</td>\n",
       "      <td>...</td>\n",
       "      <td>10.226297</td>\n",
       "      <td>-1.071627</td>\n",
       "      <td>5.25945</td>\n",
       "      <td>0.031299</td>\n",
       "      <td>0.190981</td>\n",
       "      <td>10.933055</td>\n",
       "      <td>2.1286</td>\n",
       "      <td>0.026322</td>\n",
       "      <td>0.158629</td>\n",
       "      <td>-2.7348</td>\n",
       "    </tr>\n",
       "    <tr>\n",
       "      <th>S16A</th>\n",
       "      <td>0.001868</td>\n",
       "      <td>0.0</td>\n",
       "      <td>0.013679</td>\n",
       "      <td>-9.556874</td>\n",
       "      <td>0.582336</td>\n",
       "      <td>0.0</td>\n",
       "      <td>3.523524</td>\n",
       "      <td>-4.480659</td>\n",
       "      <td>-0.267133</td>\n",
       "      <td>-0.281258</td>\n",
       "      <td>...</td>\n",
       "      <td>10.226297</td>\n",
       "      <td>-1.071627</td>\n",
       "      <td>5.25945</td>\n",
       "      <td>0.031299</td>\n",
       "      <td>0.190981</td>\n",
       "      <td>10.933055</td>\n",
       "      <td>2.1286</td>\n",
       "      <td>0.026322</td>\n",
       "      <td>0.158629</td>\n",
       "      <td>-2.7348</td>\n",
       "    </tr>\n",
       "    <tr>\n",
       "      <th>S17A</th>\n",
       "      <td>0.001868</td>\n",
       "      <td>0.0</td>\n",
       "      <td>0.013679</td>\n",
       "      <td>-9.556874</td>\n",
       "      <td>0.582336</td>\n",
       "      <td>0.0</td>\n",
       "      <td>3.523524</td>\n",
       "      <td>-4.480659</td>\n",
       "      <td>-0.267133</td>\n",
       "      <td>-0.281258</td>\n",
       "      <td>...</td>\n",
       "      <td>10.226297</td>\n",
       "      <td>-1.071627</td>\n",
       "      <td>5.25945</td>\n",
       "      <td>0.031299</td>\n",
       "      <td>0.190981</td>\n",
       "      <td>10.933055</td>\n",
       "      <td>2.1286</td>\n",
       "      <td>0.026322</td>\n",
       "      <td>0.158629</td>\n",
       "      <td>-2.7348</td>\n",
       "    </tr>\n",
       "    <tr>\n",
       "      <th>S17E</th>\n",
       "      <td>0.001868</td>\n",
       "      <td>0.0</td>\n",
       "      <td>0.013679</td>\n",
       "      <td>-9.556874</td>\n",
       "      <td>0.582336</td>\n",
       "      <td>0.0</td>\n",
       "      <td>3.523524</td>\n",
       "      <td>-4.480659</td>\n",
       "      <td>-0.267133</td>\n",
       "      <td>-0.281258</td>\n",
       "      <td>...</td>\n",
       "      <td>10.226297</td>\n",
       "      <td>-1.071627</td>\n",
       "      <td>5.25945</td>\n",
       "      <td>0.031299</td>\n",
       "      <td>0.190981</td>\n",
       "      <td>10.933055</td>\n",
       "      <td>2.1286</td>\n",
       "      <td>0.026322</td>\n",
       "      <td>0.158629</td>\n",
       "      <td>-2.7348</td>\n",
       "    </tr>\n",
       "  </tbody>\n",
       "</table>\n",
       "<p>5 rows × 83 columns</p>\n",
       "</div>"
      ],
      "text/plain": [
       "             acid_base__angle_constraint  acid_base__atom_pair_constraint  \\\n",
       "mutant_name                                                                 \n",
       "S14A                            0.001868                              0.0   \n",
       "T15A                            0.001868                              0.0   \n",
       "S16A                            0.001868                              0.0   \n",
       "S17A                            0.001868                              0.0   \n",
       "S17E                            0.001868                              0.0   \n",
       "\n",
       "             acid_base__dihedral_constraint  acid_base__fa_atr  \\\n",
       "mutant_name                                                      \n",
       "S14A                               0.013679          -9.556874   \n",
       "T15A                               0.013679          -9.556874   \n",
       "S16A                               0.013679          -9.556874   \n",
       "S17A                               0.013679          -9.556874   \n",
       "S17E                               0.013679          -9.556874   \n",
       "\n",
       "             acid_base__fa_dun_dev  acid_base__fa_dun_rot  \\\n",
       "mutant_name                                                 \n",
       "S14A                      0.582336                    0.0   \n",
       "T15A                      0.582336                    0.0   \n",
       "S16A                      0.582336                    0.0   \n",
       "S17A                      0.582336                    0.0   \n",
       "S17E                      0.582336                    0.0   \n",
       "\n",
       "             acid_base__fa_dun_semi  acid_base__fa_elec  \\\n",
       "mutant_name                                               \n",
       "S14A                       3.523524           -4.480659   \n",
       "T15A                       3.523524           -4.480659   \n",
       "S16A                       3.523524           -4.480659   \n",
       "S17A                       3.523524           -4.480659   \n",
       "S17E                       3.523524           -4.480659   \n",
       "\n",
       "             acid_base__fa_intra_atr_xover4  acid_base__fa_intra_elec  \\\n",
       "mutant_name                                                             \n",
       "S14A                              -0.267133                 -0.281258   \n",
       "T15A                              -0.267133                 -0.281258   \n",
       "S16A                              -0.267133                 -0.281258   \n",
       "S17A                              -0.267133                 -0.281258   \n",
       "S17E                              -0.267133                 -0.281258   \n",
       "\n",
       "                   ...         nucleophile__fa_sol  nucleophile__hbond_sc  \\\n",
       "mutant_name        ...                                                      \n",
       "S14A               ...                   10.226297              -1.071627   \n",
       "T15A               ...                   10.226297              -1.071627   \n",
       "S16A               ...                   10.226297              -1.071627   \n",
       "S17A               ...                   10.226297              -1.071627   \n",
       "S17E               ...                   10.226297              -1.071627   \n",
       "\n",
       "             nucleophile__lk_ball  nucleophile__lk_ball_bridge  \\\n",
       "mutant_name                                                      \n",
       "S14A                      5.25945                     0.031299   \n",
       "T15A                      5.25945                     0.031299   \n",
       "S16A                      5.25945                     0.031299   \n",
       "S17A                      5.25945                     0.031299   \n",
       "S17E                      5.25945                     0.031299   \n",
       "\n",
       "             nucleophile__lk_ball_bridge_uncpl  nucleophile__lk_ball_iso  \\\n",
       "mutant_name                                                                \n",
       "S14A                                  0.190981                 10.933055   \n",
       "T15A                                  0.190981                 10.933055   \n",
       "S16A                                  0.190981                 10.933055   \n",
       "S17A                                  0.190981                 10.933055   \n",
       "S17E                                  0.190981                 10.933055   \n",
       "\n",
       "             nucleophile__omega  nucleophile__p_aa_pp  \\\n",
       "mutant_name                                             \n",
       "S14A                     2.1286              0.026322   \n",
       "T15A                     2.1286              0.026322   \n",
       "S16A                     2.1286              0.026322   \n",
       "S17A                     2.1286              0.026322   \n",
       "S17E                     2.1286              0.026322   \n",
       "\n",
       "             nucleophile__rama_prepro  nucleophile__ref  \n",
       "mutant_name                                              \n",
       "S14A                         0.158629           -2.7348  \n",
       "T15A                         0.158629           -2.7348  \n",
       "S16A                         0.158629           -2.7348  \n",
       "S17A                         0.158629           -2.7348  \n",
       "S17E                         0.158629           -2.7348  \n",
       "\n",
       "[5 rows x 83 columns]"
      ]
     },
     "execution_count": 16,
     "metadata": {},
     "output_type": "execute_result"
    }
   ],
   "source": [
    "features.head()"
   ]
  },
  {
   "cell_type": "code",
   "execution_count": 17,
   "metadata": {
    "collapsed": true
   },
   "outputs": [],
   "source": [
    "from sklearn import linear_model"
   ]
  },
  {
   "cell_type": "code",
   "execution_count": 18,
   "metadata": {},
   "outputs": [
    {
     "name": "stdout",
     "output_type": "stream",
     "text": [
      "                               r     abs_r\n",
      "backup__fa_elec        -0.160575  0.160575\n",
      "backup__fa_atr         -0.159707  0.159707\n",
      "acid_base__rama_prepro  0.156187  0.156187\n",
      "acid_base__fa_rep       0.147509  0.147509\n",
      "nucleophile__hbond_sc   0.144601  0.144601\n",
      "kcat (118, 84) (118, 83) (118,)\n",
      "                            r     abs_r\n",
      "backup__lk_ball_iso -0.249992  0.249992\n",
      "backup__lk_ball     -0.249054  0.249054\n",
      "backup__fa_sol      -0.247021  0.247021\n",
      "backup__fa_elec      0.237394  0.237394\n",
      "backup__fa_atr       0.226428  0.226428\n",
      "km (118, 84) (118, 83) (118,)\n",
      "                            r     abs_r\n",
      "backup__fa_elec     -0.216691  0.216691\n",
      "backup__fa_atr      -0.211008  0.211008\n",
      "backup__lk_ball_iso  0.205523  0.205523\n",
      "backup__lk_ball      0.202632  0.202632\n",
      "backup__fa_sol       0.189564  0.189564\n",
      "kcatkm (118, 84) (118, 83) (118,)\n"
     ]
    }
   ],
   "source": [
    "targets = 'kcat km kcatkm'.split()\n",
    "results = {}\n",
    "scaler = preprocessing.StandardScaler()\n",
    "for target_name in targets:\n",
    "    J = df[[target_name]].join(features).dropna()\n",
    "    c = J.corr()[[target_name]].drop([target_name], axis=0)\n",
    "    c.columns = ['r']\n",
    "    c['abs_r'] = c.r.map(abs) \n",
    "    c = c.sort_values('abs_r', ascending=False)\n",
    "    print(c.head(5))\n",
    "    X = scaler.fit_transform(J.iloc[:, 1:])\n",
    "    y = J.iloc[:, 0].ravel()\n",
    "    print(target_name, J.shape, X.shape, y.shape)\n",
    "    clf = linear_model.ElasticNetCV(l1_ratio=[0.5, 0.9], cv=10, max_iter=1e5)\n",
    "    clf.fit(X, y) \n",
    "    preds = clf.predict(X)\n",
    "    pkg = {'y': y, 'pred': preds}\n",
    "    results.update({target_name: pkg})"
   ]
  },
  {
   "cell_type": "code",
   "execution_count": 19,
   "metadata": {},
   "outputs": [
    {
     "data": {
      "image/png": "[encoded data removed]",
      "text/plain": [
       "<matplotlib.figure.Figure at 0x1256a2208>"
      ]
     },
     "metadata": {},
     "output_type": "display_data"
    }
   ],
   "source": [
    "# plot results \n",
    "fig, ax = plt.subplots(1, 3)\n",
    "for n, target_name in enumerate(targets):\n",
    "    data = results[target_name]\n",
    "    ax[n].scatter(data['y'], data['pred']) "
   ]
  },
  {
   "cell_type": "code",
   "execution_count": null,
   "metadata": {
    "collapsed": true
   },
   "outputs": [],
   "source": []
  },
  {
   "cell_type": "code",
   "execution_count": null,
   "metadata": {
    "collapsed": true
   },
   "outputs": [],
   "source": []
  },
  {
   "cell_type": "code",
   "execution_count": null,
   "metadata": {
    "collapsed": true
   },
   "outputs": [],
   "source": []
  },
  {
   "cell_type": "code",
   "execution_count": null,
   "metadata": {
    "collapsed": true
   },
   "outputs": [],
   "source": []
  },
  {
   "cell_type": "code",
   "execution_count": null,
   "metadata": {
    "collapsed": true
   },
   "outputs": [],
   "source": []
  },
  {
   "cell_type": "code",
   "execution_count": null,
   "metadata": {
    "collapsed": true
   },
   "outputs": [],
   "source": []
  },
  {
   "cell_type": "code",
   "execution_count": null,
   "metadata": {
    "collapsed": true
   },
   "outputs": [],
   "source": []
  },
  {
   "cell_type": "code",
   "execution_count": null,
   "metadata": {
    "collapsed": true
   },
   "outputs": [],
   "source": []
  },
  {
   "cell_type": "code",
   "execution_count": null,
   "metadata": {
    "collapsed": true
   },
   "outputs": [],
   "source": []
  },
  {
   "cell_type": "code",
   "execution_count": null,
   "metadata": {
    "collapsed": true
   },
   "outputs": [],
   "source": []
  },
  {
   "cell_type": "code",
   "execution_count": null,
   "metadata": {
    "collapsed": true
   },
   "outputs": [],
   "source": []
  },
  {
   "cell_type": "code",
   "execution_count": null,
   "metadata": {
    "collapsed": true
   },
   "outputs": [],
   "source": []
  },
  {
   "cell_type": "code",
   "execution_count": null,
   "metadata": {
    "collapsed": true
   },
   "outputs": [],
   "source": []
  },
  {
   "cell_type": "code",
   "execution_count": null,
   "metadata": {
    "collapsed": true
   },
   "outputs": [],
   "source": []
  }
 ],
 "metadata": {
  "kernelspec": {
   "display_name": "Python [conda env:rose]",
   "language": "python",
   "name": "conda-env-rose-py"
  },
  "language_info": {
   "codemirror_mode": {
    "name": "ipython",
    "version": 3
   },
   "file_extension": ".py",
   "mimetype": "text/x-python",
   "name": "python",
   "nbconvert_exporter": "python",
   "pygments_lexer": "ipython3",
   "version": "3.5.2"
  }
 },
 "nbformat": 4,
 "nbformat_minor": 2
}
