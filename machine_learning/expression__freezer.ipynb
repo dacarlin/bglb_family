{
 "cells": [
  {
   "cell_type": "code",
   "execution_count": 46,
   "metadata": {
    "collapsed": true
   },
   "outputs": [],
   "source": [
    "import pandas \n",
    "%matplotlib inline\n",
    "import matplotlib.pyplot as plt \n",
    "import seaborn as sns \n",
    "\n",
    "from sklearn import preprocessing, svm, metrics, model_selection"
   ]
  },
  {
   "cell_type": "code",
   "execution_count": 80,
   "metadata": {},
   "outputs": [
    {
     "name": "stdout",
     "output_type": "stream",
     "text": [
      "(170, 12)\n"
     ]
    },
    {
     "data": {
      "text/html": [
       "<div>\n",
       "<table border=\"1\" class=\"dataframe\">\n",
       "  <thead>\n",
       "    <tr style=\"text-align: right;\">\n",
       "      <th></th>\n",
       "      <th>Organism</th>\n",
       "      <th>Kindgom</th>\n",
       "      <th>Sol_exp_(mg/ml)</th>\n",
       "      <th>Cellobiose_binary(Act)</th>\n",
       "      <th>Cellobiose_therm_binary</th>\n",
       "      <th>pH7_40</th>\n",
       "      <th>pH4_40</th>\n",
       "      <th>pH7_60</th>\n",
       "      <th>pH7_80</th>\n",
       "      <th>pH4_80</th>\n",
       "      <th>pH7_80_pre80</th>\n",
       "      <th>pH7_90_pre90</th>\n",
       "    </tr>\n",
       "    <tr>\n",
       "      <th>gene</th>\n",
       "      <th></th>\n",
       "      <th></th>\n",
       "      <th></th>\n",
       "      <th></th>\n",
       "      <th></th>\n",
       "      <th></th>\n",
       "      <th></th>\n",
       "      <th></th>\n",
       "      <th></th>\n",
       "      <th></th>\n",
       "      <th></th>\n",
       "      <th></th>\n",
       "    </tr>\n",
       "  </thead>\n",
       "  <tbody>\n",
       "    <tr>\n",
       "      <th>SDJGI_31</th>\n",
       "      <td>Picrophilus torridus DSM 9790</td>\n",
       "      <td>Archaea</td>\n",
       "      <td>0.010014</td>\n",
       "      <td>0.0</td>\n",
       "      <td>0.0</td>\n",
       "      <td>0.043767</td>\n",
       "      <td>0.042467</td>\n",
       "      <td>0.042100</td>\n",
       "      <td>0.040767</td>\n",
       "      <td>0.041400</td>\n",
       "      <td>0.04085</td>\n",
       "      <td>0.041333</td>\n",
       "    </tr>\n",
       "    <tr>\n",
       "      <th>SDJGI_139</th>\n",
       "      <td>Thermoplasma volcanium GSS1</td>\n",
       "      <td>Archaea</td>\n",
       "      <td>0.399383</td>\n",
       "      <td>1.0</td>\n",
       "      <td>1.0</td>\n",
       "      <td>1.111767</td>\n",
       "      <td>1.494767</td>\n",
       "      <td>1.898033</td>\n",
       "      <td>1.949733</td>\n",
       "      <td>1.498800</td>\n",
       "      <td>2.11665</td>\n",
       "      <td>0.045933</td>\n",
       "    </tr>\n",
       "    <tr>\n",
       "      <th>SDJGI_35</th>\n",
       "      <td>Magnaporthe grisea Y34</td>\n",
       "      <td>Eukaryote</td>\n",
       "      <td>0.012451</td>\n",
       "      <td>0.0</td>\n",
       "      <td>0.0</td>\n",
       "      <td>0.040667</td>\n",
       "      <td>0.040733</td>\n",
       "      <td>0.040500</td>\n",
       "      <td>0.040533</td>\n",
       "      <td>0.042033</td>\n",
       "      <td>0.04080</td>\n",
       "      <td>0.041333</td>\n",
       "    </tr>\n",
       "    <tr>\n",
       "      <th>SDJGI_137</th>\n",
       "      <td>Thermococcus kodakarensis KOD1</td>\n",
       "      <td>Archaea</td>\n",
       "      <td>0.004728</td>\n",
       "      <td>0.0</td>\n",
       "      <td>0.0</td>\n",
       "      <td>0.041167</td>\n",
       "      <td>0.041233</td>\n",
       "      <td>0.040867</td>\n",
       "      <td>0.041000</td>\n",
       "      <td>0.042533</td>\n",
       "      <td>0.04190</td>\n",
       "      <td>0.042100</td>\n",
       "    </tr>\n",
       "    <tr>\n",
       "      <th>SDJGI_42</th>\n",
       "      <td>Saccharophagus degradans 2-40</td>\n",
       "      <td>Bacteria</td>\n",
       "      <td>0.281507</td>\n",
       "      <td>1.0</td>\n",
       "      <td>0.0</td>\n",
       "      <td>1.795000</td>\n",
       "      <td>0.701667</td>\n",
       "      <td>1.006167</td>\n",
       "      <td>1.276900</td>\n",
       "      <td>0.511700</td>\n",
       "      <td>0.04050</td>\n",
       "      <td>0.041500</td>\n",
       "    </tr>\n",
       "  </tbody>\n",
       "</table>\n",
       "</div>"
      ],
      "text/plain": [
       "                                 Organism    Kindgom  Sol_exp_(mg/ml)  \\\n",
       "gene                                                                    \n",
       "SDJGI_31    Picrophilus torridus DSM 9790    Archaea         0.010014   \n",
       "SDJGI_139     Thermoplasma volcanium GSS1    Archaea         0.399383   \n",
       "SDJGI_35           Magnaporthe grisea Y34  Eukaryote         0.012451   \n",
       "SDJGI_137  Thermococcus kodakarensis KOD1    Archaea         0.004728   \n",
       "SDJGI_42    Saccharophagus degradans 2-40   Bacteria         0.281507   \n",
       "\n",
       "           Cellobiose_binary(Act)  Cellobiose_therm_binary    pH7_40  \\\n",
       "gene                                                                   \n",
       "SDJGI_31                      0.0                      0.0  0.043767   \n",
       "SDJGI_139                     1.0                      1.0  1.111767   \n",
       "SDJGI_35                      0.0                      0.0  0.040667   \n",
       "SDJGI_137                     0.0                      0.0  0.041167   \n",
       "SDJGI_42                      1.0                      0.0  1.795000   \n",
       "\n",
       "             pH4_40    pH7_60    pH7_80    pH4_80  pH7_80_pre80  pH7_90_pre90  \n",
       "gene                                                                           \n",
       "SDJGI_31   0.042467  0.042100  0.040767  0.041400       0.04085      0.041333  \n",
       "SDJGI_139  1.494767  1.898033  1.949733  1.498800       2.11665      0.045933  \n",
       "SDJGI_35   0.040733  0.040500  0.040533  0.042033       0.04080      0.041333  \n",
       "SDJGI_137  0.041233  0.040867  0.041000  0.042533       0.04190      0.042100  \n",
       "SDJGI_42   0.701667  1.006167  1.276900  0.511700       0.04050      0.041500  "
      ]
     },
     "execution_count": 80,
     "metadata": {},
     "output_type": "execute_result"
    }
   ],
   "source": [
    "df = pandas.read_excel('../data_sets/family_1_in_freezer/GH1_data_JS.xlsx', index_col='gene')\n",
    "df = df.drop(['PDB', 'Sorting', 'Name', 'Sequence'], axis=1).dropna()\n",
    "print(df.shape)\n",
    "df.head()"
   ]
  },
  {
   "cell_type": "code",
   "execution_count": 48,
   "metadata": {},
   "outputs": [
    {
     "name": "stdout",
     "output_type": "stream",
     "text": [
      "/home/carlin/.bashrc: line 3: bind: warning: line editing not enabled\n",
      "receiving file list ... done\n",
      "\n",
      "sent 16 bytes  received 93 bytes  72.67 bytes/sec\n",
      "total size is 854800  speedup is 7842.20\n"
     ]
    }
   ],
   "source": [
    "#! rsync -avz ca:/share/work/alex/bglb_family/pipeline/features.csv . "
   ]
  },
  {
   "cell_type": "code",
   "execution_count": 81,
   "metadata": {},
   "outputs": [
    {
     "data": {
      "text/plain": [
       "(164, 73)"
      ]
     },
     "execution_count": 81,
     "metadata": {},
     "output_type": "execute_result"
    }
   ],
   "source": [
    "f = pandas.read_csv('features.csv', index_col='id')\n",
    "df = df.join(f).dropna()\n",
    "df.shape"
   ]
  },
  {
   "cell_type": "code",
   "execution_count": 82,
   "metadata": {},
   "outputs": [
    {
     "data": {
      "text/plain": [
       "[<matplotlib.lines.Line2D at 0x11cd1bfd0>]"
      ]
     },
     "execution_count": 82,
     "metadata": {},
     "output_type": "execute_result"
    },
    {
     "data": {
      "image/png": "[encoded data removed]",
      "text/plain": [
       "<matplotlib.figure.Figure at 0x11caaf4e0>"
      ]
     },
     "metadata": {},
     "output_type": "display_data"
    }
   ],
   "source": [
    "df['Sol_exp_(mg/ml)'].hist(bins=50).plot((0.035, 0.035), (0, 100), '--')"
   ]
  },
  {
   "cell_type": "code",
   "execution_count": 83,
   "metadata": {},
   "outputs": [
    {
     "data": {
      "text/html": [
       "<div>\n",
       "<table border=\"1\" class=\"dataframe\">\n",
       "  <thead>\n",
       "    <tr style=\"text-align: right;\">\n",
       "      <th></th>\n",
       "      <th>Organism</th>\n",
       "      <th>Kindgom</th>\n",
       "      <th>Sol_exp_(mg/ml)</th>\n",
       "      <th>Cellobiose_binary(Act)</th>\n",
       "      <th>Cellobiose_therm_binary</th>\n",
       "      <th>pH7_40</th>\n",
       "      <th>pH4_40</th>\n",
       "      <th>pH7_60</th>\n",
       "      <th>pH7_80</th>\n",
       "      <th>pH4_80</th>\n",
       "      <th>...</th>\n",
       "      <th>SR_5_total_score</th>\n",
       "      <th>SR_5_fa_rep</th>\n",
       "      <th>SR_5_hbond_sc</th>\n",
       "      <th>SR_5_all_cst</th>\n",
       "      <th>SR_5_interf_E_1_2</th>\n",
       "      <th>SR_5_dsasa_1_2</th>\n",
       "      <th>SR_5_hbond_pm</th>\n",
       "      <th>SR_5_burunsat_pm</th>\n",
       "      <th>description</th>\n",
       "      <th>expression</th>\n",
       "    </tr>\n",
       "  </thead>\n",
       "  <tbody>\n",
       "    <tr>\n",
       "      <th>SDJGI_1</th>\n",
       "      <td>Trifolium repens</td>\n",
       "      <td>Eukaryote</td>\n",
       "      <td>0.015022</td>\n",
       "      <td>0.0</td>\n",
       "      <td>0.0</td>\n",
       "      <td>0.039767</td>\n",
       "      <td>0.040133</td>\n",
       "      <td>0.039633</td>\n",
       "      <td>0.040033</td>\n",
       "      <td>0.041233</td>\n",
       "      <td>...</td>\n",
       "      <td>1.55</td>\n",
       "      <td>4.78</td>\n",
       "      <td>0.00</td>\n",
       "      <td>720.42</td>\n",
       "      <td>7.10</td>\n",
       "      <td>0.32</td>\n",
       "      <td>1.0</td>\n",
       "      <td>0.0</td>\n",
       "      <td>input_pose_0002</td>\n",
       "      <td>0.0</td>\n",
       "    </tr>\n",
       "    <tr>\n",
       "      <th>SDJGI_10</th>\n",
       "      <td>Zea mays</td>\n",
       "      <td>Eukaryote</td>\n",
       "      <td>0.008643</td>\n",
       "      <td>0.0</td>\n",
       "      <td>0.0</td>\n",
       "      <td>0.041333</td>\n",
       "      <td>0.041700</td>\n",
       "      <td>0.040933</td>\n",
       "      <td>0.041000</td>\n",
       "      <td>0.043533</td>\n",
       "      <td>...</td>\n",
       "      <td>-7.03</td>\n",
       "      <td>5.81</td>\n",
       "      <td>-1.24</td>\n",
       "      <td>0.25</td>\n",
       "      <td>-10.07</td>\n",
       "      <td>0.99</td>\n",
       "      <td>7.0</td>\n",
       "      <td>2.0</td>\n",
       "      <td>input_pose_0010</td>\n",
       "      <td>0.0</td>\n",
       "    </tr>\n",
       "    <tr>\n",
       "      <th>SDJGI_100</th>\n",
       "      <td>Exiguobacterium sp. AT1b</td>\n",
       "      <td>Bacteria</td>\n",
       "      <td>0.000675</td>\n",
       "      <td>0.0</td>\n",
       "      <td>0.0</td>\n",
       "      <td>0.040267</td>\n",
       "      <td>0.040633</td>\n",
       "      <td>0.040067</td>\n",
       "      <td>0.040400</td>\n",
       "      <td>0.041000</td>\n",
       "      <td>...</td>\n",
       "      <td>-3.01</td>\n",
       "      <td>5.73</td>\n",
       "      <td>-0.46</td>\n",
       "      <td>32.41</td>\n",
       "      <td>-2.02</td>\n",
       "      <td>0.95</td>\n",
       "      <td>3.0</td>\n",
       "      <td>2.0</td>\n",
       "      <td>input_pose_0005</td>\n",
       "      <td>0.0</td>\n",
       "    </tr>\n",
       "    <tr>\n",
       "      <th>SDJGI_101</th>\n",
       "      <td>Exiguobacterium sp. AT1b</td>\n",
       "      <td>Bacteria</td>\n",
       "      <td>0.012157</td>\n",
       "      <td>0.0</td>\n",
       "      <td>0.0</td>\n",
       "      <td>0.041100</td>\n",
       "      <td>0.041333</td>\n",
       "      <td>0.043167</td>\n",
       "      <td>0.040267</td>\n",
       "      <td>0.047300</td>\n",
       "      <td>...</td>\n",
       "      <td>-5.43</td>\n",
       "      <td>4.86</td>\n",
       "      <td>-0.94</td>\n",
       "      <td>0.15</td>\n",
       "      <td>-6.85</td>\n",
       "      <td>1.00</td>\n",
       "      <td>2.0</td>\n",
       "      <td>4.0</td>\n",
       "      <td>input_pose_0009</td>\n",
       "      <td>0.0</td>\n",
       "    </tr>\n",
       "    <tr>\n",
       "      <th>SDJGI_103</th>\n",
       "      <td>Thermotogales bacterium TBF 19.5.1</td>\n",
       "      <td>Bacteria</td>\n",
       "      <td>0.018201</td>\n",
       "      <td>0.0</td>\n",
       "      <td>0.0</td>\n",
       "      <td>0.040700</td>\n",
       "      <td>0.040533</td>\n",
       "      <td>0.040167</td>\n",
       "      <td>0.040467</td>\n",
       "      <td>0.040900</td>\n",
       "      <td>...</td>\n",
       "      <td>-7.77</td>\n",
       "      <td>2.82</td>\n",
       "      <td>-1.49</td>\n",
       "      <td>0.31</td>\n",
       "      <td>-11.54</td>\n",
       "      <td>0.94</td>\n",
       "      <td>4.0</td>\n",
       "      <td>1.0</td>\n",
       "      <td>input_pose_0006</td>\n",
       "      <td>0.0</td>\n",
       "    </tr>\n",
       "  </tbody>\n",
       "</table>\n",
       "<p>5 rows × 74 columns</p>\n",
       "</div>"
      ],
      "text/plain": [
       "                                     Organism    Kindgom  Sol_exp_(mg/ml)  \\\n",
       "SDJGI_1                      Trifolium repens  Eukaryote         0.015022   \n",
       "SDJGI_10                             Zea mays  Eukaryote         0.008643   \n",
       "SDJGI_100            Exiguobacterium sp. AT1b   Bacteria         0.000675   \n",
       "SDJGI_101            Exiguobacterium sp. AT1b   Bacteria         0.012157   \n",
       "SDJGI_103  Thermotogales bacterium TBF 19.5.1   Bacteria         0.018201   \n",
       "\n",
       "           Cellobiose_binary(Act)  Cellobiose_therm_binary    pH7_40  \\\n",
       "SDJGI_1                       0.0                      0.0  0.039767   \n",
       "SDJGI_10                      0.0                      0.0  0.041333   \n",
       "SDJGI_100                     0.0                      0.0  0.040267   \n",
       "SDJGI_101                     0.0                      0.0  0.041100   \n",
       "SDJGI_103                     0.0                      0.0  0.040700   \n",
       "\n",
       "             pH4_40    pH7_60    pH7_80    pH4_80     ...      \\\n",
       "SDJGI_1    0.040133  0.039633  0.040033  0.041233     ...       \n",
       "SDJGI_10   0.041700  0.040933  0.041000  0.043533     ...       \n",
       "SDJGI_100  0.040633  0.040067  0.040400  0.041000     ...       \n",
       "SDJGI_101  0.041333  0.043167  0.040267  0.047300     ...       \n",
       "SDJGI_103  0.040533  0.040167  0.040467  0.040900     ...       \n",
       "\n",
       "           SR_5_total_score  SR_5_fa_rep  SR_5_hbond_sc  SR_5_all_cst  \\\n",
       "SDJGI_1                1.55         4.78           0.00        720.42   \n",
       "SDJGI_10              -7.03         5.81          -1.24          0.25   \n",
       "SDJGI_100             -3.01         5.73          -0.46         32.41   \n",
       "SDJGI_101             -5.43         4.86          -0.94          0.15   \n",
       "SDJGI_103             -7.77         2.82          -1.49          0.31   \n",
       "\n",
       "           SR_5_interf_E_1_2  SR_5_dsasa_1_2  SR_5_hbond_pm  SR_5_burunsat_pm  \\\n",
       "SDJGI_1                 7.10            0.32            1.0               0.0   \n",
       "SDJGI_10              -10.07            0.99            7.0               2.0   \n",
       "SDJGI_100              -2.02            0.95            3.0               2.0   \n",
       "SDJGI_101              -6.85            1.00            2.0               4.0   \n",
       "SDJGI_103             -11.54            0.94            4.0               1.0   \n",
       "\n",
       "               description  expression  \n",
       "SDJGI_1    input_pose_0002         0.0  \n",
       "SDJGI_10   input_pose_0010         0.0  \n",
       "SDJGI_100  input_pose_0005         0.0  \n",
       "SDJGI_101  input_pose_0009         0.0  \n",
       "SDJGI_103  input_pose_0006         0.0  \n",
       "\n",
       "[5 rows x 74 columns]"
      ]
     },
     "execution_count": 83,
     "metadata": {},
     "output_type": "execute_result"
    }
   ],
   "source": [
    "scaler = preprocessing.Binarizer(threshold=0.035)\n",
    "df['expression'] = scaler.fit_transform(df[['Sol_exp_(mg/ml)']])\n",
    "df.head()"
   ]
  },
  {
   "cell_type": "code",
   "execution_count": 84,
   "metadata": {},
   "outputs": [
    {
     "data": {
      "text/plain": [
       "<matplotlib.axes._subplots.AxesSubplot at 0x11c9a3a58>"
      ]
     },
     "execution_count": 84,
     "metadata": {},
     "output_type": "execute_result"
    },
    {
     "data": {
      "image/png": "[encoded data removed]",
      "text/plain": [
       "<matplotlib.figure.Figure at 0x11cac7c18>"
      ]
     },
     "metadata": {},
     "output_type": "display_data"
    }
   ],
   "source": [
    "df.expression.hist()"
   ]
  },
  {
   "cell_type": "code",
   "execution_count": 85,
   "metadata": {
    "collapsed": true
   },
   "outputs": [],
   "source": [
    "features = [\n",
    "    'total_score', 'fa_rep', 'hbond_sc',\n",
    "    'all_cst', 'tot_pstat_pm', 'tot_nlpstat_pm', 'tot_burunsat_pm',\n",
    "    'tot_hbond_pm', 'tot_NLconts_pm', 'tot_nlsurfaceE_pm',\n",
    "    'tot_total_charge', 'tot_total_pos_charges', 'tot_total_neg_charges',\n",
    "    'tot_seq_recovery', 'SR_1_total_score', 'SR_1_fa_rep',\n",
    "    'SR_1_hbond_sc', 'SR_1_all_cst', 'SR_1_hbond_pm', 'SR_1_burunsat_pm',\n",
    "    'SR_1_pstat_pm', 'SR_1_nlpstat_pm', 'SR_2_total_score',\n",
    "    'SR_2_fa_rep', 'SR_2_hbond_sc', 'SR_2_all_cst', 'SR_2_hbond_pm',\n",
    "    'SR_2_burunsat_pm', 'SR_2_pstat_pm', 'SR_2_nlpstat_pm', \n",
    "    'SR_3_total_score', 'SR_3_fa_rep', 'SR_3_hbond_sc', 'SR_3_all_cst',\n",
    "    'SR_3_hbond_pm', 'SR_3_burunsat_pm', 'SR_3_pstat_pm', 'SR_3_nlpstat_pm',\n",
    "    'SR_4_total_score', 'SR_4_fa_rep', 'SR_4_hbond_sc',\n",
    "    'SR_4_all_cst', 'SR_4_hbond_pm', 'SR_4_burunsat_pm', 'SR_4_pstat_pm',\n",
    "    'SR_4_nlpstat_pm', 'SR_5_total_score', 'SR_5_fa_rep',\n",
    "    'SR_5_hbond_sc', 'SR_5_all_cst', 'SR_5_interf_E_1_2', 'SR_5_dsasa_1_2',\n",
    "    'SR_5_hbond_pm', 'SR_5_burunsat_pm'\n",
    "]"
   ]
  },
  {
   "cell_type": "code",
   "execution_count": 86,
   "metadata": {},
   "outputs": [
    {
     "data": {
      "text/plain": [
       "((164, 54), (164,))"
      ]
     },
     "execution_count": 86,
     "metadata": {},
     "output_type": "execute_result"
    }
   ],
   "source": [
    "scaler = preprocessing.StandardScaler()\n",
    "X = scaler.fit_transform(df[features])\n",
    "y = df['expression']\n",
    "\n",
    "X.shape, y.shape"
   ]
  },
  {
   "cell_type": "code",
   "execution_count": 91,
   "metadata": {},
   "outputs": [
    {
     "name": "stderr",
     "output_type": "stream",
     "text": [
      "/Users/alex/anaconda3/lib/python3.6/site-packages/matplotlib/figure.py:402: UserWarning: matplotlib is currently using a non-GUI backend, so cannot show the figure\n",
      "  \"matplotlib is currently using a non-GUI backend, \"\n"
     ]
    },
    {
     "data": {
      "image/png": "[encoded data removed]",
      "text/plain": [
       "<matplotlib.figure.Figure at 0x11c9bb2b0>"
      ]
     },
     "metadata": {},
     "output_type": "display_data"
    }
   ],
   "source": [
    "clf = svm.SVC(C=1, probability=1, class_weight='balanced', kernel='rbf')\n",
    "X_train, X_test, y_train, y_test = model_selection.train_test_split(X, y)\n",
    "clf.fit(X_train, y_train) \n",
    "pred = clf.predict(X_test)\n",
    "prob = clf.predict_proba(X_test) \n",
    "fpr, tpr, _ = metrics.roc_curve(y_test, prob[:, 1], pos_label=1) \n",
    "auc = metrics.roc_auc_score(y_test, prob[:, 1]) \n",
    "fig, ax = plt.subplots()\n",
    "ax.plot(fpr, tpr)\n",
    "ax.set_title('AUC {0:2.2}'.format(auc))\n",
    "fig.show()"
   ]
  },
  {
   "cell_type": "code",
   "execution_count": null,
   "metadata": {
    "collapsed": true
   },
   "outputs": [],
   "source": []
  },
  {
   "cell_type": "code",
   "execution_count": null,
   "metadata": {
    "collapsed": true
   },
   "outputs": [],
   "source": []
  },
  {
   "cell_type": "code",
   "execution_count": null,
   "metadata": {
    "collapsed": true
   },
   "outputs": [],
   "source": []
  },
  {
   "cell_type": "code",
   "execution_count": null,
   "metadata": {
    "collapsed": true
   },
   "outputs": [],
   "source": []
  },
  {
   "cell_type": "code",
   "execution_count": null,
   "metadata": {
    "collapsed": true
   },
   "outputs": [],
   "source": []
  },
  {
   "cell_type": "code",
   "execution_count": null,
   "metadata": {
    "collapsed": true
   },
   "outputs": [],
   "source": []
  },
  {
   "cell_type": "code",
   "execution_count": null,
   "metadata": {
    "collapsed": true
   },
   "outputs": [],
   "source": []
  },
  {
   "cell_type": "code",
   "execution_count": null,
   "metadata": {
    "collapsed": true
   },
   "outputs": [],
   "source": []
  },
  {
   "cell_type": "code",
   "execution_count": null,
   "metadata": {
    "collapsed": true
   },
   "outputs": [],
   "source": []
  },
  {
   "cell_type": "code",
   "execution_count": null,
   "metadata": {
    "collapsed": true
   },
   "outputs": [],
   "source": []
  },
  {
   "cell_type": "code",
   "execution_count": null,
   "metadata": {
    "collapsed": true
   },
   "outputs": [],
   "source": []
  }
 ],
 "metadata": {
  "kernelspec": {
   "display_name": "Python [conda root]",
   "language": "python",
   "name": "conda-root-py"
  },
  "language_info": {
   "codemirror_mode": {
    "name": "ipython",
    "version": 3
   },
   "file_extension": ".py",
   "mimetype": "text/x-python",
   "name": "python",
   "nbconvert_exporter": "python",
   "pygments_lexer": "ipython3",
   "version": "3.6.0"
  }
 },
 "nbformat": 4,
 "nbformat_minor": 2
}
