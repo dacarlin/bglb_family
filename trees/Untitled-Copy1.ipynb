{
 "cells": [
  {
   "cell_type": "code",
   "execution_count": 20,
   "metadata": {},
   "outputs": [
    {
     "name": "stdout",
     "output_type": "stream",
     "text": [
      "/Users/alex/Documents/bglb_family/trees\r\n"
     ]
    }
   ],
   "source": [
    "! pwd"
   ]
  },
  {
   "cell_type": "code",
   "execution_count": 30,
   "metadata": {
    "collapsed": true
   },
   "outputs": [],
   "source": [
    "import pandas \n",
    "from Bio import SeqIO\n",
    "from random import choice \n",
    "from sklearn import preprocessing"
   ]
  },
  {
   "cell_type": "code",
   "execution_count": 22,
   "metadata": {},
   "outputs": [
    {
     "name": "stdout",
     "output_type": "stream",
     "text": [
      "/home/carlin/.bashrc: line 3: bind: warning: line editing not enabled\n",
      "receiving file list ... done\n",
      "\n",
      "sent 16 bytes  received 91 bytes  71.33 bytes/sec\n",
      "total size is 2497061  speedup is 23337.02\n"
     ]
    }
   ],
   "source": [
    "! rsync -avz ca:/share/work/alex/bglb_family/completed_pipeline/results.h5 . "
   ]
  },
  {
   "cell_type": "code",
   "execution_count": 23,
   "metadata": {},
   "outputs": [
    {
     "name": "stdout",
     "output_type": "stream",
     "text": [
      "(2393, 60)\n"
     ]
    },
    {
     "data": {
      "text/html": [
       "<div>\n",
       "<table border=\"1\" class=\"dataframe\">\n",
       "  <thead>\n",
       "    <tr style=\"text-align: right;\">\n",
       "      <th></th>\n",
       "      <th>total_score</th>\n",
       "      <th>fa_rep</th>\n",
       "      <th>hbond_sc</th>\n",
       "      <th>all_cst</th>\n",
       "      <th>tot_pstat_pm</th>\n",
       "      <th>tot_nlpstat_pm</th>\n",
       "      <th>tot_burunsat_pm</th>\n",
       "      <th>tot_hbond_pm</th>\n",
       "      <th>tot_NLconts_pm</th>\n",
       "      <th>tot_nlsurfaceE_pm</th>\n",
       "      <th>...</th>\n",
       "      <th>SR_5</th>\n",
       "      <th>SR_5_total_score</th>\n",
       "      <th>SR_5_fa_rep</th>\n",
       "      <th>SR_5_hbond_sc</th>\n",
       "      <th>SR_5_all_cst</th>\n",
       "      <th>SR_5_interf_E_1_2</th>\n",
       "      <th>SR_5_dsasa_1_2</th>\n",
       "      <th>SR_5_hbond_pm</th>\n",
       "      <th>SR_5_burunsat_pm</th>\n",
       "      <th>description</th>\n",
       "    </tr>\n",
       "  </thead>\n",
       "  <tbody>\n",
       "    <tr>\n",
       "      <th>G8TIS3_NIAKG</th>\n",
       "      <td>-2478.91</td>\n",
       "      <td>438.04</td>\n",
       "      <td>-49.04</td>\n",
       "      <td>0.0</td>\n",
       "      <td>0.54</td>\n",
       "      <td>0.53</td>\n",
       "      <td>181.0</td>\n",
       "      <td>376.0</td>\n",
       "      <td>199.0</td>\n",
       "      <td>26.75</td>\n",
       "      <td>...</td>\n",
       "      <td>433.0</td>\n",
       "      <td>-1.05</td>\n",
       "      <td>4.52</td>\n",
       "      <td>-0.09</td>\n",
       "      <td>82.71</td>\n",
       "      <td>1.90</td>\n",
       "      <td>0.99</td>\n",
       "      <td>2.0</td>\n",
       "      <td>5.0</td>\n",
       "      <td>input_pose_0002</td>\n",
       "    </tr>\n",
       "    <tr>\n",
       "      <th>Q7NJ29_GLOVI</th>\n",
       "      <td>-2347.01</td>\n",
       "      <td>585.28</td>\n",
       "      <td>-75.72</td>\n",
       "      <td>0.0</td>\n",
       "      <td>0.57</td>\n",
       "      <td>0.58</td>\n",
       "      <td>172.0</td>\n",
       "      <td>410.0</td>\n",
       "      <td>227.0</td>\n",
       "      <td>19.12</td>\n",
       "      <td>...</td>\n",
       "      <td>446.0</td>\n",
       "      <td>-4.83</td>\n",
       "      <td>6.82</td>\n",
       "      <td>-0.42</td>\n",
       "      <td>6.91</td>\n",
       "      <td>-5.66</td>\n",
       "      <td>0.99</td>\n",
       "      <td>5.0</td>\n",
       "      <td>3.0</td>\n",
       "      <td>input_pose_0002</td>\n",
       "    </tr>\n",
       "    <tr>\n",
       "      <th>A0A0A7LJF4_9BACT</th>\n",
       "      <td>-2413.21</td>\n",
       "      <td>440.24</td>\n",
       "      <td>-51.02</td>\n",
       "      <td>0.0</td>\n",
       "      <td>0.57</td>\n",
       "      <td>0.55</td>\n",
       "      <td>190.0</td>\n",
       "      <td>400.0</td>\n",
       "      <td>215.0</td>\n",
       "      <td>34.18</td>\n",
       "      <td>...</td>\n",
       "      <td>446.0</td>\n",
       "      <td>-3.94</td>\n",
       "      <td>6.84</td>\n",
       "      <td>-2.71</td>\n",
       "      <td>0.10</td>\n",
       "      <td>-3.88</td>\n",
       "      <td>0.97</td>\n",
       "      <td>7.0</td>\n",
       "      <td>1.0</td>\n",
       "      <td>input_pose_0004</td>\n",
       "    </tr>\n",
       "    <tr>\n",
       "      <th>J7Q7X2_METSZ</th>\n",
       "      <td>-2285.90</td>\n",
       "      <td>534.06</td>\n",
       "      <td>-49.92</td>\n",
       "      <td>0.0</td>\n",
       "      <td>0.62</td>\n",
       "      <td>0.62</td>\n",
       "      <td>194.0</td>\n",
       "      <td>372.0</td>\n",
       "      <td>222.0</td>\n",
       "      <td>24.47</td>\n",
       "      <td>...</td>\n",
       "      <td>431.0</td>\n",
       "      <td>-3.21</td>\n",
       "      <td>9.40</td>\n",
       "      <td>0.00</td>\n",
       "      <td>29.36</td>\n",
       "      <td>-2.41</td>\n",
       "      <td>0.98</td>\n",
       "      <td>2.0</td>\n",
       "      <td>4.0</td>\n",
       "      <td>input_pose_0003</td>\n",
       "    </tr>\n",
       "    <tr>\n",
       "      <th>B1ZWE4_OPITP</th>\n",
       "      <td>-1847.26</td>\n",
       "      <td>716.55</td>\n",
       "      <td>-41.60</td>\n",
       "      <td>0.0</td>\n",
       "      <td>0.49</td>\n",
       "      <td>0.49</td>\n",
       "      <td>168.0</td>\n",
       "      <td>352.0</td>\n",
       "      <td>195.0</td>\n",
       "      <td>29.21</td>\n",
       "      <td>...</td>\n",
       "      <td>432.0</td>\n",
       "      <td>-5.69</td>\n",
       "      <td>2.11</td>\n",
       "      <td>-0.96</td>\n",
       "      <td>0.21</td>\n",
       "      <td>-7.37</td>\n",
       "      <td>0.94</td>\n",
       "      <td>3.0</td>\n",
       "      <td>0.0</td>\n",
       "      <td>input_pose_0004</td>\n",
       "    </tr>\n",
       "  </tbody>\n",
       "</table>\n",
       "<p>5 rows × 60 columns</p>\n",
       "</div>"
      ],
      "text/plain": [
       "                  total_score  fa_rep  hbond_sc  all_cst  tot_pstat_pm  \\\n",
       "G8TIS3_NIAKG         -2478.91  438.04    -49.04      0.0          0.54   \n",
       "Q7NJ29_GLOVI         -2347.01  585.28    -75.72      0.0          0.57   \n",
       "A0A0A7LJF4_9BACT     -2413.21  440.24    -51.02      0.0          0.57   \n",
       "J7Q7X2_METSZ         -2285.90  534.06    -49.92      0.0          0.62   \n",
       "B1ZWE4_OPITP         -1847.26  716.55    -41.60      0.0          0.49   \n",
       "\n",
       "                  tot_nlpstat_pm  tot_burunsat_pm  tot_hbond_pm  \\\n",
       "G8TIS3_NIAKG                0.53            181.0         376.0   \n",
       "Q7NJ29_GLOVI                0.58            172.0         410.0   \n",
       "A0A0A7LJF4_9BACT            0.55            190.0         400.0   \n",
       "J7Q7X2_METSZ                0.62            194.0         372.0   \n",
       "B1ZWE4_OPITP                0.49            168.0         352.0   \n",
       "\n",
       "                  tot_NLconts_pm  tot_nlsurfaceE_pm       ...          SR_5  \\\n",
       "G8TIS3_NIAKG               199.0              26.75       ...         433.0   \n",
       "Q7NJ29_GLOVI               227.0              19.12       ...         446.0   \n",
       "A0A0A7LJF4_9BACT           215.0              34.18       ...         446.0   \n",
       "J7Q7X2_METSZ               222.0              24.47       ...         431.0   \n",
       "B1ZWE4_OPITP               195.0              29.21       ...         432.0   \n",
       "\n",
       "                  SR_5_total_score  SR_5_fa_rep  SR_5_hbond_sc  SR_5_all_cst  \\\n",
       "G8TIS3_NIAKG                 -1.05         4.52          -0.09         82.71   \n",
       "Q7NJ29_GLOVI                 -4.83         6.82          -0.42          6.91   \n",
       "A0A0A7LJF4_9BACT             -3.94         6.84          -2.71          0.10   \n",
       "J7Q7X2_METSZ                 -3.21         9.40           0.00         29.36   \n",
       "B1ZWE4_OPITP                 -5.69         2.11          -0.96          0.21   \n",
       "\n",
       "                  SR_5_interf_E_1_2  SR_5_dsasa_1_2  SR_5_hbond_pm  \\\n",
       "G8TIS3_NIAKG                   1.90            0.99            2.0   \n",
       "Q7NJ29_GLOVI                  -5.66            0.99            5.0   \n",
       "A0A0A7LJF4_9BACT              -3.88            0.97            7.0   \n",
       "J7Q7X2_METSZ                  -2.41            0.98            2.0   \n",
       "B1ZWE4_OPITP                  -7.37            0.94            3.0   \n",
       "\n",
       "                  SR_5_burunsat_pm      description  \n",
       "G8TIS3_NIAKG                   5.0  input_pose_0002  \n",
       "Q7NJ29_GLOVI                   3.0  input_pose_0002  \n",
       "A0A0A7LJF4_9BACT               1.0  input_pose_0004  \n",
       "J7Q7X2_METSZ                   4.0  input_pose_0003  \n",
       "B1ZWE4_OPITP                   0.0  input_pose_0004  \n",
       "\n",
       "[5 rows x 60 columns]"
      ]
     },
     "execution_count": 23,
     "metadata": {},
     "output_type": "execute_result"
    }
   ],
   "source": [
    "names = [record.id for record in SeqIO.parse('../alignments/uniq_aln.fa', 'fasta')]\n",
    "\n",
    "df = pandas.read_hdf('results.h5')\n",
    "df = df.loc[names].copy().dropna()\n",
    "print(df.shape)\n",
    "df.head()"
   ]
  },
  {
   "cell_type": "code",
   "execution_count": 33,
   "metadata": {
    "collapsed": true
   },
   "outputs": [],
   "source": [
    "df = df.select_dtypes(['float64'])"
   ]
  },
  {
   "cell_type": "code",
   "execution_count": 34,
   "metadata": {},
   "outputs": [
    {
     "data": {
      "text/html": [
       "<div>\n",
       "<table border=\"1\" class=\"dataframe\">\n",
       "  <thead>\n",
       "    <tr style=\"text-align: right;\">\n",
       "      <th></th>\n",
       "      <th>total_score</th>\n",
       "      <th>fa_rep</th>\n",
       "      <th>hbond_sc</th>\n",
       "      <th>all_cst</th>\n",
       "      <th>tot_pstat_pm</th>\n",
       "      <th>tot_nlpstat_pm</th>\n",
       "      <th>tot_burunsat_pm</th>\n",
       "      <th>tot_hbond_pm</th>\n",
       "      <th>tot_NLconts_pm</th>\n",
       "      <th>tot_nlsurfaceE_pm</th>\n",
       "      <th>...</th>\n",
       "      <th>SR_4_nlpstat_pm</th>\n",
       "      <th>SR_5</th>\n",
       "      <th>SR_5_total_score</th>\n",
       "      <th>SR_5_fa_rep</th>\n",
       "      <th>SR_5_hbond_sc</th>\n",
       "      <th>SR_5_all_cst</th>\n",
       "      <th>SR_5_interf_E_1_2</th>\n",
       "      <th>SR_5_dsasa_1_2</th>\n",
       "      <th>SR_5_hbond_pm</th>\n",
       "      <th>SR_5_burunsat_pm</th>\n",
       "    </tr>\n",
       "  </thead>\n",
       "  <tbody>\n",
       "    <tr>\n",
       "      <th>G8TIS3_NIAKG</th>\n",
       "      <td>0.398728</td>\n",
       "      <td>0.066187</td>\n",
       "      <td>0.885322</td>\n",
       "      <td>0.0</td>\n",
       "      <td>0.214286</td>\n",
       "      <td>0.206897</td>\n",
       "      <td>0.535948</td>\n",
       "      <td>0.153005</td>\n",
       "      <td>0.223404</td>\n",
       "      <td>0.084157</td>\n",
       "      <td>...</td>\n",
       "      <td>0.835294</td>\n",
       "      <td>0.333333</td>\n",
       "      <td>0.013916</td>\n",
       "      <td>0.005054</td>\n",
       "      <td>0.983146</td>\n",
       "      <td>0.094158</td>\n",
       "      <td>0.013916</td>\n",
       "      <td>0.984615</td>\n",
       "      <td>0.2</td>\n",
       "      <td>0.833333</td>\n",
       "    </tr>\n",
       "    <tr>\n",
       "      <th>Q7NJ29_GLOVI</th>\n",
       "      <td>0.437517</td>\n",
       "      <td>0.117520</td>\n",
       "      <td>0.591974</td>\n",
       "      <td>0.0</td>\n",
       "      <td>0.321429</td>\n",
       "      <td>0.379310</td>\n",
       "      <td>0.477124</td>\n",
       "      <td>0.338798</td>\n",
       "      <td>0.372340</td>\n",
       "      <td>0.060144</td>\n",
       "      <td>...</td>\n",
       "      <td>0.858824</td>\n",
       "      <td>0.453704</td>\n",
       "      <td>0.009194</td>\n",
       "      <td>0.007932</td>\n",
       "      <td>0.921348</td>\n",
       "      <td>0.007866</td>\n",
       "      <td>0.009194</td>\n",
       "      <td>0.984615</td>\n",
       "      <td>0.5</td>\n",
       "      <td>0.500000</td>\n",
       "    </tr>\n",
       "    <tr>\n",
       "      <th>A0A0A7LJF4_9BACT</th>\n",
       "      <td>0.418049</td>\n",
       "      <td>0.066954</td>\n",
       "      <td>0.863551</td>\n",
       "      <td>0.0</td>\n",
       "      <td>0.321429</td>\n",
       "      <td>0.275862</td>\n",
       "      <td>0.594771</td>\n",
       "      <td>0.284153</td>\n",
       "      <td>0.308511</td>\n",
       "      <td>0.107541</td>\n",
       "      <td>...</td>\n",
       "      <td>0.611765</td>\n",
       "      <td>0.453704</td>\n",
       "      <td>0.010306</td>\n",
       "      <td>0.007957</td>\n",
       "      <td>0.492509</td>\n",
       "      <td>0.000114</td>\n",
       "      <td>0.010306</td>\n",
       "      <td>0.953846</td>\n",
       "      <td>0.7</td>\n",
       "      <td>0.166667</td>\n",
       "    </tr>\n",
       "    <tr>\n",
       "      <th>J7Q7X2_METSZ</th>\n",
       "      <td>0.455488</td>\n",
       "      <td>0.099663</td>\n",
       "      <td>0.875646</td>\n",
       "      <td>0.0</td>\n",
       "      <td>0.500000</td>\n",
       "      <td>0.517241</td>\n",
       "      <td>0.620915</td>\n",
       "      <td>0.131148</td>\n",
       "      <td>0.345745</td>\n",
       "      <td>0.076981</td>\n",
       "      <td>...</td>\n",
       "      <td>0.435294</td>\n",
       "      <td>0.314815</td>\n",
       "      <td>0.011218</td>\n",
       "      <td>0.011160</td>\n",
       "      <td>1.000000</td>\n",
       "      <td>0.033424</td>\n",
       "      <td>0.011224</td>\n",
       "      <td>0.969231</td>\n",
       "      <td>0.2</td>\n",
       "      <td>0.666667</td>\n",
       "    </tr>\n",
       "    <tr>\n",
       "      <th>B1ZWE4_OPITP</th>\n",
       "      <td>0.584483</td>\n",
       "      <td>0.163284</td>\n",
       "      <td>0.967125</td>\n",
       "      <td>0.0</td>\n",
       "      <td>0.035714</td>\n",
       "      <td>0.068966</td>\n",
       "      <td>0.450980</td>\n",
       "      <td>0.021858</td>\n",
       "      <td>0.202128</td>\n",
       "      <td>0.091899</td>\n",
       "      <td>...</td>\n",
       "      <td>0.811765</td>\n",
       "      <td>0.324074</td>\n",
       "      <td>0.008120</td>\n",
       "      <td>0.002039</td>\n",
       "      <td>0.820225</td>\n",
       "      <td>0.000239</td>\n",
       "      <td>0.008126</td>\n",
       "      <td>0.907692</td>\n",
       "      <td>0.3</td>\n",
       "      <td>0.000000</td>\n",
       "    </tr>\n",
       "  </tbody>\n",
       "</table>\n",
       "<p>5 rows × 59 columns</p>\n",
       "</div>"
      ],
      "text/plain": [
       "                  total_score    fa_rep  hbond_sc  all_cst  tot_pstat_pm  \\\n",
       "G8TIS3_NIAKG         0.398728  0.066187  0.885322      0.0      0.214286   \n",
       "Q7NJ29_GLOVI         0.437517  0.117520  0.591974      0.0      0.321429   \n",
       "A0A0A7LJF4_9BACT     0.418049  0.066954  0.863551      0.0      0.321429   \n",
       "J7Q7X2_METSZ         0.455488  0.099663  0.875646      0.0      0.500000   \n",
       "B1ZWE4_OPITP         0.584483  0.163284  0.967125      0.0      0.035714   \n",
       "\n",
       "                  tot_nlpstat_pm  tot_burunsat_pm  tot_hbond_pm  \\\n",
       "G8TIS3_NIAKG            0.206897         0.535948      0.153005   \n",
       "Q7NJ29_GLOVI            0.379310         0.477124      0.338798   \n",
       "A0A0A7LJF4_9BACT        0.275862         0.594771      0.284153   \n",
       "J7Q7X2_METSZ            0.517241         0.620915      0.131148   \n",
       "B1ZWE4_OPITP            0.068966         0.450980      0.021858   \n",
       "\n",
       "                  tot_NLconts_pm  tot_nlsurfaceE_pm        ...         \\\n",
       "G8TIS3_NIAKG            0.223404           0.084157        ...          \n",
       "Q7NJ29_GLOVI            0.372340           0.060144        ...          \n",
       "A0A0A7LJF4_9BACT        0.308511           0.107541        ...          \n",
       "J7Q7X2_METSZ            0.345745           0.076981        ...          \n",
       "B1ZWE4_OPITP            0.202128           0.091899        ...          \n",
       "\n",
       "                  SR_4_nlpstat_pm      SR_5  SR_5_total_score  SR_5_fa_rep  \\\n",
       "G8TIS3_NIAKG             0.835294  0.333333          0.013916     0.005054   \n",
       "Q7NJ29_GLOVI             0.858824  0.453704          0.009194     0.007932   \n",
       "A0A0A7LJF4_9BACT         0.611765  0.453704          0.010306     0.007957   \n",
       "J7Q7X2_METSZ             0.435294  0.314815          0.011218     0.011160   \n",
       "B1ZWE4_OPITP             0.811765  0.324074          0.008120     0.002039   \n",
       "\n",
       "                  SR_5_hbond_sc  SR_5_all_cst  SR_5_interf_E_1_2  \\\n",
       "G8TIS3_NIAKG           0.983146      0.094158           0.013916   \n",
       "Q7NJ29_GLOVI           0.921348      0.007866           0.009194   \n",
       "A0A0A7LJF4_9BACT       0.492509      0.000114           0.010306   \n",
       "J7Q7X2_METSZ           1.000000      0.033424           0.011224   \n",
       "B1ZWE4_OPITP           0.820225      0.000239           0.008126   \n",
       "\n",
       "                  SR_5_dsasa_1_2  SR_5_hbond_pm  SR_5_burunsat_pm  \n",
       "G8TIS3_NIAKG            0.984615            0.2          0.833333  \n",
       "Q7NJ29_GLOVI            0.984615            0.5          0.500000  \n",
       "A0A0A7LJF4_9BACT        0.953846            0.7          0.166667  \n",
       "J7Q7X2_METSZ            0.969231            0.2          0.666667  \n",
       "B1ZWE4_OPITP            0.907692            0.3          0.000000  \n",
       "\n",
       "[5 rows x 59 columns]"
      ]
     },
     "execution_count": 34,
     "metadata": {},
     "output_type": "execute_result"
    }
   ],
   "source": [
    "scaler = preprocessing.MinMaxScaler()\n",
    "df = pandas.DataFrame(scaler.fit_transform(df), columns=df.columns, index=df.index)\n",
    "df.head()"
   ]
  },
  {
   "cell_type": "code",
   "execution_count": 35,
   "metadata": {},
   "outputs": [
    {
     "data": {
      "text/plain": [
       "Index(['total_score', 'fa_rep', 'hbond_sc', 'all_cst', 'tot_pstat_pm',\n",
       "       'tot_nlpstat_pm', 'tot_burunsat_pm', 'tot_hbond_pm', 'tot_NLconts_pm',\n",
       "       'tot_nlsurfaceE_pm', 'tot_total_charge', 'tot_total_pos_charges',\n",
       "       'tot_total_neg_charges', 'tot_seq_recovery', 'SR_1', 'SR_1_total_score',\n",
       "       'SR_1_fa_rep', 'SR_1_hbond_sc', 'SR_1_all_cst', 'SR_1_hbond_pm',\n",
       "       'SR_1_burunsat_pm', 'SR_1_pstat_pm', 'SR_1_nlpstat_pm', 'SR_2',\n",
       "       'SR_2_total_score', 'SR_2_fa_rep', 'SR_2_hbond_sc', 'SR_2_all_cst',\n",
       "       'SR_2_hbond_pm', 'SR_2_burunsat_pm', 'SR_2_pstat_pm', 'SR_2_nlpstat_pm',\n",
       "       'SR_3', 'SR_3_total_score', 'SR_3_fa_rep', 'SR_3_hbond_sc',\n",
       "       'SR_3_all_cst', 'SR_3_hbond_pm', 'SR_3_burunsat_pm', 'SR_3_pstat_pm',\n",
       "       'SR_3_nlpstat_pm', 'SR_4', 'SR_4_total_score', 'SR_4_fa_rep',\n",
       "       'SR_4_hbond_sc', 'SR_4_all_cst', 'SR_4_hbond_pm', 'SR_4_burunsat_pm',\n",
       "       'SR_4_pstat_pm', 'SR_4_nlpstat_pm', 'SR_5', 'SR_5_total_score',\n",
       "       'SR_5_fa_rep', 'SR_5_hbond_sc', 'SR_5_all_cst', 'SR_5_interf_E_1_2',\n",
       "       'SR_5_dsasa_1_2', 'SR_5_hbond_pm', 'SR_5_burunsat_pm'],\n",
       "      dtype='object')"
      ]
     },
     "execution_count": 35,
     "metadata": {},
     "output_type": "execute_result"
    }
   ],
   "source": [
    "df.columns"
   ]
  },
  {
   "cell_type": "code",
   "execution_count": 36,
   "metadata": {},
   "outputs": [],
   "source": [
    "header = '''\n",
    "clade_marker_size\\t0\n",
    "ASCB_ECOLI\\tring_height\\t1\\t40.00\n",
    "*\\tring_color\\t1\\tgreen\n",
    "*\\tring_color\\t3\\torange\n",
    "\n",
    "'''\n",
    "\n",
    "template = '''\n",
    "{index}\\tring_height\\t1\\t{ring_height1}\n",
    "{index}\\tring_height\\t2\\t{ring_height2}\n",
    "{index}\\tring_height\\t3\\t{ring_height3}'''\n",
    "\n",
    "def annotate(df):\n",
    "    for idx, row in df.iterrows():\n",
    "        pkg = {\n",
    "            'index': idx,\n",
    "            'ring_height1': row.total_score, \n",
    "            'ring_height2': row.SR_5_interf_E_1_2, \n",
    "            'ring_height3': row.SR_4_fa_rep, \n",
    "        }\n",
    "\n",
    "        annotation = template.format(**pkg)\n",
    "        yield annotation \n",
    "\n",
    "with open('annot.txt', 'w') as fn:\n",
    "    fn.write(header)\n",
    "    fn.write(''.join(annotate(df)))\n"
   ]
  },
  {
   "cell_type": "code",
   "execution_count": 37,
   "metadata": {},
   "outputs": [
    {
     "name": "stdout",
     "output_type": "stream",
     "text": [
      "\r\n",
      "clade_marker_size\t0\r\n",
      "ASCB_ECOLI\tring_height\t1\t40.00\r\n",
      "*\tring_color\t1\tgreen\r\n",
      "*\tring_color\t3\torange\r\n",
      "\r\n",
      "\r\n",
      "G8TIS3_NIAKG\tring_height\t1\t0.3987278116949571\r\n",
      "G8TIS3_NIAKG\tring_height\t2\t0.013916389234161362\r\n",
      "G8TIS3_NIAKG\tring_height\t3\t0.0008823039786915264\r\n"
     ]
    }
   ],
   "source": [
    "! head annot.txt"
   ]
  },
  {
   "cell_type": "code",
   "execution_count": 38,
   "metadata": {
    "scrolled": false
   },
   "outputs": [],
   "source": [
    "! bash run.sh && open out.png"
   ]
  },
  {
   "cell_type": "code",
   "execution_count": null,
   "metadata": {
    "collapsed": true
   },
   "outputs": [],
   "source": []
  },
  {
   "cell_type": "code",
   "execution_count": null,
   "metadata": {
    "collapsed": true
   },
   "outputs": [],
   "source": []
  },
  {
   "cell_type": "code",
   "execution_count": null,
   "metadata": {
    "collapsed": true
   },
   "outputs": [],
   "source": []
  },
  {
   "cell_type": "code",
   "execution_count": null,
   "metadata": {
    "collapsed": true
   },
   "outputs": [],
   "source": []
  },
  {
   "cell_type": "code",
   "execution_count": null,
   "metadata": {
    "collapsed": true
   },
   "outputs": [],
   "source": []
  },
  {
   "cell_type": "code",
   "execution_count": null,
   "metadata": {
    "collapsed": true
   },
   "outputs": [],
   "source": []
  },
  {
   "cell_type": "code",
   "execution_count": null,
   "metadata": {
    "collapsed": true
   },
   "outputs": [],
   "source": []
  },
  {
   "cell_type": "code",
   "execution_count": null,
   "metadata": {
    "collapsed": true
   },
   "outputs": [],
   "source": []
  },
  {
   "cell_type": "code",
   "execution_count": null,
   "metadata": {
    "collapsed": true
   },
   "outputs": [],
   "source": []
  },
  {
   "cell_type": "code",
   "execution_count": null,
   "metadata": {
    "collapsed": true
   },
   "outputs": [],
   "source": []
  },
  {
   "cell_type": "code",
   "execution_count": null,
   "metadata": {
    "collapsed": true
   },
   "outputs": [],
   "source": []
  },
  {
   "cell_type": "code",
   "execution_count": null,
   "metadata": {
    "collapsed": true
   },
   "outputs": [],
   "source": []
  },
  {
   "cell_type": "code",
   "execution_count": null,
   "metadata": {
    "collapsed": true
   },
   "outputs": [],
   "source": []
  },
  {
   "cell_type": "code",
   "execution_count": null,
   "metadata": {
    "collapsed": true
   },
   "outputs": [],
   "source": []
  },
  {
   "cell_type": "code",
   "execution_count": null,
   "metadata": {
    "collapsed": true
   },
   "outputs": [],
   "source": []
  },
  {
   "cell_type": "code",
   "execution_count": null,
   "metadata": {
    "collapsed": true
   },
   "outputs": [],
   "source": []
  },
  {
   "cell_type": "code",
   "execution_count": null,
   "metadata": {
    "collapsed": true
   },
   "outputs": [],
   "source": []
  },
  {
   "cell_type": "code",
   "execution_count": null,
   "metadata": {
    "collapsed": true
   },
   "outputs": [],
   "source": []
  },
  {
   "cell_type": "code",
   "execution_count": null,
   "metadata": {
    "collapsed": true
   },
   "outputs": [],
   "source": []
  },
  {
   "cell_type": "code",
   "execution_count": null,
   "metadata": {
    "collapsed": true
   },
   "outputs": [],
   "source": []
  },
  {
   "cell_type": "code",
   "execution_count": null,
   "metadata": {
    "collapsed": true
   },
   "outputs": [],
   "source": []
  },
  {
   "cell_type": "code",
   "execution_count": null,
   "metadata": {
    "collapsed": true
   },
   "outputs": [],
   "source": []
  },
  {
   "cell_type": "code",
   "execution_count": null,
   "metadata": {
    "collapsed": true
   },
   "outputs": [],
   "source": []
  },
  {
   "cell_type": "code",
   "execution_count": null,
   "metadata": {
    "collapsed": true
   },
   "outputs": [],
   "source": []
  },
  {
   "cell_type": "code",
   "execution_count": null,
   "metadata": {
    "collapsed": true
   },
   "outputs": [],
   "source": []
  },
  {
   "cell_type": "code",
   "execution_count": null,
   "metadata": {
    "collapsed": true
   },
   "outputs": [],
   "source": []
  },
  {
   "cell_type": "code",
   "execution_count": null,
   "metadata": {
    "collapsed": true
   },
   "outputs": [],
   "source": []
  },
  {
   "cell_type": "code",
   "execution_count": null,
   "metadata": {
    "collapsed": true
   },
   "outputs": [],
   "source": []
  },
  {
   "cell_type": "code",
   "execution_count": null,
   "metadata": {
    "collapsed": true
   },
   "outputs": [],
   "source": []
  },
  {
   "cell_type": "code",
   "execution_count": null,
   "metadata": {
    "collapsed": true
   },
   "outputs": [],
   "source": []
  },
  {
   "cell_type": "code",
   "execution_count": null,
   "metadata": {
    "collapsed": true
   },
   "outputs": [],
   "source": []
  },
  {
   "cell_type": "code",
   "execution_count": null,
   "metadata": {
    "collapsed": true
   },
   "outputs": [],
   "source": []
  },
  {
   "cell_type": "code",
   "execution_count": 9,
   "metadata": {
    "collapsed": true
   },
   "outputs": [],
   "source": [
    "%matplotlib inline"
   ]
  },
  {
   "cell_type": "code",
   "execution_count": 10,
   "metadata": {
    "collapsed": true
   },
   "outputs": [],
   "source": [
    "import pandas \n",
    "import matplotlib.pyplot as plt \n",
    "from sklearn import pipeline, preprocessing, feature_selection, linear_model, model_selection, svm, metrics, neural_network"
   ]
  },
  {
   "cell_type": "code",
   "execution_count": 11,
   "metadata": {
    "collapsed": true
   },
   "outputs": [],
   "source": [
    "# from Bio import SeqIO\n",
    "\n",
    "# name_dict = {}\n",
    "# for n, r in enumerate(SeqIO.parse('../full_auto/targets.fa', 'fasta'), 1):\n",
    "#     pkg = {n: r.name}\n",
    "#     name_dict.update(pkg)\n",
    "    \n",
    "# f = pandas.read_hdf('../full_auto/data.h5')\n",
    "# f['label'] = f.index.map(lambda x: name_dict[x])\n",
    "# f.index = f['label']\n",
    "\n",
    "# J = df.join(f)"
   ]
  },
  {
   "cell_type": "code",
   "execution_count": 12,
   "metadata": {
    "scrolled": false
   },
   "outputs": [
    {
     "ename": "NameError",
     "evalue": "name 'J' is not defined",
     "output_type": "error",
     "traceback": [
      "\u001b[0;31m---------------------------------------------------------------------------\u001b[0m",
      "\u001b[0;31mNameError\u001b[0m                                 Traceback (most recent call last)",
      "\u001b[0;32m<ipython-input-12-68e9d8387ba5>\u001b[0m in \u001b[0;36m<module>\u001b[0;34m()\u001b[0m\n\u001b[0;32m----> 1\u001b[0;31m \u001b[0mJ\u001b[0m\u001b[0;34m.\u001b[0m\u001b[0mcorr\u001b[0m\u001b[0;34m(\u001b[0m\u001b[0;34m)\u001b[0m\u001b[0;34m\u001b[0m\u001b[0m\n\u001b[0m",
      "\u001b[0;31mNameError\u001b[0m: name 'J' is not defined"
     ]
    }
   ],
   "source": [
    "J.corr()"
   ]
  },
  {
   "cell_type": "code",
   "execution_count": null,
   "metadata": {
    "collapsed": true,
    "scrolled": false
   },
   "outputs": [],
   "source": [
    "J"
   ]
  },
  {
   "cell_type": "code",
   "execution_count": null,
   "metadata": {
    "collapsed": true
   },
   "outputs": [],
   "source": [
    "J.hist(figsize=(30,30))"
   ]
  },
  {
   "cell_type": "code",
   "execution_count": null,
   "metadata": {
    "collapsed": true
   },
   "outputs": [],
   "source": [
    "J.head()"
   ]
  },
  {
   "cell_type": "code",
   "execution_count": null,
   "metadata": {
    "collapsed": true
   },
   "outputs": [],
   "source": [
    "J.describe()"
   ]
  },
  {
   "cell_type": "code",
   "execution_count": null,
   "metadata": {
    "collapsed": true
   },
   "outputs": [],
   "source": [
    "template = '''\n",
    "{index}\\tring_height\\t1\\t{ring_height1}\n",
    "{index}\\tring_height\\t2\\t{ring_height2}\n",
    "'''\n",
    "\n",
    "header = '''\n",
    "clade_marker_size\\t0 \n",
    "Q7MG41^ clade_marker_size\\t10\n",
    "Q7MG41^ clade_marker_color\\t#000\n",
    "\n",
    "'''\n",
    "\n",
    "lines = []\n",
    "for i, row in J.iterrows():\n",
    "    \n",
    "    pkg = { \n",
    "        'index': i, \n",
    "        'ring_height1': row['pH7_40'], \n",
    "        'ring_height2': row['total']/2500, \n",
    "    }\n",
    "    \n",
    "    ln = template.format(**pkg)\n",
    "    \n",
    "    if 'nan' not in ln and '_29' not in i:\n",
    "        lines.append(ln)\n",
    "\n",
    "with open( 'annot.txt', 'w') as fn:\n",
    "    fn.write(header)\n",
    "    fn.write(''.join(lines))"
   ]
  },
  {
   "cell_type": "code",
   "execution_count": null,
   "metadata": {
    "collapsed": true
   },
   "outputs": [],
   "source": [
    "! head annot.txt"
   ]
  },
  {
   "cell_type": "code",
   "execution_count": null,
   "metadata": {
    "collapsed": true
   },
   "outputs": [],
   "source": [
    "! bash run.sh"
   ]
  },
  {
   "cell_type": "markdown",
   "metadata": {
    "collapsed": true
   },
   "source": [
    "![](out.png)"
   ]
  },
  {
   "cell_type": "code",
   "execution_count": null,
   "metadata": {
    "collapsed": true
   },
   "outputs": [],
   "source": []
  },
  {
   "cell_type": "code",
   "execution_count": null,
   "metadata": {
    "collapsed": true
   },
   "outputs": [],
   "source": []
  },
  {
   "cell_type": "code",
   "execution_count": null,
   "metadata": {
    "collapsed": true
   },
   "outputs": [],
   "source": []
  },
  {
   "cell_type": "code",
   "execution_count": null,
   "metadata": {
    "collapsed": true
   },
   "outputs": [],
   "source": []
  },
  {
   "cell_type": "code",
   "execution_count": null,
   "metadata": {
    "collapsed": true
   },
   "outputs": [],
   "source": []
  },
  {
   "cell_type": "code",
   "execution_count": null,
   "metadata": {
    "collapsed": true
   },
   "outputs": [],
   "source": []
  },
  {
   "cell_type": "code",
   "execution_count": null,
   "metadata": {
    "collapsed": true
   },
   "outputs": [],
   "source": []
  },
  {
   "cell_type": "code",
   "execution_count": null,
   "metadata": {
    "collapsed": true
   },
   "outputs": [],
   "source": []
  },
  {
   "cell_type": "code",
   "execution_count": null,
   "metadata": {
    "collapsed": true
   },
   "outputs": [],
   "source": []
  },
  {
   "cell_type": "code",
   "execution_count": null,
   "metadata": {
    "collapsed": true
   },
   "outputs": [],
   "source": []
  },
  {
   "cell_type": "code",
   "execution_count": null,
   "metadata": {
    "collapsed": true
   },
   "outputs": [],
   "source": []
  },
  {
   "cell_type": "code",
   "execution_count": null,
   "metadata": {
    "collapsed": true
   },
   "outputs": [],
   "source": []
  },
  {
   "cell_type": "code",
   "execution_count": null,
   "metadata": {
    "collapsed": true
   },
   "outputs": [],
   "source": []
  },
  {
   "cell_type": "code",
   "execution_count": null,
   "metadata": {
    "collapsed": true
   },
   "outputs": [],
   "source": []
  },
  {
   "cell_type": "code",
   "execution_count": null,
   "metadata": {
    "collapsed": true
   },
   "outputs": [],
   "source": []
  },
  {
   "cell_type": "code",
   "execution_count": null,
   "metadata": {
    "collapsed": true
   },
   "outputs": [],
   "source": []
  },
  {
   "cell_type": "code",
   "execution_count": null,
   "metadata": {
    "collapsed": true
   },
   "outputs": [],
   "source": []
  },
  {
   "cell_type": "code",
   "execution_count": null,
   "metadata": {
    "collapsed": true
   },
   "outputs": [],
   "source": []
  },
  {
   "cell_type": "code",
   "execution_count": null,
   "metadata": {
    "collapsed": true
   },
   "outputs": [],
   "source": []
  },
  {
   "cell_type": "code",
   "execution_count": null,
   "metadata": {
    "collapsed": true
   },
   "outputs": [],
   "source": []
  },
  {
   "cell_type": "code",
   "execution_count": null,
   "metadata": {
    "collapsed": true
   },
   "outputs": [],
   "source": []
  },
  {
   "cell_type": "code",
   "execution_count": null,
   "metadata": {
    "collapsed": true
   },
   "outputs": [],
   "source": []
  },
  {
   "cell_type": "code",
   "execution_count": null,
   "metadata": {
    "collapsed": true
   },
   "outputs": [],
   "source": []
  },
  {
   "cell_type": "code",
   "execution_count": null,
   "metadata": {
    "collapsed": true
   },
   "outputs": [],
   "source": []
  },
  {
   "cell_type": "code",
   "execution_count": null,
   "metadata": {
    "collapsed": true
   },
   "outputs": [],
   "source": []
  },
  {
   "cell_type": "code",
   "execution_count": null,
   "metadata": {
    "collapsed": true
   },
   "outputs": [],
   "source": []
  },
  {
   "cell_type": "code",
   "execution_count": null,
   "metadata": {
    "collapsed": true
   },
   "outputs": [],
   "source": []
  },
  {
   "cell_type": "code",
   "execution_count": null,
   "metadata": {
    "collapsed": true
   },
   "outputs": [],
   "source": []
  },
  {
   "cell_type": "code",
   "execution_count": null,
   "metadata": {
    "collapsed": true
   },
   "outputs": [],
   "source": []
  },
  {
   "cell_type": "code",
   "execution_count": null,
   "metadata": {
    "collapsed": true
   },
   "outputs": [],
   "source": []
  },
  {
   "cell_type": "code",
   "execution_count": null,
   "metadata": {
    "collapsed": true
   },
   "outputs": [],
   "source": []
  },
  {
   "cell_type": "code",
   "execution_count": null,
   "metadata": {
    "collapsed": true
   },
   "outputs": [],
   "source": []
  },
  {
   "cell_type": "code",
   "execution_count": null,
   "metadata": {
    "collapsed": true
   },
   "outputs": [],
   "source": []
  },
  {
   "cell_type": "code",
   "execution_count": null,
   "metadata": {
    "collapsed": true
   },
   "outputs": [],
   "source": []
  },
  {
   "cell_type": "code",
   "execution_count": null,
   "metadata": {
    "collapsed": true
   },
   "outputs": [],
   "source": []
  },
  {
   "cell_type": "code",
   "execution_count": null,
   "metadata": {
    "collapsed": true
   },
   "outputs": [],
   "source": []
  },
  {
   "cell_type": "code",
   "execution_count": null,
   "metadata": {
    "collapsed": true
   },
   "outputs": [],
   "source": []
  },
  {
   "cell_type": "code",
   "execution_count": null,
   "metadata": {
    "collapsed": true
   },
   "outputs": [],
   "source": [
    "# now that we can visualize as a tree, let's do some machine learning \"machine learning\" "
   ]
  },
  {
   "cell_type": "code",
   "execution_count": null,
   "metadata": {
    "collapsed": true
   },
   "outputs": [],
   "source": [
    "t = [4, 139, 142]\n",
    "for tt in t:\n",
    "    loc = 'SDJGI_{}'.format(tt)\n",
    "    if loc in J.index:\n",
    "#         print(J.loc[loc])\n",
    "        print(loc, 'ring_color', 1, '#eeffff', sep='\\t')"
   ]
  },
  {
   "cell_type": "code",
   "execution_count": null,
   "metadata": {
    "collapsed": true
   },
   "outputs": [],
   "source": [
    "J.columns"
   ]
  },
  {
   "cell_type": "code",
   "execution_count": null,
   "metadata": {
    "collapsed": true
   },
   "outputs": [],
   "source": [
    "features = [\n",
    "    'fa_atr', 'fa_rep', 'fa_sol', 'fa_intra_rep',\n",
    "    'fa_intra_sol_xover4', 'lk_ball_wtd', 'fa_elec', 'hbond_sr_bb',\n",
    "    'hbond_lr_bb', 'hbond_bb_sc', 'hbond_sc', 'dslf_fa13', 'omega',\n",
    "    'fa_dun', 'p_aa_pp', 'yhh_planarity', 'ref', 'rama_prepro',\n",
    "    'cart_bonded', 'total'\n",
    "]\n",
    "\n",
    "target = 'Cellobiose_binary(Act)'"
   ]
  },
  {
   "cell_type": "code",
   "execution_count": null,
   "metadata": {
    "collapsed": true
   },
   "outputs": [],
   "source": [
    "W = J[features+[target]].dropna()\n",
    "X = W[features]\n",
    "y = W[target].ravel()\n",
    "\n",
    "X.shape, y.shape"
   ]
  },
  {
   "cell_type": "code",
   "execution_count": null,
   "metadata": {
    "collapsed": true
   },
   "outputs": [],
   "source": []
  },
  {
   "cell_type": "code",
   "execution_count": null,
   "metadata": {
    "collapsed": true
   },
   "outputs": [],
   "source": [
    "pln = pipeline.Pipeline([\n",
    "    ('variance', feature_selection.VarianceThreshold()), \n",
    "    ('scaler', preprocessing.StandardScaler()), \n",
    "    #('linear_regression', linear_model.LinearRegression()),\n",
    "    ('svm', svm.SVC(class_weight='balanced', C=1)), \n",
    "#     ('neural_net', neural_network.MLPClassifier()),\n",
    "])\n",
    "\n",
    "pred = model_selection.cross_val_predict(pln, X, y, cv=10)"
   ]
  },
  {
   "cell_type": "code",
   "execution_count": null,
   "metadata": {
    "collapsed": true
   },
   "outputs": [],
   "source": [
    "metrics.confusion_matrix(y, pred)"
   ]
  },
  {
   "cell_type": "code",
   "execution_count": null,
   "metadata": {
    "collapsed": true
   },
   "outputs": [],
   "source": [
    "fpr, tpr, __ = metrics.roc_curve(y, pred)\n",
    "plt.plot(tpr, fpr, marker='.')"
   ]
  },
  {
   "cell_type": "code",
   "execution_count": null,
   "metadata": {
    "collapsed": true
   },
   "outputs": [],
   "source": []
  },
  {
   "cell_type": "code",
   "execution_count": null,
   "metadata": {
    "collapsed": true
   },
   "outputs": [],
   "source": []
  },
  {
   "cell_type": "code",
   "execution_count": null,
   "metadata": {
    "collapsed": true
   },
   "outputs": [],
   "source": []
  },
  {
   "cell_type": "code",
   "execution_count": null,
   "metadata": {
    "collapsed": true
   },
   "outputs": [],
   "source": []
  },
  {
   "cell_type": "code",
   "execution_count": null,
   "metadata": {
    "collapsed": true
   },
   "outputs": [],
   "source": []
  },
  {
   "cell_type": "code",
   "execution_count": null,
   "metadata": {
    "collapsed": true
   },
   "outputs": [],
   "source": []
  },
  {
   "cell_type": "code",
   "execution_count": null,
   "metadata": {
    "collapsed": true
   },
   "outputs": [],
   "source": []
  },
  {
   "cell_type": "code",
   "execution_count": null,
   "metadata": {
    "collapsed": true
   },
   "outputs": [],
   "source": []
  },
  {
   "cell_type": "code",
   "execution_count": null,
   "metadata": {
    "collapsed": true
   },
   "outputs": [],
   "source": []
  },
  {
   "cell_type": "code",
   "execution_count": null,
   "metadata": {
    "collapsed": true
   },
   "outputs": [],
   "source": []
  },
  {
   "cell_type": "code",
   "execution_count": null,
   "metadata": {
    "collapsed": true
   },
   "outputs": [],
   "source": []
  },
  {
   "cell_type": "code",
   "execution_count": null,
   "metadata": {
    "collapsed": true
   },
   "outputs": [],
   "source": []
  },
  {
   "cell_type": "code",
   "execution_count": null,
   "metadata": {
    "collapsed": true
   },
   "outputs": [],
   "source": []
  },
  {
   "cell_type": "code",
   "execution_count": null,
   "metadata": {
    "collapsed": true
   },
   "outputs": [],
   "source": []
  },
  {
   "cell_type": "code",
   "execution_count": null,
   "metadata": {
    "collapsed": true
   },
   "outputs": [],
   "source": []
  },
  {
   "cell_type": "code",
   "execution_count": null,
   "metadata": {
    "collapsed": true
   },
   "outputs": [],
   "source": []
  },
  {
   "cell_type": "code",
   "execution_count": null,
   "metadata": {
    "collapsed": true
   },
   "outputs": [],
   "source": []
  },
  {
   "cell_type": "code",
   "execution_count": null,
   "metadata": {
    "collapsed": true
   },
   "outputs": [],
   "source": []
  },
  {
   "cell_type": "code",
   "execution_count": null,
   "metadata": {
    "collapsed": true
   },
   "outputs": [],
   "source": []
  },
  {
   "cell_type": "code",
   "execution_count": null,
   "metadata": {
    "collapsed": true
   },
   "outputs": [],
   "source": []
  },
  {
   "cell_type": "code",
   "execution_count": null,
   "metadata": {
    "collapsed": true
   },
   "outputs": [],
   "source": []
  },
  {
   "cell_type": "code",
   "execution_count": null,
   "metadata": {
    "collapsed": true
   },
   "outputs": [],
   "source": []
  },
  {
   "cell_type": "code",
   "execution_count": null,
   "metadata": {
    "collapsed": true
   },
   "outputs": [],
   "source": []
  },
  {
   "cell_type": "code",
   "execution_count": null,
   "metadata": {
    "collapsed": true
   },
   "outputs": [],
   "source": []
  },
  {
   "cell_type": "code",
   "execution_count": null,
   "metadata": {
    "collapsed": true
   },
   "outputs": [],
   "source": []
  },
  {
   "cell_type": "code",
   "execution_count": null,
   "metadata": {
    "collapsed": true
   },
   "outputs": [],
   "source": []
  },
  {
   "cell_type": "code",
   "execution_count": null,
   "metadata": {
    "collapsed": true
   },
   "outputs": [],
   "source": []
  },
  {
   "cell_type": "code",
   "execution_count": null,
   "metadata": {
    "collapsed": true
   },
   "outputs": [],
   "source": []
  },
  {
   "cell_type": "code",
   "execution_count": null,
   "metadata": {
    "collapsed": true
   },
   "outputs": [],
   "source": []
  },
  {
   "cell_type": "code",
   "execution_count": null,
   "metadata": {
    "collapsed": true
   },
   "outputs": [],
   "source": []
  },
  {
   "cell_type": "code",
   "execution_count": null,
   "metadata": {
    "collapsed": true
   },
   "outputs": [],
   "source": []
  },
  {
   "cell_type": "code",
   "execution_count": null,
   "metadata": {
    "collapsed": true
   },
   "outputs": [],
   "source": []
  },
  {
   "cell_type": "code",
   "execution_count": null,
   "metadata": {
    "collapsed": true
   },
   "outputs": [],
   "source": []
  },
  {
   "cell_type": "code",
   "execution_count": null,
   "metadata": {
    "collapsed": true
   },
   "outputs": [],
   "source": []
  },
  {
   "cell_type": "code",
   "execution_count": null,
   "metadata": {
    "collapsed": true
   },
   "outputs": [],
   "source": []
  },
  {
   "cell_type": "code",
   "execution_count": null,
   "metadata": {
    "collapsed": true
   },
   "outputs": [],
   "source": []
  },
  {
   "cell_type": "code",
   "execution_count": null,
   "metadata": {
    "collapsed": true
   },
   "outputs": [],
   "source": []
  },
  {
   "cell_type": "code",
   "execution_count": null,
   "metadata": {
    "collapsed": true
   },
   "outputs": [],
   "source": []
  },
  {
   "cell_type": "code",
   "execution_count": null,
   "metadata": {
    "collapsed": true
   },
   "outputs": [],
   "source": []
  },
  {
   "cell_type": "code",
   "execution_count": null,
   "metadata": {
    "collapsed": true
   },
   "outputs": [],
   "source": []
  },
  {
   "cell_type": "code",
   "execution_count": null,
   "metadata": {
    "collapsed": true
   },
   "outputs": [],
   "source": []
  },
  {
   "cell_type": "code",
   "execution_count": null,
   "metadata": {
    "collapsed": true
   },
   "outputs": [],
   "source": []
  },
  {
   "cell_type": "code",
   "execution_count": null,
   "metadata": {
    "collapsed": true
   },
   "outputs": [],
   "source": []
  }
 ],
 "metadata": {
  "kernelspec": {
   "display_name": "Python [conda root]",
   "language": "python",
   "name": "conda-root-py"
  },
  "language_info": {
   "codemirror_mode": {
    "name": "ipython",
    "version": 3
   },
   "file_extension": ".py",
   "mimetype": "text/x-python",
   "name": "python",
   "nbconvert_exporter": "python",
   "pygments_lexer": "ipython3",
   "version": "3.6.0"
  }
 },
 "nbformat": 4,
 "nbformat_minor": 2
}
