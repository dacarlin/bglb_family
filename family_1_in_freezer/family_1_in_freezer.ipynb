{
 "cells": [
  {
   "cell_type": "code",
   "execution_count": 1,
   "metadata": {
    "collapsed": true
   },
   "outputs": [],
   "source": [
    "#Some thoughts on the data set of F1GHs\n",
    "import pandas\n",
    "pandas.options.display.max_columns = 1000\n",
    "pandas.set_option( \"display.max_rows\", 1001 )\n",
    "%matplotlib inline"
   ]
  },
  {
   "cell_type": "code",
   "execution_count": 11,
   "metadata": {
    "collapsed": false
   },
   "outputs": [
    {
     "data": {
      "text/html": [
       "<div>\n",
       "<table border=\"1\" class=\"dataframe\">\n",
       "  <thead>\n",
       "    <tr style=\"text-align: right;\">\n",
       "      <th></th>\n",
       "      <th>Sorting</th>\n",
       "      <th>gene</th>\n",
       "      <th>Organism</th>\n",
       "      <th>PDB</th>\n",
       "      <th>Kindgom</th>\n",
       "      <th>Sol_exp_(mg/ml)</th>\n",
       "      <th>Cellobiose_binary(Act)</th>\n",
       "      <th>Cellobiose_therm_binary</th>\n",
       "      <th>pH7_40</th>\n",
       "      <th>pH4_40</th>\n",
       "      <th>pH7_60</th>\n",
       "      <th>pH7_80</th>\n",
       "      <th>pH4_80</th>\n",
       "      <th>pH7_80_pre80</th>\n",
       "      <th>pH7_90_pre90</th>\n",
       "      <th>Name</th>\n",
       "      <th>Sequence</th>\n",
       "    </tr>\n",
       "  </thead>\n",
       "  <tbody>\n",
       "    <tr>\n",
       "      <th>8</th>\n",
       "      <td>9</td>\n",
       "      <td>SDJGI_136</td>\n",
       "      <td>Hypocrea jecorina QM9414</td>\n",
       "      <td>NaN</td>\n",
       "      <td>Eukaryote</td>\n",
       "      <td>0.075525</td>\n",
       "      <td>1.0</td>\n",
       "      <td>0.0</td>\n",
       "      <td>0.316567</td>\n",
       "      <td>0.199267</td>\n",
       "      <td>0.283700</td>\n",
       "      <td>0.048533</td>\n",
       "      <td>0.044433</td>\n",
       "      <td>0.04045</td>\n",
       "      <td>0.041467</td>\n",
       "      <td>SDJGI_136</td>\n",
       "      <td>MLPKDFQWGFATAAYQIEGAVDQDGRGPSIWDTFCAQPGKIADGSS...</td>\n",
       "    </tr>\n",
       "    <tr>\n",
       "      <th>111</th>\n",
       "      <td>113</td>\n",
       "      <td>SDJGI_103</td>\n",
       "      <td>Thermotogales bacterium TBF 19.5.1</td>\n",
       "      <td>NaN</td>\n",
       "      <td>Bacteria</td>\n",
       "      <td>0.018201</td>\n",
       "      <td>0.0</td>\n",
       "      <td>0.0</td>\n",
       "      <td>0.040700</td>\n",
       "      <td>0.040533</td>\n",
       "      <td>0.040167</td>\n",
       "      <td>0.040467</td>\n",
       "      <td>0.040900</td>\n",
       "      <td>0.04030</td>\n",
       "      <td>0.041067</td>\n",
       "      <td>SDJGI_103</td>\n",
       "      <td>MKSFPAGFMWGVATAGHQIEGGNYFSDWYKWEMEGKVKNGDTSETA...</td>\n",
       "    </tr>\n",
       "    <tr>\n",
       "      <th>9</th>\n",
       "      <td>10</td>\n",
       "      <td>SDJGI_79</td>\n",
       "      <td>uncultured bacterium</td>\n",
       "      <td>3fJ0A</td>\n",
       "      <td>Bacteria</td>\n",
       "      <td>0.004650</td>\n",
       "      <td>0.0</td>\n",
       "      <td>0.0</td>\n",
       "      <td>0.048567</td>\n",
       "      <td>0.043133</td>\n",
       "      <td>0.042800</td>\n",
       "      <td>0.040933</td>\n",
       "      <td>0.042267</td>\n",
       "      <td>0.04090</td>\n",
       "      <td>0.041733</td>\n",
       "      <td>SDJGI_79</td>\n",
       "      <td>MLPEQLLSGAAERGIQLEMGVILCTNIDTNSVWCLWVSHLSIIQTG...</td>\n",
       "    </tr>\n",
       "    <tr>\n",
       "      <th>121</th>\n",
       "      <td>128</td>\n",
       "      <td>SDJGI_160</td>\n",
       "      <td>Thermoanaerobacter brockii</td>\n",
       "      <td>NaN</td>\n",
       "      <td>Bacteria</td>\n",
       "      <td>0.010323</td>\n",
       "      <td>0.0</td>\n",
       "      <td>0.0</td>\n",
       "      <td>0.041533</td>\n",
       "      <td>0.040933</td>\n",
       "      <td>0.040267</td>\n",
       "      <td>0.040433</td>\n",
       "      <td>0.042867</td>\n",
       "      <td>0.03995</td>\n",
       "      <td>0.044067</td>\n",
       "      <td>SDJGI_160</td>\n",
       "      <td>MIKLAKFPRDFVWGTATSSYQIEGAVNEDGRTPSIWDTFSKTEGKT...</td>\n",
       "    </tr>\n",
       "    <tr>\n",
       "      <th>119</th>\n",
       "      <td>123</td>\n",
       "      <td>SDJGI_146</td>\n",
       "      <td>Geobacillus kaustophilus HTA426</td>\n",
       "      <td>NaN</td>\n",
       "      <td>Bacteria</td>\n",
       "      <td>0.565360</td>\n",
       "      <td>0.0</td>\n",
       "      <td>0.0</td>\n",
       "      <td>0.040867</td>\n",
       "      <td>0.040800</td>\n",
       "      <td>0.047100</td>\n",
       "      <td>0.041100</td>\n",
       "      <td>0.047500</td>\n",
       "      <td>0.04550</td>\n",
       "      <td>0.050300</td>\n",
       "      <td>SDJGI_146</td>\n",
       "      <td>MEHRHLKPFPPGFLWGAASAAYQVEGAWNEDGKGLSVWDVFAKQPG...</td>\n",
       "    </tr>\n",
       "    <tr>\n",
       "      <th>3</th>\n",
       "      <td>4</td>\n",
       "      <td>SDJGI_137</td>\n",
       "      <td>Thermococcus kodakarensis KOD1</td>\n",
       "      <td>NaN</td>\n",
       "      <td>Archaea</td>\n",
       "      <td>0.004728</td>\n",
       "      <td>0.0</td>\n",
       "      <td>0.0</td>\n",
       "      <td>0.041167</td>\n",
       "      <td>0.041233</td>\n",
       "      <td>0.040867</td>\n",
       "      <td>0.041000</td>\n",
       "      <td>0.042533</td>\n",
       "      <td>0.04190</td>\n",
       "      <td>0.042100</td>\n",
       "      <td>SDJGI_137</td>\n",
       "      <td>MREFAWGVVQSAFQFEMGDPLRRFIDTRTDWWHWVRDPLNIKNDLV...</td>\n",
       "    </tr>\n",
       "  </tbody>\n",
       "</table>\n",
       "</div>"
      ],
      "text/plain": [
       "     Sorting       gene                            Organism    PDB    Kindgom  \\\n",
       "8          9  SDJGI_136            Hypocrea jecorina QM9414    NaN  Eukaryote   \n",
       "111      113  SDJGI_103  Thermotogales bacterium TBF 19.5.1    NaN   Bacteria   \n",
       "9         10   SDJGI_79                uncultured bacterium  3fJ0A   Bacteria   \n",
       "121      128  SDJGI_160          Thermoanaerobacter brockii    NaN   Bacteria   \n",
       "119      123  SDJGI_146     Geobacillus kaustophilus HTA426    NaN   Bacteria   \n",
       "3          4  SDJGI_137      Thermococcus kodakarensis KOD1    NaN    Archaea   \n",
       "\n",
       "     Sol_exp_(mg/ml)  Cellobiose_binary(Act)  Cellobiose_therm_binary  \\\n",
       "8           0.075525                     1.0                      0.0   \n",
       "111         0.018201                     0.0                      0.0   \n",
       "9           0.004650                     0.0                      0.0   \n",
       "121         0.010323                     0.0                      0.0   \n",
       "119         0.565360                     0.0                      0.0   \n",
       "3           0.004728                     0.0                      0.0   \n",
       "\n",
       "       pH7_40    pH4_40    pH7_60    pH7_80    pH4_80  pH7_80_pre80  \\\n",
       "8    0.316567  0.199267  0.283700  0.048533  0.044433       0.04045   \n",
       "111  0.040700  0.040533  0.040167  0.040467  0.040900       0.04030   \n",
       "9    0.048567  0.043133  0.042800  0.040933  0.042267       0.04090   \n",
       "121  0.041533  0.040933  0.040267  0.040433  0.042867       0.03995   \n",
       "119  0.040867  0.040800  0.047100  0.041100  0.047500       0.04550   \n",
       "3    0.041167  0.041233  0.040867  0.041000  0.042533       0.04190   \n",
       "\n",
       "     pH7_90_pre90       Name  \\\n",
       "8        0.041467  SDJGI_136   \n",
       "111      0.041067  SDJGI_103   \n",
       "9        0.041733   SDJGI_79   \n",
       "121      0.044067  SDJGI_160   \n",
       "119      0.050300  SDJGI_146   \n",
       "3        0.042100  SDJGI_137   \n",
       "\n",
       "                                              Sequence  \n",
       "8    MLPKDFQWGFATAAYQIEGAVDQDGRGPSIWDTFCAQPGKIADGSS...  \n",
       "111  MKSFPAGFMWGVATAGHQIEGGNYFSDWYKWEMEGKVKNGDTSETA...  \n",
       "9    MLPEQLLSGAAERGIQLEMGVILCTNIDTNSVWCLWVSHLSIIQTG...  \n",
       "121  MIKLAKFPRDFVWGTATSSYQIEGAVNEDGRTPSIWDTFSKTEGKT...  \n",
       "119  MEHRHLKPFPPGFLWGAASAAYQVEGAWNEDGKGLSVWDVFAKQPG...  \n",
       "3    MREFAWGVVQSAFQFEMGDPLRRFIDTRTDWWHWVRDPLNIKNDLV...  "
      ]
     },
     "execution_count": 11,
     "metadata": {},
     "output_type": "execute_result"
    }
   ],
   "source": [
    "df = pandas.read_excel( 'GH1_data_JS.xlsx' )\n",
    "df.sample( 6 ) "
   ]
  },
  {
   "cell_type": "code",
   "execution_count": 6,
   "metadata": {
    "collapsed": false
   },
   "outputs": [],
   "source": [
    "expressed = df[( df['Sol_exp_(mg/ml)'] > 0.1)] "
   ]
  },
  {
   "cell_type": "code",
   "execution_count": 10,
   "metadata": {
    "collapsed": false,
    "scrolled": false
   },
   "outputs": [
    {
     "data": {
      "text/plain": [
       "'MLPKNFLLGFSLAGFQSEMGISDPDSNSDWWLWVHDPVNIRTGLVSGDLPENGIGYWDLYKKYNGLAVQTGMNAARLGVEWSRIFPKSTEEVKVMEDYKDDDLISVDVNEGSLEKLDRLANQKAINRYMEIFNNIKENNMTLIVNVYHWPIPIYLHDPIEARNSGLSNKRNGWLNHKTVVEFVKYAKYLAWKFSDVADMFSIMNEPNVVFGNGYFNVKSGFPPAFPSVHGGLLAKKHEIEAIARSYDAMKEITKKPVGLIMANSDVQPLTDEDKEAAEMATYNDRYSFIDPLRVGEMKWADEVTAGNPIGEKSNIDRSDLKNKLDWIGVNYYTRAVVKKSGNGYTTLKGYGHSATAGMPSRAGRDVSDFGWEFYPEGLVNVLSSYWKRYHIPMIVTENGVADSIDRLRPRYLVSHIKSVEKALSMGMDIRGYLHWSLIDNYEWASGFSMKFGLYGIDLNNKKIQHRPSALVFKEIANANGVPEEFEWMADQHQNS'"
      ]
     },
     "execution_count": 10,
     "metadata": {},
     "output_type": "execute_result"
    }
   ],
   "source": [
    "df.Sequence[0]"
   ]
  },
  {
   "cell_type": "code",
   "execution_count": 13,
   "metadata": {
    "collapsed": false
   },
   "outputs": [
    {
     "name": "stdout",
     "output_type": "stream",
     "text": [
      ">SDJGI_31\r\n",
      "MLPKNFLLGFSLAGFQSEMGISDPDSNSDWWLWVHDPVNIRTGLVSGDLPENGIGYWDLYKKYNGLAVQTGMNAARLGVEWSRIFPKSTEEVKVMEDYKDDDLISVDVNEGSLEKLDRLANQKAINRYMEIFNNIKENNMTLIVNVYHWPIPIYLHDPIEARNSGLSNKRNGWLNHKTVVEFVKYAKYLAWKFSDVADMFSIMNEPNVVFGNGYFNVKSGFPPAFPSVHGGLLAKKHEIEAIARSYDAMKEITKKPVGLIMANSDVQPLTDEDKEAAEMATYNDRYSFIDPLRVGEMKWADEVTAGNPIGEKSNIDRSDLKNKLDWIGVNYYTRAVVKKSGNGYTTLKGYGHSATAGMPSRAGRDVSDFGWEFYPEGLVNVLSSYWKRYHIPMIVTENGVADSIDRLRPRYLVSHIKSVEKALSMGMDIRGYLHWSLIDNYEWASGFSMKFGLYGIDLNNKKIQHRPSALVFKEIANANGVPEEFEWMADQHQNS\r\n",
      ">SDJGI_139\r\n",
      "MVENNFPEDFKFGWSQSGFQSEMGYDNAMDDKSDWYVWVHDKENIQSGLVSGDMPENGPGYWNNYKSFHEAAQNMGLKMARIGVEWSRLFPEPFPEKIMADAKNNSLEINNNILSELDKYVNKDALNHYIEIFNDIKNRNIDLIINMYHWPLPVWLSDPVSVRKGIKTERSGWLNDRIVQLFALFSSYIVYKMEDLAVAFSTMNEPNVVYGNGFINIKSGFPPSYLSSEFASKVKNNILKAHSLAYDSMKKITDKPVGIIYANTYFTPLDPEKDNDAIAKADSDAKWSFFDPLIKGDKSLGINGNKLDWIGINYYTRTMLRKDGDGYISLKGYGHSGSPNTVTNDKRPTSDIGWEFYPEGLEYVIMNYWNRYKLPMYVTENGIADNGDYQRPYYLVSHIASVLRAINKGANVKGYLHWSLVDNYEWALGFSPKFGLIGYDENKKLYWRPSALVYKEIATKNCISPELKHLDSIPPINGLRK\r\n",
      ">SDJGI_35\r\n",
      "MSLPKDFLWGFATASYQIEGAIDKDGRGPSIWDTFTAIPGKVADGSSGVTACDSYNRTQEDIDLLKSVGAQSYRFSISWSRIIPIGGRNDPINQKGIDHYVKFVDDLLEAGITPLITLFHWDLPDGLDKRYGGLLNREEFPLDFEHYARVMFKAIPKCKHWITFNEPWCSSILAYSVGQFAPGRCSDRSKSPVGDSSREPWIVGHNLLVAHGRAVKVYREEFKAQDKGEIGITLNGDATFPWDPEDPRDVDAANRKIEFAISWFADPIYFGEYPVSMRKQLGDRLPTFTEEEKALVKGSNDFYGMNCYTANYIRHKEGEPAEDDYLGNLEQLFYNKAGECIGPETQSPWLRPNAQGFRELLVWLSKRYNYPKILVTENGTSVKGENDMPLEKILEDDFRVQYYDDYVKALAKAYSEDGVNVRGYSAWSLMDNFEWAEGYETRFGVTFVDYENGQKRYPKKSAKAMKPLFDSLIEKD\r\n",
      ">SDJGI_137\r\n",
      "MREFAWGVVQSAFQFEMGDPLRRFIDTRTDWWHWVRDPLNIKNDLVSGHLPEDGINNYGLYEIDHQLAKDMGLNAYQITVEWSRIFPCPTYGVEVDFERDSYGLIKRVKITKETLHELEEIANAKEVEHYREVLKNLKELGFSTFVTLNHQTQPIWLHDPIHVRENFEKARAKGWVDERAILEFAKFAAFVAWKRWDLVDYWATFDEPMVTVELGYLAPYVGWPPGILNPKAAKAVIINQLVGHARAYEAVKTFSDKPVGIILNIIPAYPRDPNDPKDVKATENYDLFHNRIFLDGVNEGKVDLDFDGNYVKIDHLKRNDWIGNNYYTREVISTRNPNTRSSDNKLRGDEGYGYSSEPNSVSKDNNPTSDFGWECFPQGMYDSIMIGNEYRKPIYITENGIADSRDLLRPRYIKEHVEKMFEAIQAGADVRGYFHWALTDNYEWAMGFKIKFGLYEVDPISKQRIPRPRSVETYKKIVREGLP\r\n",
      ">SDJGI_42\r\n",
      "MNRLTLPPSSRLRSKEFTFGVATSSYQIEGGIDSRLPCNWDTFCEQPNTIIDNTNGAIACDHINRWQDDIELIANLGVDAYRFSIAWGRVINLDGSLNNEGVTFYKNILTKLREKNLKAYITLYHWDLPQHLEDAGGWLNRDTAYKFRDYVNLITQALDDDVFCYTTLNEPFCSAYLGYEIGVHAPGIKDLASGRKAAHHLLLAHGLAMQVLRKNCPNSLSGIVLNMSPCYAGSNAQADIDAAKRADDLLFQWYAQPLLTGCYPDAINSLPDNAKPPICEGDMALISQPLDYLGLNYYTRAVFFADGNGGFTEQVPEGVELTDMGWEVYPQGLTDLLIDLNQRYTLPPLLITENGAAMVDELVNGEVNDIARINYFQTHLQAVHNAIEQGVDVRGYFAWSLMDNFEWALGYSKRFGITYVDYQTQKRTLKASGHAFAEFVSSRS\r\n"
     ]
    }
   ],
   "source": [
    "# make a FASTA of all of them \n",
    "\n",
    "with open( 'all_sequences.fasta', 'w' ) as fn:\n",
    "    for i, row in df.iterrows():\n",
    "        fn.write( '>{}\\n{}\\n'.format( row.gene, row.Sequence ) )\n",
    "                 \n",
    "! head all_sequences.fasta"
   ]
  },
  {
   "cell_type": "code",
   "execution_count": null,
   "metadata": {
    "collapsed": true
   },
   "outputs": [],
   "source": []
  }
 ],
 "metadata": {
  "kernelspec": {
   "display_name": "Python [conda root]",
   "language": "python",
   "name": "conda-root-py"
  },
  "language_info": {
   "codemirror_mode": {
    "name": "ipython",
    "version": 3
   },
   "file_extension": ".py",
   "mimetype": "text/x-python",
   "name": "python",
   "nbconvert_exporter": "python",
   "pygments_lexer": "ipython3",
   "version": "3.5.2"
  }
 },
 "nbformat": 4,
 "nbformat_minor": 0
}
