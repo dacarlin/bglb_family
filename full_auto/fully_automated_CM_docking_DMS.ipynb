{
 "cells": [
  {
   "cell_type": "markdown",
   "metadata": {},
   "source": [
    "## Fully automated Rosetta comparative modeling, transition state docking, and deep mutational scan for family 1 glycoside hydrolase enzymes \n",
    "\n",
    "The goal of this notebook is to automate the following steps for a given input sequence. "
   ]
  },
  {
   "cell_type": "markdown",
   "metadata": {},
   "source": [
    "### Target sequence validation \n",
    "\n",
    "Assert that the len of the sequence is between, say 350 and 550 amino acids in length, as a sanity check. \n",
    "\n",
    "### Sequence homology search using HMMER \n",
    "\n",
    "Use HMMER to search the PDB for homologous structures. Pick the top 5 and all we need is their PDB codes. \n",
    "\n",
    "### Alignment using Promals3D \n",
    "\n",
    "Using Promals3D, align the target sequence to the template sequences. \n",
    "\n",
    "### Make a guess at the catalytic residues \n",
    "\n",
    "Not sure how we can do this, but essentially, see which residues they align to in the alignment? Or somehow compare structurally? (We are really diffing into Steve's PhD project now.) \n",
    "\n",
    "### Generate input files for Rosetta runs \n",
    "\n",
    "Now that we know\n",
    "\n",
    "- residue index of nucleophile, acid/base, and backup \n",
    "- residue index of ligand (1 + total) \n",
    "\n",
    "We need to make \n",
    "\n",
    "- Grishin alignment \n",
    "- enzyme design header \n",
    "- traditional constraint file \n",
    "- Foldit puzzle file "
   ]
  },
  {
   "cell_type": "code",
   "execution_count": null,
   "metadata": {
    "collapsed": true
   },
   "outputs": [],
   "source": []
  }
 ],
 "metadata": {
  "kernelspec": {
   "display_name": "Python 3",
   "language": "python",
   "name": "python3"
  },
  "language_info": {
   "codemirror_mode": {
    "name": "ipython",
    "version": 3
   },
   "file_extension": ".py",
   "mimetype": "text/x-python",
   "name": "python",
   "nbconvert_exporter": "python",
   "pygments_lexer": "ipython3",
   "version": "3.6.0"
  }
 },
 "nbformat": 4,
 "nbformat_minor": 2
}
