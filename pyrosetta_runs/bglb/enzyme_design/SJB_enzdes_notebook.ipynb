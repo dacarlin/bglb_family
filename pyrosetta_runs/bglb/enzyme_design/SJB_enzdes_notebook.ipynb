{
 "cells": [
  {
   "cell_type": "code",
   "execution_count": 2,
   "metadata": {
    "collapsed": true
   },
   "outputs": [],
   "source": [
    "#https://github.com/sjbertolani/pyrosettabook\n",
    "\n",
    "# slightly edited to collect input variables to top\n",
    "# will eventually be one step in the pipeline "
   ]
  },
  {
   "cell_type": "code",
   "execution_count": 1,
   "metadata": {},
   "outputs": [
    {
     "name": "stdout",
     "output_type": "stream",
     "text": [
      "Found rosetta database at: /Users/alex/anaconda3/envs/py35/lib/python3.5/site-packages/pyrosetta-4.0-py3.5.egg/database; using it....\n",
      "PyRosetta-4 2016 [Rosetta 2016 unknown:06c81a707244fa2d0558e2ddaab9e620acc86f1e 2017-04-25 21:54:22 -0700] retrieved from: git@github.com:RosettaCommons/main.git\n",
      "(C) Copyright Rosetta Commons Member Institutions.\n",
      "Created in JHU by Sergey Lyskov and PyRosetta Team.\n",
      "\n",
      "True\n",
      "0.5\n",
      "1.0\n",
      "0.0\n",
      "0.0\n",
      "10.0\n",
      "10.0\n",
      "False\n",
      "10.0\n",
      "10.0\n",
      "12.0\n",
      "14.0\n"
     ]
    },
    {
     "ename": "KeyboardInterrupt",
     "evalue": "",
     "output_type": "error",
     "traceback": [
      "\u001b[0;31m---------------------------------------------------------------------------\u001b[0m",
      "\u001b[0;31mKeyboardInterrupt\u001b[0m                         Traceback (most recent call last)",
      "\u001b[0;32m<ipython-input-1-fd010a78185b>\u001b[0m in \u001b[0;36m<module>\u001b[0;34m()\u001b[0m\n\u001b[1;32m     48\u001b[0m \u001b[0;34m\u001b[0m\u001b[0m\n\u001b[1;32m     49\u001b[0m \u001b[0;31m# get a generic scorefxn\u001b[0m\u001b[0;34m\u001b[0m\u001b[0;34m\u001b[0m\u001b[0m\n\u001b[0;32m---> 50\u001b[0;31m \u001b[0mp\u001b[0m \u001b[0;34m=\u001b[0m \u001b[0mpyrosetta\u001b[0m\u001b[0;34m.\u001b[0m\u001b[0mpose_from_file\u001b[0m\u001b[0;34m(\u001b[0m\u001b[0mINPUT_POSE\u001b[0m\u001b[0;34m)\u001b[0m\u001b[0;34m\u001b[0m\u001b[0m\n\u001b[0m\u001b[1;32m     51\u001b[0m \u001b[0msfxn\u001b[0m \u001b[0;34m=\u001b[0m \u001b[0mpyrosetta\u001b[0m\u001b[0;34m.\u001b[0m\u001b[0mget_fa_scorefxn\u001b[0m\u001b[0;34m(\u001b[0m\u001b[0;34m'beta_cst'\u001b[0m\u001b[0;34m)\u001b[0m\u001b[0;34m\u001b[0m\u001b[0m\n\u001b[1;32m     52\u001b[0m \u001b[0;34m\u001b[0m\u001b[0m\n",
      "\u001b[0;31mKeyboardInterrupt\u001b[0m: "
     ]
    }
   ],
   "source": [
    "import rosetta\n",
    "import pyrosetta\n",
    "\n",
    "INPUT_POSE = 'input_pose.pdb'\n",
    "PARAMS = 'pnpg.params'\n",
    "CST_FILE = 'pnpg.cst'\n",
    "\n",
    "pyrosetta.init('-extra_res_fa pnpg.params -run:preserve_header')\n",
    "print(pyrosetta.rosetta.basic.options.get_boolean_option(\"run:preserve_header\"))\n",
    "\n",
    "# This must be turned on globally for the enable_cst_scorefunction to turn on the fnr term (which is actually res_type_constraint, see protocols:protein_design_interface:design_utils)\n",
    "# and also see protocols.enzdes.endes_utils\n",
    "# Note, how we can print the value before and after it's set to verify our changes\n",
    "\n",
    "print(pyrosetta.rosetta.basic.options.get_real_option('enzdes:favor_native_res'))\n",
    "pyrosetta.rosetta.basic.options.set_real_option('enzdes:favor_native_res',2.0)\n",
    "\n",
    "print(pyrosetta.rosetta.basic.options.get_real_option('enzdes:lig_packer_weight'))\n",
    "pyrosetta.rosetta.basic.options.set_real_option('enzdes:lig_packer_weight',1.5)\n",
    "#print pyrosetta.rosetta.basic.options.get_real_option('enzdes:lig_packer_weight')\n",
    "\n",
    "## These must be set globally for the detect_ligand_interace to work, there should be getters and setters, but\n",
    "## as of today, there aren't any\n",
    "print(pyrosetta.rosetta.basic.options.get_real_option('enzdes:cut1'))\n",
    "print(pyrosetta.rosetta.basic.options.get_real_option('enzdes:cut2'))\n",
    "print(pyrosetta.rosetta.basic.options.get_real_option('enzdes:cut3'))\n",
    "print(pyrosetta.rosetta.basic.options.get_real_option('enzdes:cut4'))\n",
    "print(pyrosetta.rosetta.basic.options.get_boolean_option('enzdes:detect_design_interface'))\n",
    "\n",
    "pyrosetta.rosetta.basic.options.set_real_option('enzdes:cut1',10.0)\n",
    "pyrosetta.rosetta.basic.options.set_real_option('enzdes:cut2',10.0)\n",
    "pyrosetta.rosetta.basic.options.set_real_option('enzdes:cut3',12.0)\n",
    "pyrosetta.rosetta.basic.options.set_real_option('enzdes:cut4',14.0)\n",
    "pyrosetta.rosetta.basic.options.set_boolean_option('enzdes:detect_design_interface',True)\n",
    "\n",
    "\n",
    "#print pyrosetta.rosetta.basic.options.get_real_option('enzdes:lig_packer_weight')\n",
    "#print pyrosetta.rosetta.basic.options.get_real_option('enzdes:cut1')\n",
    "print(pyrosetta.rosetta.basic.options.get_real_option('enzdes:cut1'))\n",
    "print(pyrosetta.rosetta.basic.options.get_real_option('enzdes:cut2'))\n",
    "print(pyrosetta.rosetta.basic.options.get_real_option('enzdes:cut3'))\n",
    "print(pyrosetta.rosetta.basic.options.get_real_option('enzdes:cut4'))\n",
    "# Optional, if you want to watch in Pymol\n",
    "#pm = rosetta.protocols.moves.PyMolMover()\n",
    "#pm.keep_history(True)\n",
    "#pm.apply(p) ## Note, this started the Pymol counter to state 1 (view at bottom right hand corner)\n",
    "## Setup Scorefunctions\n",
    "\n"
   ]
  },
  {
   "cell_type": "code",
   "execution_count": null,
   "metadata": {
    "collapsed": true
   },
   "outputs": [],
   "source": [
    "# get a generic scorefxn\n",
    "p = pyrosetta.pose_from_file(INPUT_POSE)\n",
    "sfxn = pyrosetta.get_fa_scorefxn('beta_cst')\n",
    "\n",
    "# This turns on certain scorefunction terms associated with constraints (but not all of them!)\n",
    "#rosetta.protocols.enzdes.enzutil.enable_constraint_scoreterms(sfxn)\n",
    "\n",
    "# The following 2 lines are an alternative way to turn on select/or more constraint terms in your score function\n",
    "#for cstterm in 'coordinate_constraint atom_pair_constraint angle_constraint dihedral_constraint res_type_constraint'.split():\n",
    "#    sfxn.set_weight( rosetta.core.scoring.ScoreTypeManager.score_type_from_name( cstterm ), 1.0  )\n",
    "\n",
    "\n",
    "# Also, get a soft_rep score function, here the weights for fa_rep are turned down so that\n",
    "# when new residues are designed in, if they are clashing before repacking, it won't be immediately\n",
    "# discarded as bad in energy.\n",
    "soft_rep = rosetta.core.scoring.ScoreFunctionFactory.create_score_function(\"soft_rep\")\n",
    "\n",
    "mm = pyrosetta.MoveMap()\n",
    "mm.show(p.total_residue())\n",
    "## Setup movers!\n",
    "\n",
    "# Create the AddorRemoveMatchCsts object, read in the file, and apply/add them to the pose\n",
    "addcsts = rosetta.protocols.enzdes.AddOrRemoveMatchCsts()\n",
    "addcsts.cstfile(CST_FILE) #'pnpg.cst')\n",
    "addcsts.set_cst_action(rosetta.protocols.enzdes.CstAction.ADD_NEW)\n",
    "addcsts.apply(p)\n",
    "\n",
    "# This is the enzdes generic move-the-ligand-around sampling mover\n",
    "predock = rosetta.protocols.enzdes.PredesignPerturbMover()\n",
    "predock.trans_magnitude(0.1)\n",
    "predock.rot_magnitude(2)\n",
    "## This set ligand must be set to the ligand, here it is hard coded for the example\n",
    "predock.set_ligand(p.n_total()) # or p.n_total() Assumes the ligand is the last\n",
    "\n",
    "## These two objects/movers are the business end of enzdes in rosetta. They setup the object, some options,\n",
    "## with the only difference here being the second one turns backbone (bb) minimziations on\n",
    "enzdes = rosetta.protocols.enzdes.EnzRepackMinimize()\n",
    "enzdes.set_scorefxn_minimize(sfxn)\n",
    "enzdes.set_scorefxn_repack(soft_rep)\n",
    "enzdes.set_min_lig(True)\n",
    "enzdes.set_min_rb(True)\n",
    "enzdes.set_min_sc(True)\n",
    "enzdes.set_design(False)\n",
    "\n",
    "enzdes_wbb = rosetta.protocols.enzdes.EnzRepackMinimize()\n",
    "enzdes_wbb.set_scorefxn_minimize(sfxn)\n",
    "enzdes_wbb.set_min_lig(True)\n",
    "enzdes_wbb.set_min_rb(True)\n",
    "enzdes_wbb.set_min_sc(True)\n",
    "enzdes_wbb.set_design(False)\n",
    "enzdes_wbb.set_scorefxn_repack(soft_rep)\n",
    "enzdes_wbb.set_min_bb(True)\n",
    "\n",
    "## Notes for the future\n",
    "\n",
    "# min in stages?  # further investigation required here\n",
    "# backrub? # further investigation required here\n",
    "\n",
    "# Now score the protein (this includes the constraints in the score)\n",
    "sfxn(p) # you need this for nbr graph to populate\n",
    "# Setup task opertations and add them to the enzdes movers\n",
    "\n",
    "tf = rosetta.core.pack.task.TaskFactory()\n",
    "\n",
    "# Sets up the packing/design shells from the global options set above\n",
    "dp = rosetta.protocols.enzdes.DetectProteinLigandInterface()\n",
    "dp.init_from_options()\n",
    "\n",
    "## Applies the enigmatic Task Operation LimitAromaticChi2 operation to the packer task.\n",
    "## This is one of those legacy operations that you have to ask the Rosetta elders to explain\n",
    "## Rosetta source credits Nobuyasu for this TO\n",
    "limchi2 = rosetta.protocols.toolbox.task_operations.LimitAromaChi2Operation()\n",
    "\n",
    "# This restricts the residues define in the constraint file to only be allowed to pack, not designable\n",
    "canttouchcatres = rosetta.protocols.enzdes.SetCatalyticResPackBehavior()\n",
    "canttouchcatres.set_fix_catalytic_aa(False) ## seems to freeze them, no repacking if set to True\n",
    "\n",
    "# Push back all of our TO's onto the task factory (see Design Patterns on Factorys)\n",
    "tf.push_back(dp)\n",
    "tf.push_back(canttouchcatres)\n",
    "tf.push_back(limchi2)\n",
    "\n",
    "# Create a packer task, specifically for the cstopt mover to work\n",
    "pt = tf.create_task_and_apply_taskoperations(p)\n",
    "\n",
    "enzdes.task_factory( tf ) # sets the enzdes movers to use our task factory set with our task operations\n",
    "enzdes_wbb.task_factory( tf )\n",
    "# Just leaving this here as an example, but this allows for manual inspection of your packer task\n",
    "# after all of the task operations have been applied. You could also apply one at a time to verify how\n",
    "# they are working and that they are indeed working.\n",
    "\n",
    "# for i in range(1,p.total_residue()+1):\n",
    "#     print(i,pt.being_designed(i),pt.being_packed(i))\n",
    "print(pt)\n",
    "# Warning, what follows is a bunch of **** all because there is not a getter/setter\n",
    "# for cst_opt in the enzdesmovers\n",
    "\n"
   ]
  },
  {
   "cell_type": "code",
   "execution_count": null,
   "metadata": {
    "collapsed": true
   },
   "outputs": [],
   "source": []
  },
  {
   "cell_type": "code",
   "execution_count": null,
   "metadata": {
    "collapsed": true
   },
   "outputs": [],
   "source": [
    "# Mover sub-classing -----------------------------------\n",
    "# Thank you Sergey!\n",
    "#\n",
    "class My_New_Mover(rosetta.protocols.moves.Mover):\n",
    "    def __init__(self,sfxn,pt):\n",
    "        print( 'My_New_Mover.__init__...' )\n",
    "        rosetta.protocols.moves.Mover.__init__(self)\n",
    "        self.sfxn = sfxn\n",
    "        self.pt = pt\n",
    "\n",
    "    def get_name(self): return 'My_New_Mover'\n",
    "\n",
    "    def apply(self, p):\n",
    "        #print( 'My_New_Mover.apply:', type(p) )\n",
    "        #print( 'This My_New_Mover apply...' )\n",
    "\n",
    "        cstopt = rosetta.protocols.enzdes.EnzdesBaseProtocol()\n",
    "        cstopt.set_scorefxn( self.sfxn )\n",
    "        cstopt.set_minimize_options(True, False, True, True) # check this fn signature for details\n",
    "\n",
    "        # this actuall runs the minimizer !\n",
    "        cstopt.cst_minimize(p, self.pt, True)\n",
    "\n",
    "cstopt = My_New_Mover(sfxn,pt)\n",
    "\n",
    "## Note that a mover must have an apply function that takes a pose and does something to it\n",
    "## in this case, cst opt derives from Enzdesbase protocol, but in the xml it's call from an option in\n",
    "## the enzdesrepackmin mover... blah blah blah, long story short, this ends up working in pyrosetta since\n",
    "## there are currently no setters for this option in the enzrepackmin mover... this needs to be fixed\n",
    "## Now we string all of our movers together so that one mover can be fed into the generic monte carlo\n",
    "\n"
   ]
  },
  {
   "cell_type": "code",
   "execution_count": null,
   "metadata": {
    "collapsed": true
   },
   "outputs": [],
   "source": [
    "parsed = rosetta.protocols.moves.SequenceMover()\n",
    "#parsed.add_mover(pm) # state 2, nothing should have changed\n",
    "parsed.add_mover(predock)\n",
    "#parsed.add_mover(pm)  # state 3, only the ligand should have moved\n",
    "parsed.add_mover(cstopt)\n",
    "#parsed.add_mover(pm)  # state 4 , the constraints should be optimized/satisfied\n",
    "parsed.add_mover(enzdes)\n",
    "#parsed.add_mover(pm) # state 5, designing and packing within the shells\n",
    "parsed.add_mover(enzdes_wbb)\n",
    "#parsed.add_mover(pm) # state 6, now, the backbone might have minor perturbations (sometimes barely noticeable)\n",
    "## These states track with running\n",
    "## a simulation for testing using \"mc.apply(p)\"\n",
    "## now we setup the Generic Monte Carlo object to run the simulation, this will run our sequence mover/parsedprotocol\n",
    "## for X cycles, you can set the criterion (sfxn) and filters and other stuff\n",
    "\n",
    "# The XML line looks like this\n",
    "##<GenericMonteCarlo name=multi_dd mover_name=dock_des filter_name=allcst trials=10 sample_type=low temperature=0.6 drift=1\\/>\n",
    "\n",
    "mc = rosetta.protocols.simple_moves.GenericMonteCarloMover()\n",
    "mc.set_drift(True) # this sets drift for the maxtrials (not technically mc anymore)\n",
    "mc.set_maxtrials(1)  # CHANGE THIS TO 10 for real runs\n",
    "mc.set_sampletype('low')\n",
    "mc.set_temperature(0.6)\n",
    "mc.set_mover(parsed)\n",
    "mc.set_scorefxn(sfxn)\n",
    "mc.apply(p)\n",
    "\n"
   ]
  },
  {
   "cell_type": "code",
   "execution_count": null,
   "metadata": {
    "collapsed": true
   },
   "outputs": [],
   "source": [
    "# This is how you would normally run for nstruct 10\n",
    "# Note: This is not actually necessary depending on your goals, you can\n",
    "# also mc.apply(p), or store the energies over the simulation, or p.dump_pdb() etc.\n",
    "nstruct = 2\n",
    "job_output = 'test_output'\n",
    "jd = pyrosetta.PyJobDistributor(job_output, nstruct, sfxn)\n",
    "temp_pose = rosetta.core.pose.Pose()    # a temporary pose to export to PyMOL\n",
    "temp_pose.assign(p)\n",
    "counter = 0    # for pretty output to PyMOL\n",
    "\n",
    "while not jd.job_complete:\n",
    "\n",
    "    counter += 1\n",
    "\n",
    "    test_pose = rosetta.core.pose.Pose()\n",
    "    # set staring pose to input pose\n",
    "    test_pose.assign(p)\n",
    "    # change pose name for pretty viewing in PyMol\n",
    "    test_pose.pdb_info().name(job_output + '_' + str(counter))\n",
    "\n",
    "    # apply mc mover (with all of the stuff)\n",
    "    mc.apply(test_pose)\n",
    "\n",
    "    # have the jd output the resulting low energy model\n",
    "    jd.output_decoy(test_pose)\n",
    "\n",
    "\n",
    "\n",
    "\n"
   ]
  },
  {
   "cell_type": "code",
   "execution_count": null,
   "metadata": {
    "collapsed": true
   },
   "outputs": [],
   "source": []
  },
  {
   "cell_type": "code",
   "execution_count": null,
   "metadata": {
    "collapsed": true
   },
   "outputs": [],
   "source": []
  },
  {
   "cell_type": "code",
   "execution_count": null,
   "metadata": {
    "collapsed": true
   },
   "outputs": [],
   "source": []
  },
  {
   "cell_type": "code",
   "execution_count": null,
   "metadata": {
    "collapsed": true
   },
   "outputs": [],
   "source": []
  },
  {
   "cell_type": "code",
   "execution_count": null,
   "metadata": {
    "collapsed": true
   },
   "outputs": [],
   "source": []
  },
  {
   "cell_type": "code",
   "execution_count": null,
   "metadata": {
    "collapsed": true
   },
   "outputs": [],
   "source": []
  },
  {
   "cell_type": "code",
   "execution_count": null,
   "metadata": {
    "collapsed": true
   },
   "outputs": [],
   "source": []
  },
  {
   "cell_type": "code",
   "execution_count": null,
   "metadata": {
    "collapsed": true
   },
   "outputs": [],
   "source": []
  },
  {
   "cell_type": "code",
   "execution_count": null,
   "metadata": {
    "collapsed": true
   },
   "outputs": [],
   "source": []
  },
  {
   "cell_type": "code",
   "execution_count": null,
   "metadata": {
    "collapsed": true
   },
   "outputs": [],
   "source": []
  },
  {
   "cell_type": "code",
   "execution_count": 2,
   "metadata": {},
   "outputs": [
    {
     "ename": "NameError",
     "evalue": "name '__version__' is not defined",
     "output_type": "error",
     "traceback": [
      "\u001b[0;31m---------------------------------------------------------------------------\u001b[0m",
      "\u001b[0;31mNameError\u001b[0m                                 Traceback (most recent call last)",
      "\u001b[0;32m<ipython-input-2-d0ad0054b387>\u001b[0m in \u001b[0;36m<module>\u001b[0;34m()\u001b[0m\n\u001b[0;32m----> 1\u001b[0;31m \u001b[0m__version__\u001b[0m\u001b[0;34m\u001b[0m\u001b[0m\n\u001b[0m",
      "\u001b[0;31mNameError\u001b[0m: name '__version__' is not defined"
     ]
    }
   ],
   "source": [
    "\n",
    "__version__"
   ]
  },
  {
   "cell_type": "code",
   "execution_count": null,
   "metadata": {
    "collapsed": true
   },
   "outputs": [],
   "source": []
  }
 ],
 "metadata": {
  "kernelspec": {
   "display_name": "Python 3",
   "language": "python",
   "name": "python3"
  },
  "language_info": {
   "codemirror_mode": {
    "name": "ipython",
    "version": 3
   },
   "file_extension": ".py",
   "mimetype": "text/x-python",
   "name": "python",
   "nbconvert_exporter": "python",
   "pygments_lexer": "ipython3",
   "version": "3.5.3"
  }
 },
 "nbformat": 4,
 "nbformat_minor": 2
}
