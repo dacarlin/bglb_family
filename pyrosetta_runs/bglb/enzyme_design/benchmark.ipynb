{
 "cells": [
  {
   "cell_type": "code",
   "execution_count": 1,
   "metadata": {
    "collapsed": true
   },
   "outputs": [],
   "source": [
    "import pyrosetta \n",
    "from rosetta import protocols, core\n",
    "from Bio.Data import IUPACData\n",
    "from sklearn import preprocessing, linear_model, model_selection\n",
    "\n",
    "%matplotlib inline \n",
    "import seaborn as sns \n",
    "import matplotlib.pyplot as plt\n",
    "import pandas"
   ]
  },
  {
   "cell_type": "code",
   "execution_count": 2,
   "metadata": {
    "collapsed": true
   },
   "outputs": [],
   "source": [
    "INPUT_POSE = 'input_pose.pdb'\n",
    "PARAMS = 'pnpg.params'\n",
    "CST_FILE = 'pnpg.cst'\n",
    "TARGET = 399\n",
    "NEW_RES = 'K'"
   ]
  },
  {
   "cell_type": "code",
   "execution_count": 3,
   "metadata": {},
   "outputs": [
    {
     "name": "stdout",
     "output_type": "stream",
     "text": [
      "Found rosetta database at: /Users/alex/anaconda3/envs/rose/lib/python3.5/site-packages/pyrosetta-4.0-py3.5.egg/database; using it....\n",
      "PyRosetta-4 2016 [Rosetta 2016 unknown:94998f0e5b038b6d8083995a664cb96641cb844b 2017-05-11 15:10:16 -0500] retrieved from: git@github.com:RosettaCommons/main.git\n",
      "(C) Copyright Rosetta Commons Member Institutions.\n",
      "Created in JHU by Sergey Lyskov and PyRosetta Team.\n",
      "\n"
     ]
    }
   ],
   "source": [
    "pyrosetta.init('-beta -extra_res_fa pnpg.params -preserve_header')"
   ]
  },
  {
   "cell_type": "code",
   "execution_count": 4,
   "metadata": {
    "collapsed": true
   },
   "outputs": [],
   "source": [
    "p = pyrosetta.pose_from_file(INPUT_POSE)\n",
    "s = pyrosetta.create_score_function('beta_cst')\n",
    "soft_rep = pyrosetta.create_score_function('soft_rep')"
   ]
  },
  {
   "cell_type": "code",
   "execution_count": 5,
   "metadata": {},
   "outputs": [
    {
     "data": {
      "text/plain": [
       "('Score before constraints', -1272.156077213541)"
      ]
     },
     "execution_count": 5,
     "metadata": {},
     "output_type": "execute_result"
    }
   ],
   "source": [
    "'Score before constraints', s(p)"
   ]
  },
  {
   "cell_type": "code",
   "execution_count": 6,
   "metadata": {
    "collapsed": true
   },
   "outputs": [],
   "source": [
    "add_constraints = protocols.enzdes.AddOrRemoveMatchCsts()\n",
    "add_constraints.cstfile(CST_FILE) \n",
    "add_constraints.set_cst_action(protocols.enzdes.CstAction.ADD_NEW)\n",
    "add_constraints.apply(p)"
   ]
  },
  {
   "cell_type": "code",
   "execution_count": 7,
   "metadata": {},
   "outputs": [
    {
     "data": {
      "text/plain": [
       "('Score after constraints', -1274.3293653061862)"
      ]
     },
     "execution_count": 7,
     "metadata": {},
     "output_type": "execute_result"
    }
   ],
   "source": [
    "'Score after constraints', s(p)"
   ]
  },
  {
   "cell_type": "code",
   "execution_count": 8,
   "metadata": {
    "collapsed": true
   },
   "outputs": [],
   "source": [
    "# output a PDB file \n",
    "p.dump_scored_pdb('input_pose_0001.pdb', s)"
   ]
  },
  {
   "cell_type": "code",
   "execution_count": 9,
   "metadata": {
    "collapsed": true
   },
   "outputs": [],
   "source": [
    "new_res_three = IUPACData.protein_letters_1to3[NEW_RES].upper()\n",
    "mutate = protocols.simple_moves.MutateResidue(TARGET, new_res_three) \n",
    "mutate.apply(p)"
   ]
  },
  {
   "cell_type": "code",
   "execution_count": 10,
   "metadata": {},
   "outputs": [
    {
     "data": {
      "text/plain": [
       "('Score after mutation', -832.3176113264828)"
      ]
     },
     "execution_count": 10,
     "metadata": {},
     "output_type": "execute_result"
    }
   ],
   "source": [
    "'Score after mutation', s(p)"
   ]
  },
  {
   "cell_type": "code",
   "execution_count": 11,
   "metadata": {
    "collapsed": true
   },
   "outputs": [],
   "source": [
    "# output a PDB file \n",
    "p.dump_scored_pdb('input_pose_0002.pdb', s)"
   ]
  },
  {
   "cell_type": "code",
   "execution_count": 12,
   "metadata": {
    "collapsed": true
   },
   "outputs": [],
   "source": [
    "enzyme_design = protocols.enzdes.EnzRepackMinimize()\n",
    "enzyme_design.set_scorefxn_repack(soft_rep)\n",
    "enzyme_design.set_scorefxn_minimize(s)\n",
    "enzyme_design.set_design(False)\n",
    "enzyme_design.set_min_lig(True)\n",
    "enzyme_design.set_min_rb(True)\n",
    "enzyme_design.set_min_sc(True)\n",
    "\n",
    "tf = core.pack.task.TaskFactory()\n",
    "task = protocols.toolbox.task_operations.DesignAroundOperation()\n",
    "task.allow_design(False)\n",
    "task.repack_shell(10.0)\n",
    "task.include_residue(p.total_residue())\n",
    "task.include_residue(TARGET)\n",
    "tf.push_back(task)\n",
    "pt = tf.create_task_and_apply_taskoperations(p)\n",
    "enzyme_design.task_factory(tf)"
   ]
  },
  {
   "cell_type": "code",
   "execution_count": 13,
   "metadata": {},
   "outputs": [
    {
     "data": {
      "text/plain": [
       "('Nothing is designed', True)"
      ]
     },
     "execution_count": 13,
     "metadata": {},
     "output_type": "execute_result"
    }
   ],
   "source": [
    "\"Nothing is designed\", any([n == 1 for n in pt.designing_residues()])"
   ]
  },
  {
   "cell_type": "code",
   "execution_count": 14,
   "metadata": {},
   "outputs": [
    {
     "data": {
      "text/plain": [
       "('Number repacked', 40)"
      ]
     },
     "execution_count": 14,
     "metadata": {},
     "output_type": "execute_result"
    }
   ],
   "source": [
    "\"Number repacked\", sum(pt.repacking_residues()) "
   ]
  },
  {
   "cell_type": "code",
   "execution_count": 15,
   "metadata": {
    "collapsed": true
   },
   "outputs": [],
   "source": [
    "parsed = protocols.moves.SequenceMover()\n",
    "parsed.add_mover(enzyme_design) \n",
    "\n",
    "mc = protocols.simple_moves.GenericMonteCarloMover()\n",
    "mc.set_drift(False)\n",
    "mc.set_maxtrials(1)\n",
    "mc.set_sampletype('low')\n",
    "mc.set_temperature(0.6)\n",
    "mc.set_mover(parsed)\n",
    "mc.set_scorefxn(s)\n",
    "mc.apply(p)"
   ]
  },
  {
   "cell_type": "code",
   "execution_count": 16,
   "metadata": {},
   "outputs": [
    {
     "data": {
      "text/plain": [
       "('Score after Monte Carlo', -1256.258729097665)"
      ]
     },
     "execution_count": 16,
     "metadata": {},
     "output_type": "execute_result"
    }
   ],
   "source": [
    "'Score after Monte Carlo', s(p)"
   ]
  },
  {
   "cell_type": "code",
   "execution_count": 17,
   "metadata": {
    "collapsed": true
   },
   "outputs": [],
   "source": [
    "# output a PDB file \n",
    "p.dump_scored_pdb('input_pose_0003.pdb', s)"
   ]
  },
  {
   "cell_type": "code",
   "execution_count": 18,
   "metadata": {},
   "outputs": [
    {
     "name": "stdout",
     "output_type": "stream",
     "text": [
      "{353, 164, 446, 295}\n"
     ]
    }
   ],
   "source": [
    "# generate features \n",
    "\n",
    "def residues_with_constraints(pose):\n",
    "    result = []\n",
    "    for n in pose.constraint_set().get_all_constraints():\n",
    "        for m in n.residues():\n",
    "            result.append(m)\n",
    "    return set(result) \n",
    "\n",
    "print(residues_with_constraints(p))"
   ]
  },
  {
   "cell_type": "code",
   "execution_count": 19,
   "metadata": {},
   "outputs": [
    {
     "name": "stdout",
     "output_type": "stream",
     "text": [
      "-1256.258729097665\n"
     ]
    },
    {
     "data": {
      "text/plain": [
       "<rosetta.core.scoring.EMapVector at 0x1254e4c38>"
      ]
     },
     "execution_count": 19,
     "metadata": {},
     "output_type": "execute_result"
    }
   ],
   "source": [
    "print(s(p))\n",
    "en = p.energies()\n",
    "en.residue_total_energies(12)"
   ]
  },
  {
   "cell_type": "code",
   "execution_count": 20,
   "metadata": {
    "scrolled": false
   },
   "outputs": [
    {
     "data": {
      "text/plain": [
       "{'164__angle_constraint': 0.01282231124127567,\n",
       " '164__atom_pair_constraint': 0.06322637546560678,\n",
       " '164__chainbreak': 0.0,\n",
       " '164__coordinate_constraint': 0.0,\n",
       " '164__dihedral_constraint': 0.0,\n",
       " '164__dslf_fa13': 0.0,\n",
       " '164__fa_atr': -10.239707482855739,\n",
       " '164__fa_dun_dev': 0.011515890076749512,\n",
       " '164__fa_dun_rot': 0.0,\n",
       " '164__fa_dun_semi': 4.080225708988196,\n",
       " '164__fa_elec': -4.746251491428072,\n",
       " '164__fa_intra_atr_xover4': -0.24549003780855677,\n",
       " '164__fa_intra_elec': -0.3589812440077575,\n",
       " '164__fa_intra_rep_xover4': 0.1123514634110579,\n",
       " '164__fa_intra_sol_xover4': 0.42214251648272044,\n",
       " '164__fa_rep': 4.499718905023112,\n",
       " '164__fa_sol': 12.214979466315551,\n",
       " '164__hbond_bb_sc': 0.0,\n",
       " '164__hbond_lr_bb': 0.0,\n",
       " '164__hbond_sc': -0.08764716704092744,\n",
       " '164__hbond_sr_bb': 0.0,\n",
       " '164__hxl_tors': 0.0,\n",
       " '164__lk_ball': 6.312237177172938,\n",
       " '164__lk_ball_bridge': 0.036621137942767,\n",
       " '164__lk_ball_bridge_uncpl': 0.2284926101078643,\n",
       " '164__lk_ball_iso': 12.807334992637557,\n",
       " '164__omega': 0.27833958241775336,\n",
       " '164__p_aa_pp': -0.20291296462724154,\n",
       " '164__pro_close': 0.0048618414884384915,\n",
       " '164__rama_prepro': 0.7218134173179762,\n",
       " '164__ref': -2.7348,\n",
       " '164__res_type_constraint': 0.0,\n",
       " '295__angle_constraint': 0.0,\n",
       " '295__atom_pair_constraint': 0.0,\n",
       " '295__chainbreak': 0.0,\n",
       " '295__coordinate_constraint': 0.0,\n",
       " '295__dihedral_constraint': 0.0,\n",
       " '295__dslf_fa13': 0.0,\n",
       " '295__fa_atr': -9.538830777376285,\n",
       " '295__fa_dun_dev': 0.8412683789545629,\n",
       " '295__fa_dun_rot': 0.0,\n",
       " '295__fa_dun_semi': 3.0761127929818644,\n",
       " '295__fa_elec': -1.6289793538655188,\n",
       " '295__fa_intra_atr_xover4': -0.6232283825424229,\n",
       " '295__fa_intra_elec': -0.07742615415798713,\n",
       " '295__fa_intra_rep_xover4': 0.10159506150947319,\n",
       " '295__fa_intra_sol_xover4': 0.3805650974902676,\n",
       " '295__fa_rep': 3.649548045679388,\n",
       " '295__fa_sol': 5.072347500511864,\n",
       " '295__hbond_bb_sc': -0.666252465232986,\n",
       " '295__hbond_lr_bb': 0.0,\n",
       " '295__hbond_sc': -0.08260960458503673,\n",
       " '295__hbond_sr_bb': 0.0,\n",
       " '295__hxl_tors': 0.17031422785970646,\n",
       " '295__lk_ball': 3.423940065053254,\n",
       " '295__lk_ball_bridge': 0.15413791299613686,\n",
       " '295__lk_ball_bridge_uncpl': 1.0455143517099996,\n",
       " '295__lk_ball_iso': 7.756355650453016,\n",
       " '295__omega': 0.028097367136795393,\n",
       " '295__p_aa_pp': -0.5672638578845491,\n",
       " '295__pro_close': 0.0,\n",
       " '295__rama_prepro': 0.757374666697765,\n",
       " '295__ref': 1.2797,\n",
       " '295__res_type_constraint': 0.0,\n",
       " '353__angle_constraint': 2.163759514743196,\n",
       " '353__atom_pair_constraint': 0.0,\n",
       " '353__chainbreak': 0.0,\n",
       " '353__coordinate_constraint': 0.0,\n",
       " '353__dihedral_constraint': 0.017500028646035344,\n",
       " '353__dslf_fa13': 0.0,\n",
       " '353__fa_atr': -8.362652851996549,\n",
       " '353__fa_dun_dev': 0.05002870894353302,\n",
       " '353__fa_dun_rot': 0.0,\n",
       " '353__fa_dun_semi': 4.3441921759932525,\n",
       " '353__fa_elec': -2.6059703259957665,\n",
       " '353__fa_intra_atr_xover4': -0.21592476360374893,\n",
       " '353__fa_intra_elec': -0.5347771359794792,\n",
       " '353__fa_intra_rep_xover4': 0.0635331570270541,\n",
       " '353__fa_intra_sol_xover4': 0.3490983257445587,\n",
       " '353__fa_rep': 1.7059275041007134,\n",
       " '353__fa_sol': 10.067908659047678,\n",
       " '353__hbond_bb_sc': 0.0,\n",
       " '353__hbond_lr_bb': 0.0,\n",
       " '353__hbond_sc': -0.5973531307044448,\n",
       " '353__hbond_sr_bb': 0.0,\n",
       " '353__hxl_tors': 0.0,\n",
       " '353__lk_ball': 4.912057360597017,\n",
       " '353__lk_ball_bridge': 0.10819384094146947,\n",
       " '353__lk_ball_bridge_uncpl': 0.6251705739037252,\n",
       " '353__lk_ball_iso': 10.208848081584803,\n",
       " '353__omega': 0.16168714713754706,\n",
       " '353__p_aa_pp': 0.2467627006144188,\n",
       " '353__pro_close': 0.0,\n",
       " '353__rama_prepro': 0.4607146416212321,\n",
       " '353__ref': -2.7348,\n",
       " '353__res_type_constraint': 0.0,\n",
       " '446__angle_constraint': 2.1765818259844716,\n",
       " '446__atom_pair_constraint': 0.06322637546560678,\n",
       " '446__chainbreak': 0.0,\n",
       " '446__coordinate_constraint': 0.0,\n",
       " '446__dihedral_constraint': 0.017500028646035344,\n",
       " '446__dslf_fa13': 0.0,\n",
       " '446__fa_atr': -12.58134497488245,\n",
       " '446__fa_dun_dev': 0.0,\n",
       " '446__fa_dun_rot': 0.0,\n",
       " '446__fa_dun_semi': 0.0,\n",
       " '446__fa_elec': -5.97627891354911,\n",
       " '446__fa_intra_atr_xover4': -2.125896125171842,\n",
       " '446__fa_intra_elec': -2.2676142046335714,\n",
       " '446__fa_intra_rep_xover4': 1.0650942822502811,\n",
       " '446__fa_intra_sol_xover4': 1.3560435716815227,\n",
       " '446__fa_rep': 6.8156233054177795,\n",
       " '446__fa_sol': 12.503227811816393,\n",
       " '446__hbond_bb_sc': 0.0,\n",
       " '446__hbond_lr_bb': 0.0,\n",
       " '446__hbond_sc': -2.19334753102887,\n",
       " '446__hbond_sr_bb': 0.0,\n",
       " '446__hxl_tors': 0.0,\n",
       " '446__lk_ball': 7.2629132145976225,\n",
       " '446__lk_ball_bridge': 0.10456119295417965,\n",
       " '446__lk_ball_bridge_uncpl': 1.2186098269544225,\n",
       " '446__lk_ball_iso': 10.9067949370703,\n",
       " '446__omega': 0.0,\n",
       " '446__p_aa_pp': 0.0,\n",
       " '446__pro_close': 0.0,\n",
       " '446__rama_prepro': 0.0,\n",
       " '446__ref': 0.0,\n",
       " '446__res_type_constraint': 0.0}"
      ]
     },
     "execution_count": 20,
     "metadata": {},
     "output_type": "execute_result"
    }
   ],
   "source": [
    "def get_residue_scores(pose, score_function, residues=[]):\n",
    "    \n",
    "    values = []\n",
    "    labels = []\n",
    "    if len(residues) > 0:\n",
    "        residue_set = residues\n",
    "    else:\n",
    "        residue_set = range(1, pose.total_residue()+1) \n",
    "        # want to include lig\n",
    "    score_types = score_function.get_nonzero_weighted_scoretypes()\n",
    "    begin_score = score_function(pose) \n",
    "    for residue in residue_set:\n",
    "        for st in score_types:\n",
    "            label = '{}__{}'.format(residue, str(st).replace('ScoreType.', ''))\n",
    "            labels.append(label)\n",
    "            values.append(pose.energies().residue_total_energies(residue)[st])\n",
    "                          \n",
    "    return dict(zip(labels, values))\n",
    "                          \n",
    "get_residue_scores(p, s, residues_with_constraints(p))"
   ]
  },
  {
   "cell_type": "code",
   "execution_count": 21,
   "metadata": {},
   "outputs": [
    {
     "data": {
      "text/plain": [
       "'L'"
      ]
     },
     "execution_count": 21,
     "metadata": {},
     "output_type": "execute_result"
    }
   ],
   "source": [
    "p.sequence()[122-1]"
   ]
  },
  {
   "cell_type": "code",
   "execution_count": null,
   "metadata": {
    "collapsed": true
   },
   "outputs": [],
   "source": []
  },
  {
   "cell_type": "code",
   "execution_count": 22,
   "metadata": {
    "collapsed": true
   },
   "outputs": [],
   "source": [
    "# now do for all mutants "
   ]
  },
  {
   "cell_type": "code",
   "execution_count": 23,
   "metadata": {},
   "outputs": [
    {
     "data": {
      "text/html": [
       "<div>\n",
       "<table border=\"1\" class=\"dataframe\">\n",
       "  <thead>\n",
       "    <tr style=\"text-align: right;\">\n",
       "      <th></th>\n",
       "      <th>kcat</th>\n",
       "      <th>km</th>\n",
       "      <th>kcatkm</th>\n",
       "      <th>expression</th>\n",
       "    </tr>\n",
       "    <tr>\n",
       "      <th>mutant_name</th>\n",
       "      <th></th>\n",
       "      <th></th>\n",
       "      <th></th>\n",
       "      <th></th>\n",
       "    </tr>\n",
       "  </thead>\n",
       "  <tbody>\n",
       "    <tr>\n",
       "      <th>S14A</th>\n",
       "      <td>-0.439333</td>\n",
       "      <td>0.217484</td>\n",
       "      <td>-0.651460</td>\n",
       "      <td>1</td>\n",
       "    </tr>\n",
       "    <tr>\n",
       "      <th>T15A</th>\n",
       "      <td>-0.156314</td>\n",
       "      <td>0.025306</td>\n",
       "      <td>-0.176657</td>\n",
       "      <td>1</td>\n",
       "    </tr>\n",
       "    <tr>\n",
       "      <th>S16A</th>\n",
       "      <td>-0.756962</td>\n",
       "      <td>0.447468</td>\n",
       "      <td>-1.199275</td>\n",
       "      <td>1</td>\n",
       "    </tr>\n",
       "    <tr>\n",
       "      <th>S17A</th>\n",
       "      <td>-0.016087</td>\n",
       "      <td>0.567026</td>\n",
       "      <td>-0.577999</td>\n",
       "      <td>1</td>\n",
       "    </tr>\n",
       "    <tr>\n",
       "      <th>S17E</th>\n",
       "      <td>-0.137625</td>\n",
       "      <td>0.165541</td>\n",
       "      <td>-0.298065</td>\n",
       "      <td>1</td>\n",
       "    </tr>\n",
       "  </tbody>\n",
       "</table>\n",
       "</div>"
      ],
      "text/plain": [
       "                 kcat        km    kcatkm  expression\n",
       "mutant_name                                          \n",
       "S14A        -0.439333  0.217484 -0.651460           1\n",
       "T15A        -0.156314  0.025306 -0.176657           1\n",
       "S16A        -0.756962  0.447468 -1.199275           1\n",
       "S17A        -0.016087  0.567026 -0.577999           1\n",
       "S17E        -0.137625  0.165541 -0.298065           1"
      ]
     },
     "execution_count": 23,
     "metadata": {},
     "output_type": "execute_result"
    }
   ],
   "source": [
    "t = pandas.read_csv('../../../data_sets/speculative_targets.csv', index_col=0)\n",
    "t.head()"
   ]
  },
  {
   "cell_type": "code",
   "execution_count": 24,
   "metadata": {},
   "outputs": [
    {
     "data": {
      "text/plain": [
       "145"
      ]
     },
     "execution_count": 24,
     "metadata": {},
     "output_type": "execute_result"
    }
   ],
   "source": [
    "# mutant_list = ['W120K', 'D121F', 'L122I']\n",
    "mutant_list = [n for n in t.index if 'gl' not in n]\n",
    "len(mutant_list)"
   ]
  },
  {
   "cell_type": "code",
   "execution_count": 25,
   "metadata": {
    "scrolled": false
   },
   "outputs": [
    {
     "name": "stdout",
     "output_type": "stream",
     "text": [
      "{353, 164, 446, 295}\n",
      "14 A\n",
      "15 A\n",
      "16 A\n",
      "17 A\n",
      "17 E\n",
      "18 A\n",
      "52 G\n",
      "72 A\n",
      "91 E\n",
      "101 R\n",
      "119 N\n",
      "119 A\n",
      "120 H\n",
      "120 F\n",
      "154 D\n",
      "163 A\n",
      "163 D\n",
      "163 C\n",
      "164 A\n",
      "167 A\n",
      "167 Q\n",
      "171 A\n",
      "171 R\n",
      "175 R\n",
      "177 L\n",
      "177 K\n",
      "177 A\n",
      "178 A\n",
      "192 S\n",
      "218 A\n",
      "220 R\n",
      "220 G\n",
      "220 H\n",
      "220 A\n",
      "220 Y\n",
      "221 A\n",
      "222 Y\n",
      "222 K\n",
      "222 R\n",
      "222 H\n",
      "222 Q\n",
      "222 A\n",
      "240 D\n",
      "240 K\n",
      "240 A\n",
      "244 E\n",
      "244 N\n",
      "293 C\n",
      "293 A\n",
      "294 A\n",
      "294 F\n",
      "298 E\n",
      "300 N\n",
      "313 R\n",
      "323 A\n",
      "325 C\n",
      "325 H\n",
      "325 A\n",
      "325 L\n",
      "331 A\n",
      "341 A\n",
      "352 A\n",
      "354 A\n",
      "358 T\n",
      "362 M\n",
      "373 R\n",
      "399 R\n",
      "399 C\n",
      "400 A\n",
      "404 A\n",
      "404 C\n",
      "406 D\n",
      "409 Y\n",
      "415 A\n",
      "423 S\n",
      "227 W\n",
      "167 S\n",
      "164 D\n",
      "388 C\n",
      "153 A\n",
      "244 M\n",
      "244 V\n",
      "108 N\n",
      "171 D\n",
      "163 S\n",
      "220 D\n",
      "220 S\n",
      "293 S\n",
      "313 E\n",
      "406 Q\n",
      "413 A\n",
      "178 N\n",
      "322 A\n",
      "261 E\n",
      "315 Y\n",
      "219 A\n",
      "177 S\n",
      "219 A\n",
      "315 Y\n",
      "315 A\n",
      "413 A\n",
      "284 R\n",
      "353 E\n",
      "426 S\n",
      "426 S\n",
      "177 S\n",
      "272 N\n",
      "320 Q\n",
      "12 N\n",
      "16 N\n",
      "19 P\n",
      "32 L\n",
      "34 A\n",
      "76 A\n",
      "119 E\n",
      "120 A\n",
      "121 F\n",
      "163 E\n",
      "163 K\n",
      "164 G\n",
      "164 R\n",
      "166 P\n",
      "178 R\n",
      "236 E\n",
      "240 E\n",
      "249 E\n",
      "261 D\n",
      "293 D\n",
      "293 K\n",
      "294 L\n",
      "296 A\n",
      "296 E\n",
      "315 N\n",
      "323 K\n",
      "325 G\n",
      "329 N\n",
      "343 S\n",
      "355 A\n",
      "379 T\n",
      "403 A\n",
      "407 G\n",
      "407 K\n",
      "407 Q\n",
      "407 R\n",
      "407 Y\n"
     ]
    },
    {
     "data": {
      "text/html": [
       "<div>\n",
       "<table border=\"1\" class=\"dataframe\">\n",
       "  <thead>\n",
       "    <tr style=\"text-align: right;\">\n",
       "      <th></th>\n",
       "      <th>164__angle_constraint</th>\n",
       "      <th>164__atom_pair_constraint</th>\n",
       "      <th>164__chainbreak</th>\n",
       "      <th>164__coordinate_constraint</th>\n",
       "      <th>164__dihedral_constraint</th>\n",
       "      <th>164__dslf_fa13</th>\n",
       "      <th>164__fa_atr</th>\n",
       "      <th>164__fa_dun_dev</th>\n",
       "      <th>164__fa_dun_rot</th>\n",
       "      <th>164__fa_dun_semi</th>\n",
       "      <th>...</th>\n",
       "      <th>446__lk_ball</th>\n",
       "      <th>446__lk_ball_bridge</th>\n",
       "      <th>446__lk_ball_bridge_uncpl</th>\n",
       "      <th>446__lk_ball_iso</th>\n",
       "      <th>446__omega</th>\n",
       "      <th>446__p_aa_pp</th>\n",
       "      <th>446__pro_close</th>\n",
       "      <th>446__rama_prepro</th>\n",
       "      <th>446__ref</th>\n",
       "      <th>446__res_type_constraint</th>\n",
       "    </tr>\n",
       "  </thead>\n",
       "  <tbody>\n",
       "    <tr>\n",
       "      <th>S14A</th>\n",
       "      <td>0.012970</td>\n",
       "      <td>0.078481</td>\n",
       "      <td>0.0</td>\n",
       "      <td>0.0</td>\n",
       "      <td>0.0</td>\n",
       "      <td>0.0</td>\n",
       "      <td>-10.250947</td>\n",
       "      <td>0.030694</td>\n",
       "      <td>0.0</td>\n",
       "      <td>4.103605</td>\n",
       "      <td>...</td>\n",
       "      <td>7.298455</td>\n",
       "      <td>0.106166</td>\n",
       "      <td>1.147538</td>\n",
       "      <td>11.376636</td>\n",
       "      <td>0.0</td>\n",
       "      <td>0.0</td>\n",
       "      <td>0.0</td>\n",
       "      <td>0.0</td>\n",
       "      <td>0.0</td>\n",
       "      <td>0.0</td>\n",
       "    </tr>\n",
       "    <tr>\n",
       "      <th>T15A</th>\n",
       "      <td>0.010381</td>\n",
       "      <td>0.078165</td>\n",
       "      <td>0.0</td>\n",
       "      <td>0.0</td>\n",
       "      <td>0.0</td>\n",
       "      <td>0.0</td>\n",
       "      <td>-10.251867</td>\n",
       "      <td>0.007407</td>\n",
       "      <td>0.0</td>\n",
       "      <td>4.092553</td>\n",
       "      <td>...</td>\n",
       "      <td>7.329897</td>\n",
       "      <td>0.109665</td>\n",
       "      <td>1.192606</td>\n",
       "      <td>11.393193</td>\n",
       "      <td>0.0</td>\n",
       "      <td>0.0</td>\n",
       "      <td>0.0</td>\n",
       "      <td>0.0</td>\n",
       "      <td>0.0</td>\n",
       "      <td>0.0</td>\n",
       "    </tr>\n",
       "    <tr>\n",
       "      <th>S16A</th>\n",
       "      <td>0.015946</td>\n",
       "      <td>0.078630</td>\n",
       "      <td>0.0</td>\n",
       "      <td>0.0</td>\n",
       "      <td>0.0</td>\n",
       "      <td>0.0</td>\n",
       "      <td>-10.243117</td>\n",
       "      <td>0.059116</td>\n",
       "      <td>0.0</td>\n",
       "      <td>4.108807</td>\n",
       "      <td>...</td>\n",
       "      <td>7.265003</td>\n",
       "      <td>0.092247</td>\n",
       "      <td>0.837597</td>\n",
       "      <td>11.385112</td>\n",
       "      <td>0.0</td>\n",
       "      <td>0.0</td>\n",
       "      <td>0.0</td>\n",
       "      <td>0.0</td>\n",
       "      <td>0.0</td>\n",
       "      <td>0.0</td>\n",
       "    </tr>\n",
       "    <tr>\n",
       "      <th>S17A</th>\n",
       "      <td>0.010063</td>\n",
       "      <td>0.078299</td>\n",
       "      <td>0.0</td>\n",
       "      <td>0.0</td>\n",
       "      <td>0.0</td>\n",
       "      <td>0.0</td>\n",
       "      <td>-10.251832</td>\n",
       "      <td>0.007014</td>\n",
       "      <td>0.0</td>\n",
       "      <td>4.092000</td>\n",
       "      <td>...</td>\n",
       "      <td>7.330956</td>\n",
       "      <td>0.109893</td>\n",
       "      <td>1.196544</td>\n",
       "      <td>11.394173</td>\n",
       "      <td>0.0</td>\n",
       "      <td>0.0</td>\n",
       "      <td>0.0</td>\n",
       "      <td>0.0</td>\n",
       "      <td>0.0</td>\n",
       "      <td>0.0</td>\n",
       "    </tr>\n",
       "    <tr>\n",
       "      <th>S17E</th>\n",
       "      <td>0.010174</td>\n",
       "      <td>0.078050</td>\n",
       "      <td>0.0</td>\n",
       "      <td>0.0</td>\n",
       "      <td>0.0</td>\n",
       "      <td>0.0</td>\n",
       "      <td>-10.251807</td>\n",
       "      <td>0.007014</td>\n",
       "      <td>0.0</td>\n",
       "      <td>4.091980</td>\n",
       "      <td>...</td>\n",
       "      <td>7.330572</td>\n",
       "      <td>0.109845</td>\n",
       "      <td>1.195681</td>\n",
       "      <td>11.394373</td>\n",
       "      <td>0.0</td>\n",
       "      <td>0.0</td>\n",
       "      <td>0.0</td>\n",
       "      <td>0.0</td>\n",
       "      <td>0.0</td>\n",
       "      <td>0.0</td>\n",
       "    </tr>\n",
       "  </tbody>\n",
       "</table>\n",
       "<p>5 rows × 128 columns</p>\n",
       "</div>"
      ],
      "text/plain": [
       "      164__angle_constraint  164__atom_pair_constraint  164__chainbreak  \\\n",
       "S14A               0.012970                   0.078481              0.0   \n",
       "T15A               0.010381                   0.078165              0.0   \n",
       "S16A               0.015946                   0.078630              0.0   \n",
       "S17A               0.010063                   0.078299              0.0   \n",
       "S17E               0.010174                   0.078050              0.0   \n",
       "\n",
       "      164__coordinate_constraint  164__dihedral_constraint  164__dslf_fa13  \\\n",
       "S14A                         0.0                       0.0             0.0   \n",
       "T15A                         0.0                       0.0             0.0   \n",
       "S16A                         0.0                       0.0             0.0   \n",
       "S17A                         0.0                       0.0             0.0   \n",
       "S17E                         0.0                       0.0             0.0   \n",
       "\n",
       "      164__fa_atr  164__fa_dun_dev  164__fa_dun_rot  164__fa_dun_semi  \\\n",
       "S14A   -10.250947         0.030694              0.0          4.103605   \n",
       "T15A   -10.251867         0.007407              0.0          4.092553   \n",
       "S16A   -10.243117         0.059116              0.0          4.108807   \n",
       "S17A   -10.251832         0.007014              0.0          4.092000   \n",
       "S17E   -10.251807         0.007014              0.0          4.091980   \n",
       "\n",
       "                ...             446__lk_ball  446__lk_ball_bridge  \\\n",
       "S14A            ...                 7.298455             0.106166   \n",
       "T15A            ...                 7.329897             0.109665   \n",
       "S16A            ...                 7.265003             0.092247   \n",
       "S17A            ...                 7.330956             0.109893   \n",
       "S17E            ...                 7.330572             0.109845   \n",
       "\n",
       "      446__lk_ball_bridge_uncpl  446__lk_ball_iso  446__omega  446__p_aa_pp  \\\n",
       "S14A                   1.147538         11.376636         0.0           0.0   \n",
       "T15A                   1.192606         11.393193         0.0           0.0   \n",
       "S16A                   0.837597         11.385112         0.0           0.0   \n",
       "S17A                   1.196544         11.394173         0.0           0.0   \n",
       "S17E                   1.195681         11.394373         0.0           0.0   \n",
       "\n",
       "      446__pro_close  446__rama_prepro  446__ref  446__res_type_constraint  \n",
       "S14A             0.0               0.0       0.0                       0.0  \n",
       "T15A             0.0               0.0       0.0                       0.0  \n",
       "S16A             0.0               0.0       0.0                       0.0  \n",
       "S17A             0.0               0.0       0.0                       0.0  \n",
       "S17E             0.0               0.0       0.0                       0.0  \n",
       "\n",
       "[5 rows x 128 columns]"
      ]
     },
     "execution_count": 25,
     "metadata": {},
     "output_type": "execute_result"
    }
   ],
   "source": [
    "p = pyrosetta.pose_from_file(INPUT_POSE)\n",
    "add_constraints.apply(p)\n",
    "res_w_cst = residues_with_constraints(p)\n",
    "print(res_w_cst)\n",
    "\n",
    "def get_features(mutant_names):\n",
    "    '''\n",
    "    Get a dict of features for a mutant \n",
    "    given an int residue position and one-letter code\n",
    "    '''\n",
    "\n",
    "    for mutant_name in mutant_names: \n",
    "        target, new_res = int(mutant_name[1:-1]), mutant_name[-1]\n",
    "\n",
    "        cp = p.clone()\n",
    "        begin_score = s(cp)\n",
    "        \n",
    "        new_res_three = IUPACData.protein_letters_1to3[new_res].upper()\n",
    "        mutate = protocols.simple_moves.MutateResidue(target, new_res_three) \n",
    "        mutate.apply(cp)\n",
    "\n",
    "        mc.apply(cp)\n",
    "        print(target, new_res)\n",
    "\n",
    "        data = get_residue_scores(cp, s, residues=res_w_cst)\n",
    "        yield pandas.Series(data, name=mutant_name)\n",
    "\n",
    "df = pandas.DataFrame(get_features(mutant_list)) \n",
    "df.head()"
   ]
  },
  {
   "cell_type": "code",
   "execution_count": null,
   "metadata": {
    "collapsed": true
   },
   "outputs": [],
   "source": []
  },
  {
   "cell_type": "code",
   "execution_count": 26,
   "metadata": {},
   "outputs": [
    {
     "name": "stdout",
     "output_type": "stream",
     "text": [
      "(145, 128)\n",
      "(145, 85)\n"
     ]
    }
   ],
   "source": [
    "print(df.shape)\n",
    "dropme = []\n",
    "for column in df:\n",
    "    if df[column].std() == 0.0:\n",
    "        dropme.append(column)\n",
    "df = df.drop(dropme, axis=1) \n",
    "scaler = preprocessing.StandardScaler()\n",
    "df = pandas.DataFrame(scaler.fit_transform(df), columns=df.columns, index=df.index)\n",
    "print(df.shape) "
   ]
  },
  {
   "cell_type": "code",
   "execution_count": 27,
   "metadata": {},
   "outputs": [
    {
     "data": {
      "text/html": [
       "<div>\n",
       "<table border=\"1\" class=\"dataframe\">\n",
       "  <thead>\n",
       "    <tr style=\"text-align: right;\">\n",
       "      <th></th>\n",
       "      <th>164__angle_constraint</th>\n",
       "      <th>164__atom_pair_constraint</th>\n",
       "      <th>164__dihedral_constraint</th>\n",
       "      <th>164__fa_atr</th>\n",
       "      <th>164__fa_dun_dev</th>\n",
       "      <th>164__fa_dun_rot</th>\n",
       "      <th>164__fa_dun_semi</th>\n",
       "      <th>164__fa_elec</th>\n",
       "      <th>164__fa_intra_atr_xover4</th>\n",
       "      <th>164__fa_intra_elec</th>\n",
       "      <th>...</th>\n",
       "      <th>446__fa_intra_elec</th>\n",
       "      <th>446__fa_intra_rep_xover4</th>\n",
       "      <th>446__fa_intra_sol_xover4</th>\n",
       "      <th>446__fa_rep</th>\n",
       "      <th>446__fa_sol</th>\n",
       "      <th>446__hbond_sc</th>\n",
       "      <th>446__lk_ball</th>\n",
       "      <th>446__lk_ball_bridge</th>\n",
       "      <th>446__lk_ball_bridge_uncpl</th>\n",
       "      <th>446__lk_ball_iso</th>\n",
       "    </tr>\n",
       "  </thead>\n",
       "  <tbody>\n",
       "    <tr>\n",
       "      <th>S14A</th>\n",
       "      <td>-0.094261</td>\n",
       "      <td>-0.090204</td>\n",
       "      <td>-0.100232</td>\n",
       "      <td>-0.149420</td>\n",
       "      <td>-0.087530</td>\n",
       "      <td>-0.083333</td>\n",
       "      <td>0.156782</td>\n",
       "      <td>-0.184508</td>\n",
       "      <td>-0.008853</td>\n",
       "      <td>-0.172869</td>\n",
       "      <td>...</td>\n",
       "      <td>0.215520</td>\n",
       "      <td>0.011824</td>\n",
       "      <td>-0.109961</td>\n",
       "      <td>-0.181700</td>\n",
       "      <td>0.143280</td>\n",
       "      <td>-0.456626</td>\n",
       "      <td>0.183466</td>\n",
       "      <td>0.045741</td>\n",
       "      <td>0.015662</td>\n",
       "      <td>0.143594</td>\n",
       "    </tr>\n",
       "    <tr>\n",
       "      <th>T15A</th>\n",
       "      <td>-0.094295</td>\n",
       "      <td>-0.090208</td>\n",
       "      <td>-0.100232</td>\n",
       "      <td>-0.150709</td>\n",
       "      <td>-0.114339</td>\n",
       "      <td>-0.083333</td>\n",
       "      <td>0.137865</td>\n",
       "      <td>-0.154046</td>\n",
       "      <td>-0.014657</td>\n",
       "      <td>0.004306</td>\n",
       "      <td>...</td>\n",
       "      <td>0.093776</td>\n",
       "      <td>0.016992</td>\n",
       "      <td>-0.169954</td>\n",
       "      <td>-0.131372</td>\n",
       "      <td>0.184260</td>\n",
       "      <td>-0.153476</td>\n",
       "      <td>0.269026</td>\n",
       "      <td>0.280540</td>\n",
       "      <td>0.291119</td>\n",
       "      <td>0.175799</td>\n",
       "    </tr>\n",
       "    <tr>\n",
       "      <th>S16A</th>\n",
       "      <td>-0.094222</td>\n",
       "      <td>-0.090202</td>\n",
       "      <td>-0.100232</td>\n",
       "      <td>-0.138447</td>\n",
       "      <td>-0.054810</td>\n",
       "      <td>-0.083333</td>\n",
       "      <td>0.165688</td>\n",
       "      <td>-0.110733</td>\n",
       "      <td>-0.012164</td>\n",
       "      <td>-0.172086</td>\n",
       "      <td>...</td>\n",
       "      <td>-0.363292</td>\n",
       "      <td>-0.184049</td>\n",
       "      <td>-0.097625</td>\n",
       "      <td>-0.099896</td>\n",
       "      <td>0.132019</td>\n",
       "      <td>-0.847055</td>\n",
       "      <td>0.092433</td>\n",
       "      <td>-0.888335</td>\n",
       "      <td>-1.878706</td>\n",
       "      <td>0.160081</td>\n",
       "    </tr>\n",
       "    <tr>\n",
       "      <th>S17A</th>\n",
       "      <td>-0.094299</td>\n",
       "      <td>-0.090207</td>\n",
       "      <td>-0.100232</td>\n",
       "      <td>-0.150660</td>\n",
       "      <td>-0.114792</td>\n",
       "      <td>-0.083333</td>\n",
       "      <td>0.136918</td>\n",
       "      <td>-0.151915</td>\n",
       "      <td>-0.015141</td>\n",
       "      <td>0.014827</td>\n",
       "      <td>...</td>\n",
       "      <td>0.089621</td>\n",
       "      <td>0.014575</td>\n",
       "      <td>-0.170088</td>\n",
       "      <td>-0.130968</td>\n",
       "      <td>0.187808</td>\n",
       "      <td>-0.141671</td>\n",
       "      <td>0.271906</td>\n",
       "      <td>0.295841</td>\n",
       "      <td>0.315187</td>\n",
       "      <td>0.177706</td>\n",
       "    </tr>\n",
       "    <tr>\n",
       "      <th>S17E</th>\n",
       "      <td>-0.094298</td>\n",
       "      <td>-0.090210</td>\n",
       "      <td>-0.100232</td>\n",
       "      <td>-0.150625</td>\n",
       "      <td>-0.114792</td>\n",
       "      <td>-0.083333</td>\n",
       "      <td>0.136885</td>\n",
       "      <td>-0.151363</td>\n",
       "      <td>-0.015162</td>\n",
       "      <td>0.015037</td>\n",
       "      <td>...</td>\n",
       "      <td>0.088657</td>\n",
       "      <td>0.014222</td>\n",
       "      <td>-0.170038</td>\n",
       "      <td>-0.130212</td>\n",
       "      <td>0.188361</td>\n",
       "      <td>-0.140734</td>\n",
       "      <td>0.270863</td>\n",
       "      <td>0.292632</td>\n",
       "      <td>0.309916</td>\n",
       "      <td>0.178094</td>\n",
       "    </tr>\n",
       "  </tbody>\n",
       "</table>\n",
       "<p>5 rows × 85 columns</p>\n",
       "</div>"
      ],
      "text/plain": [
       "      164__angle_constraint  164__atom_pair_constraint  \\\n",
       "S14A              -0.094261                  -0.090204   \n",
       "T15A              -0.094295                  -0.090208   \n",
       "S16A              -0.094222                  -0.090202   \n",
       "S17A              -0.094299                  -0.090207   \n",
       "S17E              -0.094298                  -0.090210   \n",
       "\n",
       "      164__dihedral_constraint  164__fa_atr  164__fa_dun_dev  164__fa_dun_rot  \\\n",
       "S14A                 -0.100232    -0.149420        -0.087530        -0.083333   \n",
       "T15A                 -0.100232    -0.150709        -0.114339        -0.083333   \n",
       "S16A                 -0.100232    -0.138447        -0.054810        -0.083333   \n",
       "S17A                 -0.100232    -0.150660        -0.114792        -0.083333   \n",
       "S17E                 -0.100232    -0.150625        -0.114792        -0.083333   \n",
       "\n",
       "      164__fa_dun_semi  164__fa_elec  164__fa_intra_atr_xover4  \\\n",
       "S14A          0.156782     -0.184508                 -0.008853   \n",
       "T15A          0.137865     -0.154046                 -0.014657   \n",
       "S16A          0.165688     -0.110733                 -0.012164   \n",
       "S17A          0.136918     -0.151915                 -0.015141   \n",
       "S17E          0.136885     -0.151363                 -0.015162   \n",
       "\n",
       "      164__fa_intra_elec        ...         446__fa_intra_elec  \\\n",
       "S14A           -0.172869        ...                   0.215520   \n",
       "T15A            0.004306        ...                   0.093776   \n",
       "S16A           -0.172086        ...                  -0.363292   \n",
       "S17A            0.014827        ...                   0.089621   \n",
       "S17E            0.015037        ...                   0.088657   \n",
       "\n",
       "      446__fa_intra_rep_xover4  446__fa_intra_sol_xover4  446__fa_rep  \\\n",
       "S14A                  0.011824                 -0.109961    -0.181700   \n",
       "T15A                  0.016992                 -0.169954    -0.131372   \n",
       "S16A                 -0.184049                 -0.097625    -0.099896   \n",
       "S17A                  0.014575                 -0.170088    -0.130968   \n",
       "S17E                  0.014222                 -0.170038    -0.130212   \n",
       "\n",
       "      446__fa_sol  446__hbond_sc  446__lk_ball  446__lk_ball_bridge  \\\n",
       "S14A     0.143280      -0.456626      0.183466             0.045741   \n",
       "T15A     0.184260      -0.153476      0.269026             0.280540   \n",
       "S16A     0.132019      -0.847055      0.092433            -0.888335   \n",
       "S17A     0.187808      -0.141671      0.271906             0.295841   \n",
       "S17E     0.188361      -0.140734      0.270863             0.292632   \n",
       "\n",
       "      446__lk_ball_bridge_uncpl  446__lk_ball_iso  \n",
       "S14A                   0.015662          0.143594  \n",
       "T15A                   0.291119          0.175799  \n",
       "S16A                  -1.878706          0.160081  \n",
       "S17A                   0.315187          0.177706  \n",
       "S17E                   0.309916          0.178094  \n",
       "\n",
       "[5 rows x 85 columns]"
      ]
     },
     "execution_count": 27,
     "metadata": {},
     "output_type": "execute_result"
    }
   ],
   "source": [
    "df.head()"
   ]
  },
  {
   "cell_type": "code",
   "execution_count": 28,
   "metadata": {},
   "outputs": [
    {
     "name": "stdout",
     "output_type": "stream",
     "text": [
      "(118, 88)\n"
     ]
    },
    {
     "data": {
      "text/html": [
       "<div>\n",
       "<table border=\"1\" class=\"dataframe\">\n",
       "  <thead>\n",
       "    <tr style=\"text-align: right;\">\n",
       "      <th></th>\n",
       "      <th>kcat</th>\n",
       "      <th>km</th>\n",
       "      <th>kcatkm</th>\n",
       "      <th>164__angle_constraint</th>\n",
       "      <th>164__atom_pair_constraint</th>\n",
       "      <th>164__dihedral_constraint</th>\n",
       "      <th>164__fa_atr</th>\n",
       "      <th>164__fa_dun_dev</th>\n",
       "      <th>164__fa_dun_rot</th>\n",
       "      <th>164__fa_dun_semi</th>\n",
       "      <th>...</th>\n",
       "      <th>446__fa_intra_elec</th>\n",
       "      <th>446__fa_intra_rep_xover4</th>\n",
       "      <th>446__fa_intra_sol_xover4</th>\n",
       "      <th>446__fa_rep</th>\n",
       "      <th>446__fa_sol</th>\n",
       "      <th>446__hbond_sc</th>\n",
       "      <th>446__lk_ball</th>\n",
       "      <th>446__lk_ball_bridge</th>\n",
       "      <th>446__lk_ball_bridge_uncpl</th>\n",
       "      <th>446__lk_ball_iso</th>\n",
       "    </tr>\n",
       "  </thead>\n",
       "  <tbody>\n",
       "    <tr>\n",
       "      <th>A192S</th>\n",
       "      <td>0.031408</td>\n",
       "      <td>0.007748</td>\n",
       "      <td>0.028609</td>\n",
       "      <td>-0.094300</td>\n",
       "      <td>-0.090205</td>\n",
       "      <td>-0.100232</td>\n",
       "      <td>-0.150797</td>\n",
       "      <td>-0.114954</td>\n",
       "      <td>-0.083333</td>\n",
       "      <td>0.136732</td>\n",
       "      <td>...</td>\n",
       "      <td>0.091440</td>\n",
       "      <td>0.017280</td>\n",
       "      <td>-0.172166</td>\n",
       "      <td>-0.130909</td>\n",
       "      <td>0.188277</td>\n",
       "      <td>-0.136169</td>\n",
       "      <td>0.273065</td>\n",
       "      <td>0.295817</td>\n",
       "      <td>0.313669</td>\n",
       "      <td>0.178151</td>\n",
       "    </tr>\n",
       "    <tr>\n",
       "      <th>A227W</th>\n",
       "      <td>-0.362874</td>\n",
       "      <td>0.531479</td>\n",
       "      <td>-0.889390</td>\n",
       "      <td>-0.094300</td>\n",
       "      <td>-0.090205</td>\n",
       "      <td>-0.100232</td>\n",
       "      <td>-0.150797</td>\n",
       "      <td>-0.114954</td>\n",
       "      <td>-0.083333</td>\n",
       "      <td>0.136732</td>\n",
       "      <td>...</td>\n",
       "      <td>0.091440</td>\n",
       "      <td>0.017280</td>\n",
       "      <td>-0.172166</td>\n",
       "      <td>-0.130909</td>\n",
       "      <td>0.188277</td>\n",
       "      <td>-0.136169</td>\n",
       "      <td>0.273065</td>\n",
       "      <td>0.295817</td>\n",
       "      <td>0.313669</td>\n",
       "      <td>0.178151</td>\n",
       "    </tr>\n",
       "    <tr>\n",
       "      <th>C167A</th>\n",
       "      <td>-0.264147</td>\n",
       "      <td>0.464191</td>\n",
       "      <td>-0.723565</td>\n",
       "      <td>-0.094321</td>\n",
       "      <td>-0.090270</td>\n",
       "      <td>-0.100232</td>\n",
       "      <td>0.452518</td>\n",
       "      <td>-0.110068</td>\n",
       "      <td>-0.083333</td>\n",
       "      <td>0.144153</td>\n",
       "      <td>...</td>\n",
       "      <td>-0.370710</td>\n",
       "      <td>0.144088</td>\n",
       "      <td>-0.473328</td>\n",
       "      <td>-0.125463</td>\n",
       "      <td>0.350487</td>\n",
       "      <td>-0.224857</td>\n",
       "      <td>0.443551</td>\n",
       "      <td>-0.841062</td>\n",
       "      <td>-1.170000</td>\n",
       "      <td>0.388959</td>\n",
       "    </tr>\n",
       "    <tr>\n",
       "      <th>C167Q</th>\n",
       "      <td>-0.242052</td>\n",
       "      <td>-0.007005</td>\n",
       "      <td>-0.230186</td>\n",
       "      <td>-0.094347</td>\n",
       "      <td>-0.067028</td>\n",
       "      <td>-0.100232</td>\n",
       "      <td>-0.607307</td>\n",
       "      <td>0.397275</td>\n",
       "      <td>-0.083333</td>\n",
       "      <td>0.526354</td>\n",
       "      <td>...</td>\n",
       "      <td>0.379252</td>\n",
       "      <td>-1.512400</td>\n",
       "      <td>1.950632</td>\n",
       "      <td>0.663768</td>\n",
       "      <td>2.362086</td>\n",
       "      <td>-0.889852</td>\n",
       "      <td>2.314721</td>\n",
       "      <td>-3.814610</td>\n",
       "      <td>-3.262867</td>\n",
       "      <td>3.207252</td>\n",
       "    </tr>\n",
       "    <tr>\n",
       "      <th>C167S</th>\n",
       "      <td>-0.953700</td>\n",
       "      <td>1.814514</td>\n",
       "      <td>-2.763251</td>\n",
       "      <td>-0.094201</td>\n",
       "      <td>-0.090378</td>\n",
       "      <td>-0.100232</td>\n",
       "      <td>0.314477</td>\n",
       "      <td>-0.065740</td>\n",
       "      <td>-0.083333</td>\n",
       "      <td>0.161325</td>\n",
       "      <td>...</td>\n",
       "      <td>-0.090255</td>\n",
       "      <td>-0.212403</td>\n",
       "      <td>0.016547</td>\n",
       "      <td>-0.348234</td>\n",
       "      <td>0.800175</td>\n",
       "      <td>-0.415937</td>\n",
       "      <td>0.571594</td>\n",
       "      <td>-0.194441</td>\n",
       "      <td>-0.311965</td>\n",
       "      <td>0.719093</td>\n",
       "    </tr>\n",
       "  </tbody>\n",
       "</table>\n",
       "<p>5 rows × 88 columns</p>\n",
       "</div>"
      ],
      "text/plain": [
       "           kcat        km    kcatkm  164__angle_constraint  \\\n",
       "A192S  0.031408  0.007748  0.028609              -0.094300   \n",
       "A227W -0.362874  0.531479 -0.889390              -0.094300   \n",
       "C167A -0.264147  0.464191 -0.723565              -0.094321   \n",
       "C167Q -0.242052 -0.007005 -0.230186              -0.094347   \n",
       "C167S -0.953700  1.814514 -2.763251              -0.094201   \n",
       "\n",
       "       164__atom_pair_constraint  164__dihedral_constraint  164__fa_atr  \\\n",
       "A192S                  -0.090205                 -0.100232    -0.150797   \n",
       "A227W                  -0.090205                 -0.100232    -0.150797   \n",
       "C167A                  -0.090270                 -0.100232     0.452518   \n",
       "C167Q                  -0.067028                 -0.100232    -0.607307   \n",
       "C167S                  -0.090378                 -0.100232     0.314477   \n",
       "\n",
       "       164__fa_dun_dev  164__fa_dun_rot  164__fa_dun_semi        ...         \\\n",
       "A192S        -0.114954        -0.083333          0.136732        ...          \n",
       "A227W        -0.114954        -0.083333          0.136732        ...          \n",
       "C167A        -0.110068        -0.083333          0.144153        ...          \n",
       "C167Q         0.397275        -0.083333          0.526354        ...          \n",
       "C167S        -0.065740        -0.083333          0.161325        ...          \n",
       "\n",
       "       446__fa_intra_elec  446__fa_intra_rep_xover4  446__fa_intra_sol_xover4  \\\n",
       "A192S            0.091440                  0.017280                 -0.172166   \n",
       "A227W            0.091440                  0.017280                 -0.172166   \n",
       "C167A           -0.370710                  0.144088                 -0.473328   \n",
       "C167Q            0.379252                 -1.512400                  1.950632   \n",
       "C167S           -0.090255                 -0.212403                  0.016547   \n",
       "\n",
       "       446__fa_rep  446__fa_sol  446__hbond_sc  446__lk_ball  \\\n",
       "A192S    -0.130909     0.188277      -0.136169      0.273065   \n",
       "A227W    -0.130909     0.188277      -0.136169      0.273065   \n",
       "C167A    -0.125463     0.350487      -0.224857      0.443551   \n",
       "C167Q     0.663768     2.362086      -0.889852      2.314721   \n",
       "C167S    -0.348234     0.800175      -0.415937      0.571594   \n",
       "\n",
       "       446__lk_ball_bridge  446__lk_ball_bridge_uncpl  446__lk_ball_iso  \n",
       "A192S             0.295817                   0.313669          0.178151  \n",
       "A227W             0.295817                   0.313669          0.178151  \n",
       "C167A            -0.841062                  -1.170000          0.388959  \n",
       "C167Q            -3.814610                  -3.262867          3.207252  \n",
       "C167S            -0.194441                  -0.311965          0.719093  \n",
       "\n",
       "[5 rows x 88 columns]"
      ]
     },
     "execution_count": 28,
     "metadata": {},
     "output_type": "execute_result"
    }
   ],
   "source": [
    "J = t.join(df).drop(['BglB'], axis=0).drop(['expression'], axis=1).dropna()\n",
    "print(J.shape) \n",
    "J.head()"
   ]
  },
  {
   "cell_type": "code",
   "execution_count": 29,
   "metadata": {},
   "outputs": [
    {
     "name": "stderr",
     "output_type": "stream",
     "text": [
      "/Users/alex/anaconda3/envs/rose/lib/python3.5/site-packages/sklearn/linear_model/coordinate_descent.py:484: ConvergenceWarning: Objective did not converge. You might want to increase the number of iterations. Fitting data with very small alpha may cause precision problems.\n",
      "  ConvergenceWarning)\n",
      "/Users/alex/anaconda3/envs/rose/lib/python3.5/site-packages/sklearn/linear_model/coordinate_descent.py:484: ConvergenceWarning: Objective did not converge. You might want to increase the number of iterations. Fitting data with very small alpha may cause precision problems.\n",
      "  ConvergenceWarning)\n",
      "/Users/alex/anaconda3/envs/rose/lib/python3.5/site-packages/sklearn/linear_model/coordinate_descent.py:484: ConvergenceWarning: Objective did not converge. You might want to increase the number of iterations. Fitting data with very small alpha may cause precision problems.\n",
      "  ConvergenceWarning)\n",
      "/Users/alex/anaconda3/envs/rose/lib/python3.5/site-packages/sklearn/linear_model/coordinate_descent.py:484: ConvergenceWarning: Objective did not converge. You might want to increase the number of iterations. Fitting data with very small alpha may cause precision problems.\n",
      "  ConvergenceWarning)\n",
      "/Users/alex/anaconda3/envs/rose/lib/python3.5/site-packages/sklearn/linear_model/coordinate_descent.py:484: ConvergenceWarning: Objective did not converge. You might want to increase the number of iterations. Fitting data with very small alpha may cause precision problems.\n",
      "  ConvergenceWarning)\n",
      "/Users/alex/anaconda3/envs/rose/lib/python3.5/site-packages/sklearn/linear_model/coordinate_descent.py:484: ConvergenceWarning: Objective did not converge. You might want to increase the number of iterations. Fitting data with very small alpha may cause precision problems.\n",
      "  ConvergenceWarning)\n",
      "/Users/alex/anaconda3/envs/rose/lib/python3.5/site-packages/sklearn/linear_model/coordinate_descent.py:484: ConvergenceWarning: Objective did not converge. You might want to increase the number of iterations. Fitting data with very small alpha may cause precision problems.\n",
      "  ConvergenceWarning)\n",
      "/Users/alex/anaconda3/envs/rose/lib/python3.5/site-packages/sklearn/linear_model/coordinate_descent.py:484: ConvergenceWarning: Objective did not converge. You might want to increase the number of iterations. Fitting data with very small alpha may cause precision problems.\n",
      "  ConvergenceWarning)\n",
      "/Users/alex/anaconda3/envs/rose/lib/python3.5/site-packages/sklearn/linear_model/coordinate_descent.py:484: ConvergenceWarning: Objective did not converge. You might want to increase the number of iterations. Fitting data with very small alpha may cause precision problems.\n",
      "  ConvergenceWarning)\n",
      "/Users/alex/anaconda3/envs/rose/lib/python3.5/site-packages/sklearn/linear_model/coordinate_descent.py:484: ConvergenceWarning: Objective did not converge. You might want to increase the number of iterations. Fitting data with very small alpha may cause precision problems.\n",
      "  ConvergenceWarning)\n",
      "/Users/alex/anaconda3/envs/rose/lib/python3.5/site-packages/sklearn/linear_model/coordinate_descent.py:484: ConvergenceWarning: Objective did not converge. You might want to increase the number of iterations. Fitting data with very small alpha may cause precision problems.\n",
      "  ConvergenceWarning)\n",
      "/Users/alex/anaconda3/envs/rose/lib/python3.5/site-packages/sklearn/linear_model/coordinate_descent.py:484: ConvergenceWarning: Objective did not converge. You might want to increase the number of iterations. Fitting data with very small alpha may cause precision problems.\n",
      "  ConvergenceWarning)\n",
      "/Users/alex/anaconda3/envs/rose/lib/python3.5/site-packages/sklearn/linear_model/coordinate_descent.py:484: ConvergenceWarning: Objective did not converge. You might want to increase the number of iterations. Fitting data with very small alpha may cause precision problems.\n",
      "  ConvergenceWarning)\n",
      "/Users/alex/anaconda3/envs/rose/lib/python3.5/site-packages/sklearn/linear_model/coordinate_descent.py:484: ConvergenceWarning: Objective did not converge. You might want to increase the number of iterations. Fitting data with very small alpha may cause precision problems.\n",
      "  ConvergenceWarning)\n",
      "/Users/alex/anaconda3/envs/rose/lib/python3.5/site-packages/sklearn/linear_model/coordinate_descent.py:484: ConvergenceWarning: Objective did not converge. You might want to increase the number of iterations. Fitting data with very small alpha may cause precision problems.\n",
      "  ConvergenceWarning)\n",
      "/Users/alex/anaconda3/envs/rose/lib/python3.5/site-packages/sklearn/linear_model/coordinate_descent.py:484: ConvergenceWarning: Objective did not converge. You might want to increase the number of iterations. Fitting data with very small alpha may cause precision problems.\n",
      "  ConvergenceWarning)\n"
     ]
    }
   ],
   "source": [
    "targets = 'kcat km kcatkm'.split()\n",
    "for target_name in targets:\n",
    "    X = J.iloc[:, 3:]\n",
    "    y = J[target_name]\n",
    "    clf = linear_model.LassoCV(cv=10, max_iter=1e5)\n",
    "    pred = clf.fit(X, y).predict(X) #model_selection.cross_val_predict(clf, X, y, cv=10)\n",
    "    J['{}_prediction'.format(target_name)] = pred "
   ]
  },
  {
   "cell_type": "code",
   "execution_count": 30,
   "metadata": {},
   "outputs": [
    {
     "data": {
      "text/html": [
       "<div>\n",
       "<table border=\"1\" class=\"dataframe\">\n",
       "  <thead>\n",
       "    <tr style=\"text-align: right;\">\n",
       "      <th></th>\n",
       "      <th>kcat</th>\n",
       "      <th>km</th>\n",
       "      <th>kcatkm</th>\n",
       "      <th>164__angle_constraint</th>\n",
       "      <th>164__atom_pair_constraint</th>\n",
       "      <th>164__dihedral_constraint</th>\n",
       "      <th>164__fa_atr</th>\n",
       "      <th>164__fa_dun_dev</th>\n",
       "      <th>164__fa_dun_rot</th>\n",
       "      <th>164__fa_dun_semi</th>\n",
       "      <th>...</th>\n",
       "      <th>446__fa_rep</th>\n",
       "      <th>446__fa_sol</th>\n",
       "      <th>446__hbond_sc</th>\n",
       "      <th>446__lk_ball</th>\n",
       "      <th>446__lk_ball_bridge</th>\n",
       "      <th>446__lk_ball_bridge_uncpl</th>\n",
       "      <th>446__lk_ball_iso</th>\n",
       "      <th>kcat_prediction</th>\n",
       "      <th>km_prediction</th>\n",
       "      <th>kcatkm_prediction</th>\n",
       "    </tr>\n",
       "  </thead>\n",
       "  <tbody>\n",
       "    <tr>\n",
       "      <th>A192S</th>\n",
       "      <td>0.031408</td>\n",
       "      <td>0.007748</td>\n",
       "      <td>0.028609</td>\n",
       "      <td>-0.094300</td>\n",
       "      <td>-0.090205</td>\n",
       "      <td>-0.100232</td>\n",
       "      <td>-0.150797</td>\n",
       "      <td>-0.114954</td>\n",
       "      <td>-0.083333</td>\n",
       "      <td>0.136732</td>\n",
       "      <td>...</td>\n",
       "      <td>-0.130909</td>\n",
       "      <td>0.188277</td>\n",
       "      <td>-0.136169</td>\n",
       "      <td>0.273065</td>\n",
       "      <td>0.295817</td>\n",
       "      <td>0.313669</td>\n",
       "      <td>0.178151</td>\n",
       "      <td>-0.525435</td>\n",
       "      <td>0.118085</td>\n",
       "      <td>-0.655948</td>\n",
       "    </tr>\n",
       "    <tr>\n",
       "      <th>A227W</th>\n",
       "      <td>-0.362874</td>\n",
       "      <td>0.531479</td>\n",
       "      <td>-0.889390</td>\n",
       "      <td>-0.094300</td>\n",
       "      <td>-0.090205</td>\n",
       "      <td>-0.100232</td>\n",
       "      <td>-0.150797</td>\n",
       "      <td>-0.114954</td>\n",
       "      <td>-0.083333</td>\n",
       "      <td>0.136732</td>\n",
       "      <td>...</td>\n",
       "      <td>-0.130909</td>\n",
       "      <td>0.188277</td>\n",
       "      <td>-0.136169</td>\n",
       "      <td>0.273065</td>\n",
       "      <td>0.295817</td>\n",
       "      <td>0.313669</td>\n",
       "      <td>0.178151</td>\n",
       "      <td>-0.525435</td>\n",
       "      <td>0.118085</td>\n",
       "      <td>-0.655948</td>\n",
       "    </tr>\n",
       "    <tr>\n",
       "      <th>C167A</th>\n",
       "      <td>-0.264147</td>\n",
       "      <td>0.464191</td>\n",
       "      <td>-0.723565</td>\n",
       "      <td>-0.094321</td>\n",
       "      <td>-0.090270</td>\n",
       "      <td>-0.100232</td>\n",
       "      <td>0.452518</td>\n",
       "      <td>-0.110068</td>\n",
       "      <td>-0.083333</td>\n",
       "      <td>0.144153</td>\n",
       "      <td>...</td>\n",
       "      <td>-0.125463</td>\n",
       "      <td>0.350487</td>\n",
       "      <td>-0.224857</td>\n",
       "      <td>0.443551</td>\n",
       "      <td>-0.841062</td>\n",
       "      <td>-1.170000</td>\n",
       "      <td>0.388959</td>\n",
       "      <td>-0.562455</td>\n",
       "      <td>0.474033</td>\n",
       "      <td>-1.091659</td>\n",
       "    </tr>\n",
       "    <tr>\n",
       "      <th>C167Q</th>\n",
       "      <td>-0.242052</td>\n",
       "      <td>-0.007005</td>\n",
       "      <td>-0.230186</td>\n",
       "      <td>-0.094347</td>\n",
       "      <td>-0.067028</td>\n",
       "      <td>-0.100232</td>\n",
       "      <td>-0.607307</td>\n",
       "      <td>0.397275</td>\n",
       "      <td>-0.083333</td>\n",
       "      <td>0.526354</td>\n",
       "      <td>...</td>\n",
       "      <td>0.663768</td>\n",
       "      <td>2.362086</td>\n",
       "      <td>-0.889852</td>\n",
       "      <td>2.314721</td>\n",
       "      <td>-3.814610</td>\n",
       "      <td>-3.262867</td>\n",
       "      <td>3.207252</td>\n",
       "      <td>-0.937515</td>\n",
       "      <td>-0.377845</td>\n",
       "      <td>0.164132</td>\n",
       "    </tr>\n",
       "    <tr>\n",
       "      <th>C167S</th>\n",
       "      <td>-0.953700</td>\n",
       "      <td>1.814514</td>\n",
       "      <td>-2.763251</td>\n",
       "      <td>-0.094201</td>\n",
       "      <td>-0.090378</td>\n",
       "      <td>-0.100232</td>\n",
       "      <td>0.314477</td>\n",
       "      <td>-0.065740</td>\n",
       "      <td>-0.083333</td>\n",
       "      <td>0.161325</td>\n",
       "      <td>...</td>\n",
       "      <td>-0.348234</td>\n",
       "      <td>0.800175</td>\n",
       "      <td>-0.415937</td>\n",
       "      <td>0.571594</td>\n",
       "      <td>-0.194441</td>\n",
       "      <td>-0.311965</td>\n",
       "      <td>0.719093</td>\n",
       "      <td>-0.853094</td>\n",
       "      <td>0.427463</td>\n",
       "      <td>-1.223669</td>\n",
       "    </tr>\n",
       "  </tbody>\n",
       "</table>\n",
       "<p>5 rows × 91 columns</p>\n",
       "</div>"
      ],
      "text/plain": [
       "           kcat        km    kcatkm  164__angle_constraint  \\\n",
       "A192S  0.031408  0.007748  0.028609              -0.094300   \n",
       "A227W -0.362874  0.531479 -0.889390              -0.094300   \n",
       "C167A -0.264147  0.464191 -0.723565              -0.094321   \n",
       "C167Q -0.242052 -0.007005 -0.230186              -0.094347   \n",
       "C167S -0.953700  1.814514 -2.763251              -0.094201   \n",
       "\n",
       "       164__atom_pair_constraint  164__dihedral_constraint  164__fa_atr  \\\n",
       "A192S                  -0.090205                 -0.100232    -0.150797   \n",
       "A227W                  -0.090205                 -0.100232    -0.150797   \n",
       "C167A                  -0.090270                 -0.100232     0.452518   \n",
       "C167Q                  -0.067028                 -0.100232    -0.607307   \n",
       "C167S                  -0.090378                 -0.100232     0.314477   \n",
       "\n",
       "       164__fa_dun_dev  164__fa_dun_rot  164__fa_dun_semi        ...          \\\n",
       "A192S        -0.114954        -0.083333          0.136732        ...           \n",
       "A227W        -0.114954        -0.083333          0.136732        ...           \n",
       "C167A        -0.110068        -0.083333          0.144153        ...           \n",
       "C167Q         0.397275        -0.083333          0.526354        ...           \n",
       "C167S        -0.065740        -0.083333          0.161325        ...           \n",
       "\n",
       "       446__fa_rep  446__fa_sol  446__hbond_sc  446__lk_ball  \\\n",
       "A192S    -0.130909     0.188277      -0.136169      0.273065   \n",
       "A227W    -0.130909     0.188277      -0.136169      0.273065   \n",
       "C167A    -0.125463     0.350487      -0.224857      0.443551   \n",
       "C167Q     0.663768     2.362086      -0.889852      2.314721   \n",
       "C167S    -0.348234     0.800175      -0.415937      0.571594   \n",
       "\n",
       "       446__lk_ball_bridge  446__lk_ball_bridge_uncpl  446__lk_ball_iso  \\\n",
       "A192S             0.295817                   0.313669          0.178151   \n",
       "A227W             0.295817                   0.313669          0.178151   \n",
       "C167A            -0.841062                  -1.170000          0.388959   \n",
       "C167Q            -3.814610                  -3.262867          3.207252   \n",
       "C167S            -0.194441                  -0.311965          0.719093   \n",
       "\n",
       "       kcat_prediction  km_prediction  kcatkm_prediction  \n",
       "A192S        -0.525435       0.118085          -0.655948  \n",
       "A227W        -0.525435       0.118085          -0.655948  \n",
       "C167A        -0.562455       0.474033          -1.091659  \n",
       "C167Q        -0.937515      -0.377845           0.164132  \n",
       "C167S        -0.853094       0.427463          -1.223669  \n",
       "\n",
       "[5 rows x 91 columns]"
      ]
     },
     "execution_count": 30,
     "metadata": {},
     "output_type": "execute_result"
    }
   ],
   "source": [
    "J.head()"
   ]
  },
  {
   "cell_type": "code",
   "execution_count": 31,
   "metadata": {
    "scrolled": false
   },
   "outputs": [
    {
     "data": {
      "text/plain": [
       "<matplotlib.axes._subplots.AxesSubplot at 0x12d0e8a58>"
      ]
     },
     "execution_count": 31,
     "metadata": {},
     "output_type": "execute_result"
    },
    {
     "data": {
      "image/png": "[encoded data removed]",
      "text/plain": [
       "<matplotlib.figure.Figure at 0x130e00f60>"
      ]
     },
     "metadata": {},
     "output_type": "display_data"
    }
   ],
   "source": [
    "cols = [n for n in J.columns if 'prediction' in n or n in targets]\n",
    "fig, ax = plt.subplots(figsize=(16, 2))\n",
    "sns.heatmap(J.corr()[cols].T, ax=ax, square=True)"
   ]
  },
  {
   "cell_type": "code",
   "execution_count": 32,
   "metadata": {},
   "outputs": [
    {
     "data": {
      "text/plain": [
       "array([<matplotlib.axes._subplots.AxesSubplot object at 0x13270b0b8>], dtype=object)"
      ]
     },
     "execution_count": 32,
     "metadata": {},
     "output_type": "execute_result"
    },
    {
     "data": {
      "image/png": "[encoded data removed]",
      "text/plain": [
       "<matplotlib.figure.Figure at 0x133bb6cf8>"
      ]
     },
     "metadata": {},
     "output_type": "display_data"
    }
   ],
   "source": [
    "fig, ax = plt.subplots(nrows=2, ncols=3) \n",
    "J.plot(x='kcat', y='kcat_prediction', ax=ax[0, 0], kind='scatter')\n",
    "J.plot(x='km', y='km_prediction', ax=ax[0, 1], kind='scatter')\n",
    "J.plot(x='kcatkm', y='kcatkm_prediction', ax=ax[0, 2], kind='scatter')\n",
    "J.hist('kcat', ax=ax[1,0]) \n",
    "J.hist('km', ax=ax[1,1]) \n",
    "J.hist('kcatkm', ax=ax[1,2]) "
   ]
  },
  {
   "cell_type": "code",
   "execution_count": null,
   "metadata": {
    "collapsed": true
   },
   "outputs": [],
   "source": []
  },
  {
   "cell_type": "code",
   "execution_count": null,
   "metadata": {
    "collapsed": true
   },
   "outputs": [],
   "source": []
  },
  {
   "cell_type": "code",
   "execution_count": null,
   "metadata": {
    "collapsed": true
   },
   "outputs": [],
   "source": []
  },
  {
   "cell_type": "code",
   "execution_count": null,
   "metadata": {
    "collapsed": true
   },
   "outputs": [],
   "source": []
  },
  {
   "cell_type": "code",
   "execution_count": null,
   "metadata": {
    "collapsed": true
   },
   "outputs": [],
   "source": []
  },
  {
   "cell_type": "code",
   "execution_count": null,
   "metadata": {
    "collapsed": true
   },
   "outputs": [],
   "source": []
  },
  {
   "cell_type": "code",
   "execution_count": null,
   "metadata": {
    "collapsed": true
   },
   "outputs": [],
   "source": []
  },
  {
   "cell_type": "code",
   "execution_count": null,
   "metadata": {
    "collapsed": true
   },
   "outputs": [],
   "source": []
  },
  {
   "cell_type": "code",
   "execution_count": null,
   "metadata": {
    "collapsed": true
   },
   "outputs": [],
   "source": []
  },
  {
   "cell_type": "code",
   "execution_count": null,
   "metadata": {
    "collapsed": true
   },
   "outputs": [],
   "source": []
  },
  {
   "cell_type": "code",
   "execution_count": null,
   "metadata": {
    "collapsed": true
   },
   "outputs": [],
   "source": []
  },
  {
   "cell_type": "code",
   "execution_count": null,
   "metadata": {
    "collapsed": true
   },
   "outputs": [],
   "source": []
  },
  {
   "cell_type": "code",
   "execution_count": null,
   "metadata": {
    "collapsed": true
   },
   "outputs": [],
   "source": []
  },
  {
   "cell_type": "code",
   "execution_count": null,
   "metadata": {
    "collapsed": true
   },
   "outputs": [],
   "source": []
  },
  {
   "cell_type": "code",
   "execution_count": null,
   "metadata": {
    "collapsed": true
   },
   "outputs": [],
   "source": []
  },
  {
   "cell_type": "code",
   "execution_count": null,
   "metadata": {
    "collapsed": true
   },
   "outputs": [],
   "source": []
  },
  {
   "cell_type": "code",
   "execution_count": null,
   "metadata": {
    "collapsed": true
   },
   "outputs": [],
   "source": []
  },
  {
   "cell_type": "code",
   "execution_count": null,
   "metadata": {
    "collapsed": true
   },
   "outputs": [],
   "source": []
  },
  {
   "cell_type": "code",
   "execution_count": null,
   "metadata": {
    "collapsed": true
   },
   "outputs": [],
   "source": []
  },
  {
   "cell_type": "code",
   "execution_count": null,
   "metadata": {
    "collapsed": true
   },
   "outputs": [],
   "source": []
  },
  {
   "cell_type": "code",
   "execution_count": null,
   "metadata": {
    "collapsed": true
   },
   "outputs": [],
   "source": []
  },
  {
   "cell_type": "code",
   "execution_count": null,
   "metadata": {
    "collapsed": true
   },
   "outputs": [],
   "source": []
  },
  {
   "cell_type": "code",
   "execution_count": null,
   "metadata": {
    "collapsed": true
   },
   "outputs": [],
   "source": []
  },
  {
   "cell_type": "code",
   "execution_count": null,
   "metadata": {
    "collapsed": true
   },
   "outputs": [],
   "source": []
  },
  {
   "cell_type": "code",
   "execution_count": null,
   "metadata": {
    "collapsed": true
   },
   "outputs": [],
   "source": []
  },
  {
   "cell_type": "code",
   "execution_count": null,
   "metadata": {
    "collapsed": true
   },
   "outputs": [],
   "source": []
  },
  {
   "cell_type": "code",
   "execution_count": null,
   "metadata": {
    "collapsed": true
   },
   "outputs": [],
   "source": []
  },
  {
   "cell_type": "code",
   "execution_count": null,
   "metadata": {
    "collapsed": true
   },
   "outputs": [],
   "source": []
  },
  {
   "cell_type": "code",
   "execution_count": null,
   "metadata": {
    "collapsed": true
   },
   "outputs": [],
   "source": []
  }
 ],
 "metadata": {
  "kernelspec": {
   "display_name": "Python [conda env:rose]",
   "language": "python",
   "name": "conda-env-rose-py"
  },
  "language_info": {
   "codemirror_mode": {
    "name": "ipython",
    "version": 3
   },
   "file_extension": ".py",
   "mimetype": "text/x-python",
   "name": "python",
   "nbconvert_exporter": "python",
   "pygments_lexer": "ipython3",
   "version": "3.5.2"
  }
 },
 "nbformat": 4,
 "nbformat_minor": 2
}
