{
 "cells": [
  {
   "cell_type": "code",
   "execution_count": 1,
   "metadata": {},
   "outputs": [
    {
     "name": "stdout",
     "output_type": "stream",
     "text": [
      "Fetching package metadata .........\n",
      "Solving package specifications: .\n",
      "\n",
      "# All requested packages already installed.\n",
      "# packages in environment at /Users/alex/anaconda3/envs/py35:\n",
      "#\n",
      "biopython                 1.68                np112py35_0  \n"
     ]
    }
   ],
   "source": [
    "#!conda install biopython --yes"
   ]
  },
  {
   "cell_type": "code",
   "execution_count": 2,
   "metadata": {},
   "outputs": [
    {
     "data": {
      "text/plain": [
       "['ASP',\n",
       " 'ILE',\n",
       " 'GLN',\n",
       " 'HIS',\n",
       " 'GLY',\n",
       " 'ASN',\n",
       " 'LEU',\n",
       " 'CYS',\n",
       " 'GLU',\n",
       " 'SER',\n",
       " 'TRP',\n",
       " 'ARG',\n",
       " 'VAL',\n",
       " 'MET',\n",
       " 'THR',\n",
       " 'TYR',\n",
       " 'PHE',\n",
       " 'PRO',\n",
       " 'ALA',\n",
       " 'LYS']"
      ]
     },
     "execution_count": 2,
     "metadata": {},
     "output_type": "execute_result"
    }
   ],
   "source": [
    "from Bio.SeqUtils import IUPACData\n",
    "list(map(str.upper,IUPACData.protein_letters_3to1.keys()))"
   ]
  },
  {
   "cell_type": "code",
   "execution_count": 7,
   "metadata": {},
   "outputs": [
    {
     "name": "stdout",
     "output_type": "stream",
     "text": [
      "Found rosetta database at: /Users/alex/anaconda3/envs/py35/lib/python3.5/site-packages/pyrosetta-4.0-py3.5.egg/database; using it....\n",
      "PyRosetta-4 2016 [Rosetta 2016 unknown:06c81a707244fa2d0558e2ddaab9e620acc86f1e 2017-04-25 21:54:22 -0700] retrieved from: git@github.com:RosettaCommons/main.git\n",
      "(C) Copyright Rosetta Commons Member Institutions.\n",
      "Created in JHU by Sergey Lyskov and PyRosetta Team.\n",
      "\n"
     ]
    }
   ],
   "source": [
    "import rosetta\n",
    "import pyrosetta\n",
    "\n",
    "INPUT_POSE = 'input_pose.pdb'\n",
    "PARAMS = 'pnpg.params'\n",
    "CST_FILE = 'pnpg.cst'\n",
    "\n",
    "pyrosetta.init('-beta -extra_res_fa pnpg.params -run:preserve_header')\n",
    "p = pyrosetta.pose_from_file(INPUT_POSE)\n",
    "sfxn = pyrosetta.create_score_function('beta_cst')\n",
    "soft_rep = pyrosetta.create_score_function('soft_rep')\n",
    "\n",
    "# mm = pyrosetta.MoveMap()\n",
    "# mm.show(p.total_residue())\n",
    "\n",
    "addcsts = rosetta.protocols.enzdes.AddOrRemoveMatchCsts()\n",
    "addcsts.cstfile(CST_FILE) \n",
    "addcsts.set_cst_action(rosetta.protocols.enzdes.CstAction.ADD_NEW)\n",
    "addcsts.apply(p)"
   ]
  },
  {
   "cell_type": "code",
   "execution_count": 8,
   "metadata": {
    "collapsed": true
   },
   "outputs": [],
   "source": [
    "mutate = rosetta.protocols.simple_moves.MutateResidue(70, 'PHE')\n",
    "mutate.apply(p)"
   ]
  },
  {
   "cell_type": "code",
   "execution_count": 9,
   "metadata": {},
   "outputs": [
    {
     "data": {
      "text/plain": [
       "'F'"
      ]
     },
     "execution_count": 9,
     "metadata": {},
     "output_type": "execute_result"
    }
   ],
   "source": [
    "p.sequence()[69]"
   ]
  },
  {
   "cell_type": "code",
   "execution_count": null,
   "metadata": {
    "collapsed": true
   },
   "outputs": [],
   "source": []
  },
  {
   "cell_type": "code",
   "execution_count": null,
   "metadata": {
    "collapsed": true
   },
   "outputs": [],
   "source": []
  },
  {
   "cell_type": "code",
   "execution_count": null,
   "metadata": {
    "collapsed": true
   },
   "outputs": [],
   "source": []
  },
  {
   "cell_type": "code",
   "execution_count": null,
   "metadata": {
    "collapsed": true
   },
   "outputs": [],
   "source": []
  },
  {
   "cell_type": "code",
   "execution_count": 10,
   "metadata": {
    "collapsed": true
   },
   "outputs": [],
   "source": [
    "# output a PDB file \n",
    "p.dump_scored_pdb('input_pose_0001.pdb', sfxn)"
   ]
  },
  {
   "cell_type": "code",
   "execution_count": 11,
   "metadata": {},
   "outputs": [
    {
     "name": "stdout",
     "output_type": "stream",
     "text": [
      "SJB_enzdes_notebook.ipynb        pnpg.cst\r\n",
      "data_processing.py               pnpg.params\r\n",
      "input_pose.pdb                   protocol.py\r\n",
      "input_pose_0001.pdb              protocol.py.bak\r\n",
      "minimal_pyrosetta_notebook.ipynb sub.sh\r\n"
     ]
    }
   ],
   "source": [
    "! ls "
   ]
  },
  {
   "cell_type": "code",
   "execution_count": null,
   "metadata": {
    "collapsed": true
   },
   "outputs": [],
   "source": []
  },
  {
   "cell_type": "code",
   "execution_count": null,
   "metadata": {
    "collapsed": true
   },
   "outputs": [],
   "source": []
  },
  {
   "cell_type": "code",
   "execution_count": null,
   "metadata": {
    "collapsed": true
   },
   "outputs": [],
   "source": []
  },
  {
   "cell_type": "code",
   "execution_count": null,
   "metadata": {
    "collapsed": true
   },
   "outputs": [],
   "source": []
  },
  {
   "cell_type": "code",
   "execution_count": null,
   "metadata": {
    "collapsed": true
   },
   "outputs": [],
   "source": []
  },
  {
   "cell_type": "code",
   "execution_count": null,
   "metadata": {
    "collapsed": true
   },
   "outputs": [],
   "source": []
  },
  {
   "cell_type": "code",
   "execution_count": null,
   "metadata": {
    "collapsed": true
   },
   "outputs": [],
   "source": []
  },
  {
   "cell_type": "code",
   "execution_count": null,
   "metadata": {
    "collapsed": true
   },
   "outputs": [],
   "source": [
    "# reference \n",
    "\n",
    "\n",
    "\n",
    "\n",
    "# predock = rosetta.protocols.enzdes.PredesignPerturbMover()\n",
    "# predock.trans_magnitude(0.1)\n",
    "# predock.rot_magnitude(2)\n",
    "# predock.set_ligand(p.n_total()) \n",
    "\n",
    "# ## These two objects/movers are the business end of enzdes in rosetta. They setup the object, some options,\n",
    "# ## with the only difference here being the second one turns backbone (bb) minimziations on\n",
    "# enzdes = rosetta.protocols.enzdes.EnzRepackMinimize()\n",
    "# enzdes.set_scorefxn_minimize(sfxn)\n",
    "# enzdes.set_scorefxn_repack(soft_rep)\n",
    "# enzdes.set_min_lig(True)\n",
    "# enzdes.set_min_rb(True)\n",
    "# enzdes.set_min_sc(True)\n",
    "# enzdes.set_design(False)\n",
    "\n",
    "# enzdes_wbb = rosetta.protocols.enzdes.EnzRepackMinimize()\n",
    "# enzdes_wbb.set_scorefxn_minimize(sfxn)\n",
    "# enzdes_wbb.set_min_lig(True)\n",
    "# enzdes_wbb.set_min_rb(True)\n",
    "# enzdes_wbb.set_min_sc(True)\n",
    "# enzdes_wbb.set_design(False)\n",
    "# enzdes_wbb.set_scorefxn_repack(soft_rep)\n",
    "# enzdes_wbb.set_min_bb(True)\n",
    "\n",
    "# ## Notes for the future\n",
    "\n",
    "# # min in stages?  # further investigation required here\n",
    "# # backrub? # further investigation required here\n",
    "\n",
    "# # Now score the protein (this includes the constraints in the score)\n",
    "# sfxn(p) # you need this for nbr graph to populate\n",
    "# # Setup task opertations and add them to the enzdes movers\n",
    "\n",
    "# tf = rosetta.core.pack.task.TaskFactory()\n",
    "\n",
    "# # Sets up the packing/design shells from the global options set above\n",
    "# dp = rosetta.protocols.enzdes.DetectProteinLigandInterface()\n",
    "# dp.init_from_options()\n",
    "\n",
    "# ## Applies the enigmatic Task Operation LimitAromaticChi2 operation to the packer task.\n",
    "# ## This is one of those legacy operations that you have to ask the Rosetta elders to explain\n",
    "# ## Rosetta source credits Nobuyasu for this TO\n",
    "# limchi2 = rosetta.protocols.toolbox.task_operations.LimitAromaChi2Operation()\n",
    "\n",
    "# # This restricts the residues define in the constraint file to only be allowed to pack, not designable\n",
    "# canttouchcatres = rosetta.protocols.enzdes.SetCatalyticResPackBehavior()\n",
    "# canttouchcatres.set_fix_catalytic_aa(False) ## seems to freeze them, no repacking if set to True\n",
    "\n",
    "# # Push back all of our TO's onto the task factory (see Design Patterns on Factorys)\n",
    "# tf.push_back(dp)\n",
    "# tf.push_back(canttouchcatres)\n",
    "# tf.push_back(limchi2)\n",
    "\n",
    "# # Create a packer task, specifically for the cstopt mover to work\n",
    "# pt = tf.create_task_and_apply_taskoperations(p)\n",
    "\n",
    "# enzdes.task_factory( tf ) # sets the enzdes movers to use our task factory set with our task operations\n",
    "# enzdes_wbb.task_factory( tf )\n",
    "# # Just leaving this here as an example, but this allows for manual inspection of your packer task\n",
    "# # after all of the task operations have been applied. You could also apply one at a time to verify how\n",
    "# # they are working and that they are indeed working.\n",
    "\n",
    "# # for i in range(1,p.total_residue()+1):\n",
    "# #     print(i,pt.being_designed(i),pt.being_packed(i))\n",
    "# print(pt)\n",
    "# # Warning, what follows is a bunch of **** all because there is not a getter/setter\n",
    "# # for cst_opt in the enzdesmovers\n",
    "\n",
    "# # Mover sub-classing -----------------------------------\n",
    "# # Thank you Sergey!\n",
    "# #\n",
    "# class My_New_Mover(rosetta.protocols.moves.Mover):\n",
    "#     def __init__(self,sfxn,pt):\n",
    "#         print( 'My_New_Mover.__init__...' )\n",
    "#         rosetta.protocols.moves.Mover.__init__(self)\n",
    "#         self.sfxn = sfxn\n",
    "#         self.pt = pt\n",
    "\n",
    "#     def get_name(self): return 'My_New_Mover'\n",
    "\n",
    "#     def apply(self, p):\n",
    "#         #print( 'My_New_Mover.apply:', type(p) )\n",
    "#         #print( 'This My_New_Mover apply...' )\n",
    "\n",
    "#         cstopt = rosetta.protocols.enzdes.EnzdesBaseProtocol()\n",
    "#         cstopt.set_scorefxn( self.sfxn )\n",
    "#         cstopt.set_minimize_options(True, False, True, True) # check this fn signature for details\n",
    "\n",
    "#         # this actuall runs the minimizer !\n",
    "#         cstopt.cst_minimize(p, self.pt, True)\n",
    "\n",
    "# cstopt = My_New_Mover(sfxn,pt)\n",
    "\n",
    "# ## Note that a mover must have an apply function that takes a pose and does something to it\n",
    "# ## in this case, cst opt derives from Enzdesbase protocol, but in the xml it's call from an option in\n",
    "# ## the enzdesrepackmin mover... blah blah blah, long story short, this ends up working in pyrosetta since\n",
    "# ## there are currently no setters for this option in the enzrepackmin mover... this needs to be fixed\n",
    "# ## Now we string all of our movers together so that one mover can be fed into the generic monte carlo\n",
    "\n",
    "# parsed = rosetta.protocols.moves.SequenceMover()\n",
    "# #parsed.add_mover(pm) # state 2, nothing should have changed\n",
    "# parsed.add_mover(predock)\n",
    "# #parsed.add_mover(pm)  # state 3, only the ligand should have moved\n",
    "# parsed.add_mover(cstopt)\n",
    "# #parsed.add_mover(pm)  # state 4 , the constraints should be optimized/satisfied\n",
    "# parsed.add_mover(enzdes)\n",
    "# #parsed.add_mover(pm) # state 5, designing and packing within the shells\n",
    "# parsed.add_mover(enzdes_wbb)\n",
    "# #parsed.add_mover(pm) # state 6, now, the backbone might have minor perturbations (sometimes barely noticeable)\n",
    "# ## These states track with running\n",
    "# ## a simulation for testing using \"mc.apply(p)\"\n",
    "# ## now we setup the Generic Monte Carlo object to run the simulation, this will run our sequence mover/parsedprotocol\n",
    "# ## for X cycles, you can set the criterion (sfxn) and filters and other stuff\n",
    "\n",
    "# # The XML line looks like this\n",
    "# ##<GenericMonteCarlo name=multi_dd mover_name=dock_des filter_name=allcst trials=10 sample_type=low temperature=0.6 drift=1\\/>\n",
    "\n",
    "# mc = rosetta.protocols.simple_moves.GenericMonteCarloMover()\n",
    "# mc.set_drift(True) # this sets drift for the maxtrials (not technically mc anymore)\n",
    "# mc.set_maxtrials(1)  # CHANGE THIS TO 10 for real runs\n",
    "# mc.set_sampletype('low')\n",
    "# mc.set_temperature(0.6)\n",
    "# mc.set_mover(parsed)\n",
    "# mc.set_scorefxn(sfxn)\n",
    "# mc.apply(p)\n",
    "\n",
    "# # This is how you would normally run for nstruct 10\n",
    "# # Note: This is not actually necessary depending on your goals, you can\n",
    "# # also mc.apply(p), or store the energies over the simulation, or p.dump_pdb() etc.\n",
    "# nstruct = 2\n",
    "# job_output = 'test_output'\n",
    "# jd = pyrosetta.PyJobDistributor(job_output, nstruct, sfxn)\n",
    "# temp_pose = rosetta.core.pose.Pose()    # a temporary pose to export to PyMOL\n",
    "# temp_pose.assign(p)\n",
    "# counter = 0    # for pretty output to PyMOL\n",
    "\n",
    "# while not jd.job_complete:\n",
    "\n",
    "#     counter += 1\n",
    "\n",
    "#     test_pose = rosetta.core.pose.Pose()\n",
    "#     # set staring pose to input pose\n",
    "#     test_pose.assign(p)\n",
    "#     # change pose name for pretty viewing in PyMol\n",
    "#     test_pose.pdb_info().name(job_output + '_' + str(counter))\n",
    "\n",
    "#     # apply mc mover (with all of the stuff)\n",
    "#     mc.apply(test_pose)\n",
    "\n",
    "#     # have the jd output the resulting low energy model\n",
    "#     jd.output_decoy(test_pose)\n",
    "\n"
   ]
  }
 ],
 "metadata": {
  "kernelspec": {
   "display_name": "Python [default]",
   "language": "python",
   "name": "python3"
  },
  "language_info": {
   "codemirror_mode": {
    "name": "ipython",
    "version": 3
   },
   "file_extension": ".py",
   "mimetype": "text/x-python",
   "name": "python",
   "nbconvert_exporter": "python",
   "pygments_lexer": "ipython3",
   "version": "3.6.0"
  }
 },
 "nbformat": 4,
 "nbformat_minor": 2
}
